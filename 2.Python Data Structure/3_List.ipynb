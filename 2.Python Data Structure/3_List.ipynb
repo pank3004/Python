{
 "cells": [
  {
   "cell_type": "code",
   "execution_count": 222,
   "id": "056d4022-e39f-4116-b1ea-913b49ba3343",
   "metadata": {},
   "outputs": [],
   "source": [
    "#List are ordered collection of items\n",
    "#[]\n",
    "#list is like a shopping bag which can store everything"
   ]
  },
  {
   "cell_type": "code",
   "execution_count": 223,
   "id": "6f26ffe8-0e8e-41cd-b4a6-5a11b46a1747",
   "metadata": {},
   "outputs": [
    {
     "data": {
      "text/plain": [
       "list"
      ]
     },
     "execution_count": 223,
     "metadata": {},
     "output_type": "execute_result"
    }
   ],
   "source": [
    "type([])"
   ]
  },
  {
   "cell_type": "code",
   "execution_count": 224,
   "id": "6ec7c331-e705-422c-8c2e-9bd6dc67f702",
   "metadata": {},
   "outputs": [],
   "source": [
    "grocery_list = [\"Milk\", \"Orange\", 1, 2, 3, True, 2+4j, 2.3]"
   ]
  },
  {
   "cell_type": "code",
   "execution_count": 225,
   "id": "28da398f-417e-44ca-911f-d9078f551764",
   "metadata": {},
   "outputs": [
    {
     "data": {
      "text/plain": [
       "list"
      ]
     },
     "execution_count": 225,
     "metadata": {},
     "output_type": "execute_result"
    }
   ],
   "source": [
    "type(grocery_list)"
   ]
  },
  {
   "cell_type": "code",
   "execution_count": 226,
   "id": "c199af6d-ecb8-4878-8c92-60ba5175de90",
   "metadata": {},
   "outputs": [
    {
     "data": {
      "text/plain": [
       "['Milk', 'Orange', 1, 2, 3, True, (2+4j), 2.3]"
      ]
     },
     "execution_count": 226,
     "metadata": {},
     "output_type": "execute_result"
    }
   ],
   "source": [
    "grocery_list"
   ]
  },
  {
   "cell_type": "code",
   "execution_count": 227,
   "id": "f92bb2bf-1c6e-44cd-a8b6-0d6c51f31b87",
   "metadata": {},
   "outputs": [],
   "source": [
    "#lists are mutable"
   ]
  },
  {
   "cell_type": "code",
   "execution_count": 228,
   "id": "d9d04d01-c316-4baf-a7b0-79b2ee8a5702",
   "metadata": {},
   "outputs": [
    {
     "data": {
      "text/plain": [
       "'Milk'"
      ]
     },
     "execution_count": 228,
     "metadata": {},
     "output_type": "execute_result"
    }
   ],
   "source": [
    "grocery_list[0]"
   ]
  },
  {
   "cell_type": "code",
   "execution_count": 229,
   "id": "20c56270-68dd-4cd0-abfa-db6ba7876483",
   "metadata": {},
   "outputs": [
    {
     "data": {
      "text/plain": [
       "2.3"
      ]
     },
     "execution_count": 229,
     "metadata": {},
     "output_type": "execute_result"
    }
   ],
   "source": [
    "grocery_list[-1]"
   ]
  },
  {
   "cell_type": "code",
   "execution_count": 230,
   "id": "c686fee5-f3c8-40cf-a060-3b8f08d70fb3",
   "metadata": {},
   "outputs": [
    {
     "data": {
      "text/plain": [
       "['Orange', 1, 2, 3, True, (2+4j), 2.3]"
      ]
     },
     "execution_count": 230,
     "metadata": {},
     "output_type": "execute_result"
    }
   ],
   "source": [
    "grocery_list[1:]"
   ]
  },
  {
   "cell_type": "code",
   "execution_count": 231,
   "id": "f7e7efbd-facb-4639-8c2c-82364366e6ba",
   "metadata": {},
   "outputs": [
    {
     "data": {
      "text/plain": [
       "['Orange', 1, 2]"
      ]
     },
     "execution_count": 231,
     "metadata": {},
     "output_type": "execute_result"
    }
   ],
   "source": [
    "grocery_list[1:4]"
   ]
  },
  {
   "cell_type": "code",
   "execution_count": 232,
   "id": "e0c47e8c-5064-411e-9fc7-e2fa195473f4",
   "metadata": {},
   "outputs": [],
   "source": [
    "movies = [\"Action1\", \"Action2\", \"Action3\",\"comedy1\"]"
   ]
  },
  {
   "cell_type": "code",
   "execution_count": 233,
   "id": "db148b87-e4ba-4c15-a695-b937ff7660fe",
   "metadata": {},
   "outputs": [
    {
     "data": {
      "text/plain": [
       "['Action1', 'Action2', 'Action3']"
      ]
     },
     "execution_count": 233,
     "metadata": {},
     "output_type": "execute_result"
    }
   ],
   "source": [
    "movies[0:3]"
   ]
  },
  {
   "cell_type": "code",
   "execution_count": 234,
   "id": "d90acbf5-275c-421a-8511-61a24c9ae0cc",
   "metadata": {},
   "outputs": [],
   "source": [
    "pages = [\"Title page\", \"chap1\", \"chap2\", \"conclusion\", \"index\"]"
   ]
  },
  {
   "cell_type": "code",
   "execution_count": 235,
   "id": "f03cf556-a436-457a-ad56-3a02e8907458",
   "metadata": {},
   "outputs": [
    {
     "data": {
      "text/plain": [
       "'index'"
      ]
     },
     "execution_count": 235,
     "metadata": {},
     "output_type": "execute_result"
    }
   ],
   "source": [
    "pages[-1]"
   ]
  },
  {
   "cell_type": "code",
   "execution_count": 236,
   "id": "65a0ef09-bfbe-49d3-b827-d99ab40b948b",
   "metadata": {},
   "outputs": [
    {
     "data": {
      "text/plain": [
       "'conclusion'"
      ]
     },
     "execution_count": 236,
     "metadata": {},
     "output_type": "execute_result"
    }
   ],
   "source": [
    "pages[-2]"
   ]
  },
  {
   "cell_type": "code",
   "execution_count": 237,
   "id": "c20cfcab-2bf3-4aa8-ba4d-f74322471b2d",
   "metadata": {},
   "outputs": [
    {
     "data": {
      "text/plain": [
       "'Anjay'"
      ]
     },
     "execution_count": 237,
     "metadata": {},
     "output_type": "execute_result"
    }
   ],
   "source": [
    "queue = [\"Ajay\", \"Bijay\", \"Sanjay\", \"Anjay\"]\n",
    "queue[-1]"
   ]
  },
  {
   "cell_type": "code",
   "execution_count": 238,
   "id": "db3c07c4-dbac-4177-afff-85b480d5077f",
   "metadata": {},
   "outputs": [
    {
     "data": {
      "text/plain": [
       "'Sanjay'"
      ]
     },
     "execution_count": 238,
     "metadata": {},
     "output_type": "execute_result"
    }
   ],
   "source": [
    "queue[-2]"
   ]
  },
  {
   "cell_type": "code",
   "execution_count": 239,
   "id": "954a505f-2d18-4ca1-8fc0-c4af2483cdfa",
   "metadata": {},
   "outputs": [
    {
     "data": {
      "text/plain": [
       "['Apple', 'Banana']"
      ]
     },
     "execution_count": 239,
     "metadata": {},
     "output_type": "execute_result"
    }
   ],
   "source": [
    "lis1 = [\"Apple\", \"Banana\"]\n",
    "lis1"
   ]
  },
  {
   "cell_type": "code",
   "execution_count": 240,
   "id": "96ee47f8-d76e-4398-a124-a82d4a0caa77",
   "metadata": {},
   "outputs": [],
   "source": [
    "#append >> add element to the end of list\n",
    "\n",
    "lis1.append(\"orange\")"
   ]
  },
  {
   "cell_type": "code",
   "execution_count": 241,
   "id": "ea1985e8-896f-4513-9946-1a69e5dcd7d8",
   "metadata": {},
   "outputs": [
    {
     "data": {
      "text/plain": [
       "['Apple', 'Banana', 'orange']"
      ]
     },
     "execution_count": 241,
     "metadata": {},
     "output_type": "execute_result"
    }
   ],
   "source": [
    "lis1"
   ]
  },
  {
   "cell_type": "code",
   "execution_count": 242,
   "id": "e4b7678a-2e61-495e-95a0-651f809e7738",
   "metadata": {},
   "outputs": [],
   "source": [
    "playlist = []\n",
    "playlist.append(\"Sare jhan se acha\")\n",
    "playlist.append(\"Ae mere watan ke logo\")"
   ]
  },
  {
   "cell_type": "code",
   "execution_count": 243,
   "id": "7f8cdf88-a4c9-40db-b9e1-0f3ab9c23973",
   "metadata": {},
   "outputs": [
    {
     "data": {
      "text/plain": [
       "['Sare jhan se acha', 'Ae mere watan ke logo']"
      ]
     },
     "execution_count": 243,
     "metadata": {},
     "output_type": "execute_result"
    }
   ],
   "source": [
    "playlist"
   ]
  },
  {
   "cell_type": "code",
   "execution_count": 244,
   "id": "66db20ea-e2cc-4173-9aba-07ce59d2d9f0",
   "metadata": {},
   "outputs": [],
   "source": [
    "bookshelf = []\n",
    "bookshelf.append(\"book1\")\n",
    "bookshelf.append(\"book2\")"
   ]
  },
  {
   "cell_type": "code",
   "execution_count": 245,
   "id": "1bd073d8-31d9-4d21-9d85-8496a27fe67d",
   "metadata": {},
   "outputs": [
    {
     "data": {
      "text/plain": [
       "['book1', 'book2']"
      ]
     },
     "execution_count": 245,
     "metadata": {},
     "output_type": "execute_result"
    }
   ],
   "source": [
    "bookshelf"
   ]
  },
  {
   "cell_type": "code",
   "execution_count": 246,
   "id": "1e27815c-6f4e-4b1f-b43c-8f957e46833e",
   "metadata": {},
   "outputs": [
    {
     "data": {
      "text/plain": [
       "['Apple', 'Banana', 'orange']"
      ]
     },
     "execution_count": 246,
     "metadata": {},
     "output_type": "execute_result"
    }
   ],
   "source": [
    "lis1"
   ]
  },
  {
   "cell_type": "code",
   "execution_count": 247,
   "id": "6f8342f1-fa2f-4acb-a54a-3148e77ce2c1",
   "metadata": {},
   "outputs": [],
   "source": [
    "lis1[1] = \"brinjal\""
   ]
  },
  {
   "cell_type": "code",
   "execution_count": 248,
   "id": "bf139103-2491-4cd6-8d66-e81fbdea9c10",
   "metadata": {},
   "outputs": [
    {
     "data": {
      "text/plain": [
       "['Apple', 'brinjal', 'orange']"
      ]
     },
     "execution_count": 248,
     "metadata": {},
     "output_type": "execute_result"
    }
   ],
   "source": [
    "lis1 #list are mutable"
   ]
  },
  {
   "cell_type": "code",
   "execution_count": 249,
   "id": "b86314a7-a27e-4c73-8854-6f69e4e13aff",
   "metadata": {},
   "outputs": [
    {
     "data": {
      "text/plain": [
       "['Apple', 'brinjal', 'orange']"
      ]
     },
     "execution_count": 249,
     "metadata": {},
     "output_type": "execute_result"
    }
   ],
   "source": [
    "lis1"
   ]
  },
  {
   "cell_type": "code",
   "execution_count": 250,
   "id": "9f87a8c5-10d5-4f5e-85b4-a227661a12e6",
   "metadata": {},
   "outputs": [],
   "source": [
    "lis1.insert(1, \"banana\")"
   ]
  },
  {
   "cell_type": "code",
   "execution_count": 251,
   "id": "0cac07ed-2fa6-4b07-9edc-cc0a0c56d288",
   "metadata": {},
   "outputs": [
    {
     "data": {
      "text/plain": [
       "['Apple', 'banana', 'brinjal', 'orange']"
      ]
     },
     "execution_count": 251,
     "metadata": {},
     "output_type": "execute_result"
    }
   ],
   "source": [
    "lis1"
   ]
  },
  {
   "cell_type": "code",
   "execution_count": 252,
   "id": "2b951357-7f31-4a01-9edc-4461ee1e05a6",
   "metadata": {},
   "outputs": [],
   "source": [
    "bus_seat = [\"Ajay\", \"Bob\", \"Sanjay\"]\n",
    "bus_seat.insert(1, \"Ram\")"
   ]
  },
  {
   "cell_type": "code",
   "execution_count": 253,
   "id": "3c8102ef-1ffb-4551-a39c-c8f2ecfa9e1a",
   "metadata": {},
   "outputs": [
    {
     "data": {
      "text/plain": [
       "['Ajay', 'Ram', 'Bob', 'Sanjay']"
      ]
     },
     "execution_count": 253,
     "metadata": {},
     "output_type": "execute_result"
    }
   ],
   "source": [
    "bus_seat"
   ]
  },
  {
   "cell_type": "code",
   "execution_count": 254,
   "id": "257e79a1-f191-4d8b-bc04-aaa17bbe4d22",
   "metadata": {},
   "outputs": [],
   "source": [
    "#extend>> used to append elements from another iterable\n",
    "my_list = [\"Apple\", \"Banana\", \"orange\"]\n",
    "brothers_list = [\"brinjal\", \"potato\"]\n",
    "\n",
    "my_list.extend(brothers_list)"
   ]
  },
  {
   "cell_type": "code",
   "execution_count": 255,
   "id": "853ef453-cf71-48ce-a91c-cf6055e4f9e9",
   "metadata": {},
   "outputs": [
    {
     "data": {
      "text/plain": [
       "['Apple', 'Banana', 'orange', 'brinjal', 'potato']"
      ]
     },
     "execution_count": 255,
     "metadata": {},
     "output_type": "execute_result"
    }
   ],
   "source": [
    "my_list"
   ]
  },
  {
   "cell_type": "code",
   "execution_count": 256,
   "id": "fcca61fe-2470-4b36-aa5a-ba1b66f1d530",
   "metadata": {},
   "outputs": [],
   "source": [
    "my_list = [\"Apple\", \"Banana\", \"orange\"]\n",
    "brothers_list = [\"brinjal\", \"potato\"]"
   ]
  },
  {
   "cell_type": "code",
   "execution_count": 257,
   "id": "7c2c1150-bb3c-4b3a-a66f-446e3f51f574",
   "metadata": {},
   "outputs": [
    {
     "data": {
      "text/plain": [
       "['Apple', 'Banana', 'orange']"
      ]
     },
     "execution_count": 257,
     "metadata": {},
     "output_type": "execute_result"
    }
   ],
   "source": [
    "my_list"
   ]
  },
  {
   "cell_type": "code",
   "execution_count": 258,
   "id": "1b5d2831-a347-40d8-84ac-a04d73231bc3",
   "metadata": {},
   "outputs": [
    {
     "data": {
      "text/plain": [
       "['brinjal', 'potato']"
      ]
     },
     "execution_count": 258,
     "metadata": {},
     "output_type": "execute_result"
    }
   ],
   "source": [
    "brothers_list"
   ]
  },
  {
   "cell_type": "code",
   "execution_count": 259,
   "id": "da06a8a1-e2de-4352-8258-ab675b64f4f6",
   "metadata": {},
   "outputs": [
    {
     "data": {
      "text/plain": [
       "['Apple', 'Banana', 'orange', 'brinjal', 'potato']"
      ]
     },
     "execution_count": 259,
     "metadata": {},
     "output_type": "execute_result"
    }
   ],
   "source": [
    "#concatenate\n",
    "\n",
    "my_list + brothers_list"
   ]
  },
  {
   "cell_type": "code",
   "execution_count": 260,
   "id": "a015945b-0a12-485b-a4a0-a2eff42bba74",
   "metadata": {},
   "outputs": [
    {
     "data": {
      "text/plain": [
       "'*****'"
      ]
     },
     "execution_count": 260,
     "metadata": {},
     "output_type": "execute_result"
    }
   ],
   "source": [
    "#repeatation operation\n",
    "\n",
    "\"*\" * 5"
   ]
  },
  {
   "cell_type": "code",
   "execution_count": 261,
   "id": "6744fc0a-fcd1-4b4b-b56c-bb932e267fb8",
   "metadata": {},
   "outputs": [
    {
     "data": {
      "text/plain": [
       "'--------------------------------------------------'"
      ]
     },
     "execution_count": 261,
     "metadata": {},
     "output_type": "execute_result"
    }
   ],
   "source": [
    "\"-\" * 50"
   ]
  },
  {
   "cell_type": "code",
   "execution_count": 262,
   "id": "b7351a77-5c4b-46ab-a3d3-c28f2da6087c",
   "metadata": {},
   "outputs": [
    {
     "data": {
      "text/plain": [
       "[0, 0, 0, 0, 0, 0, 0, 0, 0, 0]"
      ]
     },
     "execution_count": 262,
     "metadata": {},
     "output_type": "execute_result"
    }
   ],
   "source": [
    "[0] * 10"
   ]
  },
  {
   "cell_type": "code",
   "execution_count": 263,
   "id": "a6ad2a66-a2ad-453b-9091-9a9ab783dffd",
   "metadata": {},
   "outputs": [
    {
     "data": {
      "text/plain": [
       "[1,\n",
       " 2,\n",
       " 3,\n",
       " 1,\n",
       " 2,\n",
       " 3,\n",
       " 1,\n",
       " 2,\n",
       " 3,\n",
       " 1,\n",
       " 2,\n",
       " 3,\n",
       " 1,\n",
       " 2,\n",
       " 3,\n",
       " 1,\n",
       " 2,\n",
       " 3,\n",
       " 1,\n",
       " 2,\n",
       " 3,\n",
       " 1,\n",
       " 2,\n",
       " 3,\n",
       " 1,\n",
       " 2,\n",
       " 3,\n",
       " 1,\n",
       " 2,\n",
       " 3]"
      ]
     },
     "execution_count": 263,
     "metadata": {},
     "output_type": "execute_result"
    }
   ],
   "source": [
    "[1, 2, 3] * 10"
   ]
  },
  {
   "cell_type": "code",
   "execution_count": 264,
   "id": "84b65bbc-e83b-4d47-8741-a916bcdcc1f9",
   "metadata": {},
   "outputs": [
    {
     "data": {
      "text/plain": [
       "[1, 2, 3, 4, 5, 1, 2, 3, 4, 5, 1, 2, 3, 4, 5]"
      ]
     },
     "execution_count": 264,
     "metadata": {},
     "output_type": "execute_result"
    }
   ],
   "source": [
    "list(range(1,6))*3"
   ]
  },
  {
   "cell_type": "code",
   "execution_count": 265,
   "id": "58e16bd3-c425-4a28-984f-e6fea0fca7d3",
   "metadata": {},
   "outputs": [
    {
     "name": "stdout",
     "output_type": "stream",
     "text": [
      "your appointment is tomorrow \n",
      "your appointment is tomorrow \n",
      "your appointment is tomorrow \n",
      "\n"
     ]
    }
   ],
   "source": [
    "msg = \"your appointment is tomorrow \\n\"\n",
    "print(msg * 3)"
   ]
  },
  {
   "cell_type": "code",
   "execution_count": 266,
   "id": "abd6f132-c4ef-4177-b950-1ca691a6079e",
   "metadata": {},
   "outputs": [
    {
     "data": {
      "text/plain": [
       "['Milk', 'Orange', 1, 2, 3, True, (2+4j), 2.3]"
      ]
     },
     "execution_count": 266,
     "metadata": {},
     "output_type": "execute_result"
    }
   ],
   "source": [
    "#membership in , not in\n",
    "\n",
    "\n",
    "grocery_list"
   ]
  },
  {
   "cell_type": "code",
   "execution_count": 267,
   "id": "edebc2a6-9073-483e-a6a2-4d86330f171e",
   "metadata": {},
   "outputs": [
    {
     "data": {
      "text/plain": [
       "True"
      ]
     },
     "execution_count": 267,
     "metadata": {},
     "output_type": "execute_result"
    }
   ],
   "source": [
    "\"Milk\" in grocery_list"
   ]
  },
  {
   "cell_type": "code",
   "execution_count": 268,
   "id": "745f192d-2c48-4a11-90d4-da012b13e76f",
   "metadata": {},
   "outputs": [
    {
     "data": {
      "text/plain": [
       "False"
      ]
     },
     "execution_count": 268,
     "metadata": {},
     "output_type": "execute_result"
    }
   ],
   "source": [
    "\"Banana\" in grocery_list"
   ]
  },
  {
   "cell_type": "code",
   "execution_count": 269,
   "id": "538194ac-1f40-47f0-a87b-b7ca55443918",
   "metadata": {},
   "outputs": [
    {
     "data": {
      "text/plain": [
       "True"
      ]
     },
     "execution_count": 269,
     "metadata": {},
     "output_type": "execute_result"
    }
   ],
   "source": [
    "\"Banana\" not in grocery_list"
   ]
  },
  {
   "cell_type": "code",
   "execution_count": 270,
   "id": "ce835221-fb0c-49d9-9ef3-3fa781ffb78b",
   "metadata": {},
   "outputs": [
    {
     "data": {
      "text/plain": [
       "['Milk', 'Orange', 1, 2, 3, True, (2+4j), 2.3]"
      ]
     },
     "execution_count": 270,
     "metadata": {},
     "output_type": "execute_result"
    }
   ],
   "source": [
    "grocery_list"
   ]
  },
  {
   "cell_type": "code",
   "execution_count": 271,
   "id": "56cf9ec8-39df-491b-a0db-3d82ccca576f",
   "metadata": {},
   "outputs": [],
   "source": [
    "#shallow copy>> value will change with change in other list|\n",
    "a = grocery_list"
   ]
  },
  {
   "cell_type": "code",
   "execution_count": 272,
   "id": "315a0bb3-d48f-4fb0-8dec-b5fa64a3b8d7",
   "metadata": {},
   "outputs": [
    {
     "data": {
      "text/plain": [
       "['Milk', 'Orange', 1, 2, 3, True, (2+4j), 2.3]"
      ]
     },
     "execution_count": 272,
     "metadata": {},
     "output_type": "execute_result"
    }
   ],
   "source": [
    "a"
   ]
  },
  {
   "cell_type": "code",
   "execution_count": 273,
   "id": "483c9f17-5d81-4fed-a40b-101d0388dd41",
   "metadata": {},
   "outputs": [],
   "source": [
    "grocery_list[0]  = \"Banana\""
   ]
  },
  {
   "cell_type": "code",
   "execution_count": 274,
   "id": "e2dbba75-da98-460e-945b-2e364fd3caa1",
   "metadata": {},
   "outputs": [
    {
     "data": {
      "text/plain": [
       "['Banana', 'Orange', 1, 2, 3, True, (2+4j), 2.3]"
      ]
     },
     "execution_count": 274,
     "metadata": {},
     "output_type": "execute_result"
    }
   ],
   "source": [
    "grocery_list"
   ]
  },
  {
   "cell_type": "code",
   "execution_count": 275,
   "id": "5b75d643-5395-429b-b1da-10f34366f54b",
   "metadata": {},
   "outputs": [
    {
     "data": {
      "text/plain": [
       "['Banana', 'Orange', 1, 2, 3, True, (2+4j), 2.3]"
      ]
     },
     "execution_count": 275,
     "metadata": {},
     "output_type": "execute_result"
    }
   ],
   "source": [
    "a"
   ]
  },
  {
   "cell_type": "code",
   "execution_count": 276,
   "id": "d1db2433-2db6-43cc-9f22-4f0d74eee778",
   "metadata": {},
   "outputs": [],
   "source": [
    "\n",
    "\n",
    "#deep copy will not change with change in other list\n",
    "b = grocery_list.copy()"
   ]
  },
  {
   "cell_type": "code",
   "execution_count": 277,
   "id": "46f969e0-daa7-4018-b19c-fef7b82a84a1",
   "metadata": {},
   "outputs": [
    {
     "data": {
      "text/plain": [
       "['Banana', 'Orange', 1, 2, 3, True, (2+4j), 2.3]"
      ]
     },
     "execution_count": 277,
     "metadata": {},
     "output_type": "execute_result"
    }
   ],
   "source": [
    "grocery_list\n"
   ]
  },
  {
   "cell_type": "code",
   "execution_count": 278,
   "id": "f04fc385-215a-44e0-8e2b-d9f6cda527fd",
   "metadata": {},
   "outputs": [
    {
     "data": {
      "text/plain": [
       "['Banana', 'Orange', 1, 2, 3, True, (2+4j), 2.3]"
      ]
     },
     "execution_count": 278,
     "metadata": {},
     "output_type": "execute_result"
    }
   ],
   "source": [
    "b"
   ]
  },
  {
   "cell_type": "code",
   "execution_count": 279,
   "id": "7ec87531-969a-4342-8a2b-b9a92725cc35",
   "metadata": {},
   "outputs": [],
   "source": [
    "grocery_list[0] = \"Guava\""
   ]
  },
  {
   "cell_type": "code",
   "execution_count": 280,
   "id": "42d9acf7-64c6-40de-be12-670502d3ffb6",
   "metadata": {},
   "outputs": [
    {
     "data": {
      "text/plain": [
       "['Guava', 'Orange', 1, 2, 3, True, (2+4j), 2.3]"
      ]
     },
     "execution_count": 280,
     "metadata": {},
     "output_type": "execute_result"
    }
   ],
   "source": [
    "grocery_list"
   ]
  },
  {
   "cell_type": "code",
   "execution_count": 281,
   "id": "5a8630d1-5b39-4213-928e-eb50a15b6e13",
   "metadata": {},
   "outputs": [
    {
     "data": {
      "text/plain": [
       "['Banana', 'Orange', 1, 2, 3, True, (2+4j), 2.3]"
      ]
     },
     "execution_count": 281,
     "metadata": {},
     "output_type": "execute_result"
    }
   ],
   "source": [
    "b"
   ]
  },
  {
   "cell_type": "code",
   "execution_count": 282,
   "id": "2a290a45-132e-4416-b833-edcacb015df7",
   "metadata": {},
   "outputs": [
    {
     "data": {
      "text/plain": [
       "['Algorithm', 'Data Structure', 'Web dev']"
      ]
     },
     "execution_count": 282,
     "metadata": {},
     "output_type": "execute_result"
    }
   ],
   "source": [
    "#sorting lists\n",
    "\n",
    "book_list = [\"Data Structure\", \"Algorithm\", \"Web dev\"]\n",
    "sorted(book_list)"
   ]
  },
  {
   "cell_type": "code",
   "execution_count": 283,
   "id": "6ddb406c-c87f-4367-b806-6e4b4e9ed339",
   "metadata": {},
   "outputs": [
    {
     "data": {
      "text/plain": [
       "['Data Structure', 'Algorithm', 'Web dev']"
      ]
     },
     "execution_count": 283,
     "metadata": {},
     "output_type": "execute_result"
    }
   ],
   "source": [
    "book_list"
   ]
  },
  {
   "cell_type": "code",
   "execution_count": 284,
   "id": "80a63611-e4c3-45de-91aa-c0df6b77a86b",
   "metadata": {},
   "outputs": [
    {
     "data": {
      "text/plain": [
       "1"
      ]
     },
     "execution_count": 284,
     "metadata": {},
     "output_type": "execute_result"
    }
   ],
   "source": [
    "book_list.index(\"Algorithm\")"
   ]
  },
  {
   "cell_type": "code",
   "execution_count": 285,
   "id": "04f81e29-3467-42e0-9349-c3baca208b90",
   "metadata": {},
   "outputs": [
    {
     "data": {
      "text/plain": [
       "2"
      ]
     },
     "execution_count": 285,
     "metadata": {},
     "output_type": "execute_result"
    }
   ],
   "source": [
    "book_list.index(\"Web dev\")"
   ]
  },
  {
   "cell_type": "code",
   "execution_count": 286,
   "id": "12524820-6440-4ff1-b389-7aa15adbed82",
   "metadata": {},
   "outputs": [],
   "source": [
    "book_list = ['Data Structure',\"Data Structure\", 'Algorithm', 'Web dev']"
   ]
  },
  {
   "cell_type": "code",
   "execution_count": 287,
   "id": "51e2c5fa-0655-4e7c-80bc-867a3a758c2f",
   "metadata": {},
   "outputs": [
    {
     "data": {
      "text/plain": [
       "['Data Structure', 'Data Structure', 'Algorithm', 'Web dev']"
      ]
     },
     "execution_count": 287,
     "metadata": {},
     "output_type": "execute_result"
    }
   ],
   "source": [
    "book_list"
   ]
  },
  {
   "cell_type": "code",
   "execution_count": 288,
   "id": "b9d67cca-5e16-41ed-86ee-7d5ca33e4514",
   "metadata": {},
   "outputs": [
    {
     "data": {
      "text/plain": [
       "2"
      ]
     },
     "execution_count": 288,
     "metadata": {},
     "output_type": "execute_result"
    }
   ],
   "source": [
    "book_list.count('Data Structure')"
   ]
  },
  {
   "cell_type": "code",
   "execution_count": 289,
   "id": "25f924b7-4ac8-4e47-bbac-9ef493aaa557",
   "metadata": {},
   "outputs": [],
   "source": [
    "book_list.remove('Data Structure')"
   ]
  },
  {
   "cell_type": "code",
   "execution_count": 290,
   "id": "1595ced1-c247-497a-ba43-ee9daf903c4c",
   "metadata": {},
   "outputs": [
    {
     "data": {
      "text/plain": [
       "['Data Structure', 'Algorithm', 'Web dev']"
      ]
     },
     "execution_count": 290,
     "metadata": {},
     "output_type": "execute_result"
    }
   ],
   "source": [
    "book_list"
   ]
  },
  {
   "cell_type": "code",
   "execution_count": 291,
   "id": "cc39fee4-6d1f-476b-ac39-98b35f079763",
   "metadata": {},
   "outputs": [],
   "source": [
    "book_list.sort()"
   ]
  },
  {
   "cell_type": "code",
   "execution_count": 292,
   "id": "ed2c2ac0-7c1c-4588-873c-b175a552b3fa",
   "metadata": {},
   "outputs": [
    {
     "data": {
      "text/plain": [
       "['Algorithm', 'Data Structure', 'Web dev']"
      ]
     },
     "execution_count": 292,
     "metadata": {},
     "output_type": "execute_result"
    }
   ],
   "source": [
    "book_list"
   ]
  },
  {
   "cell_type": "code",
   "execution_count": 293,
   "id": "0ec2ca94-25a0-4f3e-9929-ce29d6bde7a2",
   "metadata": {},
   "outputs": [],
   "source": [
    "del book_list"
   ]
  },
  {
   "cell_type": "code",
   "execution_count": 294,
   "id": "a9da14e1-fe2d-4d31-9172-287b87b37ed6",
   "metadata": {},
   "outputs": [],
   "source": [
    "book_list = ['Algorithm', 'Data Structure', 'Web dev']"
   ]
  },
  {
   "cell_type": "code",
   "execution_count": 295,
   "id": "6b80262c-fce9-48c2-abe8-e9b026aced89",
   "metadata": {},
   "outputs": [
    {
     "data": {
      "text/plain": [
       "['Algorithm', 'Data Structure', 'Web dev']"
      ]
     },
     "execution_count": 295,
     "metadata": {},
     "output_type": "execute_result"
    }
   ],
   "source": [
    "book_list"
   ]
  },
  {
   "cell_type": "code",
   "execution_count": 296,
   "id": "b721a3d9-3e2d-4bfc-80ec-51cc073f1c82",
   "metadata": {},
   "outputs": [],
   "source": [
    "book_list.clear()"
   ]
  },
  {
   "cell_type": "code",
   "execution_count": 297,
   "id": "a011bebe-06df-4c6f-ae98-bebbb9675746",
   "metadata": {},
   "outputs": [
    {
     "data": {
      "text/plain": [
       "[]"
      ]
     },
     "execution_count": 297,
     "metadata": {},
     "output_type": "execute_result"
    }
   ],
   "source": [
    "book_list"
   ]
  },
  {
   "cell_type": "code",
   "execution_count": 298,
   "id": "bc36525a-cbb7-456e-98e0-776d112c5125",
   "metadata": {},
   "outputs": [],
   "source": [
    "book_list = ['Algorithm', 'Data Structure', 'Web dev']"
   ]
  },
  {
   "cell_type": "code",
   "execution_count": 299,
   "id": "2981a6e1-1da5-465c-a29b-e7bf9bb5fd31",
   "metadata": {},
   "outputs": [
    {
     "data": {
      "text/plain": [
       "'Web dev'"
      ]
     },
     "execution_count": 299,
     "metadata": {},
     "output_type": "execute_result"
    }
   ],
   "source": [
    "book_list.pop()"
   ]
  },
  {
   "cell_type": "code",
   "execution_count": 300,
   "id": "2829f12d-5299-40b7-83ec-5840e4ff4957",
   "metadata": {},
   "outputs": [
    {
     "data": {
      "text/plain": [
       "['Algorithm', 'Data Structure']"
      ]
     },
     "execution_count": 300,
     "metadata": {},
     "output_type": "execute_result"
    }
   ],
   "source": [
    "book_list"
   ]
  },
  {
   "cell_type": "code",
   "execution_count": 301,
   "id": "8994d357-d224-4929-9567-b326b9589a47",
   "metadata": {},
   "outputs": [],
   "source": [
    "book_list = ['Algorithm', 'Data Structure', 'Web dev']"
   ]
  },
  {
   "cell_type": "code",
   "execution_count": 302,
   "id": "f913b5ba-2f30-47cc-a8d7-0c19d869b491",
   "metadata": {},
   "outputs": [
    {
     "data": {
      "text/plain": [
       "'Data Structure'"
      ]
     },
     "execution_count": 302,
     "metadata": {},
     "output_type": "execute_result"
    }
   ],
   "source": [
    "book_list.pop(1)"
   ]
  },
  {
   "cell_type": "code",
   "execution_count": 303,
   "id": "aa68ebc8-bad3-4f89-b903-d7de630e270a",
   "metadata": {},
   "outputs": [
    {
     "data": {
      "text/plain": [
       "['Algorithm', 'Web dev']"
      ]
     },
     "execution_count": 303,
     "metadata": {},
     "output_type": "execute_result"
    }
   ],
   "source": [
    "book_list"
   ]
  },
  {
   "cell_type": "code",
   "execution_count": 304,
   "id": "476fcfa0-eb61-425e-aa64-137712fb95f6",
   "metadata": {},
   "outputs": [],
   "source": [
    "#list comprehension"
   ]
  },
  {
   "cell_type": "code",
   "execution_count": 305,
   "id": "97cbcec3-98b1-4d7d-9064-71ec00bc35cf",
   "metadata": {},
   "outputs": [],
   "source": [
    "prices = [10, 20, 30, 40, 50]\n",
    "doubled_price = []\n",
    "for i in prices:\n",
    "    doubled_price.append(i*2)"
   ]
  },
  {
   "cell_type": "code",
   "execution_count": 306,
   "id": "12888487-b543-438b-86c9-baf5a102c190",
   "metadata": {},
   "outputs": [
    {
     "data": {
      "text/plain": [
       "[20, 40, 60, 80, 100]"
      ]
     },
     "execution_count": 306,
     "metadata": {},
     "output_type": "execute_result"
    }
   ],
   "source": [
    "doubled_price"
   ]
  },
  {
   "cell_type": "code",
   "execution_count": 307,
   "id": "1c9e0969-4eb9-48ad-96b5-36553a0babb8",
   "metadata": {},
   "outputs": [],
   "source": [
    "doubled_price = [price * 2 for price in prices]"
   ]
  },
  {
   "cell_type": "code",
   "execution_count": 308,
   "id": "d0e297e0-a1f3-43a7-b66f-d50e9133e0e8",
   "metadata": {},
   "outputs": [
    {
     "data": {
      "text/plain": [
       "[20, 40, 60, 80, 100]"
      ]
     },
     "execution_count": 308,
     "metadata": {},
     "output_type": "execute_result"
    }
   ],
   "source": [
    "doubled_price"
   ]
  },
  {
   "cell_type": "code",
   "execution_count": 309,
   "id": "2d12a998-f50b-406a-8bcd-5b70a1b53b5f",
   "metadata": {},
   "outputs": [
    {
     "data": {
      "text/plain": [
       "['Ajay', 'Bijay', 'Sanjay']"
      ]
     },
     "execution_count": 309,
     "metadata": {},
     "output_type": "execute_result"
    }
   ],
   "source": [
    "names = [\"Ajay\", \"bijay\", \"sanjay\"]\n",
    "\n",
    "[name.capitalize() for name in names]"
   ]
  },
  {
   "cell_type": "code",
   "execution_count": 310,
   "id": "c9fe959f-698c-42e9-96ea-adf2802f7c5d",
   "metadata": {},
   "outputs": [
    {
     "data": {
      "text/plain": [
       "[1, 4, 9, 16, 25]"
      ]
     },
     "execution_count": 310,
     "metadata": {},
     "output_type": "execute_result"
    }
   ],
   "source": [
    "numbers = [1, 2, 3, 4, 5]\n",
    "[num ** 2 for num in numbers]"
   ]
  },
  {
   "cell_type": "code",
   "execution_count": 311,
   "id": "699feda4-6911-44d6-aaa2-ee40bc526858",
   "metadata": {},
   "outputs": [
    {
     "data": {
      "text/plain": [
       "'ppt'"
      ]
     },
     "execution_count": 311,
     "metadata": {},
     "output_type": "execute_result"
    }
   ],
   "source": [
    "str1 = \"doc1.ppt\"\n",
    "\n",
    "str1.split(\".\")[-1]"
   ]
  },
  {
   "cell_type": "code",
   "execution_count": 312,
   "id": "2ef8346d-f353-4608-84a3-e13fec5a4505",
   "metadata": {},
   "outputs": [
    {
     "data": {
      "text/plain": [
       "['ppt', 'pdf', 'jpg', 'py']"
      ]
     },
     "execution_count": 312,
     "metadata": {},
     "output_type": "execute_result"
    }
   ],
   "source": [
    "file_name = [\"doc1.ppt\", \"doc2.pdf\", \"doc3.jpg\", \"doc4.py\"]\n",
    "\n",
    "[file.split(\".\")[-1] for file in file_name]"
   ]
  },
  {
   "cell_type": "code",
   "execution_count": 313,
   "id": "a3dbe415-e8c9-47be-a10e-ebdd37e649a5",
   "metadata": {},
   "outputs": [
    {
     "data": {
      "text/plain": [
       "['sj@yahoo.com', 'rj@yahoo.com']"
      ]
     },
     "execution_count": 313,
     "metadata": {},
     "output_type": "execute_result"
    }
   ],
   "source": [
    "#conditional list comprehension\n",
    "\n",
    "\n",
    "email_address = [\"aj@gmail.com\", \"sj@yahoo.com\", \"rj@yahoo.com\", \"mj@gmail.com\"]\n",
    "\n",
    "[email for email in email_address if email.endswith(\"@yahoo.com\")]"
   ]
  },
  {
   "cell_type": "code",
   "execution_count": 314,
   "id": "a6de5577-e417-49ff-8b92-4d5cf55dc83b",
   "metadata": {},
   "outputs": [],
   "source": [
    "#Nested list comprehension\n",
    "\n",
    "\n",
    "pairs = []\n",
    "\n",
    "for x in [1, 2, 3]:\n",
    "    for y in [4, 5, 6]:\n",
    "        pairs.append([x, y])"
   ]
  },
  {
   "cell_type": "code",
   "execution_count": 315,
   "id": "df92bdab-9cf7-4028-9985-aefc336403d2",
   "metadata": {},
   "outputs": [
    {
     "data": {
      "text/plain": [
       "[[1, 4], [1, 5], [1, 6], [2, 4], [2, 5], [2, 6], [3, 4], [3, 5], [3, 6]]"
      ]
     },
     "execution_count": 315,
     "metadata": {},
     "output_type": "execute_result"
    }
   ],
   "source": [
    "pairs"
   ]
  },
  {
   "cell_type": "code",
   "execution_count": 316,
   "id": "29de2509-ab7f-4c83-a48c-843764fc0bfc",
   "metadata": {},
   "outputs": [
    {
     "data": {
      "text/plain": [
       "[[1, 4], [1, 5], [1, 6], [2, 4], [2, 5], [2, 6], [3, 4], [3, 5], [3, 6]]"
      ]
     },
     "execution_count": 316,
     "metadata": {},
     "output_type": "execute_result"
    }
   ],
   "source": [
    "[[x, y] for x in [1, 2, 3] for y in [4, 5, 6]]"
   ]
  },
  {
   "cell_type": "code",
   "execution_count": 317,
   "id": "2b2d0da6-a5df-4e21-9cc4-cc5c1a81c025",
   "metadata": {},
   "outputs": [],
   "source": [
    "#list as stack and queue\n",
    "\n",
    "\n",
    "#stack >> last in first out principle > the last element added to the stack will be the first one to be removed"
   ]
  },
  {
   "attachments": {
    "3bd36d3d-23bf-4f01-8575-95bcdc6e495f.png": {
     "image/png": "[encoded data removed]"
    }
   },
   "cell_type": "markdown",
   "id": "c4901625-23ca-4b9f-9ca5-2c90953f2719",
   "metadata": {},
   "source": [
    "![image.png](attachment:3bd36d3d-23bf-4f01-8575-95bcdc6e495f.png)"
   ]
  },
  {
   "cell_type": "code",
   "execution_count": 318,
   "id": "392b04a5-5e82-4cf8-86e1-a6ab21224980",
   "metadata": {},
   "outputs": [],
   "source": [
    "stack_of_plates = []\n",
    "stack_of_plates.append(\"plate1\")\n",
    "stack_of_plates.append(\"plate2\")\n",
    "stack_of_plates.append(\"plate3\")\n",
    "stack_of_plates.append(\"plate4\")"
   ]
  },
  {
   "cell_type": "code",
   "execution_count": 319,
   "id": "a0a1cb77-98d1-492f-8ca1-6924502cc928",
   "metadata": {},
   "outputs": [
    {
     "data": {
      "text/plain": [
       "['plate1', 'plate2', 'plate3', 'plate4']"
      ]
     },
     "execution_count": 319,
     "metadata": {},
     "output_type": "execute_result"
    }
   ],
   "source": [
    "stack_of_plates"
   ]
  },
  {
   "cell_type": "code",
   "execution_count": 320,
   "id": "c2877381-83d2-4b45-982b-6c883f76e6ea",
   "metadata": {},
   "outputs": [
    {
     "data": {
      "text/plain": [
       "'plate4'"
      ]
     },
     "execution_count": 320,
     "metadata": {},
     "output_type": "execute_result"
    }
   ],
   "source": [
    "stack_of_plates.pop()"
   ]
  },
  {
   "cell_type": "code",
   "execution_count": 321,
   "id": "3ea353ef-b9c8-4381-8f4e-fc41fb19a4df",
   "metadata": {},
   "outputs": [
    {
     "data": {
      "text/plain": [
       "['plate1', 'plate2', 'plate3']"
      ]
     },
     "execution_count": 321,
     "metadata": {},
     "output_type": "execute_result"
    }
   ],
   "source": [
    "stack_of_plates"
   ]
  },
  {
   "cell_type": "code",
   "execution_count": 322,
   "id": "33160cbc-ed8d-4e9a-ac58-45eccf6f5bda",
   "metadata": {},
   "outputs": [],
   "source": [
    "browsing_history = []\n",
    "browsing_history.append(\"home_page\")\n",
    "browsing_history.append(\"about us\")\n",
    "browsing_history.append(\"contact\")"
   ]
  },
  {
   "cell_type": "code",
   "execution_count": 323,
   "id": "dd7167ca-6984-4b54-8cd3-167a70296ddb",
   "metadata": {},
   "outputs": [
    {
     "data": {
      "text/plain": [
       "['home_page', 'about us', 'contact']"
      ]
     },
     "execution_count": 323,
     "metadata": {},
     "output_type": "execute_result"
    }
   ],
   "source": [
    "browsing_history"
   ]
  },
  {
   "cell_type": "code",
   "execution_count": 324,
   "id": "fab8093c-bde3-4c70-b81e-8b227255dcd3",
   "metadata": {},
   "outputs": [
    {
     "data": {
      "text/plain": [
       "'contact'"
      ]
     },
     "execution_count": 324,
     "metadata": {},
     "output_type": "execute_result"
    }
   ],
   "source": [
    "browsing_history.pop()"
   ]
  },
  {
   "cell_type": "code",
   "execution_count": 325,
   "id": "51590cd7-6830-4108-92ca-560044adb5ad",
   "metadata": {},
   "outputs": [
    {
     "data": {
      "text/plain": [
       "['home_page', 'about us']"
      ]
     },
     "execution_count": 325,
     "metadata": {},
     "output_type": "execute_result"
    }
   ],
   "source": [
    "browsing_history"
   ]
  },
  {
   "cell_type": "code",
   "execution_count": 326,
   "id": "83e02fe5-71e6-46aa-afb6-0b089f043b54",
   "metadata": {},
   "outputs": [],
   "source": [
    "#Queue >> FIFO>> FIRST IN FIRST OUT\n",
    "#ORDERLY SEQUENTIAL MANNER\n",
    "# TWO ENDS"
   ]
  },
  {
   "attachments": {
    "d889968f-852f-4c44-822b-0c1d9c8d0ef5.png": {
     "image/png": "[encoded data removed]"
    }
   },
   "cell_type": "markdown",
   "id": "a0ab0841-333a-48aa-b5a3-fdeaf631f792",
   "metadata": {},
   "source": [
    "![image.png](attachment:d889968f-852f-4c44-822b-0c1d9c8d0ef5.png)"
   ]
  },
  {
   "cell_type": "code",
   "execution_count": 327,
   "id": "3a84e46c-2b9f-447a-a16f-8cc568135b2b",
   "metadata": {},
   "outputs": [],
   "source": [
    "from collections import deque\n",
    "\n",
    "\n",
    "checkout = deque()\n",
    "\n",
    "checkout.append(\"cus1\")\n",
    "checkout.append(\"cus2\")\n",
    "checkout.append(\"cus3\")\n",
    "checkout.append(\"cus4\")"
   ]
  },
  {
   "cell_type": "code",
   "execution_count": 328,
   "id": "51ffd2a5-a3e1-4d25-96fd-b1becf73158a",
   "metadata": {},
   "outputs": [
    {
     "data": {
      "text/plain": [
       "deque(['cus1', 'cus2', 'cus3', 'cus4'])"
      ]
     },
     "execution_count": 328,
     "metadata": {},
     "output_type": "execute_result"
    }
   ],
   "source": [
    "checkout"
   ]
  },
  {
   "cell_type": "code",
   "execution_count": 329,
   "id": "6eee8f5b-c087-41a5-af5f-21c903ac6837",
   "metadata": {},
   "outputs": [
    {
     "name": "stdout",
     "output_type": "stream",
     "text": [
      "serving cus1\n",
      "serving cus2\n",
      "serving cus3\n",
      "serving cus4\n"
     ]
    }
   ],
   "source": [
    "while checkout:\n",
    "    customer = checkout.popleft()\n",
    "    print(\"serving\", customer)"
   ]
  },
  {
   "cell_type": "code",
   "execution_count": 330,
   "id": "05845f12-c1b7-4ac9-ad69-ae82c90a2da3",
   "metadata": {},
   "outputs": [],
   "source": [
    "from queue import Queue"
   ]
  },
  {
   "cell_type": "code",
   "execution_count": 331,
   "id": "e56df230-9053-4631-87c0-789a539c2571",
   "metadata": {},
   "outputs": [
    {
     "name": "stdout",
     "output_type": "stream",
     "text": [
      "printing Print job 1\n",
      "printing Print job 2\n",
      "printing Print job 3\n"
     ]
    }
   ],
   "source": [
    "print_queue = Queue()\n",
    "\n",
    "print_queue.put(\"Print job 1\")\n",
    "print_queue.put(\"Print job 2\")\n",
    "print_queue.put(\"Print job 3\")\n",
    "\n",
    "\n",
    "while not print_queue.empty():\n",
    "    print_job = print_queue.get()\n",
    "    print(\"printing\" ,print_job)"
   ]
  },
  {
   "cell_type": "code",
   "execution_count": null,
   "id": "2c77d5f7-d476-4d24-9e3c-8f8f6931db28",
   "metadata": {},
   "outputs": [],
   "source": []
  }
 ],
 "metadata": {
  "kernelspec": {
   "display_name": "Python 3 (ipykernel)",
   "language": "python",
   "name": "python3"
  },
  "language_info": {
   "codemirror_mode": {
    "name": "ipython",
    "version": 3
   },
   "file_extension": ".py",
   "mimetype": "text/x-python",
   "name": "python",
   "nbconvert_exporter": "python",
   "pygments_lexer": "ipython3",
   "version": "3.11.8"
  }
 },
 "nbformat": 4,
 "nbformat_minor": 5
}
