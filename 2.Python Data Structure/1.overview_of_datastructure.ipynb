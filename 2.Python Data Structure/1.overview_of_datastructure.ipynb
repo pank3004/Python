{
 "cells": [
  {
   "cell_type": "code",
   "execution_count": 1,
   "id": "ee943d03-929a-4e6e-ba8d-b65e3f74c85a",
   "metadata": {},
   "outputs": [],
   "source": [
    "#data structure > way of organizing and storing data so that it can be acccessed and manipulated effecinently"
   ]
  },
  {
   "cell_type": "code",
   "execution_count": 2,
   "id": "4c752b7d-0b74-4ea6-b419-a60f25c32f35",
   "metadata": {},
   "outputs": [],
   "source": [
    "#List >> it is an ordered collection of elements that can be of any data type, integer, float\n",
    "#List are mutable"
   ]
  },
  {
   "cell_type": "code",
   "execution_count": 3,
   "id": "448e7ce0-9ef1-4350-bfca-a2b7a3292e70",
   "metadata": {},
   "outputs": [],
   "source": [
    "num = [1, 2, 3, 4, 5]"
   ]
  },
  {
   "cell_type": "code",
   "execution_count": 4,
   "id": "2c3c3db9-0a00-4a09-8e77-0c6c2a2290bb",
   "metadata": {},
   "outputs": [
    {
     "data": {
      "text/plain": [
       "list"
      ]
     },
     "execution_count": 4,
     "metadata": {},
     "output_type": "execute_result"
    }
   ],
   "source": [
    "type(num)"
   ]
  },
  {
   "cell_type": "code",
   "execution_count": 5,
   "id": "6fa133b2-b042-4078-8285-ff882e1dca25",
   "metadata": {},
   "outputs": [
    {
     "data": {
      "text/plain": [
       "1"
      ]
     },
     "execution_count": 5,
     "metadata": {},
     "output_type": "execute_result"
    }
   ],
   "source": [
    "num[0]"
   ]
  },
  {
   "cell_type": "code",
   "execution_count": 6,
   "id": "69c82326-2ed2-42e2-92f4-24884695e659",
   "metadata": {},
   "outputs": [
    {
     "data": {
      "text/plain": [
       "2"
      ]
     },
     "execution_count": 6,
     "metadata": {},
     "output_type": "execute_result"
    }
   ],
   "source": [
    "num[1]"
   ]
  },
  {
   "cell_type": "code",
   "execution_count": 7,
   "id": "b08e5474-8ccc-4922-acda-887b9f82ec20",
   "metadata": {},
   "outputs": [
    {
     "data": {
      "text/plain": [
       "5"
      ]
     },
     "execution_count": 7,
     "metadata": {},
     "output_type": "execute_result"
    }
   ],
   "source": [
    "num[4]"
   ]
  },
  {
   "cell_type": "code",
   "execution_count": 8,
   "id": "9d8a94df-d269-4f3d-8f9d-243d9b295db6",
   "metadata": {},
   "outputs": [],
   "source": [
    "# num[5]   # error : list index out of range"
   ]
  },
  {
   "cell_type": "code",
   "execution_count": 9,
   "id": "0a9b1193-935d-4911-9982-08b8c0cd33b9",
   "metadata": {},
   "outputs": [],
   "source": [
    "lis = [1, 2, \"ajay\", True, 3+7j]"
   ]
  },
  {
   "cell_type": "code",
   "execution_count": 10,
   "id": "02cfc56d-03fe-4bcf-9b64-0e51a1aa9b99",
   "metadata": {},
   "outputs": [
    {
     "data": {
      "text/plain": [
       "list"
      ]
     },
     "execution_count": 10,
     "metadata": {},
     "output_type": "execute_result"
    }
   ],
   "source": [
    "type(lis)"
   ]
  },
  {
   "cell_type": "code",
   "execution_count": 11,
   "id": "f0481ee9-da6d-4770-8aae-c6ab9f3c7bee",
   "metadata": {},
   "outputs": [
    {
     "data": {
      "text/plain": [
       "[1, 2, 'ajay', True, (3+7j)]"
      ]
     },
     "execution_count": 11,
     "metadata": {},
     "output_type": "execute_result"
    }
   ],
   "source": [
    "lis"
   ]
  },
  {
   "cell_type": "code",
   "execution_count": 12,
   "id": "1d8e6739-16b8-46c6-a2a0-cbc85fea787c",
   "metadata": {},
   "outputs": [],
   "source": [
    "lis.append(\"pwskills\")"
   ]
  },
  {
   "cell_type": "code",
   "execution_count": 13,
   "id": "fb7f5d49-27c1-4719-b088-9c12494cd52f",
   "metadata": {},
   "outputs": [
    {
     "data": {
      "text/plain": [
       "[1, 2, 'ajay', True, (3+7j), 'pwskills']"
      ]
     },
     "execution_count": 13,
     "metadata": {},
     "output_type": "execute_result"
    }
   ],
   "source": [
    "lis"
   ]
  },
  {
   "cell_type": "code",
   "execution_count": 14,
   "id": "c7e11e3d-754d-49f4-bc04-2d79e6de1d35",
   "metadata": {},
   "outputs": [],
   "source": [
    "lis.remove(\"ajay\")"
   ]
  },
  {
   "cell_type": "code",
   "execution_count": 15,
   "id": "981f39dc-172b-45ed-94b8-d6c7673fb6c1",
   "metadata": {},
   "outputs": [
    {
     "data": {
      "text/plain": [
       "[1, 2, True, (3+7j), 'pwskills']"
      ]
     },
     "execution_count": 15,
     "metadata": {},
     "output_type": "execute_result"
    }
   ],
   "source": [
    "lis"
   ]
  },
  {
   "cell_type": "code",
   "execution_count": 16,
   "id": "9a142976-69f6-465f-a6aa-3679b881bfb2",
   "metadata": {},
   "outputs": [
    {
     "data": {
      "text/plain": [
       "True"
      ]
     },
     "execution_count": 16,
     "metadata": {},
     "output_type": "execute_result"
    }
   ],
   "source": [
    "lis[2]"
   ]
  },
  {
   "cell_type": "code",
   "execution_count": 17,
   "id": "f34fda15-3a62-4ae7-8c73-90d5c98581f2",
   "metadata": {},
   "outputs": [],
   "source": [
    "lis = [[1, 2, 3], [4, 5, 6], [7, 8, 9]]"
   ]
  },
  {
   "cell_type": "code",
   "execution_count": 18,
   "id": "7cf07f38-70fc-4e18-9636-24cada82ca52",
   "metadata": {},
   "outputs": [
    {
     "data": {
      "text/plain": [
       "list"
      ]
     },
     "execution_count": 18,
     "metadata": {},
     "output_type": "execute_result"
    }
   ],
   "source": [
    "type(lis)"
   ]
  },
  {
   "cell_type": "code",
   "execution_count": 19,
   "id": "e39f543b-b891-4595-ba43-ab32e84bced5",
   "metadata": {},
   "outputs": [
    {
     "data": {
      "text/plain": [
       "[[1, 2, 3], [4, 5, 6], [7, 8, 9]]"
      ]
     },
     "execution_count": 19,
     "metadata": {},
     "output_type": "execute_result"
    }
   ],
   "source": [
    "lis"
   ]
  },
  {
   "cell_type": "code",
   "execution_count": 20,
   "id": "d34dcd1d-2fcc-4383-a453-4c6c8e4060a5",
   "metadata": {},
   "outputs": [
    {
     "data": {
      "text/plain": [
       "2"
      ]
     },
     "execution_count": 20,
     "metadata": {},
     "output_type": "execute_result"
    }
   ],
   "source": [
    "lis[0][1]"
   ]
  },
  {
   "cell_type": "code",
   "execution_count": 21,
   "id": "3f9c5faf-5cb5-496c-87ea-3ea9a35e8bc5",
   "metadata": {},
   "outputs": [
    {
     "data": {
      "text/plain": [
       "9"
      ]
     },
     "execution_count": 21,
     "metadata": {},
     "output_type": "execute_result"
    }
   ],
   "source": [
    "lis[2][2]"
   ]
  },
  {
   "cell_type": "code",
   "execution_count": 22,
   "id": "0ca7340d-a764-4983-bb1d-6c3888b74655",
   "metadata": {},
   "outputs": [],
   "source": [
    "shopping_list = [\"Banana\", \"Apple\", 3, 4.5, True]"
   ]
  },
  {
   "cell_type": "code",
   "execution_count": 23,
   "id": "9bceeff8-462f-4d44-9d0d-f01b494c8fed",
   "metadata": {},
   "outputs": [
    {
     "data": {
      "text/plain": [
       "list"
      ]
     },
     "execution_count": 23,
     "metadata": {},
     "output_type": "execute_result"
    }
   ],
   "source": [
    "type(shopping_list)"
   ]
  },
  {
   "cell_type": "code",
   "execution_count": 24,
   "id": "454e5d19-0c71-4d67-87dc-a98d88215fec",
   "metadata": {},
   "outputs": [
    {
     "name": "stdout",
     "output_type": "stream",
     "text": [
      "Banana Apple 3 4.5 True "
     ]
    }
   ],
   "source": [
    "for item in shopping_list:\n",
    "    print(item, end = \" \")"
   ]
  },
  {
   "cell_type": "code",
   "execution_count": 25,
   "id": "5161c1ee-c048-48c6-8ace-b87a6b28664a",
   "metadata": {},
   "outputs": [],
   "source": [
    "#Tuples >> immutable"
   ]
  },
  {
   "cell_type": "code",
   "execution_count": 26,
   "id": "cb67d030-e2c7-4bba-ab85-6942c1a38ef5",
   "metadata": {},
   "outputs": [],
   "source": [
    "point = (2, 3)"
   ]
  },
  {
   "cell_type": "code",
   "execution_count": 27,
   "id": "a6a02f24-d997-44af-a2d9-56f8726089be",
   "metadata": {},
   "outputs": [
    {
     "data": {
      "text/plain": [
       "(2, 3)"
      ]
     },
     "execution_count": 27,
     "metadata": {},
     "output_type": "execute_result"
    }
   ],
   "source": [
    "point"
   ]
  },
  {
   "cell_type": "code",
   "execution_count": 28,
   "id": "808a9cbb-99ca-4213-9d52-b13a2a5f8ee0",
   "metadata": {},
   "outputs": [
    {
     "data": {
      "text/plain": [
       "tuple"
      ]
     },
     "execution_count": 28,
     "metadata": {},
     "output_type": "execute_result"
    }
   ],
   "source": [
    "type(point)"
   ]
  },
  {
   "cell_type": "code",
   "execution_count": 29,
   "id": "39c02547-a946-410f-9caa-ba2e4e7f8a13",
   "metadata": {},
   "outputs": [],
   "source": [
    "point = (\"Ajay\", 1, 2, 2.3)"
   ]
  },
  {
   "cell_type": "code",
   "execution_count": 30,
   "id": "3e54e04c-84aa-495d-a9a2-decae11fc23f",
   "metadata": {},
   "outputs": [
    {
     "data": {
      "text/plain": [
       "('Ajay', 1, 2, 2.3)"
      ]
     },
     "execution_count": 30,
     "metadata": {},
     "output_type": "execute_result"
    }
   ],
   "source": [
    "point"
   ]
  },
  {
   "cell_type": "code",
   "execution_count": 31,
   "id": "25d41020-5ca3-46c0-b87f-679db1e553f2",
   "metadata": {},
   "outputs": [],
   "source": [
    "name = (\"Ajay\", \"Sumit\", \"Bijay\")"
   ]
  },
  {
   "cell_type": "code",
   "execution_count": 32,
   "id": "c4a8c975-a59a-4d30-9919-ef06f541faf4",
   "metadata": {},
   "outputs": [
    {
     "data": {
      "text/plain": [
       "'Ajay'"
      ]
     },
     "execution_count": 32,
     "metadata": {},
     "output_type": "execute_result"
    }
   ],
   "source": [
    "name[0]"
   ]
  },
  {
   "cell_type": "code",
   "execution_count": 33,
   "id": "f5a623a0-e94a-4b84-bf2b-6472c66afcf1",
   "metadata": {},
   "outputs": [
    {
     "data": {
      "text/plain": [
       "'Sumit'"
      ]
     },
     "execution_count": 33,
     "metadata": {},
     "output_type": "execute_result"
    }
   ],
   "source": [
    "name[1]"
   ]
  },
  {
   "cell_type": "code",
   "execution_count": 34,
   "id": "e3e8587a-74af-4b20-b3f3-fb60fd0abbcf",
   "metadata": {},
   "outputs": [],
   "source": [
    "# name[1] = \"Bangalore\"    # error: 'tuple' object does not support item assignment (immutable)"
   ]
  },
  {
   "cell_type": "code",
   "execution_count": 35,
   "id": "6d4e58fb-cccd-4da6-b3d5-4cb6ffb11d0b",
   "metadata": {},
   "outputs": [],
   "source": [
    "box1  = (\"a\", \"b\")\n",
    "box2 = (\"c\", \"d\")\n",
    "\n",
    "choclate_bag = (box1, box2)"
   ]
  },
  {
   "cell_type": "code",
   "execution_count": 36,
   "id": "99923afa-089e-486d-b4c5-a63e3e8a2b4c",
   "metadata": {},
   "outputs": [
    {
     "data": {
      "text/plain": [
       "(('a', 'b'), ('c', 'd'))"
      ]
     },
     "execution_count": 36,
     "metadata": {},
     "output_type": "execute_result"
    }
   ],
   "source": [
    "choclate_bag"
   ]
  },
  {
   "cell_type": "code",
   "execution_count": 37,
   "id": "77571e1b-5600-43da-818a-823bd9edf431",
   "metadata": {},
   "outputs": [
    {
     "name": "stdout",
     "output_type": "stream",
     "text": [
      "a\n",
      "b\n",
      "c\n",
      "d\n"
     ]
    }
   ],
   "source": [
    "for bag in choclate_bag:\n",
    "    for choc in bag:\n",
    "        print(choc)"
   ]
  },
  {
   "cell_type": "code",
   "execution_count": 38,
   "id": "1ac6da13-f355-4d9a-8837-181eee4c3688",
   "metadata": {},
   "outputs": [],
   "source": [
    "#sets>> are unordered collection of unique elements"
   ]
  },
  {
   "cell_type": "code",
   "execution_count": 39,
   "id": "7adb25e5-061a-484d-a4e9-46a7d401f380",
   "metadata": {},
   "outputs": [],
   "source": [
    "s = {\"red\", \"blue\"}"
   ]
  },
  {
   "cell_type": "code",
   "execution_count": 40,
   "id": "22c0c049-242f-4590-9d3f-62a14b80d111",
   "metadata": {},
   "outputs": [
    {
     "data": {
      "text/plain": [
       "set"
      ]
     },
     "execution_count": 40,
     "metadata": {},
     "output_type": "execute_result"
    }
   ],
   "source": [
    "type(s)"
   ]
  },
  {
   "cell_type": "code",
   "execution_count": 41,
   "id": "5e5d85e4-ff54-4383-a3b7-03ed7e7c979e",
   "metadata": {},
   "outputs": [],
   "source": [
    "s = {\"red\", \"blue\", \"blue\"}"
   ]
  },
  {
   "cell_type": "code",
   "execution_count": 42,
   "id": "1a22a3b4-854f-48e7-b8ec-dff342c97847",
   "metadata": {},
   "outputs": [
    {
     "data": {
      "text/plain": [
       "{'blue', 'red'}"
      ]
     },
     "execution_count": 42,
     "metadata": {},
     "output_type": "execute_result"
    }
   ],
   "source": [
    "s"
   ]
  },
  {
   "cell_type": "code",
   "execution_count": 43,
   "id": "8bb428b7-7a45-47cc-9251-ef4da9abf155",
   "metadata": {},
   "outputs": [],
   "source": [
    "s = {\"a\", \"a\", \"a\", 1.2, 1.2}"
   ]
  },
  {
   "cell_type": "code",
   "execution_count": 44,
   "id": "1a140e13-106c-4a79-869a-46d2999ee926",
   "metadata": {},
   "outputs": [
    {
     "data": {
      "text/plain": [
       "{1.2, 'a'}"
      ]
     },
     "execution_count": 44,
     "metadata": {},
     "output_type": "execute_result"
    }
   ],
   "source": [
    "s"
   ]
  },
  {
   "cell_type": "code",
   "execution_count": 45,
   "id": "bfa0a343-3749-4d51-8d4b-20b201689a6c",
   "metadata": {},
   "outputs": [
    {
     "data": {
      "text/plain": [
       "{1.2, 'a'}"
      ]
     },
     "execution_count": 45,
     "metadata": {},
     "output_type": "execute_result"
    }
   ],
   "source": [
    "s"
   ]
  },
  {
   "cell_type": "code",
   "execution_count": 46,
   "id": "031dfa17-c5a8-4028-8660-4175ecee46cb",
   "metadata": {},
   "outputs": [],
   "source": [
    "# s[0]           # error: 'set' object is not subscriptable"
   ]
  },
  {
   "cell_type": "code",
   "execution_count": 47,
   "id": "36d8513f-ef06-4697-8c71-594bb0cb9b48",
   "metadata": {},
   "outputs": [],
   "source": [
    "# s[1]          # error: 'set' object is not subscriptable"
   ]
  },
  {
   "cell_type": "code",
   "execution_count": 48,
   "id": "099c038d-efae-4ba3-8d46-2875a7670c1e",
   "metadata": {},
   "outputs": [],
   "source": [
    "s.add(\"pwskills\")"
   ]
  },
  {
   "cell_type": "code",
   "execution_count": 49,
   "id": "2327620c-f01e-4324-be4c-26cd45331c4d",
   "metadata": {},
   "outputs": [
    {
     "data": {
      "text/plain": [
       "{1.2, 'a', 'pwskills'}"
      ]
     },
     "execution_count": 49,
     "metadata": {},
     "output_type": "execute_result"
    }
   ],
   "source": [
    "s"
   ]
  },
  {
   "cell_type": "code",
   "execution_count": 50,
   "id": "e87a88ab-8790-41c4-99bb-3b19b2c2e035",
   "metadata": {},
   "outputs": [],
   "source": [
    "s.add(\"pwskills\")"
   ]
  },
  {
   "cell_type": "code",
   "execution_count": 51,
   "id": "83d5a287-2ca3-49de-a57b-52efd0d664af",
   "metadata": {},
   "outputs": [
    {
     "data": {
      "text/plain": [
       "{1.2, 'a', 'pwskills'}"
      ]
     },
     "execution_count": 51,
     "metadata": {},
     "output_type": "execute_result"
    }
   ],
   "source": [
    "s"
   ]
  },
  {
   "cell_type": "code",
   "execution_count": 52,
   "id": "d32a11a1-153c-4b79-b6f2-618038272ebb",
   "metadata": {},
   "outputs": [
    {
     "data": {
      "text/plain": [
       "{1.2, 'a', 'pwskills'}"
      ]
     },
     "execution_count": 52,
     "metadata": {},
     "output_type": "execute_result"
    }
   ],
   "source": [
    "s"
   ]
  },
  {
   "cell_type": "code",
   "execution_count": 53,
   "id": "93607574-be95-49cd-982a-6edf048d769c",
   "metadata": {},
   "outputs": [],
   "source": [
    "s.remove(\"pwskills\")"
   ]
  },
  {
   "cell_type": "code",
   "execution_count": 54,
   "id": "e6335eba-f3bc-497e-8376-94520bcf4595",
   "metadata": {},
   "outputs": [
    {
     "data": {
      "text/plain": [
       "{1.2, 'a'}"
      ]
     },
     "execution_count": 54,
     "metadata": {},
     "output_type": "execute_result"
    }
   ],
   "source": [
    "s"
   ]
  },
  {
   "cell_type": "code",
   "execution_count": 55,
   "id": "06098a7b-5c59-45a9-a39c-09b09f2b237b",
   "metadata": {},
   "outputs": [
    {
     "data": {
      "text/plain": [
       "{'apple', 'banana', 'orange'}"
      ]
     },
     "execution_count": 55,
     "metadata": {},
     "output_type": "execute_result"
    }
   ],
   "source": [
    "grocery_list = {\"apple\", \"banana\", \"orange\", \"banana\", \"orange\"}\n",
    "grocery_list"
   ]
  },
  {
   "cell_type": "code",
   "execution_count": 56,
   "id": "444cd74a-30c6-4d33-b911-616da2589a67",
   "metadata": {},
   "outputs": [],
   "source": [
    "#dictionaries >> key value pair\n",
    "my_dict = {}"
   ]
  },
  {
   "cell_type": "code",
   "execution_count": 57,
   "id": "c25a0804-053f-471a-8fb7-9b11bf5614be",
   "metadata": {},
   "outputs": [
    {
     "data": {
      "text/plain": [
       "{}"
      ]
     },
     "execution_count": 57,
     "metadata": {},
     "output_type": "execute_result"
    }
   ],
   "source": [
    "my_dict"
   ]
  },
  {
   "cell_type": "code",
   "execution_count": 58,
   "id": "2e8b4683-15ec-44ce-b28e-67547a374ba9",
   "metadata": {},
   "outputs": [
    {
     "data": {
      "text/plain": [
       "dict"
      ]
     },
     "execution_count": 58,
     "metadata": {},
     "output_type": "execute_result"
    }
   ],
   "source": [
    "type(my_dict)"
   ]
  },
  {
   "cell_type": "code",
   "execution_count": 59,
   "id": "487005be-b081-43ea-be77-9516b47e6af3",
   "metadata": {},
   "outputs": [
    {
     "data": {
      "text/plain": [
       "dict"
      ]
     },
     "execution_count": 59,
     "metadata": {},
     "output_type": "execute_result"
    }
   ],
   "source": [
    "s = {}          # null set is dictionary\n",
    "type(s)"
   ]
  },
  {
   "cell_type": "code",
   "execution_count": 60,
   "id": "b3573cbc-c7a1-4ce9-838e-4014add7c42a",
   "metadata": {},
   "outputs": [],
   "source": [
    "my_dict = {\"key_course\" : \"data science\", \"duration\" : 2}"
   ]
  },
  {
   "cell_type": "code",
   "execution_count": 61,
   "id": "dfca773d-0c19-4a26-8708-23666654c6fd",
   "metadata": {},
   "outputs": [
    {
     "data": {
      "text/plain": [
       "dict"
      ]
     },
     "execution_count": 61,
     "metadata": {},
     "output_type": "execute_result"
    }
   ],
   "source": [
    "type(my_dict)"
   ]
  },
  {
   "cell_type": "code",
   "execution_count": 62,
   "id": "93d3486c-a5c1-4dd6-8e50-eb6b5549d1f6",
   "metadata": {},
   "outputs": [],
   "source": [
    "phonebook = {\"Dad\": 1234, \"Mom\": 234}"
   ]
  },
  {
   "cell_type": "code",
   "execution_count": 63,
   "id": "76eef45e-45b6-41f5-acd7-3cc5d97db4d4",
   "metadata": {},
   "outputs": [
    {
     "data": {
      "text/plain": [
       "dict"
      ]
     },
     "execution_count": 63,
     "metadata": {},
     "output_type": "execute_result"
    }
   ],
   "source": [
    "type(phonebook)"
   ]
  },
  {
   "cell_type": "code",
   "execution_count": 64,
   "id": "40d86dcc-9075-4f47-b5c5-da4f5a1b18c9",
   "metadata": {},
   "outputs": [
    {
     "data": {
      "text/plain": [
       "1234"
      ]
     },
     "execution_count": 64,
     "metadata": {},
     "output_type": "execute_result"
    }
   ],
   "source": [
    "phonebook[\"Dad\"]"
   ]
  },
  {
   "cell_type": "code",
   "execution_count": 65,
   "id": "335920d6-aae4-4e54-b4fa-4e6073386bed",
   "metadata": {},
   "outputs": [],
   "source": [
    "phonebook = {\"Dad\": 1234, \"Mom\": 234, \"Dad\": 789}"
   ]
  },
  {
   "cell_type": "code",
   "execution_count": 66,
   "id": "34e504e5-e25b-413b-a841-7db1e6297e87",
   "metadata": {},
   "outputs": [
    {
     "data": {
      "text/plain": [
       "{'Dad': 789, 'Mom': 234}"
      ]
     },
     "execution_count": 66,
     "metadata": {},
     "output_type": "execute_result"
    }
   ],
   "source": [
    "phonebook"
   ]
  },
  {
   "cell_type": "code",
   "execution_count": 67,
   "id": "98a89b89-619a-4197-a17e-a018e650c3d4",
   "metadata": {},
   "outputs": [
    {
     "data": {
      "text/plain": [
       "dict_keys(['Dad', 'Mom'])"
      ]
     },
     "execution_count": 67,
     "metadata": {},
     "output_type": "execute_result"
    }
   ],
   "source": [
    "phonebook.keys()"
   ]
  },
  {
   "cell_type": "code",
   "execution_count": 68,
   "id": "8db3243c-ef04-4be2-9031-03d24e25e340",
   "metadata": {},
   "outputs": [
    {
     "data": {
      "text/plain": [
       "dict_values([789, 234])"
      ]
     },
     "execution_count": 68,
     "metadata": {},
     "output_type": "execute_result"
    }
   ],
   "source": [
    "phonebook.values()"
   ]
  },
  {
   "cell_type": "code",
   "execution_count": 69,
   "id": "6b12c232-3e91-4cc0-8c33-f5cba3ac083b",
   "metadata": {},
   "outputs": [],
   "source": [
    "phonebook[\"Dad\"] = \"I have changed any no\""
   ]
  },
  {
   "cell_type": "code",
   "execution_count": 70,
   "id": "4c411f93-679d-4a44-8b03-b707da21981f",
   "metadata": {},
   "outputs": [
    {
     "data": {
      "text/plain": [
       "{'Dad': 'I have changed any no', 'Mom': 234}"
      ]
     },
     "execution_count": 70,
     "metadata": {},
     "output_type": "execute_result"
    }
   ],
   "source": [
    "phonebook"
   ]
  },
  {
   "cell_type": "code",
   "execution_count": 71,
   "id": "034aa597-11ec-4b7d-9077-01961ba5d8bf",
   "metadata": {},
   "outputs": [],
   "source": [
    "from array import array # array is similar to list>> homogenous data"
   ]
  },
  {
   "cell_type": "code",
   "execution_count": 72,
   "id": "87908bec-c458-4a1c-9c3b-f876709d933b",
   "metadata": {},
   "outputs": [
    {
     "data": {
      "text/plain": [
       "array('i', [1, 2, 3, 4])"
      ]
     },
     "execution_count": 72,
     "metadata": {},
     "output_type": "execute_result"
    }
   ],
   "source": [
    "array('i', [1, 2, 3, 4])"
   ]
  },
  {
   "cell_type": "code",
   "execution_count": 73,
   "id": "5025ce45-1bbd-4be5-adea-69d0cc1d5c15",
   "metadata": {},
   "outputs": [],
   "source": [
    "arr=array('i', [1, 2, 3, 4])"
   ]
  },
  {
   "cell_type": "code",
   "execution_count": 74,
   "id": "7b922e9c",
   "metadata": {},
   "outputs": [
    {
     "data": {
      "text/plain": [
       "array.array"
      ]
     },
     "execution_count": 74,
     "metadata": {},
     "output_type": "execute_result"
    }
   ],
   "source": [
    "type(arr)"
   ]
  },
  {
   "cell_type": "code",
   "execution_count": 75,
   "id": "15466927",
   "metadata": {},
   "outputs": [
    {
     "data": {
      "text/plain": [
       "1"
      ]
     },
     "execution_count": 75,
     "metadata": {},
     "output_type": "execute_result"
    }
   ],
   "source": [
    "arr[0]"
   ]
  },
  {
   "cell_type": "code",
   "execution_count": 76,
   "id": "0eadb097",
   "metadata": {},
   "outputs": [],
   "source": [
    "arr.append(34)"
   ]
  },
  {
   "cell_type": "code",
   "execution_count": 77,
   "id": "f7123f97",
   "metadata": {},
   "outputs": [
    {
     "data": {
      "text/plain": [
       "array('i', [1, 2, 3, 4, 34])"
      ]
     },
     "execution_count": 77,
     "metadata": {},
     "output_type": "execute_result"
    }
   ],
   "source": [
    "arr"
   ]
  },
  {
   "cell_type": "code",
   "execution_count": 79,
   "id": "b9759c28",
   "metadata": {},
   "outputs": [],
   "source": [
    "arr.remove(34)"
   ]
  },
  {
   "cell_type": "code",
   "execution_count": 80,
   "id": "7f44e90f",
   "metadata": {},
   "outputs": [
    {
     "data": {
      "text/plain": [
       "array('i', [1, 2, 3, 4])"
      ]
     },
     "execution_count": 80,
     "metadata": {},
     "output_type": "execute_result"
    }
   ],
   "source": [
    "arr"
   ]
  },
  {
   "cell_type": "code",
   "execution_count": null,
   "id": "9ffbefce",
   "metadata": {},
   "outputs": [],
   "source": []
  }
 ],
 "metadata": {
  "kernelspec": {
   "display_name": "Python 3 (ipykernel)",
   "language": "python",
   "name": "python3"
  },
  "language_info": {
   "codemirror_mode": {
    "name": "ipython",
    "version": 3
   },
   "file_extension": ".py",
   "mimetype": "text/x-python",
   "name": "python",
   "nbconvert_exporter": "python",
   "pygments_lexer": "ipython3",
   "version": "3.11.8"
  }
 },
 "nbformat": 4,
 "nbformat_minor": 5
}
