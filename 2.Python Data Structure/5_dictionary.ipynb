{
 "cells": [
  {
   "cell_type": "code",
   "execution_count": 2,
   "id": "f74095d0-3547-41f1-9000-21c4545564cb",
   "metadata": {},
   "outputs": [],
   "source": [
    "#dictionary is a data structure that stores data as key value pair\n",
    "#Unordered, Keys are unique and immutable"
   ]
  },
  {
   "cell_type": "code",
   "execution_count": 3,
   "id": "7af69832-624b-4cf8-899d-c6c8ddeaff6b",
   "metadata": {},
   "outputs": [
    {
     "data": {
      "text/plain": [
       "dict"
      ]
     },
     "execution_count": 3,
     "metadata": {},
     "output_type": "execute_result"
    }
   ],
   "source": [
    "d = {}\n",
    "type(d)"
   ]
  },
  {
   "cell_type": "code",
   "execution_count": 4,
   "id": "037ca033-ce21-4e48-b59e-6a694d75687f",
   "metadata": {},
   "outputs": [],
   "source": [
    "d = {\"name\": \"Ajay\", \"email\": \"aj@gmail.com\", \"contact\" : 1234}"
   ]
  },
  {
   "cell_type": "code",
   "execution_count": 6,
   "id": "8e060895-c161-4a2f-8d45-148408c0f9dc",
   "metadata": {},
   "outputs": [
    {
     "data": {
      "text/plain": [
       "dict"
      ]
     },
     "execution_count": 6,
     "metadata": {},
     "output_type": "execute_result"
    }
   ],
   "source": [
    "type(d)"
   ]
  },
  {
   "cell_type": "code",
   "execution_count": 7,
   "id": "335ff53a-906d-42fc-8708-2676d3158bb9",
   "metadata": {},
   "outputs": [
    {
     "data": {
      "text/plain": [
       "{'name': 'Ajay', 'email': 'aj@gmail.com', 'contact': 1234}"
      ]
     },
     "execution_count": 7,
     "metadata": {},
     "output_type": "execute_result"
    }
   ],
   "source": [
    "d"
   ]
  },
  {
   "cell_type": "code",
   "execution_count": 10,
   "id": "f1d7551d-624b-46b2-9f45-53c3129d066b",
   "metadata": {},
   "outputs": [],
   "source": [
    "l = [100, 200, 300]"
   ]
  },
  {
   "cell_type": "code",
   "execution_count": 13,
   "id": "a95c0013-b290-49a4-b65e-e31cc43c50d6",
   "metadata": {},
   "outputs": [
    {
     "data": {
      "text/plain": [
       "'Ajay'"
      ]
     },
     "execution_count": 13,
     "metadata": {},
     "output_type": "execute_result"
    }
   ],
   "source": [
    "d['name']"
   ]
  },
  {
   "cell_type": "code",
   "execution_count": 14,
   "id": "e97c1239-098a-43ec-bbbf-d80885fdec28",
   "metadata": {},
   "outputs": [
    {
     "data": {
      "text/plain": [
       "'aj@gmail.com'"
      ]
     },
     "execution_count": 14,
     "metadata": {},
     "output_type": "execute_result"
    }
   ],
   "source": [
    "d['email']"
   ]
  },
  {
   "cell_type": "code",
   "execution_count": 15,
   "id": "dffabf48-e54e-4425-8704-78db97d2a98c",
   "metadata": {},
   "outputs": [],
   "source": [
    "d['name'] = \"bijay\""
   ]
  },
  {
   "cell_type": "code",
   "execution_count": 16,
   "id": "014ed0f1-3bdd-4322-8f0a-9d9bbc41a34e",
   "metadata": {},
   "outputs": [
    {
     "data": {
      "text/plain": [
       "{'name': 'bijay', 'email': 'aj@gmail.com', 'contact': 1234}"
      ]
     },
     "execution_count": 16,
     "metadata": {},
     "output_type": "execute_result"
    }
   ],
   "source": [
    "d"
   ]
  },
  {
   "cell_type": "code",
   "execution_count": 17,
   "id": "89a11442-ebc2-43d9-b31e-f2c679c7e6a8",
   "metadata": {},
   "outputs": [],
   "source": [
    "d = {\"name\": \"Ajay\", \"email\": \"aj@gmail.com\", \"contact\" : 1234, \"name\": \"ajay\"}"
   ]
  },
  {
   "cell_type": "code",
   "execution_count": 18,
   "id": "7ef668d5-5bae-47da-a816-d60c10fe71b6",
   "metadata": {},
   "outputs": [
    {
     "data": {
      "text/plain": [
       "{'name': 'ajay', 'email': 'aj@gmail.com', 'contact': 1234}"
      ]
     },
     "execution_count": 18,
     "metadata": {},
     "output_type": "execute_result"
    }
   ],
   "source": [
    "d"
   ]
  },
  {
   "cell_type": "code",
   "execution_count": 19,
   "id": "3ec98cb3-82d4-4f13-a930-1b559c72e3e0",
   "metadata": {},
   "outputs": [],
   "source": [
    "d = {1:\"abc\"}"
   ]
  },
  {
   "cell_type": "code",
   "execution_count": 20,
   "id": "8708d460-34cb-4b43-98d9-99190ffd612d",
   "metadata": {},
   "outputs": [
    {
     "data": {
      "text/plain": [
       "{1: 'abc'}"
      ]
     },
     "execution_count": 20,
     "metadata": {},
     "output_type": "execute_result"
    }
   ],
   "source": [
    "d"
   ]
  },
  {
   "cell_type": "code",
   "execution_count": 21,
   "id": "0d2a00f3-b0c7-4ec2-ad32-f941434f3c86",
   "metadata": {},
   "outputs": [],
   "source": [
    "d = {101:\"abc\"}"
   ]
  },
  {
   "cell_type": "code",
   "execution_count": 22,
   "id": "2b77d708-96e5-474d-9285-73dd3f780f89",
   "metadata": {},
   "outputs": [
    {
     "data": {
      "text/plain": [
       "{101: 'abc'}"
      ]
     },
     "execution_count": 22,
     "metadata": {},
     "output_type": "execute_result"
    }
   ],
   "source": [
    "d"
   ]
  },
  {
   "cell_type": "code",
   "execution_count": 23,
   "id": "7da0356c-cc31-4451-a66c-9bfb89cb96a9",
   "metadata": {},
   "outputs": [],
   "source": [
    "d = {1.2:\"abc\"}"
   ]
  },
  {
   "cell_type": "code",
   "execution_count": 24,
   "id": "9f70a46c-b1e3-4e77-841e-0408fcbc1478",
   "metadata": {},
   "outputs": [
    {
     "data": {
      "text/plain": [
       "{1.2: 'abc'}"
      ]
     },
     "execution_count": 24,
     "metadata": {},
     "output_type": "execute_result"
    }
   ],
   "source": [
    "d"
   ]
  },
  {
   "cell_type": "code",
   "execution_count": 25,
   "id": "5d75ffd8-670e-47dc-abe7-8fb51c4a5691",
   "metadata": {},
   "outputs": [],
   "source": [
    "d = {True:\"abc\"}"
   ]
  },
  {
   "cell_type": "code",
   "execution_count": 26,
   "id": "6923e7bb-b2ae-4402-b308-64e3a220f574",
   "metadata": {},
   "outputs": [
    {
     "data": {
      "text/plain": [
       "{True: 'abc'}"
      ]
     },
     "execution_count": 26,
     "metadata": {},
     "output_type": "execute_result"
    }
   ],
   "source": [
    "d"
   ]
  },
  {
   "cell_type": "code",
   "execution_count": 27,
   "id": "d60c0dd5-e4d0-49c0-a0ab-fb1214503d7d",
   "metadata": {},
   "outputs": [
    {
     "ename": "SyntaxError",
     "evalue": "incomplete input (1346761613.py, line 1)",
     "output_type": "error",
     "traceback": [
      "\u001b[0;36m  Cell \u001b[0;32mIn[27], line 1\u001b[0;36m\u001b[0m\n\u001b[0;31m    d = {#:\"abc\"}\u001b[0m\n\u001b[0m                 ^\u001b[0m\n\u001b[0;31mSyntaxError\u001b[0m\u001b[0;31m:\u001b[0m incomplete input\n"
     ]
    }
   ],
   "source": [
    "d = {#:\"abc\"}"
   ]
  },
  {
   "cell_type": "code",
   "execution_count": 28,
   "id": "52211695-b404-4f9a-8149-007dbd527b25",
   "metadata": {},
   "outputs": [
    {
     "ename": "SyntaxError",
     "evalue": "invalid syntax (2268442835.py, line 1)",
     "output_type": "error",
     "traceback": [
      "\u001b[0;36m  Cell \u001b[0;32mIn[28], line 1\u001b[0;36m\u001b[0m\n\u001b[0;31m    d = {@:\"abc\"}\u001b[0m\n\u001b[0m         ^\u001b[0m\n\u001b[0;31mSyntaxError\u001b[0m\u001b[0;31m:\u001b[0m invalid syntax\n"
     ]
    }
   ],
   "source": [
    "d = {@:\"abc\"}"
   ]
  },
  {
   "cell_type": "code",
   "execution_count": 29,
   "id": "157ad1e0-3a94-48c6-88ee-acfbab975b0b",
   "metadata": {},
   "outputs": [
    {
     "ename": "TypeError",
     "evalue": "unhashable type: 'list'",
     "output_type": "error",
     "traceback": [
      "\u001b[0;31m---------------------------------------------------------------------------\u001b[0m",
      "\u001b[0;31mTypeError\u001b[0m                                 Traceback (most recent call last)",
      "Cell \u001b[0;32mIn[29], line 1\u001b[0m\n\u001b[0;32m----> 1\u001b[0m d \u001b[38;5;241m=\u001b[39m {[\u001b[38;5;241m1\u001b[39m, \u001b[38;5;241m2\u001b[39m,\u001b[38;5;241m3\u001b[39m]:\u001b[38;5;124m\"\u001b[39m\u001b[38;5;124mabc\u001b[39m\u001b[38;5;124m\"\u001b[39m}\n",
      "\u001b[0;31mTypeError\u001b[0m: unhashable type: 'list'"
     ]
    }
   ],
   "source": [
    "d = {[1, 2,3]:\"abc\"}"
   ]
  },
  {
   "cell_type": "code",
   "execution_count": 30,
   "id": "c922a92b-7551-4a8c-91ea-f0a9c7233a2f",
   "metadata": {},
   "outputs": [],
   "source": [
    "d = {(1, 2,3):\"abc\"}"
   ]
  },
  {
   "cell_type": "code",
   "execution_count": 31,
   "id": "8c13b369-3a6c-4f20-8710-c809fa840148",
   "metadata": {},
   "outputs": [
    {
     "data": {
      "text/plain": [
       "{(1, 2, 3): 'abc'}"
      ]
     },
     "execution_count": 31,
     "metadata": {},
     "output_type": "execute_result"
    }
   ],
   "source": [
    "d"
   ]
  },
  {
   "cell_type": "code",
   "execution_count": 32,
   "id": "433820bf-e36b-4f44-9487-71072a9c4518",
   "metadata": {},
   "outputs": [
    {
     "ename": "TypeError",
     "evalue": "unhashable type: 'set'",
     "output_type": "error",
     "traceback": [
      "\u001b[0;31m---------------------------------------------------------------------------\u001b[0m",
      "\u001b[0;31mTypeError\u001b[0m                                 Traceback (most recent call last)",
      "Cell \u001b[0;32mIn[32], line 1\u001b[0m\n\u001b[0;32m----> 1\u001b[0m d \u001b[38;5;241m=\u001b[39m {{\u001b[38;5;241m1\u001b[39m, \u001b[38;5;241m2\u001b[39m,\u001b[38;5;241m3\u001b[39m}:\u001b[38;5;124m\"\u001b[39m\u001b[38;5;124mabc\u001b[39m\u001b[38;5;124m\"\u001b[39m}\n",
      "\u001b[0;31mTypeError\u001b[0m: unhashable type: 'set'"
     ]
    }
   ],
   "source": [
    "d = {{1, 2,3}:\"abc\"}"
   ]
  },
  {
   "cell_type": "code",
   "execution_count": 33,
   "id": "b37321e4-6f8d-4948-ba42-e8d692665e3c",
   "metadata": {},
   "outputs": [
    {
     "ename": "TypeError",
     "evalue": "unhashable type: 'dict'",
     "output_type": "error",
     "traceback": [
      "\u001b[0;31m---------------------------------------------------------------------------\u001b[0m",
      "\u001b[0;31mTypeError\u001b[0m                                 Traceback (most recent call last)",
      "Cell \u001b[0;32mIn[33], line 1\u001b[0m\n\u001b[0;32m----> 1\u001b[0m d \u001b[38;5;241m=\u001b[39m {{\u001b[38;5;124m\"\u001b[39m\u001b[38;5;124mkey\u001b[39m\u001b[38;5;124m\"\u001b[39m:\u001b[38;5;241m123\u001b[39m}:\u001b[38;5;124m\"\u001b[39m\u001b[38;5;124mabc\u001b[39m\u001b[38;5;124m\"\u001b[39m}\n",
      "\u001b[0;31mTypeError\u001b[0m: unhashable type: 'dict'"
     ]
    }
   ],
   "source": [
    "d = {{\"key\":123}:\"abc\"}"
   ]
  },
  {
   "cell_type": "code",
   "execution_count": 34,
   "id": "afdbb510-375b-4eb1-a4dc-fb700663db91",
   "metadata": {},
   "outputs": [],
   "source": [
    "d = {\"name\": \"Ajay\", \"email\": \"aj@gmail.com\", \"contact\" : 1234, \"name\": \"ajay\"}"
   ]
  },
  {
   "cell_type": "code",
   "execution_count": 35,
   "id": "2a12ce63-ae01-4ac3-aa41-29a9b2289112",
   "metadata": {},
   "outputs": [
    {
     "data": {
      "text/plain": [
       "{'name': 'ajay', 'email': 'aj@gmail.com', 'contact': 1234}"
      ]
     },
     "execution_count": 35,
     "metadata": {},
     "output_type": "execute_result"
    }
   ],
   "source": [
    "d"
   ]
  },
  {
   "cell_type": "code",
   "execution_count": 36,
   "id": "ccc9928a-41e5-4142-bb7f-c441a5791094",
   "metadata": {},
   "outputs": [],
   "source": [
    "d[\"name\"] = \"data science\""
   ]
  },
  {
   "cell_type": "code",
   "execution_count": 37,
   "id": "2e00c413-ccc0-420f-8f2a-3c27a6fc6bb5",
   "metadata": {},
   "outputs": [
    {
     "data": {
      "text/plain": [
       "{'name': 'data science', 'email': 'aj@gmail.com', 'contact': 1234}"
      ]
     },
     "execution_count": 37,
     "metadata": {},
     "output_type": "execute_result"
    }
   ],
   "source": [
    "d"
   ]
  },
  {
   "cell_type": "code",
   "execution_count": 38,
   "id": "63b0bae5-dde2-4b25-a4ce-4fd27d3d6550",
   "metadata": {},
   "outputs": [],
   "source": [
    "d = {\"name\": [\"Ajay\", \"Bijay\", \"Sanjay\"], \"course\": (\"ds\", \"ml\")}"
   ]
  },
  {
   "cell_type": "code",
   "execution_count": 39,
   "id": "1ef45364-65c3-4495-85db-9253e49f2ce9",
   "metadata": {},
   "outputs": [
    {
     "data": {
      "text/plain": [
       "{'name': ['Ajay', 'Bijay', 'Sanjay'], 'course': ('ds', 'ml')}"
      ]
     },
     "execution_count": 39,
     "metadata": {},
     "output_type": "execute_result"
    }
   ],
   "source": [
    "d"
   ]
  },
  {
   "cell_type": "code",
   "execution_count": 42,
   "id": "a24291d3-1517-4aaf-aa0b-5a88f262364f",
   "metadata": {},
   "outputs": [
    {
     "data": {
      "text/plain": [
       "'Bijay'"
      ]
     },
     "execution_count": 42,
     "metadata": {},
     "output_type": "execute_result"
    }
   ],
   "source": [
    "d['name'][1]"
   ]
  },
  {
   "cell_type": "code",
   "execution_count": 44,
   "id": "45ee1c58-8454-470a-9176-eaa35f1da1db",
   "metadata": {},
   "outputs": [],
   "source": [
    "d[\"date_of_start\"] = \"15th March\""
   ]
  },
  {
   "cell_type": "code",
   "execution_count": 45,
   "id": "cf89f14a-59c8-46fc-a18f-9555ef445a58",
   "metadata": {},
   "outputs": [
    {
     "data": {
      "text/plain": [
       "{'name': ['Ajay', 'Bijay', 'Sanjay'],\n",
       " 'course': ('ds', 'ml'),\n",
       " 'date_of_start': '15th March'}"
      ]
     },
     "execution_count": 45,
     "metadata": {},
     "output_type": "execute_result"
    }
   ],
   "source": [
    "d"
   ]
  },
  {
   "cell_type": "code",
   "execution_count": 46,
   "id": "f338804f-12c2-4cd7-b88d-b74f45668bc0",
   "metadata": {},
   "outputs": [],
   "source": [
    "d['name'] = \"Rakesh\""
   ]
  },
  {
   "cell_type": "code",
   "execution_count": 47,
   "id": "7ffdf4a1-d53e-493a-a19e-3a39c3d5658b",
   "metadata": {},
   "outputs": [
    {
     "data": {
      "text/plain": [
       "{'name': 'Rakesh', 'course': ('ds', 'ml'), 'date_of_start': '15th March'}"
      ]
     },
     "execution_count": 47,
     "metadata": {},
     "output_type": "execute_result"
    }
   ],
   "source": [
    "d"
   ]
  },
  {
   "cell_type": "code",
   "execution_count": 48,
   "id": "8f950a70-5f86-4202-9b29-a6b591e5f504",
   "metadata": {},
   "outputs": [],
   "source": [
    "del d['date_of_start']"
   ]
  },
  {
   "cell_type": "code",
   "execution_count": 49,
   "id": "334f6f29-e3e7-48d0-9fd8-23241068e154",
   "metadata": {},
   "outputs": [
    {
     "data": {
      "text/plain": [
       "{'name': 'Rakesh', 'course': ('ds', 'ml')}"
      ]
     },
     "execution_count": 49,
     "metadata": {},
     "output_type": "execute_result"
    }
   ],
   "source": [
    "d"
   ]
  },
  {
   "cell_type": "code",
   "execution_count": 50,
   "id": "90d075d0-f8c3-415d-bda9-18980447b88a",
   "metadata": {},
   "outputs": [],
   "source": [
    "del d"
   ]
  },
  {
   "cell_type": "code",
   "execution_count": 51,
   "id": "0a67b30c-6c5c-45dd-8fcd-6b430409343c",
   "metadata": {},
   "outputs": [
    {
     "ename": "NameError",
     "evalue": "name 'd' is not defined",
     "output_type": "error",
     "traceback": [
      "\u001b[0;31m---------------------------------------------------------------------------\u001b[0m",
      "\u001b[0;31mNameError\u001b[0m                                 Traceback (most recent call last)",
      "Cell \u001b[0;32mIn[51], line 1\u001b[0m\n\u001b[0;32m----> 1\u001b[0m \u001b[43md\u001b[49m\n",
      "\u001b[0;31mNameError\u001b[0m: name 'd' is not defined"
     ]
    }
   ],
   "source": [
    "d"
   ]
  },
  {
   "cell_type": "code",
   "execution_count": 52,
   "id": "e9c4991c-d5a5-4f08-9474-b0af01cdf262",
   "metadata": {},
   "outputs": [],
   "source": [
    "d = {\"name\": [\"Ajay\", \"Bijay\", \"Sanjay\"], \"course\": (\"ds\", \"ml\")}"
   ]
  },
  {
   "cell_type": "code",
   "execution_count": 53,
   "id": "6be404cf-1de9-4917-98c1-aef2d159d99e",
   "metadata": {},
   "outputs": [],
   "source": [
    "d.clear()"
   ]
  },
  {
   "cell_type": "code",
   "execution_count": 54,
   "id": "a6b48a93-70d2-45b5-bac9-f5c9cc2c8054",
   "metadata": {},
   "outputs": [
    {
     "data": {
      "text/plain": [
       "{}"
      ]
     },
     "execution_count": 54,
     "metadata": {},
     "output_type": "execute_result"
    }
   ],
   "source": [
    "d"
   ]
  },
  {
   "cell_type": "code",
   "execution_count": 55,
   "id": "408948c1-7fdb-457a-8e4a-812237a32183",
   "metadata": {},
   "outputs": [
    {
     "data": {
      "text/plain": [
       "2"
      ]
     },
     "execution_count": 55,
     "metadata": {},
     "output_type": "execute_result"
    }
   ],
   "source": [
    "d = {\"name\": [\"Ajay\", \"Bijay\", \"Sanjay\"], \"course\": (\"ds\", \"ml\")}\n",
    "len(d)"
   ]
  },
  {
   "cell_type": "code",
   "execution_count": 56,
   "id": "74f22f25-696a-44a2-bc6b-c01378e398be",
   "metadata": {},
   "outputs": [
    {
     "data": {
      "text/plain": [
       "{'name': ['Ajay', 'Bijay', 'Sanjay'], 'course': ('ds', 'ml')}"
      ]
     },
     "execution_count": 56,
     "metadata": {},
     "output_type": "execute_result"
    }
   ],
   "source": [
    "d"
   ]
  },
  {
   "cell_type": "code",
   "execution_count": 57,
   "id": "103dd615-3805-470a-b818-4f246f85ed4c",
   "metadata": {},
   "outputs": [
    {
     "data": {
      "text/plain": [
       "dict_keys(['name', 'course'])"
      ]
     },
     "execution_count": 57,
     "metadata": {},
     "output_type": "execute_result"
    }
   ],
   "source": [
    "d.keys()"
   ]
  },
  {
   "cell_type": "code",
   "execution_count": 58,
   "id": "3af55700-b039-483f-87ab-527ed232711f",
   "metadata": {},
   "outputs": [
    {
     "data": {
      "text/plain": [
       "dict_values([['Ajay', 'Bijay', 'Sanjay'], ('ds', 'ml')])"
      ]
     },
     "execution_count": 58,
     "metadata": {},
     "output_type": "execute_result"
    }
   ],
   "source": [
    "d.values()"
   ]
  },
  {
   "cell_type": "code",
   "execution_count": 59,
   "id": "0cccced2-2561-4028-abf0-5d42751c6d55",
   "metadata": {},
   "outputs": [
    {
     "data": {
      "text/plain": [
       "dict_items([('name', ['Ajay', 'Bijay', 'Sanjay']), ('course', ('ds', 'ml'))])"
      ]
     },
     "execution_count": 59,
     "metadata": {},
     "output_type": "execute_result"
    }
   ],
   "source": [
    "d.items()"
   ]
  },
  {
   "cell_type": "code",
   "execution_count": 60,
   "id": "4595e166-246f-409c-8ac8-fe84b225b234",
   "metadata": {},
   "outputs": [],
   "source": [
    "d1 = d.copy()"
   ]
  },
  {
   "cell_type": "code",
   "execution_count": 61,
   "id": "f7ffec16-90cc-4e42-8017-a359e469d588",
   "metadata": {},
   "outputs": [
    {
     "data": {
      "text/plain": [
       "{'name': ['Ajay', 'Bijay', 'Sanjay'], 'course': ('ds', 'ml')}"
      ]
     },
     "execution_count": 61,
     "metadata": {},
     "output_type": "execute_result"
    }
   ],
   "source": [
    "d1"
   ]
  },
  {
   "cell_type": "code",
   "execution_count": 62,
   "id": "11d2ba2a-5f84-4249-806d-6eee0225b909",
   "metadata": {},
   "outputs": [],
   "source": [
    "del d1"
   ]
  },
  {
   "cell_type": "code",
   "execution_count": 64,
   "id": "5e841f10-9071-48d2-9a85-56d7a19e7fdf",
   "metadata": {},
   "outputs": [
    {
     "data": {
      "text/plain": [
       "{'name': ['Ajay', 'Bijay', 'Sanjay'], 'course': ('ds', 'ml')}"
      ]
     },
     "execution_count": 64,
     "metadata": {},
     "output_type": "execute_result"
    }
   ],
   "source": [
    "d"
   ]
  },
  {
   "cell_type": "code",
   "execution_count": 66,
   "id": "41e4c8ba-2838-48e4-8a34-2120b0dc283b",
   "metadata": {},
   "outputs": [
    {
     "data": {
      "text/plain": [
       "('ds', 'ml')"
      ]
     },
     "execution_count": 66,
     "metadata": {},
     "output_type": "execute_result"
    }
   ],
   "source": [
    "d.pop('course')"
   ]
  },
  {
   "cell_type": "code",
   "execution_count": 67,
   "id": "fa4b04f9-a3ce-49bd-b8a9-994e86595e79",
   "metadata": {},
   "outputs": [
    {
     "data": {
      "text/plain": [
       "{'name': ['Ajay', 'Bijay', 'Sanjay']}"
      ]
     },
     "execution_count": 67,
     "metadata": {},
     "output_type": "execute_result"
    }
   ],
   "source": [
    "d"
   ]
  },
  {
   "cell_type": "code",
   "execution_count": 68,
   "id": "b3ebe9a0-a8d3-403d-96ca-e0705cf2fac3",
   "metadata": {},
   "outputs": [
    {
     "data": {
      "text/plain": [
       "{'name': ['Ajay', 'Bijay', 'Sanjay']}"
      ]
     },
     "execution_count": 68,
     "metadata": {},
     "output_type": "execute_result"
    }
   ],
   "source": [
    "d"
   ]
  },
  {
   "cell_type": "code",
   "execution_count": 69,
   "id": "07030313-e7d7-4579-9e5f-e4bb513d1e8b",
   "metadata": {},
   "outputs": [],
   "source": [
    "d1 = {\"course\": \"DS\", \"start\": \"20th mar\"}"
   ]
  },
  {
   "cell_type": "code",
   "execution_count": 70,
   "id": "9668af39-f617-4039-bfaa-71625e915461",
   "metadata": {},
   "outputs": [
    {
     "data": {
      "text/plain": [
       "{'course': 'DS', 'start': '20th mar'}"
      ]
     },
     "execution_count": 70,
     "metadata": {},
     "output_type": "execute_result"
    }
   ],
   "source": [
    "d1"
   ]
  },
  {
   "cell_type": "code",
   "execution_count": 71,
   "id": "6d78a743-2999-46c3-85c4-8c6211e3d823",
   "metadata": {},
   "outputs": [],
   "source": [
    "d.update(d1)"
   ]
  },
  {
   "cell_type": "code",
   "execution_count": 72,
   "id": "205beeb7-29f5-43b6-95ba-2eede83e8e91",
   "metadata": {},
   "outputs": [
    {
     "data": {
      "text/plain": [
       "{'name': ['Ajay', 'Bijay', 'Sanjay'], 'course': 'DS', 'start': '20th mar'}"
      ]
     },
     "execution_count": 72,
     "metadata": {},
     "output_type": "execute_result"
    }
   ],
   "source": [
    "d"
   ]
  },
  {
   "cell_type": "code",
   "execution_count": 73,
   "id": "a80a1fe7-92dc-4b84-a272-1b81f3aba204",
   "metadata": {},
   "outputs": [
    {
     "data": {
      "text/plain": [
       "'20th mar'"
      ]
     },
     "execution_count": 73,
     "metadata": {},
     "output_type": "execute_result"
    }
   ],
   "source": [
    "d['start']"
   ]
  },
  {
   "cell_type": "code",
   "execution_count": 74,
   "id": "c3b6ef80-5be1-469a-8bf8-6ae47a391d21",
   "metadata": {},
   "outputs": [
    {
     "data": {
      "text/plain": [
       "'20th mar'"
      ]
     },
     "execution_count": 74,
     "metadata": {},
     "output_type": "execute_result"
    }
   ],
   "source": [
    "d.get('start')"
   ]
  },
  {
   "cell_type": "code",
   "execution_count": 75,
   "id": "4a759337-a3da-48b0-998b-2da629114457",
   "metadata": {},
   "outputs": [
    {
     "data": {
      "text/plain": [
       "{1: ('a', 'b', 'c'), 2: ('a', 'b', 'c'), 3: ('a', 'b', 'c')}"
      ]
     },
     "execution_count": 75,
     "metadata": {},
     "output_type": "execute_result"
    }
   ],
   "source": [
    "d.fromkeys((1, 2, 3), ('a', 'b', 'c'))"
   ]
  },
  {
   "cell_type": "code",
   "execution_count": 79,
   "id": "f6de8ae6-5aab-4219-b5da-7a74dca036a4",
   "metadata": {},
   "outputs": [],
   "source": [
    "#dictionary comprehension\n",
    "\n",
    "students = ['Arun', 'Ajay', 'Bob']\n",
    "marks = [80, 95, 90]\n",
    "\n",
    "student_marks = {}\n",
    "\n",
    "for student, mark in zip(students, marks):\n",
    "    student_marks[student] = mark "
   ]
  },
  {
   "cell_type": "code",
   "execution_count": 77,
   "id": "68b7efb1-0b0d-406e-a79e-62eedca51583",
   "metadata": {},
   "outputs": [
    {
     "data": {
      "text/plain": [
       "{'Arun': 80, 'Ajay': 95, 'Bob': 90}"
      ]
     },
     "execution_count": 77,
     "metadata": {},
     "output_type": "execute_result"
    }
   ],
   "source": [
    "student_marks"
   ]
  },
  {
   "cell_type": "code",
   "execution_count": 82,
   "id": "aa713c27-3ba7-4b2b-9746-5b8256aacc5c",
   "metadata": {},
   "outputs": [
    {
     "name": "stdout",
     "output_type": "stream",
     "text": [
      "('Arun', 80)\n",
      "('Ajay', 95)\n",
      "('Bob', 90)\n"
     ]
    }
   ],
   "source": [
    "for i in zip(students, marks):\n",
    "    print(i)"
   ]
  },
  {
   "cell_type": "code",
   "execution_count": 85,
   "id": "0942cd3b-9447-4a39-9e17-6cf571a3ca66",
   "metadata": {},
   "outputs": [
    {
     "data": {
      "text/plain": [
       "{'Arun': 80, 'Ajay': 95, 'Bob': 90}"
      ]
     },
     "execution_count": 85,
     "metadata": {},
     "output_type": "execute_result"
    }
   ],
   "source": [
    "{student:marks for student, marks in zip(students, marks)}"
   ]
  },
  {
   "cell_type": "code",
   "execution_count": 86,
   "id": "95da650e-b9f7-42c0-b36d-c09fd258941a",
   "metadata": {},
   "outputs": [
    {
     "data": {
      "text/plain": [
       "{1: 'a21', 2: 'a22', 3: 'a33'}"
      ]
     },
     "execution_count": 86,
     "metadata": {},
     "output_type": "execute_result"
    }
   ],
   "source": [
    "user_id = [1, 2, 3]\n",
    "user_name = [\"a21\", \"a22\", \"a33\"]\n",
    "{u_id:u_name for u_id, u_name in zip(user_id, user_name)}"
   ]
  },
  {
   "cell_type": "code",
   "execution_count": 87,
   "id": "40759f0b-37cf-4458-81e0-2b1298551505",
   "metadata": {},
   "outputs": [],
   "source": [
    "employee_records = {\n",
    "    'E001': {'name': 'John Doe', 'department': 'Engineering', 'salary': 75000},\n",
    "    'E002': {'name': 'Jane Smith', 'department': 'Marketing', 'salary': 65000},\n",
    "    'E003': {'name': 'David Lee', 'department': 'Finance', 'salary': 80000}\n",
    "}"
   ]
  },
  {
   "cell_type": "code",
   "execution_count": 89,
   "id": "0989ba6a-e1de-432b-aeec-0ba997ab38f8",
   "metadata": {},
   "outputs": [
    {
     "data": {
      "text/plain": [
       "{'name': 'John Doe', 'department': 'Engineering', 'salary': 75000}"
      ]
     },
     "execution_count": 89,
     "metadata": {},
     "output_type": "execute_result"
    }
   ],
   "source": [
    "employee_records['E001']"
   ]
  },
  {
   "cell_type": "code",
   "execution_count": 90,
   "id": "f13a12b8-a2d8-4bfd-a01e-9991f7569d2e",
   "metadata": {},
   "outputs": [],
   "source": [
    "restaurant_menu = {\n",
    "    'Dish1': {'name': 'Pasta Carbonara', 'price': 15.99, 'description': 'Creamy pasta with bacon and parmesan'},\n",
    "    'Dish2': {'name': 'Chicken Caesar Salad', 'price': 12.50, 'description': 'Grilled chicken with romaine lettuce and Caesar dressing'},\n",
    "    'Dish3': {'name': 'Margherita Pizza', 'price': 14.00, 'description': 'Pizza topped with tomato, mozzarella, and basil'}\n",
    "}"
   ]
  },
  {
   "cell_type": "code",
   "execution_count": 91,
   "id": "e933c9a8-b4a2-484f-8ab3-69f3e3964a88",
   "metadata": {},
   "outputs": [
    {
     "data": {
      "text/plain": [
       "{'name': 'Pasta Carbonara',\n",
       " 'price': 15.99,\n",
       " 'description': 'Creamy pasta with bacon and parmesan'}"
      ]
     },
     "execution_count": 91,
     "metadata": {},
     "output_type": "execute_result"
    }
   ],
   "source": [
    "restaurant_menu['Dish1']"
   ]
  },
  {
   "cell_type": "code",
   "execution_count": 92,
   "id": "e94cb6ea-6ad3-4a88-8786-ece2ccfb080d",
   "metadata": {},
   "outputs": [
    {
     "data": {
      "text/plain": [
       "{'Dish1': {'name': 'Pasta Carbonara',\n",
       "  'price': 15.99,\n",
       "  'description': 'Creamy pasta with bacon and parmesan'},\n",
       " 'Dish2': {'name': 'Chicken Caesar Salad',\n",
       "  'price': 12.5,\n",
       "  'description': 'Grilled chicken with romaine lettuce and Caesar dressing'},\n",
       " 'Dish3': {'name': 'Margherita Pizza',\n",
       "  'price': 14.0,\n",
       "  'description': 'Pizza topped with tomato, mozzarella, and basil'}}"
      ]
     },
     "execution_count": 92,
     "metadata": {},
     "output_type": "execute_result"
    }
   ],
   "source": [
    "restaurant_menu"
   ]
  },
  {
   "cell_type": "code",
   "execution_count": 93,
   "id": "d547db95-d44f-43df-a850-3d83651d66ac",
   "metadata": {},
   "outputs": [
    {
     "data": {
      "text/plain": [
       "dict_keys(['Dish1', 'Dish2', 'Dish3'])"
      ]
     },
     "execution_count": 93,
     "metadata": {},
     "output_type": "execute_result"
    }
   ],
   "source": [
    "#Dictionary view objects\n",
    "restaurant_menu.keys()"
   ]
  },
  {
   "cell_type": "code",
   "execution_count": 94,
   "id": "a5bd80b2-5ccc-4a71-b0c2-09fb0b7495a2",
   "metadata": {},
   "outputs": [
    {
     "data": {
      "text/plain": [
       "dict_values([{'name': 'Pasta Carbonara', 'price': 15.99, 'description': 'Creamy pasta with bacon and parmesan'}, {'name': 'Chicken Caesar Salad', 'price': 12.5, 'description': 'Grilled chicken with romaine lettuce and Caesar dressing'}, {'name': 'Margherita Pizza', 'price': 14.0, 'description': 'Pizza topped with tomato, mozzarella, and basil'}])"
      ]
     },
     "execution_count": 94,
     "metadata": {},
     "output_type": "execute_result"
    }
   ],
   "source": [
    "restaurant_menu.values()"
   ]
  },
  {
   "cell_type": "code",
   "execution_count": 95,
   "id": "23a660fd-72f5-4df8-8e58-95a506a1c6fd",
   "metadata": {},
   "outputs": [
    {
     "data": {
      "text/plain": [
       "dict_items([('Dish1', {'name': 'Pasta Carbonara', 'price': 15.99, 'description': 'Creamy pasta with bacon and parmesan'}), ('Dish2', {'name': 'Chicken Caesar Salad', 'price': 12.5, 'description': 'Grilled chicken with romaine lettuce and Caesar dressing'}), ('Dish3', {'name': 'Margherita Pizza', 'price': 14.0, 'description': 'Pizza topped with tomato, mozzarella, and basil'})])"
      ]
     },
     "execution_count": 95,
     "metadata": {},
     "output_type": "execute_result"
    }
   ],
   "source": [
    "restaurant_menu.items()"
   ]
  },
  {
   "cell_type": "code",
   "execution_count": null,
   "id": "a9ed874b-23a2-4939-80ef-b05dd7e2f59e",
   "metadata": {},
   "outputs": [],
   "source": []
  }
 ],
 "metadata": {
  "kernelspec": {
   "display_name": "Python 3 (ipykernel)",
   "language": "python",
   "name": "python3"
  },
  "language_info": {
   "codemirror_mode": {
    "name": "ipython",
    "version": 3
   },
   "file_extension": ".py",
   "mimetype": "text/x-python",
   "name": "python",
   "nbconvert_exporter": "python",
   "pygments_lexer": "ipython3",
   "version": "3.10.8"
  }
 },
 "nbformat": 4,
 "nbformat_minor": 5
}
