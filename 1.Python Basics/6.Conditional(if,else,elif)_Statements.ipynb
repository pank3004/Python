{
  "cells": [
    {
      "cell_type": "markdown",
      "metadata": {
        "id": "0fHVkbJfdX3F"
      },
      "source": [
        "##'if' Statement"
      ]
    },
    {
      "cell_type": "code",
      "execution_count": 1,
      "metadata": {
        "colab": {
          "base_uri": "https://localhost:8080/"
        },
        "id": "VnxtGukEdJK4",
        "outputId": "bec4d2cd-d5e7-444b-c198-d35aee028809"
      },
      "outputs": [
        {
          "name": "stdout",
          "output_type": "stream",
          "text": [
            "You are on the right track!\n"
          ]
        }
      ],
      "source": [
        "course = \"DataScience\"\n",
        "if course == \"DataScience\":\n",
        "    print(\"You are on the right track!\")"
      ]
    },
    {
      "cell_type": "code",
      "execution_count": 2,
      "metadata": {
        "colab": {
          "base_uri": "https://localhost:8080/"
        },
        "id": "AX5wXpigdj1d",
        "outputId": "8d7e0e46-1cf9-4feb-9ba3-ecf276d375e5"
      },
      "outputs": [
        {
          "name": "stdout",
          "output_type": "stream",
          "text": [
            "Impressive PWskills!\n"
          ]
        }
      ],
      "source": [
        "PWskills_grades = 8\n",
        "if PWskills_grades >= 7:\n",
        "    print(\"Impressive PWskills!\")"
      ]
    },
    {
      "cell_type": "code",
      "execution_count": 3,
      "metadata": {
        "colab": {
          "base_uri": "https://localhost:8080/"
        },
        "id": "bbw1wxSldmFE",
        "outputId": "dbacf830-78ec-4984-b1e9-e02e4861d29f"
      },
      "outputs": [
        {
          "name": "stdout",
          "output_type": "stream",
          "text": [
            "You got an 'A' grade!\n"
          ]
        }
      ],
      "source": [
        "marks = 90\n",
        "if marks >= 90:\n",
        "    print(\"You got an 'A' grade!\")\n"
      ]
    },
    {
      "cell_type": "code",
      "execution_count": 4,
      "metadata": {
        "colab": {
          "base_uri": "https://localhost:8080/"
        },
        "id": "4_TcN4U1dnQT",
        "outputId": "933e3985-f0f0-4b77-e148-81ce07a31f54"
      },
      "outputs": [
        {
          "name": "stdout",
          "output_type": "stream",
          "text": [
            "The number is even.\n"
          ]
        }
      ],
      "source": [
        "number = 42\n",
        "if number % 2 == 0:\n",
        "    print(\"The number is even.\")"
      ]
    },
    {
      "cell_type": "code",
      "execution_count": 5,
      "metadata": {
        "colab": {
          "base_uri": "https://localhost:8080/"
        },
        "id": "9YrloPOXecGr",
        "outputId": "57a5d9bc-b158-45b5-c34a-af81eadf8968"
      },
      "outputs": [
        {
          "name": "stdout",
          "output_type": "stream",
          "text": [
            "It's a warm day.\n"
          ]
        }
      ],
      "source": [
        "temperature = 25\n",
        "if temperature > 20:\n",
        "    print(\"It's a warm day.\")\n"
      ]
    },
    {
      "cell_type": "code",
      "execution_count": 6,
      "metadata": {
        "colab": {
          "base_uri": "https://localhost:8080/"
        },
        "id": "mDUn71Q3ekI_",
        "outputId": "65b7a61f-6711-4b1f-88c7-27429c5cde71"
      },
      "outputs": [
        {
          "name": "stdout",
          "output_type": "stream",
          "text": [
            "You are an adult.\n"
          ]
        }
      ],
      "source": [
        "age = 18\n",
        "if age >= 18:\n",
        "    print(\"You are an adult.\")\n",
        "else:\n",
        "    print(\"You are not an adult.\")\n"
      ]
    },
    {
      "cell_type": "code",
      "execution_count": 7,
      "metadata": {
        "colab": {
          "base_uri": "https://localhost:8080/"
        },
        "id": "aiJN5-oZemtI",
        "outputId": "b98f94f6-2409-4922-dd49-58a197a08154"
      },
      "outputs": [
        {
          "name": "stdout",
          "output_type": "stream",
          "text": [
            "Congratulations, you passed!\n"
          ]
        }
      ],
      "source": [
        "score = 75\n",
        "passing_score = 70\n",
        "if score >= passing_score:\n",
        "    print(\"Congratulations, you passed!\")\n",
        "else:\n",
        "    if score >= passing_score - 5:\n",
        "        print(\"You almost passed.\")\n",
        "    else:\n",
        "        print(\"You didn't pass.\")\n"
      ]
    },
    {
      "cell_type": "markdown",
      "metadata": {
        "id": "MpHuCVy2d4lm"
      },
      "source": [
        "## 'if-elif-else' Statement"
      ]
    },
    {
      "cell_type": "code",
      "execution_count": 8,
      "metadata": {
        "colab": {
          "base_uri": "https://localhost:8080/"
        },
        "id": "1T8NKLDidoit",
        "outputId": "7790fd6e-f1b0-4018-bce2-9b29abfd091c"
      },
      "outputs": [
        {
          "name": "stdout",
          "output_type": "stream",
          "text": [
            "You are in PWskills's course.\n"
          ]
        }
      ],
      "source": [
        "course = \"DataScience\"\n",
        "if course == \"DataScience\":\n",
        "    print(\"You are in PWskills's course.\")\n",
        "elif course == \"Physics\":\n",
        "    print(\"You are in Physics Wallah's course.\")\n",
        "else:\n",
        "    print(\"You are not enrolled in any course.\")"
      ]
    },
    {
      "cell_type": "code",
      "execution_count": 9,
      "metadata": {
        "colab": {
          "base_uri": "https://localhost:8080/"
        },
        "id": "VaOY5cFEefjP",
        "outputId": "4b307e1e-a844-414b-866c-95f46f495e2d"
      },
      "outputs": [
        {
          "name": "stdout",
          "output_type": "stream",
          "text": [
            "You're doing well at Physics Wallah!\n"
          ]
        }
      ],
      "source": [
        "grades = 5\n",
        "\n",
        "if grades >= 7:\n",
        "    print(\"Impressive skills!\")\n",
        "elif grades >= 5:\n",
        "    print(\"You're doing well at Physics Wallah!\")\n",
        "else:\n",
        "    print(\"Keep working on your skills.\")"
      ]
    },
    {
      "cell_type": "code",
      "execution_count": 10,
      "metadata": {
        "colab": {
          "base_uri": "https://localhost:8080/"
        },
        "id": "w4bDhYMMfHrL",
        "outputId": "bca6c051-b9a1-43ed-af40-a73a8fddf6cd"
      },
      "outputs": [
        {
          "name": "stdout",
          "output_type": "stream",
          "text": [
            "You got a grade lower than 'B'.\n"
          ]
        }
      ],
      "source": [
        "marks = 75\n",
        "if marks >= 90:\n",
        "    print(\"You got an 'A' grade!\")\n",
        "elif marks >= 80:\n",
        "    print(\"You got a 'B' grade.\")\n",
        "else:\n",
        "    print(\"You got a grade lower than 'B'.\")"
      ]
    },
    {
      "cell_type": "code",
      "execution_count": 11,
      "metadata": {
        "colab": {
          "base_uri": "https://localhost:8080/"
        },
        "id": "-HSmPHcYer6W",
        "outputId": "2895b61a-90e5-4145-bd0d-7ce455f8830f"
      },
      "outputs": [
        {
          "name": "stdout",
          "output_type": "stream",
          "text": [
            "Excellent!\n"
          ]
        }
      ],
      "source": [
        "grade = \"A\"\n",
        "if grade == \"A\":\n",
        "    print(\"Excellent!\")\n",
        "elif grade == \"B\":\n",
        "    print(\"Good job.\")\n",
        "else:\n",
        "    print(\"Try harder.\")\n"
      ]
    },
    {
      "cell_type": "code",
      "execution_count": 12,
      "metadata": {
        "colab": {
          "base_uri": "https://localhost:8080/"
        },
        "id": "yXoC4BDtevVM",
        "outputId": "e0d1bbd7-8775-44ab-f3ff-9f0e2f1d2169"
      },
      "outputs": [
        {
          "name": "stdout",
          "output_type": "stream",
          "text": [
            "Zero\n"
          ]
        }
      ],
      "source": [
        "num = 0\n",
        "if num > 0:\n",
        "    print(\"Positive\")\n",
        "elif num < 0:\n",
        "    print(\"Negative\")\n",
        "else:\n",
        "    print(\"Zero\")\n"
      ]
    },
    {
      "cell_type": "code",
      "execution_count": 13,
      "metadata": {
        "colab": {
          "base_uri": "https://localhost:8080/"
        },
        "id": "ThcXeqw7eyLG",
        "outputId": "1843d75d-0c01-4448-ebe6-81796c89c9d1"
      },
      "outputs": [
        {
          "name": "stdout",
          "output_type": "stream",
          "text": [
            "You are an adult.\n"
          ]
        }
      ],
      "source": [
        "age = 30\n",
        "if age < 18:\n",
        "    print(\"You are a minor.\")\n",
        "elif 18 <= age < 65:\n",
        "    print(\"You are an adult.\")\n",
        "else:\n",
        "    print(\"You are a senior citizen.\")\n"
      ]
    },
    {
      "cell_type": "markdown",
      "metadata": {
        "id": "9mU2DuiHfeqE"
      },
      "source": [
        "## 'if-else' Statement"
      ]
    },
    {
      "cell_type": "code",
      "execution_count": null,
      "metadata": {
        "id": "Qd6w23Rceufw"
      },
      "outputs": [],
      "source": []
    },
    {
      "cell_type": "code",
      "execution_count": 14,
      "metadata": {
        "colab": {
          "base_uri": "https://localhost:8080/"
        },
        "id": "9zqZP2dHfUmS",
        "outputId": "a919ac86-0973-4ccd-8655-4d3aceb810e7"
      },
      "outputs": [
        {
          "name": "stdout",
          "output_type": "stream",
          "text": [
            "You are studying Data Science.\n"
          ]
        }
      ],
      "source": [
        "course = \"DataScience\"\n",
        "\n",
        "if course == \"DataScience\":\n",
        "    print(\"You are studying Data Science.\")\n",
        "else:\n",
        "    print(\"You are not in the Data Science course.\")"
      ]
    },
    {
      "cell_type": "code",
      "execution_count": 15,
      "metadata": {
        "colab": {
          "base_uri": "https://localhost:8080/"
        },
        "id": "jq-kwyxzfyfX",
        "outputId": "1140a319-e178-4ece-d9c7-a2ee23a541d9"
      },
      "outputs": [
        {
          "name": "stdout",
          "output_type": "stream",
          "text": [
            "Impressive PWskills!\n"
          ]
        }
      ],
      "source": [
        "PWskills_grades = 8\n",
        "\n",
        "if PWskills_grades >= 7:\n",
        "    print(\"Impressive PWskills!\")\n",
        "else:\n",
        "    print(\"You're making progress at Physics Wallah!\")"
      ]
    },
    {
      "cell_type": "code",
      "execution_count": 16,
      "metadata": {
        "colab": {
          "base_uri": "https://localhost:8080/"
        },
        "id": "6pilmwh6e39z",
        "outputId": "d81b31a1-1ad8-4850-842a-9489112a2db5"
      },
      "outputs": [
        {
          "name": "stdout",
          "output_type": "stream",
          "text": [
            "Take an umbrella.\n"
          ]
        }
      ],
      "source": [
        "is_raining = True\n",
        "if is_raining:\n",
        "    print(\"Take an umbrella.\")\n",
        "else:\n",
        "    print(\"Enjoy the sunshine.\")\n"
      ]
    },
    {
      "cell_type": "code",
      "execution_count": 17,
      "metadata": {
        "colab": {
          "base_uri": "https://localhost:8080/"
        },
        "id": "BprjmALke6CE",
        "outputId": "4daa785d-fec5-4013-a4f2-bd16a99f3bad"
      },
      "outputs": [
        {
          "name": "stdout",
          "output_type": "stream",
          "text": [
            "Odd\n"
          ]
        }
      ],
      "source": [
        "num = 7\n",
        "if num % 2 == 0:\n",
        "    print(\"Even\")\n",
        "else:\n",
        "    print(\"Odd\")\n"
      ]
    },
    {
      "cell_type": "code",
      "execution_count": 18,
      "metadata": {
        "colab": {
          "base_uri": "https://localhost:8080/"
        },
        "id": "_qenET_se9cv",
        "outputId": "e71b18b7-54eb-4d11-e1dd-01c01fa39f8f"
      },
      "outputs": [
        {
          "name": "stdout",
          "output_type": "stream",
          "text": [
            "You Pass.\n"
          ]
        }
      ],
      "source": [
        "score = 85\n",
        "result = \"Pass\" if score >= 70 else \"Fail\"\n",
        "print(f\"You {result}.\")\n"
      ]
    },
    {
      "cell_type": "markdown",
      "metadata": {
        "id": "2uCzKeDUf-fN"
      },
      "source": [
        "## Nested 'if-else' Statement"
      ]
    },
    {
      "cell_type": "code",
      "execution_count": 19,
      "metadata": {
        "colab": {
          "base_uri": "https://localhost:8080/"
        },
        "id": "0NrqpCZIf5pZ",
        "outputId": "77e12451-b293-4f87-b387-363fa3996b1b"
      },
      "outputs": [
        {
          "name": "stdout",
          "output_type": "stream",
          "text": [
            "Impressive skills in Data Science at PWskills!\n"
          ]
        }
      ],
      "source": [
        "course = \"DataScience\"\n",
        "\n",
        "grades = 7\n",
        "if course == \"DataScience\":\n",
        "    if grades >= 7:\n",
        "        print(\"Impressive skills in Data Science at PWskills!\")"
      ]
    },
    {
      "cell_type": "code",
      "execution_count": 20,
      "metadata": {
        "colab": {
          "base_uri": "https://localhost:8080/"
        },
        "id": "uQpLgAhOgj97",
        "outputId": "9461e0e4-e479-43f9-de79-5cccbe4ca1a9"
      },
      "outputs": [
        {
          "name": "stdout",
          "output_type": "stream",
          "text": [
            "You got a 'B' grade.\n"
          ]
        }
      ],
      "source": [
        "marks = 88\n",
        "if marks >= 80:\n",
        "    if marks >= 90:\n",
        "        print(\"You got an 'A' grade!\")\n",
        "    else:\n",
        "        print(\"You got a 'B' grade.\")"
      ]
    },
    {
      "cell_type": "code",
      "execution_count": 21,
      "metadata": {
        "colab": {
          "base_uri": "https://localhost:8080/"
        },
        "id": "9JfKuPF5gwL6",
        "outputId": "8ca99532-4bf8-4f12-f4de-91d5cb793ce6"
      },
      "outputs": [
        {
          "name": "stdout",
          "output_type": "stream",
          "text": [
            "It's a workday.\n"
          ]
        }
      ],
      "source": [
        "is_weekend = False\n",
        "is_sunny = True\n",
        "\n",
        "if is_weekend:\n",
        "    if is_sunny:\n",
        "        print(\"Go for a picnic.\")\n",
        "    else:\n",
        "        print(\"Stay in and relax.\")\n",
        "else:\n",
        "    print(\"It's a workday.\")\n"
      ]
    },
    {
      "cell_type": "code",
      "execution_count": 22,
      "metadata": {
        "colab": {
          "base_uri": "https://localhost:8080/"
        },
        "id": "qhN4dOePfQGI",
        "outputId": "b09a0f00-5a38-440c-a63b-2733fa17923d"
      },
      "outputs": [
        {
          "name": "stdout",
          "output_type": "stream",
          "text": [
            "You are a student but not a teacher.\n"
          ]
        }
      ],
      "source": [
        "is_student = True\n",
        "is_teacher = False\n",
        "\n",
        "if is_student:\n",
        "    if is_teacher:\n",
        "        print(\"You are both a student and a teacher.\")\n",
        "    else:\n",
        "        print(\"You are a student but not a teacher.\")\n",
        "else:\n",
        "    if is_teacher:\n",
        "        print(\"You are a teacher but not a student.\")\n",
        "    else:\n",
        "        print(\"You are neither a student nor a teacher.\")\n"
      ]
    },
    {
      "cell_type": "code",
      "execution_count": 23,
      "metadata": {
        "colab": {
          "base_uri": "https://localhost:8080/"
        },
        "id": "D1OKxa93fRxj",
        "outputId": "1ae9011c-1c4d-44e5-d057-cc976efeccd6"
      },
      "outputs": [
        {
          "name": "stdout",
          "output_type": "stream",
          "text": [
            "Welcome, VIP customer!\n"
          ]
        }
      ],
      "source": [
        "is_vip = True\n",
        "age = 30\n",
        "\n",
        "if is_vip:\n",
        "    if age >= 18:\n",
        "        if age < 65:\n",
        "            print(\"Welcome, VIP customer!\")\n",
        "        else:\n",
        "            print(\"You're a VIP, but you qualify for senior discounts.\")\n",
        "    else:\n",
        "        print(\"VIP status is for adults only.\")\n",
        "else:\n",
        "    print(\"Regular pricing applies.\")\n"
      ]
    },
    {
      "cell_type": "code",
      "execution_count": 28,
      "metadata": {
        "id": "OrAZTrhifUj2"
      },
      "outputs": [
        {
          "name": "stdout",
          "output_type": "stream",
          "text": [
            "not a valid gmail id\n"
          ]
        }
      ],
      "source": [
        "email='pankajkumarewpk2004gmail.com'\n",
        "if '@' not in  email:\n",
        "    print(\"not a valid gmail id\")\n",
        "else: \n",
        "    print(\"this is a valid gmail id\")"
      ]
    },
    {
      "cell_type": "code",
      "execution_count": 29,
      "metadata": {},
      "outputs": [
        {
          "name": "stdout",
          "output_type": "stream",
          "text": [
            "student at arya college: \n"
          ]
        }
      ],
      "source": [
        "is_student=True\n",
        "if is_student: \n",
        "    print(\"student at arya college: \")\n",
        "else: \n",
        "    print(\"not student\")"
      ]
    },
    {
      "cell_type": "code",
      "execution_count": null,
      "metadata": {},
      "outputs": [],
      "source": []
    }
  ],
  "metadata": {
    "colab": {
      "provenance": []
    },
    "kernelspec": {
      "display_name": "Python 3",
      "name": "python3"
    },
    "language_info": {
      "codemirror_mode": {
        "name": "ipython",
        "version": 3
      },
      "file_extension": ".py",
      "mimetype": "text/x-python",
      "name": "python",
      "nbconvert_exporter": "python",
      "pygments_lexer": "ipython3",
      "version": "3.11.8"
    }
  },
  "nbformat": 4,
  "nbformat_minor": 0
}
