{
  "cells": [
    {
      "cell_type": "markdown",
      "metadata": {
        "id": "9SNdBHKhK-XG"
      },
      "source": [
        "## 1. Converting to Integer (int())"
      ]
    },
    {
      "cell_type": "code",
      "execution_count": 1,
      "metadata": {
        "colab": {
          "base_uri": "https://localhost:8080/"
        },
        "id": "EMHkLZ9JKqrY",
        "outputId": "1ae98516-f5c3-4ccd-824c-e9cf67049d6a"
      },
      "outputs": [
        {
          "name": "stdout",
          "output_type": "stream",
          "text": [
            "10\n"
          ]
        }
      ],
      "source": [
        "# Convert a float to an integer\n",
        "float_num = 10.5\n",
        "int_num = int(float_num)\n",
        "print(int_num)\n",
        "\n"
      ]
    },
    {
      "cell_type": "code",
      "execution_count": 2,
      "metadata": {
        "colab": {
          "base_uri": "https://localhost:8080/"
        },
        "id": "KouISH1mMNsd",
        "outputId": "7f2dd647-0f28-42f7-a543-152b49aeca68"
      },
      "outputs": [
        {
          "data": {
            "text/plain": [
              "int"
            ]
          },
          "execution_count": 2,
          "metadata": {},
          "output_type": "execute_result"
        }
      ],
      "source": [
        "type(int_num)"
      ]
    },
    {
      "cell_type": "code",
      "execution_count": 3,
      "metadata": {
        "colab": {
          "base_uri": "https://localhost:8080/"
        },
        "id": "M-mMney4LKRI",
        "outputId": "d7070308-93c7-4e93-c2d0-707eed2bc5e8"
      },
      "outputs": [
        {
          "name": "stdout",
          "output_type": "stream",
          "text": [
            "42\n"
          ]
        }
      ],
      "source": [
        "# Convert a string to an integer\n",
        "str_num = \"42\"\n",
        "int_str = int(str_num)\n",
        "print(int_str)\n"
      ]
    },
    {
      "cell_type": "code",
      "execution_count": 4,
      "metadata": {
        "colab": {
          "base_uri": "https://localhost:8080/"
        },
        "id": "3wv2VeKZMQZF",
        "outputId": "42698714-68e0-4961-ed39-7aa7b14cdfe6"
      },
      "outputs": [
        {
          "data": {
            "text/plain": [
              "int"
            ]
          },
          "execution_count": 4,
          "metadata": {},
          "output_type": "execute_result"
        }
      ],
      "source": [
        "type(int_num)"
      ]
    },
    {
      "cell_type": "markdown",
      "metadata": {
        "id": "mq6PUA4WLP3N"
      },
      "source": [
        "## 2. Converting to Float (float())"
      ]
    },
    {
      "cell_type": "code",
      "execution_count": 5,
      "metadata": {
        "colab": {
          "base_uri": "https://localhost:8080/"
        },
        "id": "6SPotmElLM0F",
        "outputId": "9a1e9a4a-bea9-4df4-cd58-1fea49e89660"
      },
      "outputs": [
        {
          "name": "stdout",
          "output_type": "stream",
          "text": [
            "34.0\n"
          ]
        }
      ],
      "source": [
        "# Convert an integer to a float\n",
        "int_num = 34\n",
        "float_num = float(int_num)\n",
        "print(float_num)"
      ]
    },
    {
      "cell_type": "code",
      "execution_count": 6,
      "metadata": {
        "colab": {
          "base_uri": "https://localhost:8080/"
        },
        "id": "iIrEcrPGME_l",
        "outputId": "a00b486f-35ab-43f1-fd48-14cf4b65aeea"
      },
      "outputs": [
        {
          "data": {
            "text/plain": [
              "float"
            ]
          },
          "execution_count": 6,
          "metadata": {},
          "output_type": "execute_result"
        }
      ],
      "source": [
        "type(float_num)"
      ]
    },
    {
      "cell_type": "code",
      "execution_count": 7,
      "metadata": {
        "colab": {
          "base_uri": "https://localhost:8080/"
        },
        "id": "ZrOAJAqRLcsu",
        "outputId": "e58e9150-93cf-43a6-a436-d2612ea75ef8"
      },
      "outputs": [
        {
          "name": "stdout",
          "output_type": "stream",
          "text": [
            "2.12\n"
          ]
        }
      ],
      "source": [
        "# Convert a string to a float\n",
        "str_num = \"2.12\"\n",
        "float_str = float(str_num)\n",
        "print(float_str)"
      ]
    },
    {
      "cell_type": "code",
      "execution_count": 8,
      "metadata": {
        "colab": {
          "base_uri": "https://localhost:8080/"
        },
        "id": "yu1aj9VcMI58",
        "outputId": "c2b5d87b-f9c4-48f4-dfeb-45b99db4bdec"
      },
      "outputs": [
        {
          "data": {
            "text/plain": [
              "float"
            ]
          },
          "execution_count": 8,
          "metadata": {},
          "output_type": "execute_result"
        }
      ],
      "source": [
        "type(float_num)"
      ]
    },
    {
      "cell_type": "markdown",
      "metadata": {
        "id": "uR4JlDr-Ljw-"
      },
      "source": [
        "## 3. Converting to String (str())"
      ]
    },
    {
      "cell_type": "code",
      "execution_count": 9,
      "metadata": {
        "colab": {
          "base_uri": "https://localhost:8080/"
        },
        "id": "vgSlGA-ULiS1",
        "outputId": "d06fb33e-e343-4ee5-c8a7-80c2d9b5bdc7"
      },
      "outputs": [
        {
          "name": "stdout",
          "output_type": "stream",
          "text": [
            "32\n"
          ]
        }
      ],
      "source": [
        "# Convert an integer to a string\n",
        "int_num = 32\n",
        "str_num = str(int_num)\n",
        "print(str_num)\n"
      ]
    },
    {
      "cell_type": "code",
      "execution_count": 10,
      "metadata": {
        "colab": {
          "base_uri": "https://localhost:8080/"
        },
        "id": "M2oeqNKiL9sg",
        "outputId": "03df0870-93ec-4a78-b30f-b7e042413b19"
      },
      "outputs": [
        {
          "data": {
            "text/plain": [
              "str"
            ]
          },
          "execution_count": 10,
          "metadata": {},
          "output_type": "execute_result"
        }
      ],
      "source": [
        "type(str_num)"
      ]
    },
    {
      "cell_type": "code",
      "execution_count": 11,
      "metadata": {
        "colab": {
          "base_uri": "https://localhost:8080/"
        },
        "id": "tPvsc15wLszF",
        "outputId": "608be727-90f1-4549-9435-4d0ddf4c7ed6"
      },
      "outputs": [
        {
          "name": "stdout",
          "output_type": "stream",
          "text": [
            "2.89\n"
          ]
        }
      ],
      "source": [
        "# Convert a float to a string\n",
        "float_num = 2.89\n",
        "str_num = str(float_num)\n",
        "print(str_num)"
      ]
    },
    {
      "cell_type": "code",
      "execution_count": 12,
      "metadata": {
        "colab": {
          "base_uri": "https://localhost:8080/"
        },
        "id": "LkbNyC-aL3PV",
        "outputId": "62d14c3f-63e5-4f39-f38f-2b21d1be2cce"
      },
      "outputs": [
        {
          "data": {
            "text/plain": [
              "str"
            ]
          },
          "execution_count": 12,
          "metadata": {},
          "output_type": "execute_result"
        }
      ],
      "source": [
        "type(str_num)"
      ]
    },
    {
      "cell_type": "markdown",
      "metadata": {
        "id": "8bRT13CDMTzl"
      },
      "source": [
        "## 4. Converting to Boolean (bool())"
      ]
    },
    {
      "cell_type": "code",
      "execution_count": 13,
      "metadata": {
        "colab": {
          "base_uri": "https://localhost:8080/"
        },
        "id": "SIQMZLcOMTed",
        "outputId": "c27cfa73-4b3c-44d1-9163-ba179ca17dd1"
      },
      "outputs": [
        {
          "name": "stdout",
          "output_type": "stream",
          "text": [
            "False\n"
          ]
        }
      ],
      "source": [
        "# Convert an integer to a boolean\n",
        "int_num = 0\n",
        "bool_num = bool(int_num)\n",
        "print(bool_num)"
      ]
    },
    {
      "cell_type": "code",
      "execution_count": 14,
      "metadata": {
        "colab": {
          "base_uri": "https://localhost:8080/"
        },
        "id": "TSs7E8PJMjH0",
        "outputId": "5939b4eb-d3de-4a3d-e764-d8c10d1a5a05"
      },
      "outputs": [
        {
          "name": "stdout",
          "output_type": "stream",
          "text": [
            "True\n"
          ]
        }
      ],
      "source": [
        "# Convert a non-empty string to a boolean\n",
        "non_empty_str = \"PWskills\"\n",
        "bool_str = bool(non_empty_str)\n",
        "print(bool_str)"
      ]
    },
    {
      "cell_type": "code",
      "execution_count": 15,
      "metadata": {
        "colab": {
          "base_uri": "https://localhost:8080/"
        },
        "id": "JmkYCrp3Mmfs",
        "outputId": "f92c7841-d57d-4cd9-add7-3924a05b2285"
      },
      "outputs": [
        {
          "name": "stdout",
          "output_type": "stream",
          "text": [
            "False\n"
          ]
        }
      ],
      "source": [
        "# Convert an empty string to a boolean\n",
        "empty_str = \"\"\n",
        "bool_empty_str = bool(empty_str)\n",
        "print(bool_empty_str)"
      ]
    },
    {
      "cell_type": "code",
      "execution_count": null,
      "metadata": {
        "id": "yH8M4JE2MqAE"
      },
      "outputs": [],
      "source": []
    }
  ],
  "metadata": {
    "colab": {
      "provenance": []
    },
    "kernelspec": {
      "display_name": "Python 3",
      "name": "python3"
    },
    "language_info": {
      "codemirror_mode": {
        "name": "ipython",
        "version": 3
      },
      "file_extension": ".py",
      "mimetype": "text/x-python",
      "name": "python",
      "nbconvert_exporter": "python",
      "pygments_lexer": "ipython3",
      "version": "3.11.8"
    }
  },
  "nbformat": 4,
  "nbformat_minor": 0
}
