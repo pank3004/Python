{
  "cells": [
    {
      "cell_type": "markdown",
      "metadata": {
        "id": "sqjsNah07fKH"
      },
      "source": [
        "Python is an object-oriented programming language, which means it deals with objects. Everything in Python is an object, including numbers, strings, lists, and even functions. Objects have attributes and methods associated with them.\n",
        "\n",
        "**Numbers:**\n",
        "\n",
        "Python supports various types of numbers, including integers, floating-point numbers, and complex numbers.\n",
        "\n",
        "- Integer:\n",
        "\n",
        "\n",
        "Represents integers (whole numbers)."
      ]
    },
    {
      "cell_type": "code",
      "execution_count": 490,
      "metadata": {
        "colab": {
          "base_uri": "https://localhost:8080/"
        },
        "id": "W07Yt5o27eSo",
        "outputId": "363d796d-82d9-4394-d34b-366836abf87a"
      },
      "outputs": [
        {
          "name": "stdout",
          "output_type": "stream",
          "text": [
            "42\n",
            "<class 'int'>\n",
            "140703858448456\n"
          ]
        }
      ],
      "source": [
        "num_int = 42\n",
        "print(num_int)\n",
        "print(type(num_int))\n",
        "print(id(num_int))           # address where num_int occupied the memory in the main memory"
      ]
    },
    {
      "cell_type": "markdown",
      "metadata": {
        "id": "-7u9vgzE77gW"
      },
      "source": [
        "- Float"
      ]
    },
    {
      "cell_type": "code",
      "execution_count": 491,
      "metadata": {
        "colab": {
          "base_uri": "https://localhost:8080/"
        },
        "id": "ZONpB5eQ75eo",
        "outputId": "0c3d5163-f848-46d0-fa21-a2295e145052"
      },
      "outputs": [
        {
          "name": "stdout",
          "output_type": "stream",
          "text": [
            "3.14\n",
            "<class 'float'>\n"
          ]
        }
      ],
      "source": [
        "num_int_error = 3.14\n",
        "print(num_int_error)\n",
        "print(type(num_int_error))"
      ]
    },
    {
      "cell_type": "markdown",
      "metadata": {
        "id": "BSFnBVfnAgJp"
      },
      "source": [
        "- Complex"
      ]
    },
    {
      "cell_type": "code",
      "execution_count": 492,
      "metadata": {
        "colab": {
          "base_uri": "https://localhost:8080/"
        },
        "id": "YryT8h3_7_yZ",
        "outputId": "74fbe4ac-78fd-4ecf-e86b-eec08eb27bb8"
      },
      "outputs": [
        {
          "name": "stdout",
          "output_type": "stream",
          "text": [
            "(2+3j)\n",
            "<class 'complex'>\n"
          ]
        }
      ],
      "source": [
        "num_complex = 2 + 3j\n",
        "print(num_complex)  #\n",
        "print(type(num_complex))"
      ]
    },
    {
      "cell_type": "markdown",
      "metadata": {},
      "source": [
        "**String**"
      ]
    },
    {
      "cell_type": "code",
      "execution_count": 493,
      "metadata": {},
      "outputs": [],
      "source": [
        "name=\"pankajKumawat\""
      ]
    },
    {
      "cell_type": "code",
      "execution_count": 494,
      "metadata": {},
      "outputs": [
        {
          "data": {
            "text/plain": [
              "str"
            ]
          },
          "execution_count": 494,
          "metadata": {},
          "output_type": "execute_result"
        }
      ],
      "source": [
        "type(name)"
      ]
    },
    {
      "cell_type": "code",
      "execution_count": 495,
      "metadata": {},
      "outputs": [
        {
          "data": {
            "text/plain": [
              "13"
            ]
          },
          "execution_count": 495,
          "metadata": {},
          "output_type": "execute_result"
        }
      ],
      "source": [
        "len(name)"
      ]
    },
    {
      "cell_type": "code",
      "execution_count": 496,
      "metadata": {},
      "outputs": [
        {
          "data": {
            "text/plain": [
              "'Pankajkumawat'"
            ]
          },
          "execution_count": 496,
          "metadata": {},
          "output_type": "execute_result"
        }
      ],
      "source": [
        "name.capitalize()      # first latter capital"
      ]
    },
    {
      "cell_type": "code",
      "execution_count": 497,
      "metadata": {},
      "outputs": [
        {
          "data": {
            "text/plain": [
              "'PANKAJKUMAWAT'"
            ]
          },
          "execution_count": 497,
          "metadata": {},
          "output_type": "execute_result"
        }
      ],
      "source": [
        "name.upper()"
      ]
    },
    {
      "cell_type": "code",
      "execution_count": 498,
      "metadata": {},
      "outputs": [
        {
          "data": {
            "text/plain": [
              "'pankajkumawat'"
            ]
          },
          "execution_count": 498,
          "metadata": {},
          "output_type": "execute_result"
        }
      ],
      "source": [
        "name.lower()"
      ]
    },
    {
      "cell_type": "code",
      "execution_count": 499,
      "metadata": {},
      "outputs": [
        {
          "data": {
            "text/plain": [
              "'pankajKumawat'"
            ]
          },
          "execution_count": 499,
          "metadata": {},
          "output_type": "execute_result"
        }
      ],
      "source": [
        "name"
      ]
    },
    {
      "cell_type": "code",
      "execution_count": 500,
      "metadata": {},
      "outputs": [
        {
          "data": {
            "text/plain": [
              "3"
            ]
          },
          "execution_count": 500,
          "metadata": {},
          "output_type": "execute_result"
        }
      ],
      "source": [
        "name.find('k')    # Return the lowest index in string where substring sub is found,"
      ]
    },
    {
      "cell_type": "code",
      "execution_count": 501,
      "metadata": {},
      "outputs": [
        {
          "data": {
            "text/plain": [
              "2"
            ]
          },
          "execution_count": 501,
          "metadata": {},
          "output_type": "execute_result"
        }
      ],
      "source": [
        "name.find('nk')"
      ]
    },
    {
      "cell_type": "code",
      "execution_count": 502,
      "metadata": {},
      "outputs": [
        {
          "data": {
            "text/plain": [
              "1"
            ]
          },
          "execution_count": 502,
          "metadata": {},
          "output_type": "execute_result"
        }
      ],
      "source": [
        "name.index('a')   #(same as find)Return the lowest index in string where substring sub is found,"
      ]
    },
    {
      "cell_type": "code",
      "execution_count": 503,
      "metadata": {},
      "outputs": [
        {
          "data": {
            "text/plain": [
              "False"
            ]
          },
          "execution_count": 503,
          "metadata": {},
          "output_type": "execute_result"
        }
      ],
      "source": [
        "name.islower()"
      ]
    },
    {
      "cell_type": "code",
      "execution_count": 504,
      "metadata": {},
      "outputs": [
        {
          "data": {
            "text/plain": [
              "False"
            ]
          },
          "execution_count": 504,
          "metadata": {},
          "output_type": "execute_result"
        }
      ],
      "source": [
        "name.isupper()"
      ]
    },
    {
      "cell_type": "code",
      "execution_count": 505,
      "metadata": {},
      "outputs": [
        {
          "data": {
            "text/plain": [
              "'panka'"
            ]
          },
          "execution_count": 505,
          "metadata": {},
          "output_type": "execute_result"
        }
      ],
      "source": [
        "name[0:5]       # index =>   0,1,2,3,4            [0 to 5-1]"
      ]
    },
    {
      "cell_type": "code",
      "execution_count": 506,
      "metadata": {},
      "outputs": [
        {
          "data": {
            "text/plain": [
              "'pankajKumawat'"
            ]
          },
          "execution_count": 506,
          "metadata": {},
          "output_type": "execute_result"
        }
      ],
      "source": [
        "name"
      ]
    },
    {
      "cell_type": "code",
      "execution_count": 507,
      "metadata": {},
      "outputs": [
        {
          "data": {
            "text/plain": [
              "'ka'"
            ]
          },
          "execution_count": 507,
          "metadata": {},
          "output_type": "execute_result"
        }
      ],
      "source": [
        "name[3:5]"
      ]
    },
    {
      "cell_type": "code",
      "execution_count": 508,
      "metadata": {},
      "outputs": [
        {
          "data": {
            "text/plain": [
              "'pnaKmwt'"
            ]
          },
          "execution_count": 508,
          "metadata": {},
          "output_type": "execute_result"
        }
      ],
      "source": [
        "name[0:13:2]    ##   [start:end:gap]"
      ]
    },
    {
      "cell_type": "code",
      "execution_count": 509,
      "metadata": {},
      "outputs": [
        {
          "data": {
            "text/plain": [
              "'pankajKumawat'"
            ]
          },
          "execution_count": 509,
          "metadata": {},
          "output_type": "execute_result"
        }
      ],
      "source": [
        "name[:]         ## 0 to end"
      ]
    },
    {
      "cell_type": "code",
      "execution_count": 510,
      "metadata": {},
      "outputs": [
        {
          "data": {
            "text/plain": [
              "'t'"
            ]
          },
          "execution_count": 510,
          "metadata": {},
          "output_type": "execute_result"
        }
      ],
      "source": [
        "name[-1]          # end index"
      ]
    },
    {
      "cell_type": "code",
      "execution_count": 511,
      "metadata": {},
      "outputs": [
        {
          "data": {
            "text/plain": [
              "'p'"
            ]
          },
          "execution_count": 511,
          "metadata": {},
          "output_type": "execute_result"
        }
      ],
      "source": [
        "name[-13]"
      ]
    },
    {
      "cell_type": "code",
      "execution_count": 512,
      "metadata": {},
      "outputs": [
        {
          "data": {
            "text/plain": [
              "'pankajKumawa'"
            ]
          },
          "execution_count": 512,
          "metadata": {},
          "output_type": "execute_result"
        }
      ],
      "source": [
        "name[-13:-1]                ## -13 to (-1)-1=-2"
      ]
    },
    {
      "cell_type": "code",
      "execution_count": 513,
      "metadata": {},
      "outputs": [
        {
          "data": {
            "text/plain": [
              "'\\n p   a   n   k   a   j   K   u   m   a   w   a   t   <- characters\\n-13 -12 -11 -10 -9  -8  -7  -6  -5  -4  -3  -2  -1   <- negative indices\\n 0   1   2   3   4   5   6   7   8   9   10  11  12  <- positive indices\\n\\n'"
            ]
          },
          "execution_count": 513,
          "metadata": {},
          "output_type": "execute_result"
        }
      ],
      "source": [
        "\"\"\"\n",
        " p   a   n   k   a   j   K   u   m   a   w   a   t   <- characters\n",
        "-13 -12 -11 -10 -9  -8  -7  -6  -5  -4  -3  -2  -1   <- negative indices\n",
        " 0   1   2   3   4   5   6   7   8   9   10  11  12  <- positive indices\n",
        "\n",
        "\"\"\""
      ]
    },
    {
      "cell_type": "code",
      "execution_count": 514,
      "metadata": {},
      "outputs": [
        {
          "data": {
            "text/plain": [
              "('p', 'p')"
            ]
          },
          "execution_count": 514,
          "metadata": {},
          "output_type": "execute_result"
        }
      ],
      "source": [
        "name[-13], name[0]"
      ]
    },
    {
      "cell_type": "code",
      "execution_count": 515,
      "metadata": {},
      "outputs": [
        {
          "data": {
            "text/plain": [
              "''"
            ]
          },
          "execution_count": 515,
          "metadata": {},
          "output_type": "execute_result"
        }
      ],
      "source": [
        "name[-13:0] # this will be empty string  because -13 and 0 points to the same location"
      ]
    },
    {
      "cell_type": "code",
      "execution_count": 516,
      "metadata": {},
      "outputs": [
        {
          "data": {
            "text/plain": [
              "'p'"
            ]
          },
          "execution_count": 516,
          "metadata": {},
          "output_type": "execute_result"
        }
      ],
      "source": [
        "name[-13:1]"
      ]
    },
    {
      "cell_type": "code",
      "execution_count": 517,
      "metadata": {},
      "outputs": [
        {
          "data": {
            "text/plain": [
              "'pankajKumawa'"
            ]
          },
          "execution_count": 517,
          "metadata": {},
          "output_type": "execute_result"
        }
      ],
      "source": [
        "name[:-1]"
      ]
    },
    {
      "cell_type": "code",
      "execution_count": 518,
      "metadata": {},
      "outputs": [
        {
          "data": {
            "text/plain": [
              "'pankajKumawat'"
            ]
          },
          "execution_count": 518,
          "metadata": {},
          "output_type": "execute_result"
        }
      ],
      "source": [
        "name[-13:]"
      ]
    },
    {
      "cell_type": "markdown",
      "metadata": {
        "id": "7mrjWT2smQ0E"
      },
      "source": [
        "**Bool**: Booleans represent truth values, either `True` or `False`.\n"
      ]
    },
    {
      "cell_type": "code",
      "execution_count": 519,
      "metadata": {
        "colab": {
          "base_uri": "https://localhost:8080/"
        },
        "id": "0FoVjTW7mKJ4",
        "outputId": "53698329-d048-4297-c03c-08301bd54c5c"
      },
      "outputs": [
        {
          "name": "stdout",
          "output_type": "stream",
          "text": [
            "True\n",
            "<class 'bool'>\n"
          ]
        }
      ],
      "source": [
        "bool_true = True\n",
        "print(bool_true)\n",
        "print(type(bool_true))\n"
      ]
    },
    {
      "cell_type": "code",
      "execution_count": 520,
      "metadata": {
        "colab": {
          "base_uri": "https://localhost:8080/"
        },
        "id": "c6eIjMdbmVme",
        "outputId": "e8a7fb9f-cebd-4462-b85e-a0309c592413"
      },
      "outputs": [
        {
          "name": "stdout",
          "output_type": "stream",
          "text": [
            "False\n",
            "<class 'bool'>\n"
          ]
        }
      ],
      "source": [
        "bool_false = False\n",
        "print(bool_false)\n",
        "print(type(bool_false))"
      ]
    },
    {
      "cell_type": "markdown",
      "metadata": {
        "id": "pNGUKTXOmho6"
      },
      "source": [
        "**Set**:\n",
        "\n",
        "A set is an unordered collection of unique elements. Sets are mutable, meaning they can be modified after creation, but they cannot contain duplicate elements."
      ]
    },
    {
      "cell_type": "code",
      "execution_count": 548,
      "metadata": {
        "colab": {
          "base_uri": "https://localhost:8080/"
        },
        "id": "bI_VWnypmc9Z",
        "outputId": "65fe0c8f-c930-4b26-fa7e-9db6bff6675b"
      },
      "outputs": [
        {
          "name": "stdout",
          "output_type": "stream",
          "text": [
            "{1, 3, 5, 22, 14}\n",
            "<class 'set'>\n"
          ]
        }
      ],
      "source": [
        "my_set = {1, 22, 3, 14, 5}\n",
        "print(my_set)\n",
        "print(type(my_set))"
      ]
    },
    {
      "cell_type": "markdown",
      "metadata": {},
      "source": [
        "**Dictionary:**"
      ]
    },
    {
      "cell_type": "code",
      "execution_count": 522,
      "metadata": {
        "colab": {
          "base_uri": "https://localhost:8080/"
        },
        "id": "F90wgK3hmnpa",
        "outputId": "01bddd53-7261-45d6-9e5a-bf9ad0667dbd"
      },
      "outputs": [
        {
          "name": "stdout",
          "output_type": "stream",
          "text": [
            "{'name': 'John', 'age': 25, 'city': 'New York'}\n",
            "<class 'dict'>\n"
          ]
        }
      ],
      "source": [
        "my_dict = {'name': 'John', 'age': 25, 'city': 'New York'}\n",
        "print(my_dict)\n",
        "print(type(my_dict))\n"
      ]
    },
    {
      "cell_type": "code",
      "execution_count": 543,
      "metadata": {},
      "outputs": [],
      "source": [
        "my_tuple= (1, 'two', 3.0)"
      ]
    },
    {
      "cell_type": "code",
      "execution_count": 544,
      "metadata": {},
      "outputs": [],
      "source": [
        "my_set={1, 2, 3, 4, 5}"
      ]
    },
    {
      "cell_type": "code",
      "execution_count": 545,
      "metadata": {},
      "outputs": [
        {
          "data": {
            "text/plain": [
              "{1: None, 'two': None, 3.0: None}"
            ]
          },
          "execution_count": 545,
          "metadata": {},
          "output_type": "execute_result"
        }
      ],
      "source": [
        "my_dict.fromkeys(my_tuple)#Create a new dictionary with keys from iterable and values set to value."
      ]
    },
    {
      "cell_type": "code",
      "execution_count": 546,
      "metadata": {},
      "outputs": [
        {
          "data": {
            "text/plain": [
              "{1: None, 2: None, 3: None, 4: None, 5: None}"
            ]
          },
          "execution_count": 546,
          "metadata": {},
          "output_type": "execute_result"
        }
      ],
      "source": [
        "my_dict.fromkeys(my_set)"
      ]
    },
    {
      "cell_type": "code",
      "execution_count": 547,
      "metadata": {},
      "outputs": [
        {
          "data": {
            "text/plain": [
              "dict_keys(['name', 'age', 'city'])"
            ]
          },
          "execution_count": 547,
          "metadata": {},
          "output_type": "execute_result"
        }
      ],
      "source": [
        "my_dict.keys()"
      ]
    },
    {
      "cell_type": "markdown",
      "metadata": {
        "id": "ffkaUzqlm1wq"
      },
      "source": [
        "**Sequence:**\n",
        "\n",
        "Strings in Python are sequences of characters enclosed in single, double, or triple quotes. They support various operations such as concatenation, slicing, and formatting."
      ]
    },
    {
      "cell_type": "code",
      "execution_count": 523,
      "metadata": {
        "colab": {
          "base_uri": "https://localhost:8080/"
        },
        "id": "prMtcJ5UmxGL",
        "outputId": "65ee6cdc-91ed-49de-eef4-08c92974c8ae"
      },
      "outputs": [
        {
          "name": "stdout",
          "output_type": "stream",
          "text": [
            "Hello, World!\n",
            "<class 'str'>\n"
          ]
        }
      ],
      "source": [
        "my_str = \"Hello, World!\"\n",
        "print(my_str)\n",
        "print(type(my_str))\n"
      ]
    },
    {
      "cell_type": "markdown",
      "metadata": {
        "id": "oBIjwNTjBGcs"
      },
      "source": [
        "**List**:\n",
        "\n",
        "A list is a versatile data structure used to store collections of items. Lists are mutable, meaning they can be modified after creation. Each item in a list is indexed, and you can access elements by their index. Lists can contain items of different data types, and they can also contain other lists (nested lists)."
      ]
    },
    {
      "cell_type": "code",
      "execution_count": 524,
      "metadata": {
        "colab": {
          "base_uri": "https://localhost:8080/"
        },
        "id": "qE3nTe5Om-Xq",
        "outputId": "177e0cd7-f1a5-4805-daeb-cc0e3531e14a"
      },
      "outputs": [
        {
          "name": "stdout",
          "output_type": "stream",
          "text": [
            "[1, 2, 13, 13, 4.77, 5.4, 'R', 'rank', (3+4j), ['p', 4, 2.3]]\n",
            "<class 'list'>\n"
          ]
        }
      ],
      "source": [
        "my_list = [1, 2,13,13,4.77, 5.4, 'R', 'rank', 3+4j, ['p', 4, 2.3]]\n",
        "print(my_list)\n",
        "print(type(my_list))       # <class 'list'> it means my_list is the object of class ,list\n"
      ]
    },
    {
      "cell_type": "code",
      "execution_count": 525,
      "metadata": {},
      "outputs": [
        {
          "data": {
            "text/plain": [
              "[1, 2, 13, 13, 4.77, 5.4, 'R', 'rank', (3+4j), ['p', 4, 2.3]]"
            ]
          },
          "execution_count": 525,
          "metadata": {},
          "output_type": "execute_result"
        }
      ],
      "source": [
        "my_list"
      ]
    },
    {
      "cell_type": "code",
      "execution_count": 526,
      "metadata": {},
      "outputs": [],
      "source": [
        "my_list.append('pankaj')   # append at last of the list"
      ]
    },
    {
      "cell_type": "code",
      "execution_count": 527,
      "metadata": {},
      "outputs": [
        {
          "data": {
            "text/plain": [
              "[1, 2, 13, 13, 4.77, 5.4, 'R', 'rank', (3+4j), ['p', 4, 2.3], 'pankaj']"
            ]
          },
          "execution_count": 527,
          "metadata": {},
          "output_type": "execute_result"
        }
      ],
      "source": [
        "my_list"
      ]
    },
    {
      "cell_type": "code",
      "execution_count": 528,
      "metadata": {},
      "outputs": [
        {
          "data": {
            "text/plain": [
              "2"
            ]
          },
          "execution_count": 528,
          "metadata": {},
          "output_type": "execute_result"
        }
      ],
      "source": [
        "my_list.count(13)        # Return number of occurrences of value."
      ]
    },
    {
      "cell_type": "code",
      "execution_count": 529,
      "metadata": {},
      "outputs": [
        {
          "data": {
            "text/plain": [
              "2"
            ]
          },
          "execution_count": 529,
          "metadata": {},
          "output_type": "execute_result"
        }
      ],
      "source": [
        "my_list.index(13) # Return first index of value and Raises ValueError if the value is not present."
      ]
    },
    {
      "cell_type": "code",
      "execution_count": 530,
      "metadata": {},
      "outputs": [],
      "source": [
        "my_list.reverse()"
      ]
    },
    {
      "cell_type": "code",
      "execution_count": 531,
      "metadata": {},
      "outputs": [
        {
          "data": {
            "text/plain": [
              "['pankaj', ['p', 4, 2.3], (3+4j), 'rank', 'R', 5.4, 4.77, 13, 13, 2, 1]"
            ]
          },
          "execution_count": 531,
          "metadata": {},
          "output_type": "execute_result"
        }
      ],
      "source": [
        "my_list"
      ]
    },
    {
      "cell_type": "code",
      "execution_count": 532,
      "metadata": {},
      "outputs": [
        {
          "data": {
            "text/plain": [
              "1"
            ]
          },
          "execution_count": 532,
          "metadata": {},
          "output_type": "execute_result"
        }
      ],
      "source": [
        "my_list.pop()  # Remove and return item at index (default last) and\n",
        "               # Raises IndexError if list is empty or index is out of range."
      ]
    },
    {
      "cell_type": "code",
      "execution_count": 533,
      "metadata": {},
      "outputs": [
        {
          "data": {
            "text/plain": [
              "['pankaj', ['p', 4, 2.3], (3+4j), 'rank', 'R', 5.4, 4.77, 13, 13, 2]"
            ]
          },
          "execution_count": 533,
          "metadata": {},
          "output_type": "execute_result"
        }
      ],
      "source": [
        "my_list"
      ]
    },
    {
      "cell_type": "code",
      "execution_count": 534,
      "metadata": {},
      "outputs": [
        {
          "data": {
            "text/plain": [
              "['p', 4, 2.3]"
            ]
          },
          "execution_count": 534,
          "metadata": {},
          "output_type": "execute_result"
        }
      ],
      "source": [
        "my_list.pop(1)"
      ]
    },
    {
      "cell_type": "code",
      "execution_count": 535,
      "metadata": {},
      "outputs": [],
      "source": [
        "my_list.remove(13)    # Remove first occurrence of value and \n",
        "                      # Raises ValueError if the value is not present."
      ]
    },
    {
      "cell_type": "code",
      "execution_count": 536,
      "metadata": {},
      "outputs": [
        {
          "data": {
            "text/plain": [
              "['pankaj', (3+4j), 'rank', 'R', 5.4, 4.77, 13, 2]"
            ]
          },
          "execution_count": 536,
          "metadata": {},
          "output_type": "execute_result"
        }
      ],
      "source": [
        "my_list"
      ]
    },
    {
      "cell_type": "code",
      "execution_count": 537,
      "metadata": {},
      "outputs": [],
      "source": [
        "my_list.insert(2, '10000')  # Insert object before index."
      ]
    },
    {
      "cell_type": "code",
      "execution_count": 538,
      "metadata": {},
      "outputs": [
        {
          "name": "stdout",
          "output_type": "stream",
          "text": [
            "[1, 5, 6, 23, 26, 65, 254, 365, 435, 763]\n"
          ]
        }
      ],
      "source": [
        "lst=[435,65,6,23,1,5,26,365,254,763]\n",
        "lst.sort()\n",
        "print(lst)"
      ]
    },
    {
      "cell_type": "markdown",
      "metadata": {
        "id": "6oT9SbfrnH-r"
      },
      "source": [
        "**Tuple**:\n",
        "\n",
        "A tuple in Python is a collection of ordered and immutable elements. It is similar to a list, but unlike lists, tuples are immutable, meaning their elements cannot be changed after creation. Tuples are defined using parentheses () and can contain elements of different data types."
      ]
    },
    {
      "cell_type": "code",
      "execution_count": 539,
      "metadata": {
        "colab": {
          "base_uri": "https://localhost:8080/"
        },
        "id": "yS10BqrNnEpO",
        "outputId": "6d7a1c06-20a8-480e-dc41-4fffd06d52b5"
      },
      "outputs": [
        {
          "name": "stdout",
          "output_type": "stream",
          "text": [
            "(1, 'two', 3.0)\n",
            "<class 'tuple'>\n"
          ]
        }
      ],
      "source": [
        "my_tuple = (1, 'two', 3.0)\n",
        "print(my_tuple)\n",
        "print(type(my_tuple))       # here my_tupel is the object created from tuple class\n"
      ]
    },
    {
      "cell_type": "markdown",
      "metadata": {
        "id": "hmzBpTgwnVae"
      },
      "source": [
        "**None**:\n",
        "\n",
        "`None` is a special constant representing the absence of a value or a null value. It is often used to indicate that a variable or an object does not have a meaningful value or has not been assigned yet."
      ]
    },
    {
      "cell_type": "code",
      "execution_count": 540,
      "metadata": {
        "colab": {
          "base_uri": "https://localhost:8080/"
        },
        "id": "0IJmk8L4nQXP",
        "outputId": "ff8ad3c4-8f1b-40c0-e01d-a8f7db91d738"
      },
      "outputs": [
        {
          "name": "stdout",
          "output_type": "stream",
          "text": [
            "None\n",
            "<class 'NoneType'>\n"
          ]
        }
      ],
      "source": [
        "my_none = None\n",
        "print(my_none)\n",
        "print(type(my_none))\n"
      ]
    }
  ],
  "metadata": {
    "colab": {
      "provenance": []
    },
    "kernelspec": {
      "display_name": "Python 3",
      "name": "python3"
    },
    "language_info": {
      "codemirror_mode": {
        "name": "ipython",
        "version": 3
      },
      "file_extension": ".py",
      "mimetype": "text/x-python",
      "name": "python",
      "nbconvert_exporter": "python",
      "pygments_lexer": "ipython3",
      "version": "3.11.8"
    }
  },
  "nbformat": 4,
  "nbformat_minor": 0
}
