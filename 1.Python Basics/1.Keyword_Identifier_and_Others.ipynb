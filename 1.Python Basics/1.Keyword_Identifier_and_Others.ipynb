{
 "cells": [
  {
   "cell_type": "markdown",
   "metadata": {},
   "source": [
    "### Python Keywords\n",
    "\n",
    "Keywords in Python are predefined words that hold a special meaning and have a specific purpose within the Python language.\n",
    "\n",
    "These keywords are reserved and already defined by the Python compiler or interpreter, and they cannot be used as variable names or function names.\n",
    "\n",
    "Keywords are used to define the syntax and structure of the Python language, forming the building blocks for creating programs.\n",
    "\n",
    "Python keywords have predefined functionality and cannot be redefined or modified by the programmer."
   ]
  },
  {
   "cell_type": "code",
   "execution_count": 1,
   "metadata": {},
   "outputs": [
    {
     "name": "stdout",
     "output_type": "stream",
     "text": [
      "\n",
      "Here is a list of the Python keywords.  Enter any keyword to get more help.\n",
      "\n",
      "False               class               from                or\n",
      "None                continue            global              pass\n",
      "True                def                 if                  raise\n",
      "and                 del                 import              return\n",
      "as                  elif                in                  try\n",
      "assert              else                is                  while\n",
      "async               except              lambda              with\n",
      "await               finally             nonlocal            yield\n",
      "break               for                 not                 \n",
      "\n"
     ]
    }
   ],
   "source": [
    "help('keywords')    # There are 35 keywords in the python"
   ]
  },
  {
   "cell_type": "markdown",
   "metadata": {},
   "source": [
    "### Identifiers: <br>\n",
    "Python Identifier is the name we give to identify a variable, function, class, module or other object. That means whenever we want to give an entity a name, that's called identifier"
   ]
  },
  {
   "cell_type": "code",
   "execution_count": 5,
   "metadata": {},
   "outputs": [],
   "source": [
    "a=45\n",
    "print=78   # avoid to use keywords as a viriable name\n",
    "\n",
    "name=\"pankaj\"\n",
    "NAME=\"pankaj\"\n",
    "name1=\"pankaj\"\n",
    "_name=\"pankaj\"\n",
    "# name@=\"pankaj\"   # it will give error\n",
    "\n",
    "# snake cases PEP8\n",
    "first_name=\"Pankaj\"\n",
    "testing_veriable_for_strings=\"kumawat\"\n",
    "\n",
    "# camel cases\n",
    "firstName=\"Pankaj\"\n",
    "\n",
    "# for constent valuse use capital\n",
    "PIE=\"Constant value\"\n",
    "\n",
    "# for the class name use first capital letter\n",
    "class Person: \n",
    "    pass"
   ]
  },
  {
   "cell_type": "markdown",
   "metadata": {},
   "source": [
    "### Comments\n",
    "\n",
    "Comments are used in Python to give explanations and documentation inside your code.\n",
    "\n",
    "The Python interpreter does not execute comments, and they exist purely to help human readers to understand the code.\n",
    "\n",
    "They're a great way to explain the purpose of code, provide context, and make code more readable."
   ]
  },
  {
   "cell_type": "code",
   "execution_count": 1,
   "metadata": {},
   "outputs": [
    {
     "data": {
      "text/plain": [
       "'\\ni am learning about python \\npython is a very popular language\\n'"
      ]
     },
     "execution_count": 1,
     "metadata": {},
     "output_type": "execute_result"
    }
   ],
   "source": [
    "# single line comments:\n",
    "veriable=22 # i am using this demostrate comments\n",
    "\n",
    "# multiline comments\n",
    "\"\"\"\n",
    "i am learning about python \n",
    "python is a very popular language\n",
    "\"\"\"\n",
    "\n",
    "'''\n",
    "i am learning about python \n",
    "python is a very popular language\n",
    "'''"
   ]
  },
  {
   "cell_type": "markdown",
   "metadata": {},
   "source": [
    "### doc strings: \n",
    "Docstrings are special forms of comments that are used to document functions, classes, and modules.\n",
    "\n",
    "Docstrings describe the intent, arguments, and return values of functions and classes.\n",
    "\n",
    "Docstrings are often contained in triple-quoted strings and put right after the function or class declaration."
   ]
  },
  {
   "cell_type": "code",
   "execution_count": null,
   "metadata": {},
   "outputs": [],
   "source": [
    "def aryacollege(name): \n",
    "    \"\"\"\n",
    "    this is docstring for my function\n",
    "    :name: which will take name of the student\n",
    "    : return : array of complete detail of the stuednts\n",
    "    \"\"\"\n",
    "\n",
    "    # function body"
   ]
  },
  {
   "cell_type": "markdown",
   "metadata": {},
   "source": [
    "### Indentation: \n",
    "In Python, indentation is used to determine the structure and execution of code blocks.\n",
    "\n",
    "The level of indentation indicates code blocks. Subordinate blocks are indented to the right of their parent blocks.\n",
    "\n",
    "Indentation is used to separate code blocks in a variety of settings, including:\n",
    "\n",
    "Conditional statements (e.g., if, else, elif).<br>\n",
    "Loop structures (e.g., for, while).<br>\n",
    "Function and class definitions.<br>\n",
    "Exception handling (e.g., try, except, finally).<br>\n",
    "List comprehensions, dictionaries, and other compound data structures rely on indentation.<br>"
   ]
  },
  {
   "cell_type": "code",
   "execution_count": 2,
   "metadata": {},
   "outputs": [
    {
     "name": "stdout",
     "output_type": "stream",
     "text": [
      "5000\n",
      "greater than 1000\n"
     ]
    }
   ],
   "source": [
    "x=5000\n",
    "if x>10: \n",
    "    print(x)\n",
    "    if x>1000: \n",
    "        print(\"greater than 1000\")\n",
    "else:\n",
    "    print(10)"
   ]
  },
  {
   "cell_type": "markdown",
   "metadata": {},
   "source": [
    "### Statements\n",
    "Statements are the fundamental blocks of code that comprise a Python program. They are commands that the Python interpreter uses to carry out various activities.\n",
    "\n",
    "Python statements may perform a variety of tasks, including setting values to variables, making decisions, repeating activities in loops, and more."
   ]
  },
  {
   "cell_type": "code",
   "execution_count": 8,
   "metadata": {},
   "outputs": [
    {
     "name": "stdout",
     "output_type": "stream",
     "text": [
      "greater than 10\n",
      "p\n",
      "a\n",
      "n\n",
      "k\n",
      "a\n",
      "j\n",
      " \n",
      "k\n",
      "u\n",
      "m\n",
      "a\n",
      "w\n",
      "a\n",
      "t\n",
      "p\n",
      "a\n",
      "n\n",
      "k\n",
      "a\n",
      "j\n",
      " \n",
      "k\n",
      "u\n",
      "m\n",
      "a\n",
      "w\n",
      "a\n",
      "t\n",
      "14\n",
      "p\n",
      "a\n",
      "n\n",
      "k\n",
      "a\n",
      "j\n",
      "p\n",
      "a\n",
      "n\n",
      "k\n",
      "a\n",
      "j\n",
      "k\n",
      "u\n",
      "m\n",
      "a\n",
      "w\n",
      "a\n",
      "t\n",
      "PWskills\n",
      "Found 'PWskills'\n",
      "Word not found\n"
     ]
    }
   ],
   "source": [
    "# Assignment statement: \n",
    "a=34\n",
    "\n",
    "# expression statemtent: \n",
    "x=a+10\n",
    "\n",
    "# conditional statement: \n",
    "if x>10: \n",
    "    print(\"greater than 10\")\n",
    "else: \n",
    "    print(\"less than 10\")\n",
    "\n",
    "# loop Statement: \n",
    "text=\"pankaj kumawat\"\n",
    "for char in text:              # using for loop\n",
    "    print(char)\n",
    "\n",
    "index=0\n",
    "while index< len(text): \n",
    "    print(text[index])\n",
    "    index+=1\n",
    "\n",
    "#Functional calls statement: \n",
    "length=len(\"pankaj kumawat\")      # calling len fn\n",
    "print(length)\n",
    "\n",
    "\n",
    "# break and continue statement: \n",
    "text=\"pankaj kumawat\"\n",
    "for char in text: \n",
    "    if char==' ': \n",
    "        break               # break\n",
    "    print(char)\n",
    "\n",
    "text=\"pankaj kumawat\"\n",
    "for char in text: \n",
    "    if char==' ': \n",
    "        continue            # continue\n",
    "    print(char)\n",
    "\n",
    "\n",
    "# Pass statement: \n",
    "a=3\n",
    "if a>10: \n",
    "    pass   # will be implemented later\n",
    "\n",
    "# del statement: \n",
    "word = \"PWskills\"\n",
    "print(word)  # Output: PWskills\n",
    "del word        # Using del to delete the variable 'word'\n",
    "#print(word)  # Attempting to print the variable after it's deleted will result in a NameError\n",
    "\n",
    "\n",
    "# return statement: \n",
    "def find_word(text):\n",
    "    if \"PWskills\" in text:\n",
    "        return \"Found 'PWskills'\"\n",
    "    else:\n",
    "        return \"Word not found\"\n",
    "\n",
    "result1 = find_word(\"Data Science is a very good course in PWskills\")\n",
    "result2 = find_word(\"I'm taking a Data Science course\")\n",
    "\n",
    "print(result1)\n",
    "print(result2)\n",
    "\n",
    "# import statement: \n",
    "import pandas"
   ]
  },
  {
   "cell_type": "markdown",
   "metadata": {},
   "source": [
    "### Pusedo Code: "
   ]
  },
  {
   "cell_type": "code",
   "execution_count": null,
   "metadata": {},
   "outputs": [],
   "source": [
    "'''\n",
    "begin\n",
    "\n",
    "NUM num1, num2\n",
    "Display enter value1\n",
    "Input num1\n",
    "Display enter value2\n",
    "Input num2\n",
    "\n",
    "if num1> num2 then\n",
    "Display num1 is greater than num2\n",
    "else then\n",
    "display num2 is greater\n",
    "\n",
    "end\n",
    "\n",
    "'''"
   ]
  }
 ],
 "metadata": {
  "kernelspec": {
   "display_name": "Python 3",
   "language": "python",
   "name": "python3"
  },
  "language_info": {
   "codemirror_mode": {
    "name": "ipython",
    "version": 3
   },
   "file_extension": ".py",
   "mimetype": "text/x-python",
   "name": "python",
   "nbconvert_exporter": "python",
   "pygments_lexer": "ipython3",
   "version": "3.11.8"
  }
 },
 "nbformat": 4,
 "nbformat_minor": 2
}
