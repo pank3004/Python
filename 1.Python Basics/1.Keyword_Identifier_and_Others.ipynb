{
 "cells": [
  {
   "cell_type": "markdown",
   "metadata": {},
   "source": [
    "### Python Keywords"
   ]
  },
  {
   "cell_type": "code",
   "execution_count": 1,
   "metadata": {},
   "outputs": [
    {
     "name": "stdout",
     "output_type": "stream",
     "text": [
      "\n",
      "Here is a list of the Python keywords.  Enter any keyword to get more help.\n",
      "\n",
      "False               class               from                or\n",
      "None                continue            global              pass\n",
      "True                def                 if                  raise\n",
      "and                 del                 import              return\n",
      "as                  elif                in                  try\n",
      "assert              else                is                  while\n",
      "async               except              lambda              with\n",
      "await               finally             nonlocal            yield\n",
      "break               for                 not                 \n",
      "\n"
     ]
    }
   ],
   "source": [
    "help('keywords')    # There are 35 keywords in the python"
   ]
  },
  {
   "cell_type": "markdown",
   "metadata": {},
   "source": [
    "### Identifiers: <br>\n",
    "Python Identifier is the name we give to identify a variable, function, class, module or other object. That means whenever we want to give an entity a name, that's called identifier"
   ]
  },
  {
   "cell_type": "code",
   "execution_count": 5,
   "metadata": {},
   "outputs": [],
   "source": [
    "a=45\n",
    "print=78   # avoid to use keywords as a viriable name\n",
    "\n",
    "name=\"pankaj\"\n",
    "NAME=\"pankaj\"\n",
    "name1=\"pankaj\"\n",
    "_name=\"pankaj\"\n",
    "# name@=\"pankaj\"   # it will give error\n",
    "\n",
    "# snake cases PEP8\n",
    "first_name=\"Pankaj\"\n",
    "testing_veriable_for_strings=\"kumawat\"\n",
    "\n",
    "# camel cases\n",
    "firstName=\"Pankaj\"\n",
    "\n",
    "# for constent valuse use capital\n",
    "PIE=\"Constant value\"\n",
    "\n",
    "# for the class name use first capital letter\n",
    "class Person: \n",
    "    pass"
   ]
  },
  {
   "cell_type": "code",
   "execution_count": null,
   "metadata": {},
   "outputs": [],
   "source": []
  }
 ],
 "metadata": {
  "kernelspec": {
   "display_name": "Python 3",
   "language": "python",
   "name": "python3"
  },
  "language_info": {
   "codemirror_mode": {
    "name": "ipython",
    "version": 3
   },
   "file_extension": ".py",
   "mimetype": "text/x-python",
   "name": "python",
   "nbconvert_exporter": "python",
   "pygments_lexer": "ipython3",
   "version": "3.11.7"
  }
 },
 "nbformat": 4,
 "nbformat_minor": 2
}
