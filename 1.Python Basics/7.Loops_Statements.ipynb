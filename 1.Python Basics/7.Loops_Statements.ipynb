{
  "cells": [
    {
      "cell_type": "markdown",
      "metadata": {
        "id": "wNRLad1Ijwat"
      },
      "source": [
        "## 1. 'for' loop"
      ]
    },
    {
      "cell_type": "code",
      "execution_count": 1,
      "metadata": {
        "colab": {
          "base_uri": "https://localhost:8080/"
        },
        "id": "UMb46yHE28LP",
        "outputId": "e8f10e56-65c9-4df5-a0d7-c41db479f851"
      },
      "outputs": [
        {
          "name": "stdout",
          "output_type": "stream",
          "text": [
            "DataScience\n",
            "DataAnalytics\n",
            "Python\n",
            "JavaScript\n"
          ]
        }
      ],
      "source": [
        "# Printing a list of courses\n",
        "\n",
        "courses = [\"DataScience\", \"DataAnalytics\", \"Python\", \"JavaScript\"]\n",
        "\n",
        "for course in courses:\n",
        "    print(course)\n"
      ]
    },
    {
      "cell_type": "code",
      "execution_count": 2,
      "metadata": {
        "colab": {
          "base_uri": "https://localhost:8080/"
        },
        "id": "HZcgi4Khjst6",
        "outputId": "eda6a2e2-efa8-412c-e28d-fab11474fd85"
      },
      "outputs": [
        {
          "name": "stdout",
          "output_type": "stream",
          "text": [
            "I like apple\n",
            "I like banana\n",
            "I like cherry\n"
          ]
        }
      ],
      "source": [
        "# Iterating through a List\n",
        "\n",
        "fruits = [\"apple\", \"banana\", \"cherry\"]\n",
        "\n",
        "for fruit in fruits:\n",
        "    print(\"I like\", fruit)\n"
      ]
    },
    {
      "cell_type": "code",
      "execution_count": 3,
      "metadata": {
        "colab": {
          "base_uri": "https://localhost:8080/"
        },
        "id": "MiQl7rbIkHZ3",
        "outputId": "8e92afec-3e04-4ff3-8b94-7431d701c849"
      },
      "outputs": [
        {
          "name": "stdout",
          "output_type": "stream",
          "text": [
            "Number: 1\n",
            "Number: 2\n",
            "Number: 3\n",
            "Number: 4\n",
            "Number: 5\n"
          ]
        }
      ],
      "source": [
        "# Generating a Number Sequence\n",
        "for i in range(1, 6):\n",
        "    print(\"Number:\", i)\n"
      ]
    },
    {
      "cell_type": "code",
      "execution_count": 4,
      "metadata": {
        "colab": {
          "base_uri": "https://localhost:8080/"
        },
        "id": "cc1Z8J_23Qfo",
        "outputId": "070671c6-d42f-4148-b18c-e093348c02cd"
      },
      "outputs": [
        {
          "name": "stdout",
          "output_type": "stream",
          "text": [
            "Course 1: DataScience\n",
            "Course 2: DataAnalytics\n",
            "Course 3: Python\n",
            "Course 4: JavaScript\n"
          ]
        }
      ],
      "source": [
        "# Counting and displaying course names\n",
        "\n",
        "courses = [\"DataScience\", \"DataAnalytics\", \"Python\", \"JavaScript\"]\n",
        "count = 1\n",
        "\n",
        "for course in courses:\n",
        "    print(f\"Course {count}: {course}\")\n",
        "    count += 1\n"
      ]
    },
    {
      "cell_type": "code",
      "execution_count": 5,
      "metadata": {
        "colab": {
          "base_uri": "https://localhost:8080/"
        },
        "id": "j197rdN63g2e",
        "outputId": "bfd4d120-0b1e-4cf1-c933-7af2f1a4bf11"
      },
      "outputs": [
        {
          "name": "stdout",
          "output_type": "stream",
          "text": [
            "The course name 'DataScience' has 11 characters.\n",
            "The course name 'DataAnalytics' has 13 characters.\n",
            "The course name 'Python' has 6 characters.\n",
            "The course name 'JavaScript' has 10 characters.\n"
          ]
        }
      ],
      "source": [
        "# Finding and printing the length of each course name\n",
        "\n",
        "courses = [\"DataScience\", \"DataAnalytics\", \"Python\", \"JavaScript\"]\n",
        "\n",
        "for course in courses:\n",
        "    length = len(course)\n",
        "    print(f\"The course name '{course}' has {length} characters.\")\n"
      ]
    },
    {
      "cell_type": "markdown",
      "metadata": {
        "id": "OcXf8xXflff2"
      },
      "source": [
        "## 2. Nested 'for' loop"
      ]
    },
    {
      "cell_type": "code",
      "execution_count": 6,
      "metadata": {
        "colab": {
          "base_uri": "https://localhost:8080/"
        },
        "id": "rVZ9Za4GmcCm",
        "outputId": "a373cc34-1b35-4427-e90b-64f249294a50"
      },
      "outputs": [
        {
          "name": "stdout",
          "output_type": "stream",
          "text": [
            "1 * 1 = 1\n",
            "1 * 2 = 2\n",
            "1 * 3 = 3\n",
            "1 * 4 = 4\n",
            "1 * 5 = 5\n",
            "1 * 6 = 6\n",
            "1 * 7 = 7\n",
            "1 * 8 = 8\n",
            "1 * 9 = 9\n",
            "1 * 10 = 10\n",
            "\n",
            "2 * 1 = 2\n",
            "2 * 2 = 4\n",
            "2 * 3 = 6\n",
            "2 * 4 = 8\n",
            "2 * 5 = 10\n",
            "2 * 6 = 12\n",
            "2 * 7 = 14\n",
            "2 * 8 = 16\n",
            "2 * 9 = 18\n",
            "2 * 10 = 20\n",
            "\n",
            "3 * 1 = 3\n",
            "3 * 2 = 6\n",
            "3 * 3 = 9\n",
            "3 * 4 = 12\n",
            "3 * 5 = 15\n",
            "3 * 6 = 18\n",
            "3 * 7 = 21\n",
            "3 * 8 = 24\n",
            "3 * 9 = 27\n",
            "3 * 10 = 30\n",
            "\n",
            "4 * 1 = 4\n",
            "4 * 2 = 8\n",
            "4 * 3 = 12\n",
            "4 * 4 = 16\n",
            "4 * 5 = 20\n",
            "4 * 6 = 24\n",
            "4 * 7 = 28\n",
            "4 * 8 = 32\n",
            "4 * 9 = 36\n",
            "4 * 10 = 40\n",
            "\n",
            "5 * 1 = 5\n",
            "5 * 2 = 10\n",
            "5 * 3 = 15\n",
            "5 * 4 = 20\n",
            "5 * 5 = 25\n",
            "5 * 6 = 30\n",
            "5 * 7 = 35\n",
            "5 * 8 = 40\n",
            "5 * 9 = 45\n",
            "5 * 10 = 50\n",
            "\n"
          ]
        }
      ],
      "source": [
        "# Multiplication table\n",
        "\n",
        "for i in range(1, 6):\n",
        "    for j in range(1, 11):\n",
        "        product = i * j\n",
        "        print(f\"{i} * {j} = {product}\")\n",
        "    print()"
      ]
    },
    {
      "cell_type": "code",
      "execution_count": 7,
      "metadata": {
        "colab": {
          "base_uri": "https://localhost:8080/"
        },
        "id": "93rI0AQClzcV",
        "outputId": "22cc5cf0-2152-4dcc-aee7-83113fec1358"
      },
      "outputs": [
        {
          "name": "stdout",
          "output_type": "stream",
          "text": [
            "* \n",
            "* * \n",
            "* * * \n",
            "* * * * \n",
            "* * * * * \n"
          ]
        }
      ],
      "source": [
        "# Printing a Pattern\n",
        "for i in range(5):\n",
        "    for j in range(i + 1):\n",
        "        print(\"*\", end=\" \")\n",
        "    print()"
      ]
    },
    {
      "cell_type": "code",
      "execution_count": 8,
      "metadata": {
        "colab": {
          "base_uri": "https://localhost:8080/"
        },
        "id": "63lVRIfQoH2k",
        "outputId": "859a57aa-9969-4850-ec3f-f193c02867ce"
      },
      "outputs": [
        {
          "name": "stdout",
          "output_type": "stream",
          "text": [
            "[0, 1, 2]\n",
            "[3, 4, 5]\n",
            "[6, 7, 8]\n"
          ]
        }
      ],
      "source": [
        " # Creating a Matrix\n",
        "\n",
        "rows = 3\n",
        "cols = 3\n",
        "matrix = []\n",
        "\n",
        "for i in range(rows):\n",
        "    row = []\n",
        "    for j in range(cols):\n",
        "        row.append(i * cols + j)\n",
        "    matrix.append(row)\n",
        "\n",
        "for row in matrix:\n",
        "    print(row)\n"
      ]
    },
    {
      "cell_type": "code",
      "execution_count": 9,
      "metadata": {
        "colab": {
          "base_uri": "https://localhost:8080/"
        },
        "id": "XIzGd1MCns8C",
        "outputId": "cace02b2-238a-4f12-cf4e-a7529185f475"
      },
      "outputs": [
        {
          "name": "stdout",
          "output_type": "stream",
          "text": [
            "[30, 24, 18]\n",
            "[84, 69, 54]\n",
            "[138, 114, 90]\n"
          ]
        }
      ],
      "source": [
        "# Matrix multiplication\n",
        "\n",
        "matrix_A = [[1, 2, 3], [4, 5, 6], [7, 8, 9]]\n",
        "matrix_B = [[9, 8, 7], [6, 5, 4], [3, 2, 1]]\n",
        "result = [[0, 0, 0], [0, 0, 0], [0, 0, 0]]\n",
        "\n",
        "for i in range(len(matrix_A)):\n",
        "    for j in range(len(matrix_B[0])):\n",
        "        for k in range(len(matrix_B)):\n",
        "            result[i][j] += matrix_A[i][k] * matrix_B[k][j]\n",
        "\n",
        "for row in result:\n",
        "    print(row)"
      ]
    },
    {
      "cell_type": "markdown",
      "metadata": {
        "id": "LS9aK5WYklo_"
      },
      "source": [
        "## 'while' loop"
      ]
    },
    {
      "cell_type": "code",
      "execution_count": 10,
      "metadata": {
        "colab": {
          "base_uri": "https://localhost:8080/"
        },
        "id": "Elpgu6g8u9K8",
        "outputId": "7af9839b-8c71-470f-ed73-0961911d8427"
      },
      "outputs": [
        {
          "name": "stdout",
          "output_type": "stream",
          "text": [
            "DataScience\n",
            "DataAnalytics\n",
            "Python\n",
            "JavaScript\n"
          ]
        }
      ],
      "source": [
        "#Printing course names until a condition is met\n",
        "\n",
        "courses = [\"DataScience\", \"DataAnalytics\", \"Python\", \"JavaScript\"]\n",
        "index = 0\n",
        "\n",
        "while index < len(courses):\n",
        "    print(courses[index])\n",
        "    index += 1\n"
      ]
    },
    {
      "cell_type": "code",
      "execution_count": 11,
      "metadata": {
        "colab": {
          "base_uri": "https://localhost:8080/"
        },
        "id": "K3r63qulvKgS",
        "outputId": "9231542e-fc5f-4fb6-c887-59bf923d6a44"
      },
      "outputs": [
        {
          "name": "stdout",
          "output_type": "stream",
          "text": [
            "The course 'DataScience' has 11 characters.\n",
            "The course 'DataAnalytics' has 13 characters.\n",
            "The course 'Python' has 6 characters.\n",
            "The course 'JavaScript' has 10 characters.\n"
          ]
        }
      ],
      "source": [
        "#Counting the number of characters in course names\n",
        "\n",
        "courses = [\"DataScience\", \"DataAnalytics\", \"Python\", \"JavaScript\"]\n",
        "index = 0\n",
        "\n",
        "while index < len(courses):\n",
        "    course = courses[index]\n",
        "    length = len(course)\n",
        "    print(f\"The course '{course}' has {length} characters.\")\n",
        "    index += 1\n"
      ]
    },
    {
      "cell_type": "code",
      "execution_count": 12,
      "metadata": {
        "colab": {
          "base_uri": "https://localhost:8080/"
        },
        "id": "1DKqZmvtkIj2",
        "outputId": "ba66b951-4b81-4413-b016-a7ec78884f9e"
      },
      "outputs": [
        {
          "name": "stdout",
          "output_type": "stream",
          "text": [
            "5\n",
            "4\n",
            "3\n",
            "2\n",
            "1\n"
          ]
        }
      ],
      "source": [
        "# Counting Down\n",
        "\n",
        "count = 5\n",
        "\n",
        "while count > 0:\n",
        "    print(count)\n",
        "    count -= 1\n"
      ]
    },
    {
      "cell_type": "code",
      "execution_count": 13,
      "metadata": {
        "colab": {
          "base_uri": "https://localhost:8080/"
        },
        "id": "ga-yfv5Yk0FG",
        "outputId": "0e912757-da82-4c73-8eda-5721140f48c8"
      },
      "outputs": [
        {
          "name": "stdout",
          "output_type": "stream",
          "text": [
            "* \n",
            "* * \n",
            "* * * \n",
            "* * * * \n"
          ]
        }
      ],
      "source": [
        "# Right Triangle\n",
        "\n",
        "row = 1\n",
        "while row <= 4:\n",
        "    col = 1\n",
        "    while col <= row:\n",
        "        print(\"*\", end=\" \")\n",
        "        col += 1\n",
        "    print()\n",
        "    row += 1\n"
      ]
    },
    {
      "cell_type": "code",
      "execution_count": 14,
      "metadata": {
        "colab": {
          "base_uri": "https://localhost:8080/"
        },
        "id": "HGg5b-qTk58d",
        "outputId": "01c15d17-e4fb-4eb0-bae3-2423d352fda4"
      },
      "outputs": [
        {
          "name": "stdout",
          "output_type": "stream",
          "text": [
            "* * * \n",
            "* * * \n",
            "* * * \n"
          ]
        }
      ],
      "source": [
        "# Square\n",
        "side = 1\n",
        "while side <= 3:\n",
        "    width = 1\n",
        "    while width <= 3:\n",
        "        print(\"*\", end=\" \")\n",
        "        width += 1\n",
        "    print()\n",
        "    side += 1\n",
        "\n"
      ]
    },
    {
      "cell_type": "code",
      "execution_count": null,
      "metadata": {
        "id": "X8_6QX9IlaW0"
      },
      "outputs": [],
      "source": []
    }
  ],
  "metadata": {
    "colab": {
      "provenance": []
    },
    "kernelspec": {
      "display_name": "Python 3",
      "name": "python3"
    },
    "language_info": {
      "codemirror_mode": {
        "name": "ipython",
        "version": 3
      },
      "file_extension": ".py",
      "mimetype": "text/x-python",
      "name": "python",
      "nbconvert_exporter": "python",
      "pygments_lexer": "ipython3",
      "version": "3.11.8"
    }
  },
  "nbformat": 4,
  "nbformat_minor": 0
}
