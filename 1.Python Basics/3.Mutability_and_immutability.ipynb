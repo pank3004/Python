{
 "cells": [
  {
   "cell_type": "code",
   "execution_count": 1,
   "id": "4d81e7d2-09fd-4fc3-ba03-b559a36397fa",
   "metadata": {},
   "outputs": [],
   "source": [
    "a = 3"
   ]
  },
  {
   "cell_type": "code",
   "execution_count": 2,
   "id": "800ad526-0ed9-4293-a590-6e6ad54b67d4",
   "metadata": {},
   "outputs": [
    {
     "data": {
      "text/plain": [
       "3"
      ]
     },
     "execution_count": 2,
     "metadata": {},
     "output_type": "execute_result"
    }
   ],
   "source": [
    "a"
   ]
  },
  {
   "cell_type": "code",
   "execution_count": 3,
   "id": "a748274d-c05a-4e9c-bfaf-ce681cf0e23c",
   "metadata": {},
   "outputs": [],
   "source": [
    "b = \"Ajay\""
   ]
  },
  {
   "cell_type": "code",
   "execution_count": 4,
   "id": "8d6bdf00-3137-471c-9b5b-9fa68227d794",
   "metadata": {},
   "outputs": [
    {
     "data": {
      "text/plain": [
       "'Ajay'"
      ]
     },
     "execution_count": 4,
     "metadata": {},
     "output_type": "execute_result"
    }
   ],
   "source": [
    "b"
   ]
  },
  {
   "cell_type": "code",
   "execution_count": 5,
   "id": "2c6945a3-79cf-467d-8e6c-10b859a91b6f",
   "metadata": {},
   "outputs": [
    {
     "data": {
      "text/plain": [
       "'a'"
      ]
     },
     "execution_count": 5,
     "metadata": {},
     "output_type": "execute_result"
    }
   ],
   "source": [
    "b[2]"
   ]
  },
  {
   "cell_type": "code",
   "execution_count": 6,
   "id": "d472b9e8-e568-416c-82d5-6276328729ba",
   "metadata": {},
   "outputs": [
    {
     "data": {
      "text/plain": [
       "'a'"
      ]
     },
     "execution_count": 6,
     "metadata": {},
     "output_type": "execute_result"
    }
   ],
   "source": [
    "b[-2]"
   ]
  },
  {
   "cell_type": "code",
   "execution_count": 7,
   "id": "e30279d1-d146-48de-9073-ef41529f3521",
   "metadata": {},
   "outputs": [],
   "source": [
    "#anaother type of data container\n",
    "list_cont = [1, 2, 3, \"Ajay\", 3+5j, True, \"a\"]"
   ]
  },
  {
   "cell_type": "code",
   "execution_count": 8,
   "id": "54fc3377-0e0d-468a-a76f-9389eee3cfd9",
   "metadata": {},
   "outputs": [
    {
     "data": {
      "text/plain": [
       "list"
      ]
     },
     "execution_count": 8,
     "metadata": {},
     "output_type": "execute_result"
    }
   ],
   "source": [
    "type(list_cont)"
   ]
  },
  {
   "cell_type": "code",
   "execution_count": 9,
   "id": "db9aad39-8e04-4c7b-8dd5-a2f4a0ee03e8",
   "metadata": {},
   "outputs": [
    {
     "data": {
      "text/plain": [
       "'Ajay'"
      ]
     },
     "execution_count": 9,
     "metadata": {},
     "output_type": "execute_result"
    }
   ],
   "source": [
    "list_cont[3]"
   ]
  },
  {
   "cell_type": "code",
   "execution_count": 10,
   "id": "219c8ed9-e6f8-452d-9699-da1c1a4a118e",
   "metadata": {},
   "outputs": [],
   "source": [
    "list_cont[3] = \"Bijay\""
   ]
  },
  {
   "cell_type": "code",
   "execution_count": 11,
   "id": "9679348a-6e62-465e-9150-a063349887f2",
   "metadata": {},
   "outputs": [
    {
     "data": {
      "text/plain": [
       "[1, 2, 3, 'Bijay', (3+5j), True, 'a']"
      ]
     },
     "execution_count": 11,
     "metadata": {},
     "output_type": "execute_result"
    }
   ],
   "source": [
    "list_cont"
   ]
  },
  {
   "cell_type": "code",
   "execution_count": 12,
   "id": "7230b583-fa3b-4d65-bf45-c5a45455b956",
   "metadata": {},
   "outputs": [],
   "source": [
    "#objects/container whose state or value can be changed after they are created are called mutable objects"
   ]
  },
  {
   "cell_type": "code",
   "execution_count": 13,
   "id": "87867dad-acc6-4542-b68b-1057b5610429",
   "metadata": {},
   "outputs": [],
   "source": [
    "b = \"pwskills\""
   ]
  },
  {
   "cell_type": "code",
   "execution_count": 14,
   "id": "ae8ef17c-05e2-43b0-b4c7-495123ecb66b",
   "metadata": {},
   "outputs": [
    {
     "data": {
      "text/plain": [
       "'s'"
      ]
     },
     "execution_count": 14,
     "metadata": {},
     "output_type": "execute_result"
    }
   ],
   "source": [
    "b[2]"
   ]
  },
  {
   "cell_type": "code",
   "execution_count": 15,
   "id": "e612d77c-f0e6-4575-b87d-9c69935a2f97",
   "metadata": {},
   "outputs": [
    {
     "ename": "TypeError",
     "evalue": "'str' object does not support item assignment",
     "output_type": "error",
     "traceback": [
      "\u001b[1;31m---------------------------------------------------------------------------\u001b[0m",
      "\u001b[1;31mTypeError\u001b[0m                                 Traceback (most recent call last)",
      "Cell \u001b[1;32mIn[15], line 1\u001b[0m\n\u001b[1;32m----> 1\u001b[0m \u001b[43mb\u001b[49m\u001b[43m[\u001b[49m\u001b[38;5;241;43m2\u001b[39;49m\u001b[43m]\u001b[49m \u001b[38;5;241m=\u001b[39m \u001b[38;5;124m\"\u001b[39m\u001b[38;5;124mI\u001b[39m\u001b[38;5;124m\"\u001b[39m\n",
      "\u001b[1;31mTypeError\u001b[0m: 'str' object does not support item assignment"
     ]
    }
   ],
   "source": [
    "b[2] = \"I\""
   ]
  },
  {
   "cell_type": "code",
   "execution_count": null,
   "id": "b254bf1d-a254-414c-8a20-1033779a5e36",
   "metadata": {},
   "outputs": [],
   "source": [
    "#objects/container whose state or value can not be changed after they are created are called immutable objects"
   ]
  }
 ],
 "metadata": {
  "kernelspec": {
   "display_name": "Python 3 (ipykernel)",
   "language": "python",
   "name": "python3"
  },
  "language_info": {
   "codemirror_mode": {
    "name": "ipython",
    "version": 3
   },
   "file_extension": ".py",
   "mimetype": "text/x-python",
   "name": "python",
   "nbconvert_exporter": "python",
   "pygments_lexer": "ipython3",
   "version": "3.11.8"
  }
 },
 "nbformat": 4,
 "nbformat_minor": 5
}
