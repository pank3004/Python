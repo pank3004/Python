{
 "cells": [
  {
   "cell_type": "markdown",
   "metadata": {},
   "source": [
    "## 1. Why might you choose a deque from the collections module to implement a queue instead of using a regular Python list?\n",
    "\n",
    "A deque (short for “double-ended queue”) from the collections module is often preferred over a regular Python list for implementing a queue due to its specific advantages:<br>\n",
    "\n",
    "*Fast Insertions and Deletions: <br>Deques allow efficient insertions and deletions at both the beginning and the end. In contrast, inserting or removing elements in the middle of a list can be relatively slow because it may require shifting other elements.<br>\n",
    "\n",
    "*Random Access:<br> While lists provide random access (i.e., you can access elements by index), deques are still quite efficient for most use cases and offer similar interface methods as lists.<br>\n",
    "\n",
    "*Invalidation of Pointers and Iterators:<br> Be aware that any insertion or deletion in a deque (except at the beginning or end) invalidates all pointers, references, and iterators that refer to its elements.\n"
   ]
  },
  {
   "cell_type": "code",
   "execution_count": 1,
   "metadata": {},
   "outputs": [
    {
     "name": "stdout",
     "output_type": "stream",
     "text": [
      "Queue after dequeuing 10: deque([20, 30, 40])\n"
     ]
    }
   ],
   "source": [
    "from collections import deque\n",
    "\n",
    "# Creating a deque\n",
    "my_queue = deque([10, 20, 30])\n",
    "\n",
    "# Enqueue (add to the end)\n",
    "my_queue.append(40)\n",
    "\n",
    "# Dequeue (remove from the beginning)\n",
    "removed_item = my_queue.popleft()\n",
    "\n",
    "print(f\"Queue after dequeuing {removed_item}: {my_queue}\")"
   ]
  },
  {
   "cell_type": "markdown",
   "metadata": {},
   "source": [
    "## 2.  Can you explain a real-world scenario where using a stack would be a more practical choice than a list for data storage and retrieval?\n",
    "\n",
    "A stack is a Last-In-First-Out (LIFO) collection, making it more practical than a list when you need to enforce top-only access (i.e., adding/removing elements only from the top).<br>\n",
    "\n",
    "Example:<br>\n",
    "Consider a web browser’s back button history. The most recent page visited is at the top of the stack, and when the user clicks “Back,” the top page is popped off the stack.\n"
   ]
  },
  {
   "cell_type": "markdown",
   "metadata": {},
   "source": [
    "## 3. What is the primary advantage of using sets in Python, and in what type of problem-solving scenarios are they most useful?\n",
    "\n",
    "Sets are unordered collections of unique elements.<br>\n",
    "\n",
    "Primary Advantages:<br>\n",
    "Fast Membership Testing  : Sets have an optimized method for checking whether a specific element is contained in the set (based on a hash table).<br>\n",
    "\n",
    "Deduplication   :  Sets automatically remove duplicate values.<br>\n",
    "\n",
    "Efficient Data Storage    : Sets are ideal for storing data that needs to be distinguished and kept separate.<br>"
   ]
  },
  {
   "cell_type": "code",
   "execution_count": 2,
   "metadata": {},
   "outputs": [
    {
     "name": "stdout",
     "output_type": "stream",
     "text": [
      "Yellow is not in the set.\n"
     ]
    }
   ],
   "source": [
    "# Creating a set\n",
    "unique_colors = {\"red\", \"green\", \"blue\"}\n",
    "\n",
    "# Checking membership\n",
    "if \"yellow\" in unique_colors:\n",
    "    print(\"Yellow is in the set.\")\n",
    "else:\n",
    "    print(\"Yellow is not in the set.\")\n",
    "\n",
    "# Adding an element\n",
    "unique_colors.add(\"yellow\")"
   ]
  },
  {
   "cell_type": "markdown",
   "metadata": {},
   "source": [
    "## 4. When might you choose to use an array instead of a list for storing numerical data in Python? What benefits do arrays offer in this context?\n",
    "\n",
    "Arrays are more memory-efficient than Python lists due to their homogeneous nature (all elements of the same type).<br>\n",
    "Arrays are great for numerical operations, as they allow element-wise mathematical operations."
   ]
  },
  {
   "cell_type": "code",
   "execution_count": 2,
   "metadata": {},
   "outputs": [
    {
     "name": "stdout",
     "output_type": "stream",
     "text": [
      "array('i', [10, 20, 30])\n",
      "array('i', [5, 10, 15])\n"
     ]
    }
   ],
   "source": [
    "from array import array\n",
    "\n",
    "# Creating an integer array\n",
    "num_array = array(\"i\", [10, 20, 30])\n",
    "\n",
    "# Performing an operation (e.g., dividing each element by 2)\n",
    "scaled_array = array(\"i\", [x // 2 for x in num_array])\n",
    "\n",
    "print(num_array)\n",
    "print(scaled_array)"
   ]
  },
  {
   "cell_type": "markdown",
   "metadata": {},
   "source": [
    "## 5. In Python, what's the primary difference between dictionaries and lists, and how does this difference impact their use cases in programming?\n",
    "\n",
    "Lists:<br>\n",
    "            Ordered collection of index-value pairs (like arrays).<br>\n",
    "            Elements accessed via indices.<br>\n",
    "            Can contain duplicate values.<br>\n",
    "            Mutable (can be modified after creation).<br>\n",
    "\n",
    "Dictionaries:<br>\n",
    "            Unordered collection of key-value pairs.<br>\n",
    "            Elements accessed via keys.<br>\n",
    "            Keys can be of any data type.<br>\n",
    "            No guarantee of maintaining order.<br>\n",
    "            Efficient for lookups.<br>"
   ]
  },
  {
   "cell_type": "code",
   "execution_count": 7,
   "metadata": {},
   "outputs": [
    {
     "name": "stdout",
     "output_type": "stream",
     "text": [
      "78\n"
     ]
    }
   ],
   "source": [
    "# Creating a dictionary\n",
    "student_grades = {\"Alice\": 90, \"Bob\": 85, \"Charlie\": 78}\n",
    "\n",
    "# Accessing a value\n",
    "charlie_grade = student_grades[\"Charlie\"]\n",
    "\n",
    "print(charlie_grade)"
   ]
  },
  {
   "cell_type": "code",
   "execution_count": 8,
   "metadata": {},
   "outputs": [],
   "source": [
    "#Thanks"
   ]
  }
 ],
 "metadata": {
  "kernelspec": {
   "display_name": "Python 3",
   "language": "python",
   "name": "python3"
  },
  "language_info": {
   "codemirror_mode": {
    "name": "ipython",
    "version": 3
   },
   "file_extension": ".py",
   "mimetype": "text/x-python",
   "name": "python",
   "nbconvert_exporter": "python",
   "pygments_lexer": "ipython3",
   "version": "3.12.0"
  }
 },
 "nbformat": 4,
 "nbformat_minor": 2
}
