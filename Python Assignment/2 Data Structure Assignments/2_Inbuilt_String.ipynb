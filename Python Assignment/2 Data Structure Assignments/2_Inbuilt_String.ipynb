{
 "cells": [
  {
   "cell_type": "code",
   "execution_count": null,
   "metadata": {},
   "outputs": [],
   "source": []
  },
  {
   "cell_type": "markdown",
   "metadata": {},
   "source": [
    "# 1. What is the purpose of the len() function in Python, and how can it be used with strings?\n",
    "\n",
    "The Purpose of len() Function in Python: The len() function is a built-in Python function that returns the length of an object. <br>It is commonly used to find the number of items in various data structures.<br> You can use it with strings, lists, tuples, dictionaries, and other iterable objects. For example:\n"
   ]
  },
  {
   "cell_type": "code",
   "execution_count": 1,
   "metadata": {},
   "outputs": [
    {
     "name": "stdout",
     "output_type": "stream",
     "text": [
      "The length of the string is: 13\n"
     ]
    }
   ],
   "source": [
    "text = \"Hello, World!\"\n",
    "length = len(text)\n",
    "print(f\"The length of the string is: {length}\")\n",
    "# Output: The length of the string is: 13"
   ]
  },
  {
   "cell_type": "markdown",
   "metadata": {},
   "source": [
    "# 2. How can you concatenate two or more strings in Python, and can you provide an example of string concatenation?\n",
    "\n",
    "String Concatenation in Python: String concatenation involves joining two or more strings together.<br> You can achieve this using the + operator or the join() method. Here are examples of both approaches:"
   ]
  },
  {
   "cell_type": "code",
   "execution_count": 6,
   "metadata": {},
   "outputs": [
    {
     "name": "stdout",
     "output_type": "stream",
     "text": [
      "Hello World\n",
      "Welcome to Python!\n"
     ]
    }
   ],
   "source": [
    "# Using the + operator\n",
    "str1 = \"Hello\"\n",
    "str2 = \"World\"\n",
    "result = str1 + \" \" + str2\n",
    "print(result)\n",
    "\n",
    "# Using the join() method\n",
    "words = [\"Welcome\", \"to\", \"Python!\"]\n",
    "joined_string = \" \".join(words)\n",
    "print(joined_string)"
   ]
  },
  {
   "cell_type": "markdown",
   "metadata": {},
   "source": [
    "# 3. What is string slicing in Python, and how can you extract a portion of a string using this method?\n",
    "\n",
    "String Slicing in Python: String slicing allows you to extract a portion of a string by specifying a start and end index. <br>You can also use a step value to skip characters. Here are some examples:"
   ]
  },
  {
   "cell_type": "code",
   "execution_count": 3,
   "metadata": {},
   "outputs": [
    {
     "name": "stdout",
     "output_type": "stream",
     "text": [
      "is\n",
      "amazing\n"
     ]
    }
   ],
   "source": [
    "text = \"Python is amazing\"\n",
    "# Extract \"is\"\n",
    "substring1 = text[7:9]\n",
    "# Extract \"amazing\"\n",
    "substring2 = text[10:]\n",
    "print(substring1)  \n",
    "print(substring2)  "
   ]
  },
  {
   "cell_type": "markdown",
   "metadata": {},
   "source": [
    "# 4. How can you change the case of a string in Python, and can you provide examples of both making a string all uppercase and all lowercase?\n",
    "\n",
    "To convert a string to all uppercase, use the upper() method:<br>\n",
    "To convert a string to all lowercase, use the lower() method:"
   ]
  },
  {
   "cell_type": "code",
   "execution_count": 4,
   "metadata": {},
   "outputs": [
    {
     "name": "stdout",
     "output_type": "stream",
     "text": [
      "HELLO\n",
      "world\n"
     ]
    }
   ],
   "source": [
    "original = \"hello\"\n",
    "uppercase = original.upper()\n",
    "print(uppercase)  \n",
    "\n",
    "\n",
    "original = \"WORLD\"\n",
    "lowercase = original.lower()\n",
    "print(lowercase)  "
   ]
  },
  {
   "cell_type": "markdown",
   "metadata": {},
   "source": [
    "# 5. What does the split() method do in Python, and how can you split a string using a specific delimiter?\n",
    "\n",
    "The split() Method: The split() method splits a string into a list of substrings based on a specified delimiter (default is whitespace).<br> You can also specify the maximum number of splits. Examples:"
   ]
  },
  {
   "cell_type": "code",
   "execution_count": 5,
   "metadata": {},
   "outputs": [
    {
     "name": "stdout",
     "output_type": "stream",
     "text": [
      "['Python', 'is', 'fun', 'and', 'versatile']\n",
      "['apple', 'banana', 'cherry', 'orange']\n"
     ]
    }
   ],
   "source": [
    "sentence = \"Python is fun and versatile\"\n",
    "words = sentence.split()  # Split by whitespace\n",
    "print(words)\n",
    "\n",
    "csv_data = \"apple,banana,cherry,orange\"\n",
    "fruits = csv_data.split(\",\")  # Split by comma\n",
    "print(fruits)"
   ]
  },
  {
   "cell_type": "code",
   "execution_count": 7,
   "metadata": {},
   "outputs": [],
   "source": [
    "# Thanks"
   ]
  }
 ],
 "metadata": {
  "kernelspec": {
   "display_name": "Python 3",
   "language": "python",
   "name": "python3"
  },
  "language_info": {
   "codemirror_mode": {
    "name": "ipython",
    "version": 3
   },
   "file_extension": ".py",
   "mimetype": "text/x-python",
   "name": "python",
   "nbconvert_exporter": "python",
   "pygments_lexer": "ipython3",
   "version": "3.12.0"
  }
 },
 "nbformat": 4,
 "nbformat_minor": 2
}
