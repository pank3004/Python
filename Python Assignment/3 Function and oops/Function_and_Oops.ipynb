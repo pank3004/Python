{
 "cells": [
  {
   "cell_type": "markdown",
   "metadata": {},
   "source": [
    "### 1.Explain the importance of Functions"
   ]
  },
  {
   "cell_type": "markdown",
   "metadata": {},
   "source": [
    "**Code Reusability and Modularity:**\n",
    "A Python function can be defined once and used many times. This property aids in code reuse—we avoid writing the same code repeatedly.<br>\n",
    "Functions allow you to keep your code short, concise, and readable. By encapsulating logic within functions, you create modular components that can be easily reused across different parts of your program1.\n",
    "\n",
    "**Increase Code Readability:**\n",
    "Functions break down complex logic into smaller, well-defined units. This enhances code readability and makes it easier to understand and maintain.<br>\n",
    "Instead of duplicating code, you can create functions for common tasks. These functions can be called multiple times with different inputs, promoting efficient code reuse.<br>\n",
    "**Modular Design:**\n",
    "Functions allow you to divide your program into smaller, manageable pieces. Each function serves a specific purpose, making your code organized and maintainable.<br>\n",
    "**Collaboration:**\n",
    "In team projects, functions facilitate collaboration. Different team members can work on separate functions, leading to efficient development<br>"
   ]
  },
  {
   "cell_type": "markdown",
   "metadata": {},
   "source": [
    "#### 2.Write a basic function to greet students"
   ]
  },
  {
   "cell_type": "code",
   "execution_count": 2,
   "metadata": {},
   "outputs": [
    {
     "data": {
      "text/plain": [
       "'Welcome students'"
      ]
     },
     "execution_count": 2,
     "metadata": {},
     "output_type": "execute_result"
    }
   ],
   "source": [
    "def greet(): \n",
    "    return \"Welcome students\"\n",
    "\n",
    "greet()"
   ]
  },
  {
   "cell_type": "markdown",
   "metadata": {},
   "source": [
    "#### 3.What is the difference between print and return statements"
   ]
  },
  {
   "cell_type": "markdown",
   "metadata": {},
   "source": [
    "**print Statement:**<br>\n",
    "The print statement is a built-in function in Python used to display output to the console or terminal.<br>\n",
    "It does not affect the flow of the program; it simply shows the specified text or values.<br>\n",
    "Use print when you want to show information to a human (for debugging, logging, or user interaction).<br>"
   ]
  },
  {
   "cell_type": "code",
   "execution_count": 9,
   "metadata": {},
   "outputs": [],
   "source": [
    "def add(x,y): \n",
    "    print(x+y)"
   ]
  },
  {
   "cell_type": "code",
   "execution_count": 10,
   "metadata": {},
   "outputs": [
    {
     "name": "stdout",
     "output_type": "stream",
     "text": [
      "11\n"
     ]
    },
    {
     "data": {
      "text/plain": [
       "NoneType"
      ]
     },
     "execution_count": 10,
     "metadata": {},
     "output_type": "execute_result"
    }
   ],
   "source": [
    "type(add(3,8))"
   ]
  },
  {
   "cell_type": "markdown",
   "metadata": {},
   "source": [
    "**return Statement:**<br>\n",
    "The return statement is used within a function to exit the function and return a value.<br>\n",
    "When a return statement is encountered, Python stops executing the current function and sends the specified value back to where the function was called.<br>\n",
    "It allows you to pass calculated results or data back to the calling code.<br>"
   ]
  },
  {
   "cell_type": "code",
   "execution_count": null,
   "metadata": {},
   "outputs": [],
   "source": [
    "def sum(x,y): \n",
    "    return x+y"
   ]
  },
  {
   "cell_type": "code",
   "execution_count": 11,
   "metadata": {},
   "outputs": [
    {
     "data": {
      "text/plain": [
       "int"
      ]
     },
     "execution_count": 11,
     "metadata": {},
     "output_type": "execute_result"
    }
   ],
   "source": [
    "type(sum(4,7))"
   ]
  },
  {
   "cell_type": "markdown",
   "metadata": {},
   "source": [
    "#### 4.What are *args and **kwargs"
   ]
  },
  {
   "cell_type": "markdown",
   "metadata": {},
   "source": [
    "***args (Non-Keyword Arguments):**\n",
    "The special syntax *args in function definitions allows you to pass a variable number of non-keyword arguments to a function.<br>\n",
    "It is used to pass a non-keyworded, variable-length argument list.<br>\n",
    "When you use *args, any number of extra arguments can be tacked on to your current formal parameters (including zero extra arguments).<br>\n"
   ]
  },
  {
   "cell_type": "code",
   "execution_count": 13,
   "metadata": {},
   "outputs": [
    {
     "name": "stdout",
     "output_type": "stream",
     "text": [
      "pankaj\n",
      "nitesh\n",
      "neeshu\n",
      "jp\n",
      "rudra\n"
     ]
    }
   ],
   "source": [
    "def student_names(*args): \n",
    "    for i in args: \n",
    "        print(i)\n",
    "\n",
    "student_names('pankaj','nitesh','neeshu', 'jp', 'rudra')"
   ]
  },
  {
   "cell_type": "markdown",
   "metadata": {},
   "source": [
    "****kwargs (Keyword Arguments):**\n",
    "The special syntax **kwargs in function definitions is used to pass a keyworded, variable-length argument list.<br>\n",
    "It allows you to pass through keyword arguments (and any number of them).<br>\n",
    "Think of **kwargs as a dictionary that maps each keyword to the value passed alongside it.<br>"
   ]
  },
  {
   "cell_type": "code",
   "execution_count": 19,
   "metadata": {},
   "outputs": [
    {
     "name": "stdout",
     "output_type": "stream",
     "text": [
      "name pankaj\n",
      "age 20\n",
      "course ds with gen ai\n"
     ]
    }
   ],
   "source": [
    "def student_details(**kwargs): \n",
    "    for key, value in kwargs.items(): \n",
    "        print(key, value)\n",
    "\n",
    "student_details(name='pankaj', age=20, course='ds with gen ai')"
   ]
  },
  {
   "cell_type": "markdown",
   "metadata": {},
   "source": [
    "\n",
    "#### 5.Explain the iterator function"
   ]
  },
  {
   "cell_type": "markdown",
   "metadata": {},
   "source": [
    "To create an iterator, we use the iter() method on an iterable object (like a list or a string). This method returns an iterator object.<br>\n",
    "The next() method is used to retrieve the next value from the iterator.<br>\n",
    "When you use a for loop to traverse an iterable, it internally uses the iter() method to get an iterator object and then repeatedly calls next() to iterate over the elements.<br>\n",
    "The next() method raises a StopIteration exception when there are no more items to iterate.<br>"
   ]
  },
  {
   "cell_type": "code",
   "execution_count": 13,
   "metadata": {},
   "outputs": [],
   "source": [
    "name='raja'"
   ]
  },
  {
   "cell_type": "code",
   "execution_count": 14,
   "metadata": {},
   "outputs": [],
   "source": [
    "iter_obj=iter(name)"
   ]
  },
  {
   "cell_type": "code",
   "execution_count": 15,
   "metadata": {},
   "outputs": [
    {
     "data": {
      "text/plain": [
       "<str_ascii_iterator at 0x1abb6173a00>"
      ]
     },
     "execution_count": 15,
     "metadata": {},
     "output_type": "execute_result"
    }
   ],
   "source": [
    "iter_obj"
   ]
  },
  {
   "cell_type": "code",
   "execution_count": 28,
   "metadata": {},
   "outputs": [
    {
     "data": {
      "text/plain": [
       "str_ascii_iterator"
      ]
     },
     "execution_count": 28,
     "metadata": {},
     "output_type": "execute_result"
    }
   ],
   "source": [
    "type(iter_obj)"
   ]
  },
  {
   "cell_type": "code",
   "execution_count": 17,
   "metadata": {},
   "outputs": [
    {
     "data": {
      "text/plain": [
       "'r'"
      ]
     },
     "execution_count": 17,
     "metadata": {},
     "output_type": "execute_result"
    }
   ],
   "source": [
    "next(iter_obj)"
   ]
  },
  {
   "cell_type": "code",
   "execution_count": 18,
   "metadata": {},
   "outputs": [
    {
     "data": {
      "text/plain": [
       "'a'"
      ]
     },
     "execution_count": 18,
     "metadata": {},
     "output_type": "execute_result"
    }
   ],
   "source": [
    "next(iter_obj)"
   ]
  },
  {
   "cell_type": "code",
   "execution_count": 19,
   "metadata": {},
   "outputs": [
    {
     "data": {
      "text/plain": [
       "'j'"
      ]
     },
     "execution_count": 19,
     "metadata": {},
     "output_type": "execute_result"
    }
   ],
   "source": [
    "next(iter_obj)"
   ]
  },
  {
   "cell_type": "code",
   "execution_count": 20,
   "metadata": {},
   "outputs": [
    {
     "data": {
      "text/plain": [
       "'a'"
      ]
     },
     "execution_count": 20,
     "metadata": {},
     "output_type": "execute_result"
    }
   ],
   "source": [
    "next(iter_obj)"
   ]
  },
  {
   "cell_type": "code",
   "execution_count": 21,
   "metadata": {},
   "outputs": [
    {
     "ename": "StopIteration",
     "evalue": "",
     "output_type": "error",
     "traceback": [
      "\u001b[1;31m---------------------------------------------------------------------------\u001b[0m",
      "\u001b[1;31mStopIteration\u001b[0m                             Traceback (most recent call last)",
      "Cell \u001b[1;32mIn[21], line 1\u001b[0m\n\u001b[1;32m----> 1\u001b[0m \u001b[38;5;28;43mnext\u001b[39;49m\u001b[43m(\u001b[49m\u001b[43miter_obj\u001b[49m\u001b[43m)\u001b[49m\n",
      "\u001b[1;31mStopIteration\u001b[0m: "
     ]
    }
   ],
   "source": [
    "next(iter_obj)"
   ]
  },
  {
   "cell_type": "markdown",
   "metadata": {},
   "source": [
    "#### 6.Write a code that generates the squares of numbers from 1 to n using a generator"
   ]
  },
  {
   "cell_type": "code",
   "execution_count": 40,
   "metadata": {},
   "outputs": [],
   "source": [
    "def find_square(n):\n",
    "    for i in range(1,n+1) : \n",
    "        yield i**2\n",
    "\n",
    "gen=find_square(5)"
   ]
  },
  {
   "cell_type": "code",
   "execution_count": 41,
   "metadata": {},
   "outputs": [
    {
     "data": {
      "text/plain": [
       "generator"
      ]
     },
     "execution_count": 41,
     "metadata": {},
     "output_type": "execute_result"
    }
   ],
   "source": [
    "type(gen)"
   ]
  },
  {
   "cell_type": "code",
   "execution_count": 42,
   "metadata": {},
   "outputs": [
    {
     "data": {
      "text/plain": [
       "1"
      ]
     },
     "execution_count": 42,
     "metadata": {},
     "output_type": "execute_result"
    }
   ],
   "source": [
    "next(gen)"
   ]
  },
  {
   "cell_type": "code",
   "execution_count": 43,
   "metadata": {},
   "outputs": [
    {
     "data": {
      "text/plain": [
       "4"
      ]
     },
     "execution_count": 43,
     "metadata": {},
     "output_type": "execute_result"
    }
   ],
   "source": [
    "next(gen)"
   ]
  },
  {
   "cell_type": "code",
   "execution_count": 44,
   "metadata": {},
   "outputs": [
    {
     "data": {
      "text/plain": [
       "9"
      ]
     },
     "execution_count": 44,
     "metadata": {},
     "output_type": "execute_result"
    }
   ],
   "source": [
    "next(gen)"
   ]
  },
  {
   "cell_type": "code",
   "execution_count": 45,
   "metadata": {},
   "outputs": [
    {
     "data": {
      "text/plain": [
       "16"
      ]
     },
     "execution_count": 45,
     "metadata": {},
     "output_type": "execute_result"
    }
   ],
   "source": [
    "next(gen)"
   ]
  },
  {
   "cell_type": "code",
   "execution_count": 46,
   "metadata": {},
   "outputs": [
    {
     "data": {
      "text/plain": [
       "25"
      ]
     },
     "execution_count": 46,
     "metadata": {},
     "output_type": "execute_result"
    }
   ],
   "source": [
    "next(gen)"
   ]
  },
  {
   "cell_type": "code",
   "execution_count": 47,
   "metadata": {},
   "outputs": [
    {
     "ename": "StopIteration",
     "evalue": "",
     "output_type": "error",
     "traceback": [
      "\u001b[1;31m---------------------------------------------------------------------------\u001b[0m",
      "\u001b[1;31mStopIteration\u001b[0m                             Traceback (most recent call last)",
      "Cell \u001b[1;32mIn[47], line 1\u001b[0m\n\u001b[1;32m----> 1\u001b[0m \u001b[38;5;28;43mnext\u001b[39;49m\u001b[43m(\u001b[49m\u001b[43mgen\u001b[49m\u001b[43m)\u001b[49m\n",
      "\u001b[1;31mStopIteration\u001b[0m: "
     ]
    }
   ],
   "source": [
    "next(gen)"
   ]
  },
  {
   "cell_type": "markdown",
   "metadata": {},
   "source": [
    "#### 7.Write a code that generates palindromic numbers up to n using a generator"
   ]
  },
  {
   "cell_type": "code",
   "execution_count": 8,
   "metadata": {},
   "outputs": [
    {
     "name": "stdout",
     "output_type": "stream",
     "text": [
      "1\n",
      "2\n",
      "3\n",
      "4\n",
      "5\n",
      "6\n",
      "7\n",
      "8\n",
      "9\n",
      "11\n",
      "22\n",
      "33\n",
      "44\n",
      "55\n",
      "66\n",
      "77\n",
      "88\n",
      "99\n",
      "101\n",
      "111\n"
     ]
    }
   ],
   "source": [
    "def generate_pal(n): \n",
    "    for i in range(1,n+1): \n",
    "        if str(i)==str(i)[::-1]: \n",
    "            yield(i)\n",
    "n=int(input(\"Enter your number: \"))\n",
    "for i in generate_pal(n): \n",
    "    print(i)"
   ]
  },
  {
   "cell_type": "markdown",
   "metadata": {},
   "source": [
    "#### 8.Write a code that generates even numbers from 2 to n using a generator"
   ]
  },
  {
   "cell_type": "code",
   "execution_count": 4,
   "metadata": {},
   "outputs": [
    {
     "name": "stdout",
     "output_type": "stream",
     "text": [
      "2\n",
      "4\n",
      "6\n",
      "8\n",
      "10\n",
      "12\n",
      "14\n",
      "16\n"
     ]
    }
   ],
   "source": [
    "def findEven(n): \n",
    "    for i in range(2,n+1): \n",
    "        if i%2==0: \n",
    "            yield(i)\n",
    "\n",
    "n=int(input(\"Enter a number: \"))\n",
    "gen=findEven(n)\n",
    "\n",
    "for i in gen: \n",
    "    print(i)"
   ]
  },
  {
   "cell_type": "markdown",
   "metadata": {},
   "source": [
    "#### 9.Write a code that generates powers of two up to n using a generator"
   ]
  },
  {
   "cell_type": "code",
   "execution_count": 2,
   "metadata": {},
   "outputs": [
    {
     "name": "stdout",
     "output_type": "stream",
     "text": [
      "1\n",
      "2\n",
      "4\n",
      "8\n",
      "16\n",
      "32\n",
      "64\n"
     ]
    }
   ],
   "source": [
    "def power(n): \n",
    "    pow=1\n",
    "    while pow<=n: \n",
    "        yield(pow)\n",
    "        pow=pow*2\n",
    "n=int(input(\"Enter a number: \"))\n",
    "gen=power(n)\n",
    "\n",
    "for i in gen: \n",
    "    print(i)"
   ]
  },
  {
   "cell_type": "markdown",
   "metadata": {},
   "source": [
    "#### 10.Write a code that generates prime numbers up to n using a generator"
   ]
  },
  {
   "cell_type": "code",
   "execution_count": 14,
   "metadata": {},
   "outputs": [
    {
     "name": "stdout",
     "output_type": "stream",
     "text": [
      "2\n",
      "3\n",
      "4\n",
      "5\n",
      "6\n",
      "7\n",
      "8\n"
     ]
    },
    {
     "ename": "NameError",
     "evalue": "name 'j' is not defined",
     "output_type": "error",
     "traceback": [
      "\u001b[1;31m---------------------------------------------------------------------------\u001b[0m",
      "\u001b[1;31mNameError\u001b[0m                                 Traceback (most recent call last)",
      "Cell \u001b[1;32mIn[14], line 9\u001b[0m\n\u001b[0;32m      6\u001b[0m                 \u001b[38;5;28;01mbreak\u001b[39;00m\n\u001b[0;32m      7\u001b[0m         \u001b[38;5;28mprint\u001b[39m(i)\n\u001b[1;32m----> 9\u001b[0m \u001b[43mprime\u001b[49m\u001b[43m(\u001b[49m\u001b[38;5;241;43m23\u001b[39;49m\u001b[43m)\u001b[49m\n",
      "Cell \u001b[1;32mIn[14], line 5\u001b[0m, in \u001b[0;36mprime\u001b[1;34m(n)\u001b[0m\n\u001b[0;32m      3\u001b[0m \u001b[38;5;28;01mfor\u001b[39;00m i \u001b[38;5;129;01min\u001b[39;00m \u001b[38;5;28mrange\u001b[39m(\u001b[38;5;241m2\u001b[39m, n\u001b[38;5;241m+\u001b[39m\u001b[38;5;241m1\u001b[39m): \n\u001b[0;32m      4\u001b[0m     \u001b[38;5;28;01mfor\u001b[39;00m i \u001b[38;5;129;01min\u001b[39;00m \u001b[38;5;28mrange\u001b[39m(\u001b[38;5;241m2\u001b[39m,\u001b[38;5;28mint\u001b[39m(math\u001b[38;5;241m.\u001b[39msqrt(i))): \n\u001b[1;32m----> 5\u001b[0m         \u001b[38;5;28;01mif\u001b[39;00m i\u001b[38;5;241m%\u001b[39m\u001b[43mj\u001b[49m\u001b[38;5;241m==\u001b[39m\u001b[38;5;241m0\u001b[39m: \n\u001b[0;32m      6\u001b[0m             \u001b[38;5;28;01mbreak\u001b[39;00m\n\u001b[0;32m      7\u001b[0m     \u001b[38;5;28mprint\u001b[39m(i)\n",
      "\u001b[1;31mNameError\u001b[0m: name 'j' is not defined"
     ]
    }
   ],
   "source": [
    "import math\n",
    "def prime(n):\n",
    "    for i in range(2, n+1): \n",
    "        for i in range(2,int(math.sqrt(i))): \n",
    "            if i%j==0: \n",
    "                break\n",
    "        print(i)\n",
    "\n",
    "prime(23)"
   ]
  },
  {
   "cell_type": "code",
   "execution_count": 5,
   "metadata": {},
   "outputs": [],
   "source": [
    "import math"
   ]
  },
  {
   "cell_type": "code",
   "execution_count": 6,
   "metadata": {},
   "outputs": [
    {
     "data": {
      "text/plain": [
       "2.0"
      ]
     },
     "execution_count": 6,
     "metadata": {},
     "output_type": "execute_result"
    }
   ],
   "source": [
    "math.sqrt(4)"
   ]
  },
  {
   "cell_type": "code",
   "execution_count": null,
   "metadata": {},
   "outputs": [],
   "source": []
  },
  {
   "cell_type": "code",
   "execution_count": null,
   "metadata": {},
   "outputs": [],
   "source": []
  },
  {
   "cell_type": "code",
   "execution_count": null,
   "metadata": {},
   "outputs": [],
   "source": []
  },
  {
   "cell_type": "code",
   "execution_count": null,
   "metadata": {},
   "outputs": [],
   "source": [
    "\n",
    "\n",
    "Write a code that uses a lambda function to calculate the sum of two numbers\n",
    "Write a code that uses a lambda function to calculate the square of a given number\n",
    "Write a code that uses a lambda function to check whether a given number is even or odd\n",
    "Write a code that uses a lambda function to concatenate two strings\n",
    "Write a code that uses a lambda function to find the maximum of three given numbers\n",
    "Write a code that generates the squares of even numbers from a given list\n",
    "Write a code that calculates the product of positive numbers from a given list\n",
    "Write a code that doubles the values of odd numbers from a given list\n",
    "Write a code that calculates the sum of cubes of numbers from a given list\n",
    "Write a code that filters out prime numbers from a given list\n",
    "Write a code that uses a lambda function to calculate the sum of two numbers\n",
    "Write a code that uses a lambda function to calculate the square of a given number\n",
    "Write a code that uses a lambda function to check whether a given number is even or odd\n",
    "Write a code that uses a lambda function to concatenate two strings\n",
    "Write a code that uses a lambda function to find the maximum of three given numbers\n",
    "What is encapsulation in OOP?\n",
    "\n",
    "\fExplain the use of access modifiers in Python classes\n",
    "What is inheritance in OOP\n",
    "Define polymorphism in OOP\n",
    "Explain method overriding in Python\n",
    "Define a parent class Animal with a method make_sound that prints \"Generic animal sound\". Create a\n",
    "child class Dog inheriting from Animal with a method make_sound that prints \"Woof!\"\n",
    "Define a method move in the Animal class that prints \"Animal moves\". Override the move method in the\n",
    "Dog class to print \"Dog runs.\n",
    "Create a class Mammal with a method reproduce that prints \"Giving birth to live young.\" Create a class\n",
    "DogMammal inheriting from both Dog and Mammal\n",
    "Create a class GermanShepherd inheriting from Dog and override the make_sound method to print\n",
    "\"Bark!\n",
    "Define constructors in both the Animal and Dog classes with different initialization parameters\n",
    "What is abstraction in Python? How is it implemented\n",
    "Explain the importance of abstraction in object-oriented programming\n",
    "How are abstract methods different from regular methods in Python\n",
    "How can you achieve abstraction using interfaces in Python\n",
    "Can you provide an example of how abstraction can be utilized to create a common interface for a group\n",
    "of related classes in Python\n",
    "How does Python achieve polymorphism through method overriding\n",
    "Define a base class with a method and a subclass that overrides the method\n",
    "Define a base class and multiple subclasses with overridden methods\n",
    "How does polymorphism improve code readability and reusability\n",
    "Describe how Python supports polymorphism with duck typing\n",
    "How do you achieve encapsulation in Python\n",
    "Can encapsulation be bypassed in Python? If so, how\n",
    "Implement a class BankAccount with a private balance attribute. Include methods to deposit, withdraw,\n",
    "and check the balance\n",
    "Develop a Person class with private attributes name and email, and methods to set and get the email\n",
    "Why is encapsulation considered a pillar of object-oriented programming (OOP)?\n",
    "\n",
    "\fCreate a decorator in Python that adds functionality to a simple function by printing a message before\n",
    "and after the function execution\n",
    "Modify the decorator to accept arguments and print the function name along with the message\n",
    "Create two decorators, and apply them to a single function. Ensure that they execute in the order they are\n",
    "applied\n",
    "Modify the decorator to accept and pass function arguments to the wrapped function\n",
    "Create a decorator that preserves the metadata of the original function\n",
    "Create a Python class `Calculator` with a static method `add` that takes in two numbers and returns their\n",
    "sum\n",
    "Create a Python class `Employee` with a class `method get_employee_count` that returns the total\n",
    "number of employees created\n",
    "Create a Python class `StringFormatter` with a static method `reverse_string` that takes a string as input\n",
    "and returns its reverse\n",
    "Create a Python class `Circle` with a class method `calculate_area` that calculates the area of a circle\n",
    "given its radius\n",
    "Create a Python class `TemperatureConverter` with a static method `celsius_to_fahrenheit` that converts\n",
    "Celsius to Fahrenheit\n",
    "What is the purpose of the __str__() method in Python classes? Provide an example\n",
    "How does the __len__() method work in Python? Provide an example\n",
    "Explain the usage of the __add__() method in Python classes. Provide an example\n",
    "What is the purpose of the __getitem__() method in Python? Provide an example\n",
    "Explain the usage of the __iter__() and __next__() methods in Python. Provide an example using\n",
    "iterators\n",
    "What is the purpose of a getter method in Python? Provide an example demonstrating the use of a getter\n",
    "method using property decorators\n",
    "Explain the role of setter methods in Python. Demonstrate how to use a setter method to modify a class\n",
    "attribute using property decorators\n",
    "What is the purpose of the @property decorator in Python? Provide an example illustrating its usage\n",
    "Explain the use of the @deleter decorator in Python property decorators. Provide a code example\n",
    "demonstrating its application\n",
    "How does encapsulation relate to property decorators in Python? Provide an example showcasing\n",
    "encapsulation using property decorators.\n",
    "\n",
    "\n",
    "\f"
   ]
  },
  {
   "cell_type": "markdown",
   "metadata": {},
   "source": []
  },
  {
   "cell_type": "markdown",
   "metadata": {},
   "source": []
  },
  {
   "cell_type": "markdown",
   "metadata": {},
   "source": []
  }
 ],
 "metadata": {
  "kernelspec": {
   "display_name": "Python 3",
   "language": "python",
   "name": "python3"
  },
  "language_info": {
   "codemirror_mode": {
    "name": "ipython",
    "version": 3
   },
   "file_extension": ".py",
   "mimetype": "text/x-python",
   "name": "python",
   "nbconvert_exporter": "python",
   "pygments_lexer": "ipython3",
   "version": "3.12.0"
  }
 },
 "nbformat": 4,
 "nbformat_minor": 2
}
