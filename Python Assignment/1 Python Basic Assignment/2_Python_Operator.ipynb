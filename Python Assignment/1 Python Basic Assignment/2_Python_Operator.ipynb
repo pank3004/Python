{
 "cells": [
  {
   "cell_type": "markdown",
   "metadata": {},
   "source": [
    "1 Calculate the sum, difference, product, and quotient of two numbers.<br>\n",
    "2 Perform various assignment operations on a variable.<br>\n",
    "3 Compare two numbers and print the results.<br>\n",
    "4 Check conditions using logical operators.<br>\n",
    "5 Check the identity of variables.<br>\n",
    "6 Use unary operators to change the sign of a number.<br>\n",
    "7 Perform bitwise operations on any two integers.<br>\n",
    "8 Use the ternary operator to assign values based on conditions."
   ]
  },
  {
   "cell_type": "code",
   "execution_count": 1,
   "metadata": {},
   "outputs": [
    {
     "name": "stdout",
     "output_type": "stream",
     "text": [
      "25\n",
      "5\n",
      "150\n",
      "1.5\n"
     ]
    }
   ],
   "source": [
    "# 1\n",
    "\n",
    "a=int(input(\"Enter a number a: \"))\n",
    "b=int(input(\"Enter a number b: \"))\n",
    "sum=a+b\n",
    "diff=a-b\n",
    "product=a*b\n",
    "quotient=a/b\n",
    "print(sum)\n",
    "print(diff)\n",
    "print(product)\n",
    "print(quotient)"
   ]
  },
  {
   "cell_type": "code",
   "execution_count": 33,
   "metadata": {},
   "outputs": [
    {
     "name": "stdout",
     "output_type": "stream",
     "text": [
      "10\n",
      "20\n",
      "0\n",
      "100\n",
      "1.5\n",
      "50\n",
      "1\n",
      "9\n",
      "2\n",
      "7\n",
      "7\n",
      "1\n",
      "6\n"
     ]
    }
   ],
   "source": [
    "# assignment operator \n",
    "\n",
    "#num=int(input(\"Enter a number: \"))\n",
    "\n",
    "# =\n",
    "num=10\n",
    "print(num)   # num=10\n",
    "\n",
    "# +=\n",
    "num+=num\n",
    "print(num)   # num=20\n",
    "\n",
    "# -=\n",
    "num-=num\n",
    "print(num)   # num=0\n",
    "\n",
    "# *=\n",
    "num=10\n",
    "num*=num\n",
    "print(num)   # num=100\n",
    "\n",
    "# /=\n",
    "a=150\n",
    "a/=num\n",
    "print(a)     # a=1.5\n",
    "\n",
    "# %=\n",
    "b=450\n",
    "b%=num    # b=b%num>>450%100>>50\n",
    "print(b)   # b=50\n",
    "\n",
    "# //=\n",
    "c=75\n",
    "c//=b\n",
    "print(c)    # c=1  # only integer part of qutient\n",
    "\n",
    "# **=\n",
    "d=3\n",
    "num=2\n",
    "d**=num   # d=9, d=d**num>>> d to the pow num\n",
    "print(d)\n",
    "\n",
    "# &=\n",
    "e=3\n",
    "f=6\n",
    "e&=f   # e=e&f >>>   3 & 6 >>>> 011 & 110  >>> 010  >> 2\n",
    "print(e)   # e=2\n",
    "\n",
    "# |=\n",
    "a=3\n",
    "b=4\n",
    "a|=b   # a=a|b >> 3|4  >> 011 | 100  >>   111  >> 7\n",
    "print(a)\n",
    "\n",
    "# ^=\n",
    "a=3\n",
    "b=4\n",
    "a^=b    # a=3^4 (xor)  >> 011 ^ 100  >> 111>> 7  <<< single one that is 0\n",
    "print(a)\n",
    "\n",
    "# >>=(right shift)\n",
    "a=7\n",
    "b=2\n",
    "a>>=b   #   111>>2 ===001  >> 1\n",
    "print(a)\n",
    "\n",
    "# <<=(right shift)\n",
    "a=3\n",
    "b=1\n",
    "a<<=b    # 011<<1  === 110  >z>>>> 6\n",
    "print(a)"
   ]
  },
  {
   "cell_type": "code",
   "execution_count": 35,
   "metadata": {},
   "outputs": [
    {
     "data": {
      "text/plain": [
       "False"
      ]
     },
     "execution_count": 35,
     "metadata": {},
     "output_type": "execute_result"
    }
   ],
   "source": [
    "# 3 compare 2 numbers\n",
    "num1=4\n",
    "num2=6\n",
    "\n",
    "num1==num2"
   ]
  },
  {
   "cell_type": "code",
   "execution_count": 42,
   "metadata": {},
   "outputs": [
    {
     "name": "stdout",
     "output_type": "stream",
     "text": [
      "True\n",
      "False\n",
      "False\n"
     ]
    }
   ],
   "source": [
    "# 4 logical operator\n",
    "x=7\n",
    "y=15\n",
    "\n",
    "print(x>5 & y<20)         # and\n",
    "print(x>5 | y<2)       # or\n",
    "print(not(x>5))           # not"
   ]
  },
  {
   "cell_type": "code",
   "execution_count": 44,
   "metadata": {},
   "outputs": [
    {
     "name": "stdout",
     "output_type": "stream",
     "text": [
      "140735950379080\n",
      "140735950379080\n",
      "x and y refer to the same object.\n"
     ]
    }
   ],
   "source": [
    "# 5 identity of the variables\n",
    "x = 42\n",
    "y = x\n",
    "\n",
    "print(id(x))\n",
    "print(id(y))\n",
    "\n",
    "if id(x) == id(y):\n",
    "    print(\"x and y refer to the same object.\")\n",
    "else:\n",
    "    print(\"x and y refer to different objects.\")\n"
   ]
  },
  {
   "cell_type": "code",
   "execution_count": 45,
   "metadata": {},
   "outputs": [
    {
     "name": "stdout",
     "output_type": "stream",
     "text": [
      "26\n",
      "-26\n"
     ]
    }
   ],
   "source": [
    "# 6 unary opr\n",
    "num=26\n",
    "print(26)\n",
    "num=-num\n",
    "print(num)"
   ]
  },
  {
   "cell_type": "code",
   "execution_count": 46,
   "metadata": {},
   "outputs": [
    {
     "name": "stdout",
     "output_type": "stream",
     "text": [
      "2\n",
      "7\n",
      "7\n",
      "1\n",
      "6\n",
      "-4\n"
     ]
    }
   ],
   "source": [
    "# 7 bitwise operator\n",
    "\n",
    "# &=\n",
    "e=3\n",
    "f=6\n",
    "e&=f   # e=e&f >>>   3 & 6 >>>> 011 & 110  >>> 010  >> 2\n",
    "print(e)   # e=2\n",
    "\n",
    "# |=\n",
    "a=3\n",
    "b=4\n",
    "a|=b   # a=a|b >> 3|4  >> 011 | 100  >>   111  >> 7\n",
    "print(a)\n",
    "\n",
    "# ^=  # bitwise xor\n",
    "a=3\n",
    "b=4\n",
    "a^=b    # a=3^4 (xor)  >> 011 ^ 100  >> 111>> 7  <<< single one that is 0\n",
    "print(a)\n",
    "\n",
    "# >>=(right shift)\n",
    "a=7\n",
    "b=2\n",
    "a>>=b   #   111>>2 ===001  >> 1\n",
    "print(a)\n",
    "\n",
    "# <<=(right shift)\n",
    "a=3\n",
    "b=1\n",
    "a<<=b    # 011<<1  === 110  >z>>>> 6\n",
    "print(a)\n",
    "\n",
    "# ~\n",
    "num=3\n",
    "print(~num)"
   ]
  },
  {
   "cell_type": "code",
   "execution_count": 54,
   "metadata": {},
   "outputs": [
    {
     "name": "stdout",
     "output_type": "stream",
     "text": [
      "min is :  24\n"
     ]
    }
   ],
   "source": [
    "# 8 ternary operator \n",
    "a=24\n",
    "b=56\n",
    "min=a if a<b else b\n",
    "print(\"min is : \", min)"
   ]
  },
  {
   "cell_type": "code",
   "execution_count": null,
   "metadata": {},
   "outputs": [],
   "source": []
  }
 ],
 "metadata": {
  "kernelspec": {
   "display_name": "Python 3",
   "language": "python",
   "name": "python3"
  },
  "language_info": {
   "codemirror_mode": {
    "name": "ipython",
    "version": 3
   },
   "file_extension": ".py",
   "mimetype": "text/x-python",
   "name": "python",
   "nbconvert_exporter": "python",
   "pygments_lexer": "ipython3",
   "version": "3.11.8"
  }
 },
 "nbformat": 4,
 "nbformat_minor": 2
}
