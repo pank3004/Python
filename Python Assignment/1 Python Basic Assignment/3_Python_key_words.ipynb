{
 "cells": [
  {
   "cell_type": "markdown",
   "metadata": {},
   "source": [
    "1 Explain the significance of Python keywords and provide examples of five keywords<br>"
   ]
  },
  {
   "cell_type": "code",
   "execution_count": 3,
   "metadata": {},
   "outputs": [],
   "source": [
    "# Significance of Python Keywords: Keywords are reserved words with predefined meanings in Python. \n",
    "# They form the syntax of the language and cannot be used as identifiers.\n",
    "# They convey specific functionalities to the interpreter. Examples include if, else, for, while, def."
   ]
  },
  {
   "cell_type": "markdown",
   "metadata": {},
   "source": [
    "2 Descri0e the rules for defining identifiers in Python and provide an example<br>"
   ]
  },
  {
   "cell_type": "code",
   "execution_count": 5,
   "metadata": {},
   "outputs": [],
   "source": [
    "# Rules for Identifiers in Python:\n",
    "\n",
    "# Must start with a letter or underscore.\n",
    "# Subsequent characters can be letters, digits, or underscores.\n",
    "# Case-sensitive.\n",
    "# Cannot be a Python keyword.\n",
    "# Example: my_variable, _my_variable, variable123."
   ]
  },
  {
   "cell_type": "markdown",
   "metadata": {},
   "source": [
    "3 What are comments in Python, and why are they usefull Provide an example<br>"
   ]
  },
  {
   "cell_type": "code",
   "execution_count": 6,
   "metadata": {},
   "outputs": [],
   "source": [
    "# Comments in Python:\n",
    "\n",
    "# Comments are ignored by the interpreter.\n",
    "# Used for code documentation and explanation.\n",
    "# Improve code readability and maintainability."
   ]
  },
  {
   "cell_type": "markdown",
   "metadata": {},
   "source": [
    "4 Why is proper indentation important in Python<br>"
   ]
  },
  {
   "cell_type": "code",
   "execution_count": 7,
   "metadata": {},
   "outputs": [],
   "source": [
    "# Importance of Proper Indentation:\n",
    "\n",
    "# Defines the structure and hierarchy of code blocks.\n",
    "# Facilitates readability and understanding of code.\n",
    "# Essential for correct interpretation by the Python interpreter."
   ]
  },
  {
   "cell_type": "markdown",
   "metadata": {},
   "source": [
    "5 What happens if indentation is incorrect in Python<br>"
   ]
  },
  {
   "cell_type": "code",
   "execution_count": 8,
   "metadata": {},
   "outputs": [],
   "source": [
    "# Incorrect Indentation in Python:\n",
    "\n",
    "# Leads to syntax errors or unexpected behavior.\n",
    "# Code blocks may not execute as intended.\n",
    "# Can cause logical errors."
   ]
  },
  {
   "cell_type": "markdown",
   "metadata": {},
   "source": [
    "6 Differentiate between expression and statement in Python with examples<br>"
   ]
  },
  {
   "cell_type": "code",
   "execution_count": 9,
   "metadata": {},
   "outputs": [],
   "source": [
    "# Expression vs Statement:\n",
    "\n",
    "# Expression: A combination of values, variables, and operators that evaluates to a single value. Example: 2 + 3, x * 5.\n",
    "# Statement: A complete line of code that performs an action. Examples: Assignment statement x = 5, function call statement print(\"Hello, World!\")."
   ]
  }
 ],
 "metadata": {
  "kernelspec": {
   "display_name": "Python 3",
   "language": "python",
   "name": "python3"
  },
  "language_info": {
   "codemirror_mode": {
    "name": "ipython",
    "version": 3
   },
   "file_extension": ".py",
   "mimetype": "text/x-python",
   "name": "python",
   "nbconvert_exporter": "python",
   "pygments_lexer": "ipython3",
   "version": "3.12.0"
  }
 },
 "nbformat": 4,
 "nbformat_minor": 2
}
