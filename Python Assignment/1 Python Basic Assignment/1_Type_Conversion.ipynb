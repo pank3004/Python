{
 "cells": [
  {
   "cell_type": "markdown",
   "metadata": {},
   "source": [
    "1 Covert a iteger to a floatig-point umber.<br>\n",
    "2 Covert a float to a iteger.<br>\n",
    "3 Covert a iteger to a strig.<br>\n",
    "4 Covert a list to a tuple.<br>\n",
    "5 Covert a tuple to a list.<br>\n",
    "6 Covert a non-zero number to boolean.<br>\n",
    "7 Covert a decimal number to binary.<br>"
   ]
  },
  {
   "cell_type": "code",
   "execution_count": 3,
   "metadata": {},
   "outputs": [
    {
     "name": "stdout",
     "output_type": "stream",
     "text": [
      "32\n",
      "<class 'int'>\n",
      "32.0\n",
      "<class 'float'>\n"
     ]
    }
   ],
   "source": [
    "# 1\n",
    "\n",
    "int_num=32\n",
    "print(int_num)\n",
    "print(type(int_num))\n",
    "\n",
    "float_num=float(int_num)\n",
    "print(float_num)\n",
    "print(type(float_num))"
   ]
  },
  {
   "cell_type": "code",
   "execution_count": 4,
   "metadata": {},
   "outputs": [
    {
     "name": "stdout",
     "output_type": "stream",
     "text": [
      "45.5\n",
      "<class 'float'>\n",
      "45\n",
      "<class 'int'>\n"
     ]
    }
   ],
   "source": [
    "# 2\n",
    "\n",
    "\n",
    "float_num=45.5\n",
    "print(float_num)\n",
    "print(type(float_num))\n",
    "\n",
    "int_num=int(float_num)\n",
    "print(int_num)\n",
    "print(type(int_num))\n",
    "\n"
   ]
  },
  {
   "cell_type": "code",
   "execution_count": 6,
   "metadata": {},
   "outputs": [
    {
     "name": "stdout",
     "output_type": "stream",
     "text": [
      "234\n",
      "<class 'int'>\n",
      "234\n",
      "<class 'str'>\n"
     ]
    }
   ],
   "source": [
    "# 3\n",
    "\n",
    "int_num=234\n",
    "print(int_num)\n",
    "print(type(int_num))\n",
    "\n",
    "string=str(int_num)\n",
    "print(string)\n",
    "print(type(string))"
   ]
  },
  {
   "cell_type": "code",
   "execution_count": 1,
   "metadata": {},
   "outputs": [
    {
     "name": "stdout",
     "output_type": "stream",
     "text": [
      "[3, 4, 4.3, 'pankaj', 'p']\n",
      "<class 'list'>\n",
      "(3, 4, 4.3, 'pankaj', 'p')\n",
      "<class 'tuple'>\n"
     ]
    }
   ],
   "source": [
    "# 4 list to tuple\n",
    "\n",
    "list=[3,4,4.3,'pankaj', 'p']\n",
    "print(list)\n",
    "print(type(list))\n",
    "\n",
    "tuple=tuple(list)\n",
    "print(tuple)\n",
    "print(type(tuple))"
   ]
  },
  {
   "cell_type": "code",
   "execution_count": 1,
   "metadata": {},
   "outputs": [
    {
     "name": "stdout",
     "output_type": "stream",
     "text": [
      "(3, 4, 4.3, 'pankaj', 'p')\n",
      "<class 'tuple'>\n",
      "[3, 4, 4.3, 'pankaj', 'p']\n",
      "<class 'list'>\n"
     ]
    }
   ],
   "source": [
    "# 5 tuple to list\n",
    "tuple=(3,4,4.3,'pankaj', 'p')\n",
    "print(tuple)\n",
    "print(type(tuple))\n",
    "\n",
    "list=list(tuple)\n",
    "print(list)\n",
    "print(type(list))\n"
   ]
  },
  {
   "cell_type": "code",
   "execution_count": 2,
   "metadata": {},
   "outputs": [
    {
     "name": "stdout",
     "output_type": "stream",
     "text": [
      "32\n",
      "<class 'int'>\n",
      "True\n",
      "<class 'bool'>\n"
     ]
    }
   ],
   "source": [
    "# 6 non zero to boolean\n",
    "int_num=32\n",
    "print(int_num)\n",
    "print(type(int_num))\n",
    "\n",
    "bool_num=bool(int_num)\n",
    "print(bool_num)\n",
    "print(type(bool_num))\n",
    "\n",
    "\n"
   ]
  },
  {
   "cell_type": "code",
   "execution_count": 4,
   "metadata": {},
   "outputs": [
    {
     "name": "stdout",
     "output_type": "stream",
     "text": [
      "7\n",
      "<class 'int'>\n",
      "0b111\n",
      "<class 'str'>\n"
     ]
    }
   ],
   "source": [
    "# 7 decimal to binary\n",
    "\n",
    "decimal_num=7\n",
    "print(decimal_num)\n",
    "print(type(decimal_num))\n",
    "\n",
    "binary_num=bin(decimal_num)\n",
    "print(binary_num)\n",
    "print(type(binary_num))"
   ]
  },
  {
   "cell_type": "code",
   "execution_count": null,
   "metadata": {},
   "outputs": [],
   "source": []
  }
 ],
 "metadata": {
  "kernelspec": {
   "display_name": "Python 3",
   "language": "python",
   "name": "python3"
  },
  "language_info": {
   "codemirror_mode": {
    "name": "ipython",
    "version": 3
   },
   "file_extension": ".py",
   "mimetype": "text/x-python",
   "name": "python",
   "nbconvert_exporter": "python",
   "pygments_lexer": "ipython3",
   "version": "3.12.0"
  }
 },
 "nbformat": 4,
 "nbformat_minor": 2
}
