{
  "cells": [
    {
      "cell_type": "markdown",
      "metadata": {
        "id": "PoT3Ns6bzMHX"
      },
      "source": [
        "#### 1.Write a Python function check the number is prime or not?"
      ]
    },
    {
      "cell_type": "code",
      "execution_count": null,
      "metadata": {
        "colab": {
          "base_uri": "https://localhost:8080/"
        },
        "id": "iibYzGGtzH4C",
        "outputId": "2c066222-bb21-4c91-f887-a674249bf28d"
      },
      "outputs": [
        {
          "name": "stdout",
          "output_type": "stream",
          "text": [
            "True\n",
            "False\n",
            "True\n",
            "False\n"
          ]
        }
      ],
      "source": [
        "def is_prime(number):\n",
        "    \"\"\"Check if a number is prime.\"\"\"\n",
        "    if number <= 1:\n",
        "        return False\n",
        "    if number <= 3:\n",
        "        return True\n",
        "    if number % 2 == 0 or number % 3 == 0:\n",
        "        return False\n",
        "    i = 5\n",
        "    while i * i <= number:\n",
        "        if number % i == 0 or number % (i + 2) == 0:\n",
        "            return False\n",
        "        i += 6\n",
        "    return True\n",
        "\n",
        "# Test the function\n",
        "print(is_prime(5))    # Output: True\n",
        "print(is_prime(16))   # Output: False\n",
        "print(is_prime(29))   # Output: True\n",
        "print(is_prime(34))   # Output: False\n"
      ]
    },
    {
      "cell_type": "code",
      "execution_count": null,
      "metadata": {
        "colab": {
          "base_uri": "https://localhost:8080/"
        },
        "id": "ysgmgDM6zQf7",
        "outputId": "441b7a7a-3ae9-477e-b1e7-f5d324345b62"
      },
      "outputs": [
        {
          "data": {
            "text/plain": [
              "True"
            ]
          },
          "execution_count": 2,
          "metadata": {},
          "output_type": "execute_result"
        }
      ],
      "source": [
        "is_prime(11)"
      ]
    },
    {
      "cell_type": "code",
      "execution_count": null,
      "metadata": {
        "colab": {
          "base_uri": "https://localhost:8080/"
        },
        "id": "bOJjhWUWzSNz",
        "outputId": "c0e747c6-7fc7-4db6-df25-ab71d4b00d3b"
      },
      "outputs": [
        {
          "data": {
            "text/plain": [
              "False"
            ]
          },
          "execution_count": 3,
          "metadata": {},
          "output_type": "execute_result"
        }
      ],
      "source": [
        "is_prime(9)"
      ]
    },
    {
      "cell_type": "code",
      "execution_count": null,
      "metadata": {
        "colab": {
          "base_uri": "https://localhost:8080/"
        },
        "id": "dDuHHxi-zmzy",
        "outputId": "2e85eb15-00f9-47e8-dd3b-80590f8983c6"
      },
      "outputs": [
        {
          "data": {
            "text/plain": [
              "False"
            ]
          },
          "execution_count": 4,
          "metadata": {},
          "output_type": "execute_result"
        }
      ],
      "source": [
        "is_prime(12)"
      ]
    },
    {
      "cell_type": "markdown",
      "metadata": {
        "id": "oAoEH4GYzQ3S"
      },
      "source": [
        "#### 2.Write a Python function string is palindrome or not?"
      ]
    },
    {
      "cell_type": "code",
      "execution_count": null,
      "metadata": {
        "id": "SodMRdGNzRJw"
      },
      "outputs": [],
      "source": [
        "s = 'Radar'"
      ]
    },
    {
      "cell_type": "code",
      "execution_count": null,
      "metadata": {
        "colab": {
          "base_uri": "https://localhost:8080/",
          "height": 35
        },
        "id": "AZaVRBxyzw8S",
        "outputId": "020b1672-fd47-4fab-d560-ca0dfdfadaea"
      },
      "outputs": [
        {
          "data": {
            "application/vnd.google.colaboratory.intrinsic+json": {
              "type": "string"
            },
            "text/plain": [
              "'radaR'"
            ]
          },
          "execution_count": 8,
          "metadata": {},
          "output_type": "execute_result"
        }
      ],
      "source": [
        "s[::-1]   # not"
      ]
    },
    {
      "cell_type": "code",
      "execution_count": null,
      "metadata": {
        "id": "Q5hIQiHbz55u"
      },
      "outputs": [],
      "source": [
        "def is_palindrome(s):\n",
        "    \"\"\"\n",
        "    Check if a string is a palindrome.\n",
        "\n",
        "    Parameters:\n",
        "    s (str): The string to be checked.\n",
        "\n",
        "    Returns:\n",
        "    bool: True if the string is a palindrome, False otherwise.\n",
        "    \"\"\"\n",
        "\n",
        "    s = s.lower()\n",
        "    s = ''.join(char for char in s if char.isalnum())\n",
        "    return s == s[::-1]"
      ]
    },
    {
      "cell_type": "code",
      "execution_count": null,
      "metadata": {
        "colab": {
          "base_uri": "https://localhost:8080/"
        },
        "id": "dn3caNIx0Q0S",
        "outputId": "6b680b5b-ccc1-4121-f90a-856e2397ea07"
      },
      "outputs": [
        {
          "name": "stdout",
          "output_type": "stream",
          "text": [
            "True\n",
            "False\n"
          ]
        }
      ],
      "source": [
        "print(is_palindrome(\"rada. r\"))\n",
        "print(is_palindrome(\"hello\"))"
      ]
    },
    {
      "cell_type": "code",
      "execution_count": null,
      "metadata": {
        "colab": {
          "base_uri": "https://localhost:8080/"
        },
        "id": "9zV6LAXe0SVa",
        "outputId": "1dee766c-d4ec-493f-c20e-4bfa2144427e"
      },
      "outputs": [
        {
          "name": "stdout",
          "output_type": "stream",
          "text": [
            "True\n"
          ]
        }
      ],
      "source": [
        "print(is_palindrome(\"Radar\"))"
      ]
    },
    {
      "cell_type": "markdown",
      "metadata": {
        "id": "17MlAlemzftA"
      },
      "source": [
        "#### 3. Write a Python function Print 7 Pascal's triangle."
      ]
    },
    {
      "cell_type": "code",
      "execution_count": null,
      "metadata": {
        "colab": {
          "base_uri": "https://localhost:8080/"
        },
        "id": "346plyxtzf6k",
        "outputId": "c6183da5-7947-4368-e024-b185797e05dc"
      },
      "outputs": [
        {
          "name": "stdout",
          "output_type": "stream",
          "text": [
            "1 \n",
            "1 1 \n",
            "1 2 1 \n",
            "1 3 3 1 \n",
            "1 4 6 4 1 \n",
            "1 5 10 10 5 1 \n",
            "1 6 15 20 15 6 1 \n"
          ]
        }
      ],
      "source": [
        "def print_pascal_triangle(rows):\n",
        "    \"\"\"\n",
        "    Print the first 'rows' rows of Pascal's triangle.\n",
        "\n",
        "    Parameters:\n",
        "    rows (int): The number of rows to print.\n",
        "    \"\"\"\n",
        "    for i in range(rows):\n",
        "      coef = 1\n",
        "      print(coef, end = ' ')\n",
        "      for j in range(1, i + 1):\n",
        "        coef = coef * (i - j + 1)// j  # binomial expansion of (a + b)^n,\n",
        "        print(coef, end = ' ')\n",
        "      print()\n",
        "print_pascal_triangle(7)"
      ]
    },
    {
      "cell_type": "markdown",
      "metadata": {
        "id": "V_xfOEQvzlP-"
      },
      "source": [
        "4. #### 5.Write a Python function to calculate the harmonic mean\n",
        "\n",
        "HM = n / [1/x1 + 1/x2 + 1/x3 + ... + 1/xn]\n",
        "\n",
        "Here, the total number of observations is divided by the sum of reciprocals of all observations."
      ]
    },
    {
      "cell_type": "code",
      "execution_count": null,
      "metadata": {
        "colab": {
          "base_uri": "https://localhost:8080/"
        },
        "id": "G3Xm_Wfvz0Tf",
        "outputId": "f5b81a67-8e17-44ff-f32e-061b31c4c011"
      },
      "outputs": [
        {
          "name": "stdout",
          "output_type": "stream",
          "text": [
            "Harmonic mean: 2.18978102189781\n"
          ]
        }
      ],
      "source": [
        "def harmonic_mean(numbers):\n",
        "    \"\"\"\n",
        "    Calculate the harmonic mean of a list of numbers.\n",
        "\n",
        "    Parameters:\n",
        "    numbers (list): A list of numbers.\n",
        "\n",
        "    Returns:\n",
        "    float: The harmonic mean of the numbers.\n",
        "    \"\"\"\n",
        "    # Check if the list is empty\n",
        "    if len(numbers) == 0:\n",
        "        return None\n",
        "\n",
        "    # Calculate the sum of reciprocals\n",
        "    reciprocal_sum = sum(1 / num for num in numbers)\n",
        "\n",
        "    # Calculate the harmonic mean\n",
        "    return len(numbers) / reciprocal_sum\n",
        "\n",
        "# Test the function\n",
        "data = [1, 2, 3, 4, 5]\n",
        "print(\"Harmonic mean:\", harmonic_mean(data))\n"
      ]
    },
    {
      "cell_type": "markdown",
      "metadata": {
        "id": "An-bG3Ia0Dwn"
      },
      "source": [
        "#### Types of arguments\n",
        "\n",
        "\n",
        "    1. Required arguments\n",
        "    2. Keyword arguments\n",
        "    3. Default arguments\n",
        "    4. Variable-length arguments"
      ]
    },
    {
      "cell_type": "markdown",
      "metadata": {
        "id": "QaWwxJgD0ITP"
      },
      "source": [
        "#### 1. Required arguments: (the function calculate returns the sum of two arguments a and b )"
      ]
    },
    {
      "cell_type": "code",
      "execution_count": null,
      "metadata": {
        "colab": {
          "base_uri": "https://localhost:8080/"
        },
        "id": "aRlE0nbk23C_",
        "outputId": "3427d5a6-4bae-430b-e3c6-02a798de9cb1"
      },
      "outputs": [
        {
          "data": {
            "text/plain": [
              "8"
            ]
          },
          "execution_count": 24,
          "metadata": {},
          "output_type": "execute_result"
        }
      ],
      "source": [
        "def sum1(a,b):\n",
        "    return a+b\n",
        "\n",
        "sum1(3,5)"
      ]
    },
    {
      "cell_type": "code",
      "execution_count": null,
      "metadata": {
        "colab": {
          "base_uri": "https://localhost:8080/",
          "height": 141
        },
        "id": "DMU81ynX0EDx",
        "outputId": "1de24409-b60c-4230-8bc9-86142906c72f"
      },
      "outputs": [
        {
          "ename": "TypeError",
          "evalue": "sum1() missing 1 required positional argument: 'b'",
          "output_type": "error",
          "traceback": [
            "\u001b[0;31m---------------------------------------------------------------------------\u001b[0m",
            "\u001b[0;31mTypeError\u001b[0m                                 Traceback (most recent call last)",
            "\u001b[0;32m<ipython-input-25-31096ac1a42b>\u001b[0m in \u001b[0;36m<cell line: 1>\u001b[0;34m()\u001b[0m\n\u001b[0;32m----> 1\u001b[0;31m \u001b[0msum1\u001b[0m\u001b[0;34m(\u001b[0m\u001b[0;36m2\u001b[0m\u001b[0;34m)\u001b[0m\u001b[0;34m\u001b[0m\u001b[0;34m\u001b[0m\u001b[0m\n\u001b[0m",
            "\u001b[0;31mTypeError\u001b[0m: sum1() missing 1 required positional argument: 'b'"
          ]
        }
      ],
      "source": [
        "sum1(2)"
      ]
    },
    {
      "cell_type": "markdown",
      "metadata": {
        "id": "ssQeyLoE0KPK"
      },
      "source": [
        "#### 2.Keyword arguments:(The function simple_interest(p, t, r) is called with the keyword arguments)\n",
        "\n",
        " P = (100 × S.I.)/(R × T)"
      ]
    },
    {
      "cell_type": "code",
      "execution_count": null,
      "metadata": {
        "colab": {
          "base_uri": "https://localhost:8080/"
        },
        "id": "QGsoeae00Kko",
        "outputId": "213856f6-d678-4780-c02c-d0fb10701f2f"
      },
      "outputs": [
        {
          "data": {
            "text/plain": [
              "10.0"
            ]
          },
          "execution_count": 26,
          "metadata": {},
          "output_type": "execute_result"
        }
      ],
      "source": [
        "def simple_interest(**kwargs):\n",
        "    c = 1\n",
        "    for x,y in kwargs.items():\n",
        "        c = c*y\n",
        "    return c/100\n",
        "\n",
        "simple_interest(p=100,n=5,r=2)"
      ]
    },
    {
      "cell_type": "markdown",
      "metadata": {
        "id": "aPe4hgEy0igE"
      },
      "source": [
        "#### 3. Default arguments: (the function calculate returns the multiplication of 4 arguments a, b ,c and d. Variable c and d will have default arguments of 45 and 10)"
      ]
    },
    {
      "cell_type": "code",
      "execution_count": null,
      "metadata": {
        "id": "q9bngT0_0vHa"
      },
      "outputs": [],
      "source": [
        "def sum2(a, b = 45, c = 10):\n",
        "  return a+ b +c"
      ]
    },
    {
      "cell_type": "code",
      "execution_count": null,
      "metadata": {
        "colab": {
          "base_uri": "https://localhost:8080/"
        },
        "id": "pYo-1e-R33U9",
        "outputId": "7c13f2cc-a5ec-4697-b9dd-a2accf6c2980"
      },
      "outputs": [
        {
          "data": {
            "text/plain": [
              "59"
            ]
          },
          "execution_count": 28,
          "metadata": {},
          "output_type": "execute_result"
        }
      ],
      "source": [
        "sum2(4)"
      ]
    },
    {
      "cell_type": "code",
      "execution_count": null,
      "metadata": {
        "colab": {
          "base_uri": "https://localhost:8080/"
        },
        "id": "Z_55_Ird35w6",
        "outputId": "75b37161-ec8a-4357-8247-c4249df6ba2f"
      },
      "outputs": [
        {
          "data": {
            "text/plain": [
              "102"
            ]
          },
          "execution_count": 29,
          "metadata": {},
          "output_type": "execute_result"
        }
      ],
      "source": [
        "sum2(2,90)"
      ]
    }
  ],
  "metadata": {
    "colab": {
      "provenance": []
    },
    "kernelspec": {
      "display_name": "Python 3",
      "name": "python3"
    },
    "language_info": {
      "name": "python"
    }
  },
  "nbformat": 4,
  "nbformat_minor": 0
}
