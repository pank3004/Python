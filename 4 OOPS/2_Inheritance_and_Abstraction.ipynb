{
 "cells": [
  {
   "cell_type": "code",
   "execution_count": 3,
   "metadata": {},
   "outputs": [],
   "source": [
    "# inheritance>> refers to process of child class receving the properties of parent class\n",
    "# syntax: \n",
    "  \n",
    "# class BaseClass: \n",
    "#     # body of base class\n",
    "# class DerivedClass(BaseClass): \n",
    "#     # body of derived class"
   ]
  },
  {
   "cell_type": "code",
   "execution_count": 4,
   "metadata": {},
   "outputs": [],
   "source": [
    "# single inheritance>> when a class has oonly one parent class"
   ]
  },
  {
   "cell_type": "code",
   "execution_count": 6,
   "metadata": {},
   "outputs": [],
   "source": [
    "class Father: \n",
    "    def father_property(self): \n",
    "        print(\"this is father property\")\n",
    "class Son(Father): \n",
    "    def job(self): \n",
    "        print(\"son has also a job\")"
   ]
  },
  {
   "cell_type": "code",
   "execution_count": 7,
   "metadata": {},
   "outputs": [],
   "source": [
    "child_obj=Son()"
   ]
  },
  {
   "cell_type": "code",
   "execution_count": 8,
   "metadata": {},
   "outputs": [
    {
     "name": "stdout",
     "output_type": "stream",
     "text": [
      "son has also a job\n"
     ]
    }
   ],
   "source": [
    "child_obj.job()"
   ]
  },
  {
   "cell_type": "code",
   "execution_count": 9,
   "metadata": {},
   "outputs": [
    {
     "name": "stdout",
     "output_type": "stream",
     "text": [
      "this is father property\n"
     ]
    }
   ],
   "source": [
    "child_obj.father_property()"
   ]
  },
  {
   "cell_type": "code",
   "execution_count": 10,
   "metadata": {},
   "outputs": [
    {
     "name": "stdout",
     "output_type": "stream",
     "text": [
      "this is father property\n"
     ]
    }
   ],
   "source": [
    "father_obj=Father()\n",
    "father_obj.father_property()"
   ]
  },
  {
   "cell_type": "code",
   "execution_count": 11,
   "metadata": {},
   "outputs": [
    {
     "ename": "AttributeError",
     "evalue": "'Father' object has no attribute 'job'",
     "output_type": "error",
     "traceback": [
      "\u001b[1;31m---------------------------------------------------------------------------\u001b[0m",
      "\u001b[1;31mAttributeError\u001b[0m                            Traceback (most recent call last)",
      "Cell \u001b[1;32mIn[11], line 1\u001b[0m\n\u001b[1;32m----> 1\u001b[0m \u001b[43mfather_obj\u001b[49m\u001b[38;5;241;43m.\u001b[39;49m\u001b[43mjob\u001b[49m()\n",
      "\u001b[1;31mAttributeError\u001b[0m: 'Father' object has no attribute 'job'"
     ]
    }
   ],
   "source": [
    "father_obj.job()"
   ]
  },
  {
   "cell_type": "code",
   "execution_count": 12,
   "metadata": {},
   "outputs": [],
   "source": [
    "# parent class will not have the access of child class but child class have both access"
   ]
  },
  {
   "cell_type": "code",
   "execution_count": 13,
   "metadata": {},
   "outputs": [],
   "source": [
    "class Fruit: \n",
    "    def fruit_info(self): \n",
    "        print(\"inside parent class\")\n",
    "class Apple(Fruit): \n",
    "    def apple_info(self): \n",
    "        print(\"inside the child class\")"
   ]
  },
  {
   "cell_type": "code",
   "execution_count": 14,
   "metadata": {},
   "outputs": [],
   "source": [
    "obj=Apple()"
   ]
  },
  {
   "cell_type": "code",
   "execution_count": 15,
   "metadata": {},
   "outputs": [
    {
     "name": "stdout",
     "output_type": "stream",
     "text": [
      "inside the child class\n"
     ]
    }
   ],
   "source": [
    "obj.apple_info()"
   ]
  },
  {
   "cell_type": "code",
   "execution_count": 16,
   "metadata": {},
   "outputs": [
    {
     "name": "stdout",
     "output_type": "stream",
     "text": [
      "inside parent class\n"
     ]
    }
   ],
   "source": [
    "obj.fruit_info()"
   ]
  },
  {
   "cell_type": "code",
   "execution_count": 17,
   "metadata": {},
   "outputs": [],
   "source": [
    "class Fruit: \n",
    "    def fruit_info(self): \n",
    "        print(\"inside parent class\")\n",
    "class Apple(Fruit): \n",
    "    def fruit_info(self): \n",
    "        print(\"inside child class\")\n",
    "    def apple_info(self): \n",
    "        print(\"inside the child class\")"
   ]
  },
  {
   "cell_type": "code",
   "execution_count": 18,
   "metadata": {},
   "outputs": [],
   "source": [
    "apple=Apple()"
   ]
  },
  {
   "cell_type": "code",
   "execution_count": 20,
   "metadata": {},
   "outputs": [
    {
     "name": "stdout",
     "output_type": "stream",
     "text": [
      "inside the child class\n"
     ]
    }
   ],
   "source": [
    "apple.apple_info()"
   ]
  },
  {
   "cell_type": "code",
   "execution_count": 19,
   "metadata": {},
   "outputs": [
    {
     "name": "stdout",
     "output_type": "stream",
     "text": [
      "inside child class\n"
     ]
    }
   ],
   "source": [
    "apple.fruit_info()   # method overriding,, child class is very powerfull"
   ]
  },
  {
   "cell_type": "code",
   "execution_count": 5,
   "metadata": {},
   "outputs": [],
   "source": [
    "# multilevel inheritance>> \n",
    "class GrandFather: \n",
    "    def prop_grand_father(self): \n",
    "        print(\"i am your grandfather\")\n",
    "\n",
    "class Father(GrandFather): \n",
    "    def prop_father(self): \n",
    "        print(\"i am your father and having property of mine and your grandfather\")\n",
    "\n",
    "class Son(Father): \n",
    "    def prop_son(self): \n",
    "        print(\"i am son and having property of mine and both my father & grandfather\")"
   ]
  },
  {
   "cell_type": "code",
   "execution_count": 6,
   "metadata": {},
   "outputs": [],
   "source": [
    "son=Son()"
   ]
  },
  {
   "cell_type": "code",
   "execution_count": 7,
   "metadata": {},
   "outputs": [
    {
     "name": "stdout",
     "output_type": "stream",
     "text": [
      "i am your father and having property of mine and your grandfather\n"
     ]
    }
   ],
   "source": [
    "son.prop_father()"
   ]
  },
  {
   "cell_type": "code",
   "execution_count": 8,
   "metadata": {},
   "outputs": [
    {
     "name": "stdout",
     "output_type": "stream",
     "text": [
      "i am your grandfather\n"
     ]
    }
   ],
   "source": [
    "son.prop_grand_father()"
   ]
  },
  {
   "cell_type": "code",
   "execution_count": 9,
   "metadata": {},
   "outputs": [
    {
     "name": "stdout",
     "output_type": "stream",
     "text": [
      "i am son and having property of mine and both my father & grandfather\n"
     ]
    }
   ],
   "source": [
    "son.prop_son()"
   ]
  },
  {
   "cell_type": "code",
   "execution_count": 10,
   "metadata": {},
   "outputs": [],
   "source": [
    "class Vehicle: \n",
    "    def vehicle_info(self): \n",
    "        print(\"inside vhicle class\")\n",
    "\n",
    "class Car(Vehicle): \n",
    "    def car_info(self): \n",
    "        print(\"inside car class\")\n",
    "\n",
    "class SportsCar(Car): \n",
    "    def sports_car_info(self): \n",
    "        print(\"inside sports car class\")"
   ]
  },
  {
   "cell_type": "code",
   "execution_count": 11,
   "metadata": {},
   "outputs": [],
   "source": [
    "sports_car=SportsCar()"
   ]
  },
  {
   "cell_type": "code",
   "execution_count": 12,
   "metadata": {},
   "outputs": [
    {
     "name": "stdout",
     "output_type": "stream",
     "text": [
      "inside sports car class\n"
     ]
    }
   ],
   "source": [
    "sports_car.sports_car_info()"
   ]
  },
  {
   "cell_type": "code",
   "execution_count": 13,
   "metadata": {},
   "outputs": [
    {
     "name": "stdout",
     "output_type": "stream",
     "text": [
      "inside car class\n"
     ]
    }
   ],
   "source": [
    "sports_car.car_info()"
   ]
  },
  {
   "cell_type": "code",
   "execution_count": 14,
   "metadata": {},
   "outputs": [
    {
     "name": "stdout",
     "output_type": "stream",
     "text": [
      "inside vhicle class\n"
     ]
    }
   ],
   "source": [
    "sports_car.vehicle_info()"
   ]
  },
  {
   "cell_type": "code",
   "execution_count": 15,
   "metadata": {},
   "outputs": [],
   "source": [
    "# Multiple Inheritance>> one child class may inherit from multipel parent class "
   ]
  },
  {
   "cell_type": "code",
   "execution_count": 17,
   "metadata": {},
   "outputs": [],
   "source": [
    "class ParentClass1:\n",
    "    def method1(self): \n",
    "        print(\"method 1 of parent clss 1\")\n",
    "\n",
    "class ParentClass2: \n",
    "    def method2(self): \n",
    "        print(\"method 2 of parent class 2\")\n",
    "\n",
    "class Childclass(ParentClass1,ParentClass2): \n",
    "    def child_method(self): \n",
    "        print(\"child mehtod\")"
   ]
  },
  {
   "cell_type": "code",
   "execution_count": 18,
   "metadata": {},
   "outputs": [],
   "source": [
    "child=Childclass()"
   ]
  },
  {
   "cell_type": "code",
   "execution_count": 19,
   "metadata": {},
   "outputs": [
    {
     "name": "stdout",
     "output_type": "stream",
     "text": [
      "method 1 of parent clss 1\n"
     ]
    }
   ],
   "source": [
    "child.method1()"
   ]
  },
  {
   "cell_type": "code",
   "execution_count": 20,
   "metadata": {},
   "outputs": [
    {
     "name": "stdout",
     "output_type": "stream",
     "text": [
      "method 2 of parent class 2\n"
     ]
    }
   ],
   "source": [
    "child.method2()"
   ]
  },
  {
   "cell_type": "code",
   "execution_count": 21,
   "metadata": {},
   "outputs": [
    {
     "name": "stdout",
     "output_type": "stream",
     "text": [
      "child mehtod\n"
     ]
    }
   ],
   "source": [
    "child.child_method()"
   ]
  },
  {
   "cell_type": "code",
   "execution_count": 37,
   "metadata": {},
   "outputs": [],
   "source": [
    "class A: \n",
    "    def method(self): \n",
    "        print(\"Method of class A\")\n",
    "class B(A): \n",
    "    def method(self):\n",
    "        print(\"Method of class B\")\n",
    "class C(A): \n",
    "    def method(self):\n",
    "        print(\"mehtod of class C\")\n",
    "\n",
    "class D(B,C): \n",
    "    pass\n",
    "\n",
    "class E(C,B): \n",
    "    pass"
   ]
  },
  {
   "cell_type": "code",
   "execution_count": 34,
   "metadata": {},
   "outputs": [],
   "source": [
    "d=D()    # diamond problem"
   ]
  },
  {
   "cell_type": "code",
   "execution_count": 36,
   "metadata": {},
   "outputs": [
    {
     "name": "stdout",
     "output_type": "stream",
     "text": [
      "Method of class B\n"
     ]
    }
   ],
   "source": [
    "d.method()    # D(B,C)  method of class of B called because this is first"
   ]
  },
  {
   "cell_type": "code",
   "execution_count": 38,
   "metadata": {},
   "outputs": [],
   "source": [
    "e=E()"
   ]
  },
  {
   "cell_type": "code",
   "execution_count": 40,
   "metadata": {},
   "outputs": [
    {
     "name": "stdout",
     "output_type": "stream",
     "text": [
      "mehtod of class C\n"
     ]
    }
   ],
   "source": [
    "e.method()    #  E(C,B) method of class C called"
   ]
  },
  {
   "cell_type": "code",
   "execution_count": 41,
   "metadata": {},
   "outputs": [],
   "source": [
    "# Hierarchical inheritance>>\n",
    "\n",
    "class Vehicle: \n",
    "    def info(self): \n",
    "        print(\"this is the class vehicle\")\n",
    "\n",
    "class Car(Vehicle): \n",
    "    def car_info(self,name): \n",
    "        print(\"this is car info\",name)\n",
    "\n",
    "class Truck(Vehicle): \n",
    "    def truck_info(self,name): \n",
    "        print(\"truck infor\", name)"
   ]
  },
  {
   "cell_type": "code",
   "execution_count": 42,
   "metadata": {},
   "outputs": [],
   "source": [
    "obj1=Car()"
   ]
  },
  {
   "cell_type": "code",
   "execution_count": 43,
   "metadata": {},
   "outputs": [
    {
     "name": "stdout",
     "output_type": "stream",
     "text": [
      "this is the class vehicle\n"
     ]
    }
   ],
   "source": [
    "obj1.info()"
   ]
  },
  {
   "cell_type": "code",
   "execution_count": 45,
   "metadata": {},
   "outputs": [
    {
     "name": "stdout",
     "output_type": "stream",
     "text": [
      "this is car info Thar\n"
     ]
    }
   ],
   "source": [
    "obj1.car_info(\"Thar\")"
   ]
  },
  {
   "cell_type": "code",
   "execution_count": 46,
   "metadata": {},
   "outputs": [],
   "source": [
    "obj2=Truck()"
   ]
  },
  {
   "cell_type": "code",
   "execution_count": 47,
   "metadata": {},
   "outputs": [
    {
     "name": "stdout",
     "output_type": "stream",
     "text": [
      "this is the class vehicle\n"
     ]
    }
   ],
   "source": [
    "obj2.info()"
   ]
  },
  {
   "cell_type": "code",
   "execution_count": 49,
   "metadata": {},
   "outputs": [
    {
     "name": "stdout",
     "output_type": "stream",
     "text": [
      "truck infor Ford\n"
     ]
    }
   ],
   "source": [
    "obj2.truck_info(\"Ford\")"
   ]
  },
  {
   "cell_type": "code",
   "execution_count": 93,
   "metadata": {},
   "outputs": [],
   "source": [
    "# Hybrid inheritance>>multipele type or a combination of different inherintanc\n",
    "\n",
    "class Vehicle: \n",
    "    def vehicle_info(self): \n",
    "        print(\"inside vehicle class\")\n",
    "\n",
    "class Car(Vehicle): \n",
    "    def car_info(self): \n",
    "        print(\"inside car class\")\n",
    "\n",
    "class Truck(Vehicle): \n",
    "    def truck_info(self,name): \n",
    "        print(\"truck infor\", name)\n",
    "        \n",
    "class SportsCar(Car, Vehicle): \n",
    "    def sports_info(self): \n",
    "        print(\"inside sprots car class\")"
   ]
  },
  {
   "cell_type": "code",
   "execution_count": 94,
   "metadata": {},
   "outputs": [],
   "source": [
    "s_car=SportsCar()"
   ]
  },
  {
   "cell_type": "code",
   "execution_count": 95,
   "metadata": {},
   "outputs": [
    {
     "name": "stdout",
     "output_type": "stream",
     "text": [
      "inside car class\n"
     ]
    }
   ],
   "source": [
    "s_car.car_info()"
   ]
  },
  {
   "cell_type": "code",
   "execution_count": 96,
   "metadata": {},
   "outputs": [
    {
     "name": "stdout",
     "output_type": "stream",
     "text": [
      "inside sprots car class\n"
     ]
    }
   ],
   "source": [
    "s_car.sports_info()"
   ]
  },
  {
   "cell_type": "code",
   "execution_count": 97,
   "metadata": {},
   "outputs": [
    {
     "name": "stdout",
     "output_type": "stream",
     "text": [
      "inside vehicle class\n"
     ]
    }
   ],
   "source": [
    "s_car.vehicle_info()"
   ]
  },
  {
   "cell_type": "markdown",
   "metadata": {},
   "source": [
    "#### Abstraction>> concept of hiding the complex inmplementation\n",
    "##### abstraction is the concept of hiding complex implementation\n",
    "##### ATM class >> you are using ATM screen\n",
    "##### what you are not worried about >> which database your information is stored, other infromations(bank details)"
   ]
  },
  {
   "cell_type": "code",
   "execution_count": 7,
   "metadata": {},
   "outputs": [
    {
     "name": "stdout",
     "output_type": "stream",
     "text": [
      "Processing $100 via PayPal.\n",
      "Refunding Stripe transaction TX123.\n"
     ]
    }
   ],
   "source": [
    "from abc import ABC, abstractmethod\n",
    "\n",
    "#abc is abstract base class\n",
    "#In one abstractclass there should be atleast one abstract method\n",
    "#in abstract class method you dont write the logic\n",
    "\n",
    "class PaymentGateway(ABC):\n",
    "    @abstractmethod\n",
    "    def process_payment(self, amount):\n",
    "        pass\n",
    "\n",
    "    @abstractmethod\n",
    "    def refund_payment(self, transaction_id):\n",
    "        pass\n",
    "\n",
    "class PayPalGateway(PaymentGateway):\n",
    "    def process_payment(self, amount):\n",
    "        print(f\"Processing ${amount} via PayPal.\")\n",
    "\n",
    "    def refund_payment(self, transaction_id):\n",
    "        print(f\"Refunding PayPal transaction {transaction_id}.\")\n",
    "\n",
    "class StripeGateway(PaymentGateway):\n",
    "    def process_payment(self, amount):\n",
    "        print(f\"Processing ${amount} via Stripe.\")\n",
    "\n",
    "    def refund_payment(self, transaction_id):\n",
    "        print(f\"Refunding Stripe transaction {transaction_id}.\")\n",
    "\n",
    "class BitcoinGateway(PaymentGateway): \n",
    "    def process_payment(self, amount):\n",
    "        print(f\"Processing ${amount} via bitcoin.\")\n",
    "    def xyz(self): \n",
    "        print(\"kuch bi\")\n",
    "\n",
    "# Usage\n",
    "paypal = PayPalGateway()\n",
    "paypal.process_payment(100)  # Output: \"Processing $100 via PayPal.\"\n",
    "\n",
    "stripe = StripeGateway()\n",
    "stripe.refund_payment(\"TX123\")  # Output: \"Refunding Stripe transaction TX123.\"\n",
    "\n",
    "# bitcoin=BitcoinGateway()      # give error(because there should be refund_payment ,,, but here not present)\n",
    "\n",
    "#it acts like a reminder that certain child class should have some specific methods\n",
    "#one more use case>> it acts as guiding template for other child class"
   ]
  },
  {
   "cell_type": "code",
   "execution_count": 22,
   "metadata": {},
   "outputs": [
    {
     "ename": "TypeError",
     "evalue": "Can't instantiate abstract class DataScience with abstract method student_assignment",
     "output_type": "error",
     "traceback": [
      "\u001b[1;31m---------------------------------------------------------------------------\u001b[0m",
      "\u001b[1;31mTypeError\u001b[0m                                 Traceback (most recent call last)",
      "Cell \u001b[1;32mIn[22], line 24\u001b[0m\n\u001b[0;32m     21\u001b[0m     \u001b[38;5;28;01mdef\u001b[39;00m \u001b[38;5;21mstudent_marks\u001b[39m(\u001b[38;5;28mself\u001b[39m):\n\u001b[0;32m     22\u001b[0m         \u001b[38;5;28;01mreturn\u001b[39;00m \u001b[38;5;124m\"\u001b[39m\u001b[38;5;124mgive ds course student\u001b[39m\u001b[38;5;124m'\u001b[39m\u001b[38;5;124ms marks\u001b[39m\u001b[38;5;124m\"\u001b[39m\n\u001b[1;32m---> 24\u001b[0m ds\u001b[38;5;241m=\u001b[39m\u001b[43mDataScience\u001b[49m\u001b[43m(\u001b[49m\u001b[43m)\u001b[49m\n",
      "\u001b[1;31mTypeError\u001b[0m: Can't instantiate abstract class DataScience with abstract method student_assignment"
     ]
    }
   ],
   "source": [
    "from abc import ABC, abstractmethod\n",
    "\n",
    "class PwSkills(ABC): \n",
    "\n",
    "    @abstractmethod\n",
    "    def student_details(self): \n",
    "        pass\n",
    "\n",
    "    @abstractmethod\n",
    "    def student_assignment(self): \n",
    "        pass\n",
    "\n",
    "    @abstractmethod\n",
    "    def student_marks(self): \n",
    "        pass\n",
    "\n",
    "\n",
    "class DataScience(PwSkills): \n",
    "    def student_details(self):\n",
    "        return \"data science course student details\"\n",
    "    def student_marks(self):\n",
    "        return \"give ds course student's marks\"\n",
    "    \n",
    "ds=DataScience()"
   ]
  },
  {
   "cell_type": "code",
   "execution_count": 23,
   "metadata": {},
   "outputs": [],
   "source": [
    "from abc import ABC, abstractmethod\n",
    "\n",
    "class PwSkills(ABC): \n",
    "\n",
    "    @abstractmethod\n",
    "    def student_details(self): \n",
    "        pass\n",
    "\n",
    "    @abstractmethod\n",
    "    def student_assignment(self): \n",
    "        pass\n",
    "\n",
    "    @abstractmethod\n",
    "    def student_marks(self): \n",
    "        pass\n",
    "\n",
    "\n",
    "class DataScience(PwSkills): \n",
    "    def student_details(self):\n",
    "        return \"data science course student details\"\n",
    "    def student_marks(self):\n",
    "        return \"give ds course student's marks\"\n",
    "    def student_assignment(self):\n",
    "        return \"assignement\"\n",
    "    \n",
    "ds=DataScience()"
   ]
  },
  {
   "cell_type": "code",
   "execution_count": 24,
   "metadata": {},
   "outputs": [
    {
     "data": {
      "text/plain": [
       "'assignement'"
      ]
     },
     "execution_count": 24,
     "metadata": {},
     "output_type": "execute_result"
    }
   ],
   "source": [
    "ds.student_assignment()"
   ]
  },
  {
   "cell_type": "code",
   "execution_count": 26,
   "metadata": {},
   "outputs": [
    {
     "data": {
      "text/plain": [
       "\"give ds course student's marks\""
      ]
     },
     "execution_count": 26,
     "metadata": {},
     "output_type": "execute_result"
    }
   ],
   "source": [
    "ds.student_marks()"
   ]
  },
  {
   "cell_type": "code",
   "execution_count": 27,
   "metadata": {},
   "outputs": [
    {
     "data": {
      "text/plain": [
       "'data science course student details'"
      ]
     },
     "execution_count": 27,
     "metadata": {},
     "output_type": "execute_result"
    }
   ],
   "source": [
    "ds.student_details()"
   ]
  },
  {
   "cell_type": "code",
   "execution_count": 138,
   "metadata": {},
   "outputs": [],
   "source": [
    "# thanks"
   ]
  }
 ],
 "metadata": {
  "kernelspec": {
   "display_name": "Python 3",
   "language": "python",
   "name": "python3"
  },
  "language_info": {
   "codemirror_mode": {
    "name": "ipython",
    "version": 3
   },
   "file_extension": ".py",
   "mimetype": "text/x-python",
   "name": "python",
   "nbconvert_exporter": "python",
   "pygments_lexer": "ipython3",
   "version": "3.11.9"
  }
 },
 "nbformat": 4,
 "nbformat_minor": 2
}
