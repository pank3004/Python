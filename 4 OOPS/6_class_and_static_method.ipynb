{
 "cells": [
  {
   "cell_type": "code",
   "execution_count": 1,
   "id": "7607a3da-a1a9-4e1a-b002-c8d778d43d5d",
   "metadata": {},
   "outputs": [],
   "source": [
    "#class methods : bound to the class, can access and modify methods and attribute of all instances"
   ]
  },
  {
   "cell_type": "code",
   "execution_count": 2,
   "id": "e1b38b31-9e4a-4dc6-b01f-474d0bad615d",
   "metadata": {},
   "outputs": [],
   "source": [
    "class Student:\n",
    "    def __init__(self, name): #method of an instance\n",
    "        self.name = name"
   ]
  },
  {
   "cell_type": "code",
   "execution_count": 3,
   "id": "63915792-3910-47be-a3d0-aa7ca914a3ac",
   "metadata": {},
   "outputs": [],
   "source": [
    "obj = Student(\"Ajay\")"
   ]
  },
  {
   "cell_type": "code",
   "execution_count": 4,
   "id": "a6e24cb8-bdb2-4b32-8c62-eed8c0950b03",
   "metadata": {},
   "outputs": [
    {
     "data": {
      "text/plain": [
       "'Ajay'"
      ]
     },
     "execution_count": 4,
     "metadata": {},
     "output_type": "execute_result"
    }
   ],
   "source": [
    "obj.name"
   ]
  },
  {
   "cell_type": "code",
   "execution_count": 5,
   "id": "45b5c390-46dc-429e-ac2a-2d1e9a539aab",
   "metadata": {},
   "outputs": [],
   "source": [
    "class Student:\n",
    "    def __init__(self, name): #instance\n",
    "        self.name = name\n",
    "        \n",
    "    @classmethod#bound to the class\n",
    "    def student_details(cls, name):\n",
    "        return cls(name)"
   ]
  },
  {
   "cell_type": "code",
   "execution_count": 7,
   "id": "a75aeaa4-8664-41ea-9f21-acdd08d4a800",
   "metadata": {},
   "outputs": [],
   "source": [
    "obj1 = Student.student_details(\"Ajay\")"
   ]
  },
  {
   "cell_type": "code",
   "execution_count": 9,
   "id": "ea911dd9-b29d-42b6-aa12-6fc6c8f22505",
   "metadata": {},
   "outputs": [
    {
     "data": {
      "text/plain": [
       "'Ajay'"
      ]
     },
     "execution_count": 9,
     "metadata": {},
     "output_type": "execute_result"
    }
   ],
   "source": [
    "obj1.name"
   ]
  },
  {
   "cell_type": "code",
   "execution_count": 10,
   "id": "af648d70-3ff1-4b96-8621-d01632309b22",
   "metadata": {},
   "outputs": [],
   "source": [
    "class Student:\n",
    "    def __init__(self, name): #instance\n",
    "        self.name = name\n",
    "        \n",
    "    @classmethod#bound to the class\n",
    "    def student_details(cls, name1):\n",
    "        return cls(name1)"
   ]
  },
  {
   "cell_type": "code",
   "execution_count": 11,
   "id": "4e3964b6-dd3e-41d9-867e-b7e4e66c682b",
   "metadata": {},
   "outputs": [],
   "source": [
    "stud = Student.student_details(\"Sanjay\")"
   ]
  },
  {
   "cell_type": "code",
   "execution_count": 12,
   "id": "4b40d9ef-6d4a-4914-bcd1-2b6095e56e5a",
   "metadata": {},
   "outputs": [
    {
     "data": {
      "text/plain": [
       "'Sanjay'"
      ]
     },
     "execution_count": 12,
     "metadata": {},
     "output_type": "execute_result"
    }
   ],
   "source": [
    "stud.name"
   ]
  },
  {
   "cell_type": "code",
   "execution_count": 16,
   "id": "ab2db7b2-0863-408e-a875-c844827e9c1c",
   "metadata": {},
   "outputs": [],
   "source": [
    "class Student:\n",
    "    \n",
    "    total_students = 0\n",
    "    def __init__(self, name): #instance\n",
    "        self.name = name\n",
    "        Student.total_students = Student.total_students + 1\n",
    "        \n",
    "    @classmethod#bound to the class\n",
    "    def get_total_students(cls):\n",
    "        return cls.total_students"
   ]
  },
  {
   "cell_type": "code",
   "execution_count": 17,
   "id": "74e58297-9393-4d3f-8e7c-f5d5f97f12b5",
   "metadata": {},
   "outputs": [
    {
     "data": {
      "text/plain": [
       "0"
      ]
     },
     "execution_count": 17,
     "metadata": {},
     "output_type": "execute_result"
    }
   ],
   "source": [
    "Student.total_students"
   ]
  },
  {
   "cell_type": "code",
   "execution_count": 18,
   "id": "b678f654-89fa-4472-8631-5a1b44d1ac2b",
   "metadata": {},
   "outputs": [],
   "source": [
    "std1 = Student(\"Ajay\")"
   ]
  },
  {
   "cell_type": "code",
   "execution_count": 19,
   "id": "b9587b7f-1012-42c8-97d5-e4c9d8278dea",
   "metadata": {},
   "outputs": [],
   "source": [
    "std2 = Student(\"Bijay\")"
   ]
  },
  {
   "cell_type": "code",
   "execution_count": 20,
   "id": "fe57b1c1-b2a0-475f-ba69-f059ffd5b33f",
   "metadata": {},
   "outputs": [
    {
     "data": {
      "text/plain": [
       "2"
      ]
     },
     "execution_count": 20,
     "metadata": {},
     "output_type": "execute_result"
    }
   ],
   "source": [
    "Student.get_total_students()"
   ]
  },
  {
   "cell_type": "code",
   "execution_count": 23,
   "id": "7699e876-d9dd-4240-b169-de7583149145",
   "metadata": {},
   "outputs": [],
   "source": [
    "#To make external class method to be part of the class\n",
    "class Student:\n",
    "    \n",
    "    total_students = 0\n",
    "    def __init__(self, name): #instance\n",
    "        self.name = name\n",
    "        Student.total_students = Student.total_students + 1\n",
    "        \n",
    "    @classmethod#bound to the class\n",
    "    def get_total_students(cls):\n",
    "        return cls.total_students"
   ]
  },
  {
   "cell_type": "code",
   "execution_count": 24,
   "id": "009d7896-5c0b-4725-8ec8-79a547955d55",
   "metadata": {},
   "outputs": [],
   "source": [
    "def course_details(cls, course_name):\n",
    "    print(\"The details of the course is :\", course_name )"
   ]
  },
  {
   "cell_type": "code",
   "execution_count": 25,
   "id": "9e0eeed0-e605-455c-96fa-0b7c76f203df",
   "metadata": {},
   "outputs": [],
   "source": [
    "Student.course_details = classmethod(course_details) #adding the external class method"
   ]
  },
  {
   "cell_type": "code",
   "execution_count": 26,
   "id": "158a366c-6835-4bc3-b667-0c3f657c119f",
   "metadata": {},
   "outputs": [
    {
     "name": "stdout",
     "output_type": "stream",
     "text": [
      "The details of the course is : Data Science\n"
     ]
    }
   ],
   "source": [
    "Student.course_details(\"Data Science\")"
   ]
  },
  {
   "cell_type": "code",
   "execution_count": 27,
   "id": "99a84cdf-d1d5-4d6a-888a-789c66860da1",
   "metadata": {},
   "outputs": [],
   "source": [
    "#delet any class method\n",
    "del Student.course_details"
   ]
  },
  {
   "cell_type": "code",
   "execution_count": 28,
   "id": "48445c82-9da9-4cda-924d-710cbc7ac660",
   "metadata": {},
   "outputs": [
    {
     "ename": "AttributeError",
     "evalue": "type object 'Student' has no attribute 'course_details'",
     "output_type": "error",
     "traceback": [
      "\u001b[0;31m---------------------------------------------------------------------------\u001b[0m",
      "\u001b[0;31mAttributeError\u001b[0m                            Traceback (most recent call last)",
      "Cell \u001b[0;32mIn[28], line 1\u001b[0m\n\u001b[0;32m----> 1\u001b[0m \u001b[43mStudent\u001b[49m\u001b[38;5;241;43m.\u001b[39;49m\u001b[43mcourse_details\u001b[49m(\u001b[38;5;124m\"\u001b[39m\u001b[38;5;124mData Science\u001b[39m\u001b[38;5;124m\"\u001b[39m)\n",
      "\u001b[0;31mAttributeError\u001b[0m: type object 'Student' has no attribute 'course_details'"
     ]
    }
   ],
   "source": [
    "Student.course_details(\"Data Science\")"
   ]
  },
  {
   "cell_type": "code",
   "execution_count": 30,
   "id": "1037a421-4754-4abb-ab4e-b28b073d98b1",
   "metadata": {},
   "outputs": [
    {
     "data": {
      "text/plain": [
       "0"
      ]
     },
     "execution_count": 30,
     "metadata": {},
     "output_type": "execute_result"
    }
   ],
   "source": [
    "Student.get_total_students()"
   ]
  },
  {
   "cell_type": "code",
   "execution_count": 31,
   "id": "21b6fbcf-d22b-40ca-b94e-37eae1351f44",
   "metadata": {},
   "outputs": [],
   "source": [
    "delattr(Student, \"get_total_students\")"
   ]
  },
  {
   "cell_type": "code",
   "execution_count": 32,
   "id": "fdb8307c-4e35-42eb-987c-8fd2c873cf94",
   "metadata": {},
   "outputs": [
    {
     "ename": "AttributeError",
     "evalue": "type object 'Student' has no attribute 'get_total_students'",
     "output_type": "error",
     "traceback": [
      "\u001b[0;31m---------------------------------------------------------------------------\u001b[0m",
      "\u001b[0;31mAttributeError\u001b[0m                            Traceback (most recent call last)",
      "Cell \u001b[0;32mIn[32], line 1\u001b[0m\n\u001b[0;32m----> 1\u001b[0m \u001b[43mStudent\u001b[49m\u001b[38;5;241;43m.\u001b[39;49m\u001b[43mget_total_students\u001b[49m()\n",
      "\u001b[0;31mAttributeError\u001b[0m: type object 'Student' has no attribute 'get_total_students'"
     ]
    }
   ],
   "source": [
    "Student.get_total_students()"
   ]
  },
  {
   "cell_type": "code",
   "execution_count": 42,
   "id": "f497b726",
   "metadata": {},
   "outputs": [],
   "source": [
    "class pwskills4 : \n",
    "    \n",
    "    mobile_num = 912342424\n",
    "    \n",
    "    def __init__(self , name , email) :\n",
    "        \n",
    "        self.name = name \n",
    "        self.email = email\n",
    "    def dtls(self): \n",
    "        print(self.name, self.email)\n",
    "        \n",
    "    @classmethod\n",
    "    def change_number(cls, mobile):\n",
    "        pwskills4.mobile_num = mobile\n",
    "    \n",
    "    @classmethod\n",
    "    def details(cls ,name, email ):\n",
    "        return cls(name , email)\n",
    "        \n",
    "    def students_details(self):\n",
    "        print(self.name , self.email,pwskills4.mobile_num)"
   ]
  },
  {
   "cell_type": "code",
   "execution_count": 43,
   "id": "ac031607",
   "metadata": {},
   "outputs": [],
   "source": [
    "pw4=pwskills4.details(\"pankaj\", \"pankaj@gmail.com\")"
   ]
  },
  {
   "cell_type": "code",
   "execution_count": 44,
   "id": "e6189ef6",
   "metadata": {},
   "outputs": [],
   "source": [
    "pwskills4.change_number(6789)"
   ]
  },
  {
   "cell_type": "code",
   "execution_count": 45,
   "id": "48f1b07d",
   "metadata": {},
   "outputs": [
    {
     "data": {
      "text/plain": [
       "'pankaj'"
      ]
     },
     "execution_count": 45,
     "metadata": {},
     "output_type": "execute_result"
    }
   ],
   "source": [
    "pw4.name"
   ]
  },
  {
   "cell_type": "code",
   "execution_count": 46,
   "id": "71a18a3d",
   "metadata": {},
   "outputs": [
    {
     "data": {
      "text/plain": [
       "'pankaj@gmail.com'"
      ]
     },
     "execution_count": 46,
     "metadata": {},
     "output_type": "execute_result"
    }
   ],
   "source": [
    "pw4.email"
   ]
  },
  {
   "cell_type": "code",
   "execution_count": 47,
   "id": "8917147e",
   "metadata": {},
   "outputs": [
    {
     "name": "stdout",
     "output_type": "stream",
     "text": [
      "pankaj pankaj@gmail.com\n"
     ]
    }
   ],
   "source": [
    "pw4.dtls()"
   ]
  },
  {
   "cell_type": "code",
   "execution_count": 50,
   "id": "87099631",
   "metadata": {},
   "outputs": [
    {
     "name": "stdout",
     "output_type": "stream",
     "text": [
      "pankaj pankaj@gmail.com 567890987\n"
     ]
    }
   ],
   "source": [
    "pw4.students_details()"
   ]
  },
  {
   "cell_type": "code",
   "execution_count": 51,
   "id": "8b4921bd",
   "metadata": {},
   "outputs": [],
   "source": [
    "pw4.change_number(567890987)"
   ]
  },
  {
   "cell_type": "code",
   "execution_count": 52,
   "id": "4bfc06c4",
   "metadata": {},
   "outputs": [
    {
     "data": {
      "text/plain": [
       "567890987"
      ]
     },
     "execution_count": 52,
     "metadata": {},
     "output_type": "execute_result"
    }
   ],
   "source": [
    "pw4.mobile_num"
   ]
  },
  {
   "cell_type": "code",
   "execution_count": 53,
   "id": "e65a2d11",
   "metadata": {},
   "outputs": [],
   "source": [
    "def course_details(cls, course_name): \n",
    "    print(\"course name is : \", course_name)"
   ]
  },
  {
   "cell_type": "code",
   "execution_count": 54,
   "id": "2283efcc",
   "metadata": {},
   "outputs": [],
   "source": [
    "pwskills4.course_details=classmethod(course_details)"
   ]
  },
  {
   "cell_type": "code",
   "execution_count": 55,
   "id": "d9720793",
   "metadata": {},
   "outputs": [
    {
     "name": "stdout",
     "output_type": "stream",
     "text": [
      "course name is :  data science\n"
     ]
    }
   ],
   "source": [
    "pwskills4.course_details(\"data science\")"
   ]
  },
  {
   "cell_type": "code",
   "execution_count": 56,
   "id": "583f4372",
   "metadata": {},
   "outputs": [],
   "source": [
    "del pwskills4.change_number"
   ]
  },
  {
   "cell_type": "code",
   "execution_count": 57,
   "id": "0cf1e7fe",
   "metadata": {},
   "outputs": [
    {
     "ename": "AttributeError",
     "evalue": "type object 'pwskills4' has no attribute 'change_number'",
     "output_type": "error",
     "traceback": [
      "\u001b[1;31m---------------------------------------------------------------------------\u001b[0m",
      "\u001b[1;31mAttributeError\u001b[0m                            Traceback (most recent call last)",
      "Cell \u001b[1;32mIn[57], line 1\u001b[0m\n\u001b[1;32m----> 1\u001b[0m \u001b[43mpwskills4\u001b[49m\u001b[38;5;241;43m.\u001b[39;49m\u001b[43mchange_number\u001b[49m(\u001b[38;5;241m456789\u001b[39m)\n",
      "\u001b[1;31mAttributeError\u001b[0m: type object 'pwskills4' has no attribute 'change_number'"
     ]
    }
   ],
   "source": [
    "pwskills4.change_number(456789)"
   ]
  },
  {
   "cell_type": "code",
   "execution_count": 58,
   "id": "cdeb9584",
   "metadata": {},
   "outputs": [],
   "source": [
    "delattr(pwskills4, 'details')"
   ]
  },
  {
   "cell_type": "code",
   "execution_count": 60,
   "id": "a9f30811",
   "metadata": {},
   "outputs": [
    {
     "ename": "AttributeError",
     "evalue": "type object 'pwskills4' has no attribute 'details'",
     "output_type": "error",
     "traceback": [
      "\u001b[1;31m---------------------------------------------------------------------------\u001b[0m",
      "\u001b[1;31mAttributeError\u001b[0m                            Traceback (most recent call last)",
      "Cell \u001b[1;32mIn[60], line 1\u001b[0m\n\u001b[1;32m----> 1\u001b[0m \u001b[43mpwskills4\u001b[49m\u001b[38;5;241;43m.\u001b[39;49m\u001b[43mdetails\u001b[49m(\u001b[38;5;124m\"\u001b[39m\u001b[38;5;124mname\u001b[39m\u001b[38;5;124m\"\u001b[39m, \u001b[38;5;124m\"\u001b[39m\u001b[38;5;124mname@gmail.com\u001b[39m\u001b[38;5;124m\"\u001b[39m)\n",
      "\u001b[1;31mAttributeError\u001b[0m: type object 'pwskills4' has no attribute 'details'"
     ]
    }
   ],
   "source": [
    "pwskills4.details(\"name\", \"name@gmail.com\")"
   ]
  },
  {
   "cell_type": "code",
   "execution_count": 61,
   "id": "9f8c85d0",
   "metadata": {},
   "outputs": [],
   "source": [
    "delattr(pwskills4,\"students_details\")  # not classmethod"
   ]
  },
  {
   "cell_type": "code",
   "execution_count": 62,
   "id": "0863bdc7",
   "metadata": {},
   "outputs": [],
   "source": [
    "delattr(pwskills4, \"mobile_num\")"
   ]
  },
  {
   "cell_type": "code",
   "execution_count": 33,
   "id": "00222f25-7e15-4455-9af0-5b329436e972",
   "metadata": {},
   "outputs": [],
   "source": [
    "#static method >> don't have access or modify class, work with the"
   ]
  },
  {
   "cell_type": "code",
   "execution_count": 35,
   "id": "38ce946b-ea24-496c-9b92-27ee25f37059",
   "metadata": {},
   "outputs": [],
   "source": [
    "class Calculator:\n",
    "    \n",
    "    @staticmethod\n",
    "    def add(x, y):\n",
    "        return x+y\n",
    "    \n",
    "    @staticmethod\n",
    "    def subtract(x, y):\n",
    "        return x-y"
   ]
  },
  {
   "cell_type": "code",
   "execution_count": 36,
   "id": "b294d1cf-1f45-4b22-b543-05f788c341c4",
   "metadata": {},
   "outputs": [
    {
     "data": {
      "text/plain": [
       "8"
      ]
     },
     "execution_count": 36,
     "metadata": {},
     "output_type": "execute_result"
    }
   ],
   "source": [
    "Calculator.add(5, 3)"
   ]
  },
  {
   "cell_type": "code",
   "execution_count": 37,
   "id": "a65eca66-f08d-4d3b-b732-7f1904ff5215",
   "metadata": {},
   "outputs": [
    {
     "data": {
      "text/plain": [
       "2"
      ]
     },
     "execution_count": 37,
     "metadata": {},
     "output_type": "execute_result"
    }
   ],
   "source": [
    "Calculator.subtract(5, 3)"
   ]
  },
  {
   "cell_type": "code",
   "execution_count": null,
   "id": "069f79cf-accf-4e89-a34a-3e5a33f37955",
   "metadata": {},
   "outputs": [],
   "source": []
  }
 ],
 "metadata": {
  "kernelspec": {
   "display_name": "Python 3 (ipykernel)",
   "language": "python",
   "name": "python3"
  },
  "language_info": {
   "codemirror_mode": {
    "name": "ipython",
    "version": 3
   },
   "file_extension": ".py",
   "mimetype": "text/x-python",
   "name": "python",
   "nbconvert_exporter": "python",
   "pygments_lexer": "ipython3",
   "version": "3.12.0"
  }
 },
 "nbformat": 4,
 "nbformat_minor": 5
}
