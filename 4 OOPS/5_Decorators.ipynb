{
 "cells": [
  {
   "cell_type": "code",
   "execution_count": 1,
   "metadata": {},
   "outputs": [],
   "source": [
    "#decorators>> allows to modify/extend the existing behavior of function or class without modifying it"
   ]
  },
  {
   "cell_type": "code",
   "execution_count": 1,
   "metadata": {},
   "outputs": [],
   "source": [
    "def my_decorator_func(): \n",
    "    print(\"the lines being printed before the comp\")\n",
    "    print(1+11)\n",
    "    print(\"the lines being printed after the comp\")"
   ]
  },
  {
   "cell_type": "code",
   "execution_count": 2,
   "metadata": {},
   "outputs": [
    {
     "name": "stdout",
     "output_type": "stream",
     "text": [
      "the lines being printed before the comp\n",
      "12\n",
      "the lines being printed after the comp\n"
     ]
    }
   ],
   "source": [
    "my_decorator_func()"
   ]
  },
  {
   "cell_type": "code",
   "execution_count": 3,
   "metadata": {},
   "outputs": [],
   "source": [
    "def my_decorator(func):   # decorator fun that take another fun as args\n",
    "    def wrapper():    #adds the functioanlity before and after calling fun\n",
    "         print(\"the lines being printed before the comp\")\n",
    "         func()\n",
    "         print(\"the lines being printed after the comp\")\n",
    "    return wrapper\n"
   ]
  },
  {
   "cell_type": "code",
   "execution_count": 4,
   "metadata": {},
   "outputs": [],
   "source": [
    "@my_decorator\n",
    "def say_hello(): \n",
    "    print(\"hello\")\n",
    "\n",
    "# when say_hello() is called, it actully calling wrapper() which in turn calls say_hello()"
   ]
  },
  {
   "cell_type": "code",
   "execution_count": 5,
   "metadata": {},
   "outputs": [
    {
     "name": "stdout",
     "output_type": "stream",
     "text": [
      "the lines being printed before the comp\n",
      "hello\n",
      "the lines being printed after the comp\n"
     ]
    }
   ],
   "source": [
    "say_hello()"
   ]
  },
  {
   "cell_type": "code",
   "execution_count": 54,
   "metadata": {},
   "outputs": [],
   "source": [
    "import time\n",
    "def timer_decorator(func): \n",
    "    def timer(): \n",
    "        start=time.time()\n",
    "        func()\n",
    "        end=time.time()\n",
    "        print(end-start)\n",
    "    return timer"
   ]
  },
  {
   "cell_type": "code",
   "execution_count": 61,
   "metadata": {},
   "outputs": [],
   "source": [
    "@timer_decorator\n",
    "def func_test(): \n",
    "    print(1109**1000)"
   ]
  },
  {
   "cell_type": "code",
   "execution_count": 62,
   "metadata": {},
   "outputs": [
    {
     "name": "stdout",
     "output_type": "stream",
     "text": [
      "854173609106586286036695143325801085684243930516078138893655191538018372615472417258193925122544837741794933010080923582736263787152600297252680043110541572962579222624826815479950548568148712486908595708785910559699499646245523973359320458334948566566342633421150799706706283946313959199424547681464173488783196084555739014895415832579866240296355930843344259510237791449804216019323790206654764214640758701051380556546729018772642097353673544427984545911146243983438822188097615539090332264511308469588280612124613191492022074978475743881427657419955537151739886695847732926622514178985087665995091700401481121564147143142743303319677162452535504298217958356765963342304271670931123118570159641331576719044460703998803844453010984202101157060183415078498288461850374028023828366824967469787118186109973355740994452388760576994601273102878933166835369310927370209120966827382507138454019774288243326608687378161574466236396589714159300799456454046656872225540494460025220676184278078828127640689372030499060204011503880335372354986466076957713929948452331663578656464065905094340738934887305506674468016368457110706903451213468385476559543948590688279003205259502220361659756042683851804848575446743531997687332314999203983943117171640374598115150074702148826451892291295224498078401391048089875891494194179177515086255049305071471228768496654881010701764000522334193255764970783999148742264937744292078336338674872542900957609542153253478473408586453351851541739361037435639256516036425201401317664492873902586470273103955872265090459406444161586815750234783074789104777185722885917067765244877092660835975024576507422620367566286016440755949261346314948124273627197832130215863997737148992084856707953323399820746000625930212675325775304748614043774578383048666567234683020174177294237273156742184319822510064149134915081438133927053740629579582848215096243463738955761306091720727025915285485025641393263098176543703930072809167525590297139576119070048772700735430306329511202428009198150101453585048033846854390210701055957641850199010813356712023902472525782367991896332926016273118421516280129802491177130104398419852518107084937054241790147534214197544858096007027535832267964079040850196294212421045531062021846953668819143921191862033018785865304234851295728731686951821937873110026129278673824224692625535822273573760593982372799087185457642483065044986194496603206746863980641636265254066070675076454453856872439116927914074514575228258031127140699247588381343319681196209105213489827100174873703981264311688580962141115651673840367889761860949030833923835626829758631354501240329480126772699860122923068338081380281524606842479668604818097464840684022424926600221849867400056483936530602951307591792557203390100384510802824657449661699826127495680617169123340416109309610250559902304811875174865992530486876956079899741688581229735445075359575841781343266495099144337072606712353168767334106052624048335149593219328930155739588050445823234982707838776272498853874973764546792360786880379031631572239435835002801205717466936683340001\n",
      "0.0014383792877197266\n"
     ]
    }
   ],
   "source": [
    "func_test()"
   ]
  },
  {
   "cell_type": "code",
   "execution_count": 70,
   "metadata": {},
   "outputs": [],
   "source": [
    "class MyDecorator: \n",
    "    def __init__(self, func): \n",
    "        self.func=func\n",
    "    def __call__(self):     #__call__ method which is invoked when the decorated function (say_hello in this case) is called\n",
    "        print(\"something is happenning before func\")\n",
    "        self.func()\n",
    "        print(\"something is hapeing after func\")"
   ]
  },
  {
   "cell_type": "code",
   "execution_count": 71,
   "metadata": {},
   "outputs": [],
   "source": [
    "@MyDecorator   # __call__ is a special method which is invoked when you call a decorator class instance\n",
    "def say_hello(): \n",
    "    print(\"helllo\")"
   ]
  },
  {
   "cell_type": "code",
   "execution_count": 72,
   "metadata": {},
   "outputs": [
    {
     "name": "stdout",
     "output_type": "stream",
     "text": [
      "something is happenning before func\n",
      "helllo\n",
      "something is hapeing after func\n"
     ]
    }
   ],
   "source": [
    "say_hello()"
   ]
  },
  {
   "cell_type": "code",
   "execution_count": 96,
   "metadata": {},
   "outputs": [],
   "source": [
    "# Built in decorators>> classmethod, staticmethod and property decorator"
   ]
  },
  {
   "cell_type": "code",
   "execution_count": 83,
   "metadata": {},
   "outputs": [],
   "source": [
    "# statci method>> which can be called withod creating an instance of class\n",
    "\n",
    "\n",
    "class Math: \n",
    "    def add(self, x,y): \n",
    "        return x+y"
   ]
  },
  {
   "cell_type": "code",
   "execution_count": 84,
   "metadata": {},
   "outputs": [],
   "source": [
    "a=Math()  # make object/instance"
   ]
  },
  {
   "cell_type": "code",
   "execution_count": 85,
   "metadata": {},
   "outputs": [
    {
     "data": {
      "text/plain": [
       "7"
      ]
     },
     "execution_count": 85,
     "metadata": {},
     "output_type": "execute_result"
    }
   ],
   "source": [
    "a.add(2,5)   # this was regular class"
   ]
  },
  {
   "cell_type": "code",
   "execution_count": 87,
   "metadata": {},
   "outputs": [],
   "source": [
    "class Math:\n",
    "    @staticmethod \n",
    "    def add(x,y): \n",
    "        return x+y"
   ]
  },
  {
   "cell_type": "code",
   "execution_count": 88,
   "metadata": {},
   "outputs": [
    {
     "data": {
      "text/plain": [
       "5"
      ]
     },
     "execution_count": 88,
     "metadata": {},
     "output_type": "execute_result"
    }
   ],
   "source": [
    "Math.add(2,3)"
   ]
  },
  {
   "cell_type": "code",
   "execution_count": 94,
   "metadata": {},
   "outputs": [],
   "source": [
    "# class method>> takes class itself as first args\n",
    "\n",
    "class Math: \n",
    "    @classmethod    # takes reference to the class itself to modify and access class level attributes\n",
    "    def add(cls,x,y): #|cls is the name of the class on which the method is called\n",
    "        return cls.__name__,x+y   # cls__name__ >> same class that is Math"
   ]
  },
  {
   "cell_type": "code",
   "execution_count": 95,
   "metadata": {},
   "outputs": [
    {
     "data": {
      "text/plain": [
       "('Math', 9)"
      ]
     },
     "execution_count": 95,
     "metadata": {},
     "output_type": "execute_result"
    }
   ],
   "source": [
    "Math.add(4,5)  # return a tuple"
   ]
  },
  {
   "cell_type": "code",
   "execution_count": 107,
   "metadata": {},
   "outputs": [],
   "source": [
    "# property decorator>> it allows metods to be accessed as attribute"
   ]
  },
  {
   "cell_type": "code",
   "execution_count": 108,
   "metadata": {},
   "outputs": [],
   "source": [
    "class Circle: \n",
    "    def __init__(self, radius): \n",
    "        self.radius=radius\n",
    "\n",
    "    def area(self): \n",
    "        radius=self.radius\n",
    "        return 3.14 * radius**2"
   ]
  },
  {
   "cell_type": "code",
   "execution_count": 109,
   "metadata": {},
   "outputs": [],
   "source": [
    "c=Circle(5)"
   ]
  },
  {
   "cell_type": "code",
   "execution_count": 110,
   "metadata": {},
   "outputs": [
    {
     "data": {
      "text/plain": [
       "5"
      ]
     },
     "execution_count": 110,
     "metadata": {},
     "output_type": "execute_result"
    }
   ],
   "source": [
    "c.radius"
   ]
  },
  {
   "cell_type": "code",
   "execution_count": 111,
   "metadata": {},
   "outputs": [
    {
     "data": {
      "text/plain": [
       "78.5"
      ]
     },
     "execution_count": 111,
     "metadata": {},
     "output_type": "execute_result"
    }
   ],
   "source": [
    "c.area()"
   ]
  },
  {
   "cell_type": "code",
   "execution_count": 112,
   "metadata": {},
   "outputs": [
    {
     "data": {
      "text/plain": [
       "<bound method Circle.area of <__main__.Circle object at 0x000001EF4231D8B0>>"
      ]
     },
     "execution_count": 112,
     "metadata": {},
     "output_type": "execute_result"
    }
   ],
   "source": [
    "c.area"
   ]
  },
  {
   "cell_type": "code",
   "execution_count": 113,
   "metadata": {},
   "outputs": [],
   "source": [
    "class Circle: \n",
    "    def __init__(self, radius): \n",
    "        self.radius=radius\n",
    "        \n",
    "    @property\n",
    "    def area(self): \n",
    "        radius=self.radius\n",
    "        return 3.14 * radius**2"
   ]
  },
  {
   "cell_type": "code",
   "execution_count": 115,
   "metadata": {},
   "outputs": [],
   "source": [
    "c=Circle(7)"
   ]
  },
  {
   "cell_type": "code",
   "execution_count": 117,
   "metadata": {},
   "outputs": [
    {
     "data": {
      "text/plain": [
       "7"
      ]
     },
     "execution_count": 117,
     "metadata": {},
     "output_type": "execute_result"
    }
   ],
   "source": [
    "c.radius"
   ]
  },
  {
   "cell_type": "code",
   "execution_count": 116,
   "metadata": {},
   "outputs": [
    {
     "data": {
      "text/plain": [
       "153.86"
      ]
     },
     "execution_count": 116,
     "metadata": {},
     "output_type": "execute_result"
    }
   ],
   "source": [
    "c.area"
   ]
  },
  {
   "cell_type": "code",
   "execution_count": 118,
   "metadata": {},
   "outputs": [],
   "source": [
    "#thanks"
   ]
  }
 ],
 "metadata": {
  "kernelspec": {
   "display_name": "Python 3",
   "language": "python",
   "name": "python3"
  },
  "language_info": {
   "codemirror_mode": {
    "name": "ipython",
    "version": 3
   },
   "file_extension": ".py",
   "mimetype": "text/x-python",
   "name": "python",
   "nbconvert_exporter": "python",
   "pygments_lexer": "ipython3",
   "version": "3.12.0"
  }
 },
 "nbformat": 4,
 "nbformat_minor": 2
}
