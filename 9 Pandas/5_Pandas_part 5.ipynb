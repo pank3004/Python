{
 "cells": [
  {
   "cell_type": "code",
   "execution_count": 3,
   "metadata": {},
   "outputs": [],
   "source": [
    "import pandas as pd"
   ]
  },
  {
   "cell_type": "code",
   "execution_count": 3,
   "metadata": {},
   "outputs": [],
   "source": [
    "data={'a':[1,2,3,4],\n",
    "      'b': [4,5,6,7],\n",
    "      'c': ['pankaj','nitesh','neeshu','rudra']}"
   ]
  },
  {
   "cell_type": "code",
   "execution_count": 4,
   "metadata": {},
   "outputs": [],
   "source": [
    "df=pd.DataFrame(data)"
   ]
  },
  {
   "cell_type": "code",
   "execution_count": 5,
   "metadata": {},
   "outputs": [
    {
     "data": {
      "text/html": [
       "<div>\n",
       "<style scoped>\n",
       "    .dataframe tbody tr th:only-of-type {\n",
       "        vertical-align: middle;\n",
       "    }\n",
       "\n",
       "    .dataframe tbody tr th {\n",
       "        vertical-align: top;\n",
       "    }\n",
       "\n",
       "    .dataframe thead th {\n",
       "        text-align: right;\n",
       "    }\n",
       "</style>\n",
       "<table border=\"1\" class=\"dataframe\">\n",
       "  <thead>\n",
       "    <tr style=\"text-align: right;\">\n",
       "      <th></th>\n",
       "      <th>a</th>\n",
       "      <th>b</th>\n",
       "      <th>c</th>\n",
       "    </tr>\n",
       "  </thead>\n",
       "  <tbody>\n",
       "    <tr>\n",
       "      <th>0</th>\n",
       "      <td>1</td>\n",
       "      <td>4</td>\n",
       "      <td>pankaj</td>\n",
       "    </tr>\n",
       "    <tr>\n",
       "      <th>1</th>\n",
       "      <td>2</td>\n",
       "      <td>5</td>\n",
       "      <td>nitesh</td>\n",
       "    </tr>\n",
       "    <tr>\n",
       "      <th>2</th>\n",
       "      <td>3</td>\n",
       "      <td>6</td>\n",
       "      <td>neeshu</td>\n",
       "    </tr>\n",
       "    <tr>\n",
       "      <th>3</th>\n",
       "      <td>4</td>\n",
       "      <td>7</td>\n",
       "      <td>rudra</td>\n",
       "    </tr>\n",
       "  </tbody>\n",
       "</table>\n",
       "</div>"
      ],
      "text/plain": [
       "   a  b       c\n",
       "0  1  4  pankaj\n",
       "1  2  5  nitesh\n",
       "2  3  6  neeshu\n",
       "3  4  7   rudra"
      ]
     },
     "execution_count": 5,
     "metadata": {},
     "output_type": "execute_result"
    }
   ],
   "source": [
    "df"
   ]
  },
  {
   "cell_type": "code",
   "execution_count": 7,
   "metadata": {},
   "outputs": [
    {
     "data": {
      "text/html": [
       "<div>\n",
       "<style scoped>\n",
       "    .dataframe tbody tr th:only-of-type {\n",
       "        vertical-align: middle;\n",
       "    }\n",
       "\n",
       "    .dataframe tbody tr th {\n",
       "        vertical-align: top;\n",
       "    }\n",
       "\n",
       "    .dataframe thead th {\n",
       "        text-align: right;\n",
       "    }\n",
       "</style>\n",
       "<table border=\"1\" class=\"dataframe\">\n",
       "  <thead>\n",
       "    <tr style=\"text-align: right;\">\n",
       "      <th></th>\n",
       "      <th>b</th>\n",
       "      <th>c</th>\n",
       "    </tr>\n",
       "    <tr>\n",
       "      <th>a</th>\n",
       "      <th></th>\n",
       "      <th></th>\n",
       "    </tr>\n",
       "  </thead>\n",
       "  <tbody>\n",
       "    <tr>\n",
       "      <th>1</th>\n",
       "      <td>4</td>\n",
       "      <td>pankaj</td>\n",
       "    </tr>\n",
       "    <tr>\n",
       "      <th>2</th>\n",
       "      <td>5</td>\n",
       "      <td>nitesh</td>\n",
       "    </tr>\n",
       "    <tr>\n",
       "      <th>3</th>\n",
       "      <td>6</td>\n",
       "      <td>neeshu</td>\n",
       "    </tr>\n",
       "    <tr>\n",
       "      <th>4</th>\n",
       "      <td>7</td>\n",
       "      <td>rudra</td>\n",
       "    </tr>\n",
       "  </tbody>\n",
       "</table>\n",
       "</div>"
      ],
      "text/plain": [
       "   b       c\n",
       "a           \n",
       "1  4  pankaj\n",
       "2  5  nitesh\n",
       "3  6  neeshu\n",
       "4  7   rudra"
      ]
     },
     "execution_count": 7,
     "metadata": {},
     "output_type": "execute_result"
    }
   ],
   "source": [
    "df.set_index('a')"
   ]
  },
  {
   "cell_type": "code",
   "execution_count": 8,
   "metadata": {},
   "outputs": [
    {
     "data": {
      "text/html": [
       "<div>\n",
       "<style scoped>\n",
       "    .dataframe tbody tr th:only-of-type {\n",
       "        vertical-align: middle;\n",
       "    }\n",
       "\n",
       "    .dataframe tbody tr th {\n",
       "        vertical-align: top;\n",
       "    }\n",
       "\n",
       "    .dataframe thead th {\n",
       "        text-align: right;\n",
       "    }\n",
       "</style>\n",
       "<table border=\"1\" class=\"dataframe\">\n",
       "  <thead>\n",
       "    <tr style=\"text-align: right;\">\n",
       "      <th></th>\n",
       "      <th>a</th>\n",
       "      <th>b</th>\n",
       "      <th>c</th>\n",
       "    </tr>\n",
       "  </thead>\n",
       "  <tbody>\n",
       "    <tr>\n",
       "      <th>0</th>\n",
       "      <td>1</td>\n",
       "      <td>4</td>\n",
       "      <td>pankaj</td>\n",
       "    </tr>\n",
       "    <tr>\n",
       "      <th>1</th>\n",
       "      <td>2</td>\n",
       "      <td>5</td>\n",
       "      <td>nitesh</td>\n",
       "    </tr>\n",
       "    <tr>\n",
       "      <th>2</th>\n",
       "      <td>3</td>\n",
       "      <td>6</td>\n",
       "      <td>neeshu</td>\n",
       "    </tr>\n",
       "    <tr>\n",
       "      <th>3</th>\n",
       "      <td>4</td>\n",
       "      <td>7</td>\n",
       "      <td>rudra</td>\n",
       "    </tr>\n",
       "  </tbody>\n",
       "</table>\n",
       "</div>"
      ],
      "text/plain": [
       "   a  b       c\n",
       "0  1  4  pankaj\n",
       "1  2  5  nitesh\n",
       "2  3  6  neeshu\n",
       "3  4  7   rudra"
      ]
     },
     "execution_count": 8,
     "metadata": {},
     "output_type": "execute_result"
    }
   ],
   "source": [
    "df"
   ]
  },
  {
   "cell_type": "code",
   "execution_count": 9,
   "metadata": {},
   "outputs": [],
   "source": [
    "df.set_index('a', inplace=True)"
   ]
  },
  {
   "cell_type": "code",
   "execution_count": 10,
   "metadata": {},
   "outputs": [
    {
     "data": {
      "text/html": [
       "<div>\n",
       "<style scoped>\n",
       "    .dataframe tbody tr th:only-of-type {\n",
       "        vertical-align: middle;\n",
       "    }\n",
       "\n",
       "    .dataframe tbody tr th {\n",
       "        vertical-align: top;\n",
       "    }\n",
       "\n",
       "    .dataframe thead th {\n",
       "        text-align: right;\n",
       "    }\n",
       "</style>\n",
       "<table border=\"1\" class=\"dataframe\">\n",
       "  <thead>\n",
       "    <tr style=\"text-align: right;\">\n",
       "      <th></th>\n",
       "      <th>b</th>\n",
       "      <th>c</th>\n",
       "    </tr>\n",
       "    <tr>\n",
       "      <th>a</th>\n",
       "      <th></th>\n",
       "      <th></th>\n",
       "    </tr>\n",
       "  </thead>\n",
       "  <tbody>\n",
       "    <tr>\n",
       "      <th>1</th>\n",
       "      <td>4</td>\n",
       "      <td>pankaj</td>\n",
       "    </tr>\n",
       "    <tr>\n",
       "      <th>2</th>\n",
       "      <td>5</td>\n",
       "      <td>nitesh</td>\n",
       "    </tr>\n",
       "    <tr>\n",
       "      <th>3</th>\n",
       "      <td>6</td>\n",
       "      <td>neeshu</td>\n",
       "    </tr>\n",
       "    <tr>\n",
       "      <th>4</th>\n",
       "      <td>7</td>\n",
       "      <td>rudra</td>\n",
       "    </tr>\n",
       "  </tbody>\n",
       "</table>\n",
       "</div>"
      ],
      "text/plain": [
       "   b       c\n",
       "a           \n",
       "1  4  pankaj\n",
       "2  5  nitesh\n",
       "3  6  neeshu\n",
       "4  7   rudra"
      ]
     },
     "execution_count": 10,
     "metadata": {},
     "output_type": "execute_result"
    }
   ],
   "source": [
    "df"
   ]
  },
  {
   "cell_type": "code",
   "execution_count": 11,
   "metadata": {},
   "outputs": [
    {
     "data": {
      "text/html": [
       "<div>\n",
       "<style scoped>\n",
       "    .dataframe tbody tr th:only-of-type {\n",
       "        vertical-align: middle;\n",
       "    }\n",
       "\n",
       "    .dataframe tbody tr th {\n",
       "        vertical-align: top;\n",
       "    }\n",
       "\n",
       "    .dataframe thead th {\n",
       "        text-align: right;\n",
       "    }\n",
       "</style>\n",
       "<table border=\"1\" class=\"dataframe\">\n",
       "  <thead>\n",
       "    <tr style=\"text-align: right;\">\n",
       "      <th></th>\n",
       "      <th>a</th>\n",
       "      <th>b</th>\n",
       "      <th>c</th>\n",
       "    </tr>\n",
       "  </thead>\n",
       "  <tbody>\n",
       "    <tr>\n",
       "      <th>0</th>\n",
       "      <td>1</td>\n",
       "      <td>4</td>\n",
       "      <td>pankaj</td>\n",
       "    </tr>\n",
       "    <tr>\n",
       "      <th>1</th>\n",
       "      <td>2</td>\n",
       "      <td>5</td>\n",
       "      <td>nitesh</td>\n",
       "    </tr>\n",
       "    <tr>\n",
       "      <th>2</th>\n",
       "      <td>3</td>\n",
       "      <td>6</td>\n",
       "      <td>neeshu</td>\n",
       "    </tr>\n",
       "    <tr>\n",
       "      <th>3</th>\n",
       "      <td>4</td>\n",
       "      <td>7</td>\n",
       "      <td>rudra</td>\n",
       "    </tr>\n",
       "  </tbody>\n",
       "</table>\n",
       "</div>"
      ],
      "text/plain": [
       "   a  b       c\n",
       "0  1  4  pankaj\n",
       "1  2  5  nitesh\n",
       "2  3  6  neeshu\n",
       "3  4  7   rudra"
      ]
     },
     "execution_count": 11,
     "metadata": {},
     "output_type": "execute_result"
    }
   ],
   "source": [
    "df.reset_index()"
   ]
  },
  {
   "cell_type": "code",
   "execution_count": 12,
   "metadata": {},
   "outputs": [
    {
     "data": {
      "text/html": [
       "<div>\n",
       "<style scoped>\n",
       "    .dataframe tbody tr th:only-of-type {\n",
       "        vertical-align: middle;\n",
       "    }\n",
       "\n",
       "    .dataframe tbody tr th {\n",
       "        vertical-align: top;\n",
       "    }\n",
       "\n",
       "    .dataframe thead th {\n",
       "        text-align: right;\n",
       "    }\n",
       "</style>\n",
       "<table border=\"1\" class=\"dataframe\">\n",
       "  <thead>\n",
       "    <tr style=\"text-align: right;\">\n",
       "      <th></th>\n",
       "      <th>b</th>\n",
       "      <th>c</th>\n",
       "    </tr>\n",
       "    <tr>\n",
       "      <th>a</th>\n",
       "      <th></th>\n",
       "      <th></th>\n",
       "    </tr>\n",
       "  </thead>\n",
       "  <tbody>\n",
       "    <tr>\n",
       "      <th>1</th>\n",
       "      <td>4</td>\n",
       "      <td>pankaj</td>\n",
       "    </tr>\n",
       "    <tr>\n",
       "      <th>2</th>\n",
       "      <td>5</td>\n",
       "      <td>nitesh</td>\n",
       "    </tr>\n",
       "    <tr>\n",
       "      <th>3</th>\n",
       "      <td>6</td>\n",
       "      <td>neeshu</td>\n",
       "    </tr>\n",
       "    <tr>\n",
       "      <th>4</th>\n",
       "      <td>7</td>\n",
       "      <td>rudra</td>\n",
       "    </tr>\n",
       "  </tbody>\n",
       "</table>\n",
       "</div>"
      ],
      "text/plain": [
       "   b       c\n",
       "a           \n",
       "1  4  pankaj\n",
       "2  5  nitesh\n",
       "3  6  neeshu\n",
       "4  7   rudra"
      ]
     },
     "execution_count": 12,
     "metadata": {},
     "output_type": "execute_result"
    }
   ],
   "source": [
    "df"
   ]
  },
  {
   "cell_type": "code",
   "execution_count": 13,
   "metadata": {},
   "outputs": [],
   "source": [
    "df.reset_index(inplace=True)"
   ]
  },
  {
   "cell_type": "code",
   "execution_count": 14,
   "metadata": {},
   "outputs": [
    {
     "data": {
      "text/html": [
       "<div>\n",
       "<style scoped>\n",
       "    .dataframe tbody tr th:only-of-type {\n",
       "        vertical-align: middle;\n",
       "    }\n",
       "\n",
       "    .dataframe tbody tr th {\n",
       "        vertical-align: top;\n",
       "    }\n",
       "\n",
       "    .dataframe thead th {\n",
       "        text-align: right;\n",
       "    }\n",
       "</style>\n",
       "<table border=\"1\" class=\"dataframe\">\n",
       "  <thead>\n",
       "    <tr style=\"text-align: right;\">\n",
       "      <th></th>\n",
       "      <th>a</th>\n",
       "      <th>b</th>\n",
       "      <th>c</th>\n",
       "    </tr>\n",
       "  </thead>\n",
       "  <tbody>\n",
       "    <tr>\n",
       "      <th>0</th>\n",
       "      <td>1</td>\n",
       "      <td>4</td>\n",
       "      <td>pankaj</td>\n",
       "    </tr>\n",
       "    <tr>\n",
       "      <th>1</th>\n",
       "      <td>2</td>\n",
       "      <td>5</td>\n",
       "      <td>nitesh</td>\n",
       "    </tr>\n",
       "    <tr>\n",
       "      <th>2</th>\n",
       "      <td>3</td>\n",
       "      <td>6</td>\n",
       "      <td>neeshu</td>\n",
       "    </tr>\n",
       "    <tr>\n",
       "      <th>3</th>\n",
       "      <td>4</td>\n",
       "      <td>7</td>\n",
       "      <td>rudra</td>\n",
       "    </tr>\n",
       "  </tbody>\n",
       "</table>\n",
       "</div>"
      ],
      "text/plain": [
       "   a  b       c\n",
       "0  1  4  pankaj\n",
       "1  2  5  nitesh\n",
       "2  3  6  neeshu\n",
       "3  4  7   rudra"
      ]
     },
     "execution_count": 14,
     "metadata": {},
     "output_type": "execute_result"
    }
   ],
   "source": [
    "df"
   ]
  },
  {
   "cell_type": "code",
   "execution_count": 17,
   "metadata": {},
   "outputs": [],
   "source": [
    "data={'a':[1,2,3,4],\n",
    "      'b': [4,5,6,7],\n",
    "      'c': ['pankaj','nitesh','neeshu','rudra']}\n",
    "\n",
    "df1=pd.DataFrame(data, index=['a','b','c','d'])"
   ]
  },
  {
   "cell_type": "code",
   "execution_count": 18,
   "metadata": {},
   "outputs": [
    {
     "data": {
      "text/html": [
       "<div>\n",
       "<style scoped>\n",
       "    .dataframe tbody tr th:only-of-type {\n",
       "        vertical-align: middle;\n",
       "    }\n",
       "\n",
       "    .dataframe tbody tr th {\n",
       "        vertical-align: top;\n",
       "    }\n",
       "\n",
       "    .dataframe thead th {\n",
       "        text-align: right;\n",
       "    }\n",
       "</style>\n",
       "<table border=\"1\" class=\"dataframe\">\n",
       "  <thead>\n",
       "    <tr style=\"text-align: right;\">\n",
       "      <th></th>\n",
       "      <th>a</th>\n",
       "      <th>b</th>\n",
       "      <th>c</th>\n",
       "    </tr>\n",
       "  </thead>\n",
       "  <tbody>\n",
       "    <tr>\n",
       "      <th>a</th>\n",
       "      <td>1</td>\n",
       "      <td>4</td>\n",
       "      <td>pankaj</td>\n",
       "    </tr>\n",
       "    <tr>\n",
       "      <th>b</th>\n",
       "      <td>2</td>\n",
       "      <td>5</td>\n",
       "      <td>nitesh</td>\n",
       "    </tr>\n",
       "    <tr>\n",
       "      <th>c</th>\n",
       "      <td>3</td>\n",
       "      <td>6</td>\n",
       "      <td>neeshu</td>\n",
       "    </tr>\n",
       "    <tr>\n",
       "      <th>d</th>\n",
       "      <td>4</td>\n",
       "      <td>7</td>\n",
       "      <td>rudra</td>\n",
       "    </tr>\n",
       "  </tbody>\n",
       "</table>\n",
       "</div>"
      ],
      "text/plain": [
       "   a  b       c\n",
       "a  1  4  pankaj\n",
       "b  2  5  nitesh\n",
       "c  3  6  neeshu\n",
       "d  4  7   rudra"
      ]
     },
     "execution_count": 18,
     "metadata": {},
     "output_type": "execute_result"
    }
   ],
   "source": [
    "df1"
   ]
  },
  {
   "cell_type": "code",
   "execution_count": 20,
   "metadata": {},
   "outputs": [
    {
     "data": {
      "text/html": [
       "<div>\n",
       "<style scoped>\n",
       "    .dataframe tbody tr th:only-of-type {\n",
       "        vertical-align: middle;\n",
       "    }\n",
       "\n",
       "    .dataframe tbody tr th {\n",
       "        vertical-align: top;\n",
       "    }\n",
       "\n",
       "    .dataframe thead th {\n",
       "        text-align: right;\n",
       "    }\n",
       "</style>\n",
       "<table border=\"1\" class=\"dataframe\">\n",
       "  <thead>\n",
       "    <tr style=\"text-align: right;\">\n",
       "      <th></th>\n",
       "      <th>a</th>\n",
       "      <th>b</th>\n",
       "      <th>c</th>\n",
       "    </tr>\n",
       "  </thead>\n",
       "  <tbody>\n",
       "    <tr>\n",
       "      <th>b</th>\n",
       "      <td>2</td>\n",
       "      <td>5</td>\n",
       "      <td>nitesh</td>\n",
       "    </tr>\n",
       "    <tr>\n",
       "      <th>c</th>\n",
       "      <td>3</td>\n",
       "      <td>6</td>\n",
       "      <td>neeshu</td>\n",
       "    </tr>\n",
       "    <tr>\n",
       "      <th>d</th>\n",
       "      <td>4</td>\n",
       "      <td>7</td>\n",
       "      <td>rudra</td>\n",
       "    </tr>\n",
       "    <tr>\n",
       "      <th>a</th>\n",
       "      <td>1</td>\n",
       "      <td>4</td>\n",
       "      <td>pankaj</td>\n",
       "    </tr>\n",
       "  </tbody>\n",
       "</table>\n",
       "</div>"
      ],
      "text/plain": [
       "   a  b       c\n",
       "b  2  5  nitesh\n",
       "c  3  6  neeshu\n",
       "d  4  7   rudra\n",
       "a  1  4  pankaj"
      ]
     },
     "execution_count": 20,
     "metadata": {},
     "output_type": "execute_result"
    }
   ],
   "source": [
    "df1.reindex(['b','c','d','a'])"
   ]
  },
  {
   "cell_type": "code",
   "execution_count": 22,
   "metadata": {},
   "outputs": [
    {
     "data": {
      "text/html": [
       "<div>\n",
       "<style scoped>\n",
       "    .dataframe tbody tr th:only-of-type {\n",
       "        vertical-align: middle;\n",
       "    }\n",
       "\n",
       "    .dataframe tbody tr th {\n",
       "        vertical-align: top;\n",
       "    }\n",
       "\n",
       "    .dataframe thead th {\n",
       "        text-align: right;\n",
       "    }\n",
       "</style>\n",
       "<table border=\"1\" class=\"dataframe\">\n",
       "  <thead>\n",
       "    <tr style=\"text-align: right;\">\n",
       "      <th></th>\n",
       "      <th>a</th>\n",
       "      <th>b</th>\n",
       "      <th>c</th>\n",
       "    </tr>\n",
       "  </thead>\n",
       "  <tbody>\n",
       "    <tr>\n",
       "      <th>a</th>\n",
       "      <td>1</td>\n",
       "      <td>4</td>\n",
       "      <td>pankaj</td>\n",
       "    </tr>\n",
       "    <tr>\n",
       "      <th>b</th>\n",
       "      <td>2</td>\n",
       "      <td>5</td>\n",
       "      <td>nitesh</td>\n",
       "    </tr>\n",
       "    <tr>\n",
       "      <th>c</th>\n",
       "      <td>3</td>\n",
       "      <td>6</td>\n",
       "      <td>neeshu</td>\n",
       "    </tr>\n",
       "    <tr>\n",
       "      <th>d</th>\n",
       "      <td>4</td>\n",
       "      <td>7</td>\n",
       "      <td>rudra</td>\n",
       "    </tr>\n",
       "  </tbody>\n",
       "</table>\n",
       "</div>"
      ],
      "text/plain": [
       "   a  b       c\n",
       "a  1  4  pankaj\n",
       "b  2  5  nitesh\n",
       "c  3  6  neeshu\n",
       "d  4  7   rudra"
      ]
     },
     "execution_count": 22,
     "metadata": {},
     "output_type": "execute_result"
    }
   ],
   "source": [
    "df1"
   ]
  },
  {
   "cell_type": "code",
   "execution_count": 25,
   "metadata": {},
   "outputs": [
    {
     "name": "stdout",
     "output_type": "stream",
     "text": [
      "('a', a         1\n",
      "b         4\n",
      "c    pankaj\n",
      "Name: a, dtype: object)\n",
      "('b', a         2\n",
      "b         5\n",
      "c    nitesh\n",
      "Name: b, dtype: object)\n",
      "('c', a         3\n",
      "b         6\n",
      "c    neeshu\n",
      "Name: c, dtype: object)\n",
      "('d', a        4\n",
      "b        7\n",
      "c    rudra\n",
      "Name: d, dtype: object)\n"
     ]
    }
   ],
   "source": [
    "for i in df1.iterrows(): \n",
    "    print(i)"
   ]
  },
  {
   "cell_type": "code",
   "execution_count": 28,
   "metadata": {},
   "outputs": [
    {
     "name": "stdout",
     "output_type": "stream",
     "text": [
      "a a         1\n",
      "b         4\n",
      "c    pankaj\n",
      "Name: a, dtype: object\n",
      "b a         2\n",
      "b         5\n",
      "c    nitesh\n",
      "Name: b, dtype: object\n",
      "c a         3\n",
      "b         6\n",
      "c    neeshu\n",
      "Name: c, dtype: object\n",
      "d a        4\n",
      "b        7\n",
      "c    rudra\n",
      "Name: d, dtype: object\n"
     ]
    }
   ],
   "source": [
    "for i,j in df1.iterrows(): \n",
    "    print(i,j)"
   ]
  },
  {
   "cell_type": "code",
   "execution_count": 29,
   "metadata": {},
   "outputs": [
    {
     "name": "stdout",
     "output_type": "stream",
     "text": [
      "a         1\n",
      "b         4\n",
      "c    pankaj\n",
      "Name: a, dtype: object\n",
      "a         2\n",
      "b         5\n",
      "c    nitesh\n",
      "Name: b, dtype: object\n",
      "a         3\n",
      "b         6\n",
      "c    neeshu\n",
      "Name: c, dtype: object\n",
      "a        4\n",
      "b        7\n",
      "c    rudra\n",
      "Name: d, dtype: object\n"
     ]
    }
   ],
   "source": [
    "for i,j in df1.iterrows(): \n",
    "    print(j)"
   ]
  },
  {
   "cell_type": "code",
   "execution_count": 33,
   "metadata": {},
   "outputs": [
    {
     "name": "stdout",
     "output_type": "stream",
     "text": [
      "('a', a    1\n",
      "b    2\n",
      "c    3\n",
      "d    4\n",
      "Name: a, dtype: int64)\n",
      "('b', a    4\n",
      "b    5\n",
      "c    6\n",
      "d    7\n",
      "Name: b, dtype: int64)\n",
      "('c', a    pankaj\n",
      "b    nitesh\n",
      "c    neeshu\n",
      "d     rudra\n",
      "Name: c, dtype: object)\n"
     ]
    }
   ],
   "source": [
    "for i in df1.items(): \n",
    "    print(i)"
   ]
  },
  {
   "cell_type": "code",
   "execution_count": 35,
   "metadata": {},
   "outputs": [
    {
     "name": "stdout",
     "output_type": "stream",
     "text": [
      "a a    1\n",
      "b    2\n",
      "c    3\n",
      "d    4\n",
      "Name: a, dtype: int64\n",
      "b a    4\n",
      "b    5\n",
      "c    6\n",
      "d    7\n",
      "Name: b, dtype: int64\n",
      "c a    pankaj\n",
      "b    nitesh\n",
      "c    neeshu\n",
      "d     rudra\n",
      "Name: c, dtype: object\n"
     ]
    }
   ],
   "source": [
    "for col_name, coll in df1.items(): \n",
    "    print(col_name, coll)"
   ]
  },
  {
   "cell_type": "code",
   "execution_count": 36,
   "metadata": {},
   "outputs": [
    {
     "name": "stdout",
     "output_type": "stream",
     "text": [
      "a    1\n",
      "b    2\n",
      "c    3\n",
      "d    4\n",
      "Name: a, dtype: int64\n",
      "a    4\n",
      "b    5\n",
      "c    6\n",
      "d    7\n",
      "Name: b, dtype: int64\n",
      "a    pankaj\n",
      "b    nitesh\n",
      "c    neeshu\n",
      "d     rudra\n",
      "Name: c, dtype: object\n"
     ]
    }
   ],
   "source": [
    "for col_name, coll in df1.items(): \n",
    "    print(coll)"
   ]
  },
  {
   "cell_type": "code",
   "execution_count": 37,
   "metadata": {},
   "outputs": [
    {
     "data": {
      "text/html": [
       "<div>\n",
       "<style scoped>\n",
       "    .dataframe tbody tr th:only-of-type {\n",
       "        vertical-align: middle;\n",
       "    }\n",
       "\n",
       "    .dataframe tbody tr th {\n",
       "        vertical-align: top;\n",
       "    }\n",
       "\n",
       "    .dataframe thead th {\n",
       "        text-align: right;\n",
       "    }\n",
       "</style>\n",
       "<table border=\"1\" class=\"dataframe\">\n",
       "  <thead>\n",
       "    <tr style=\"text-align: right;\">\n",
       "      <th></th>\n",
       "      <th>a</th>\n",
       "      <th>b</th>\n",
       "      <th>c</th>\n",
       "    </tr>\n",
       "  </thead>\n",
       "  <tbody>\n",
       "    <tr>\n",
       "      <th>a</th>\n",
       "      <td>1</td>\n",
       "      <td>4</td>\n",
       "      <td>pankaj</td>\n",
       "    </tr>\n",
       "    <tr>\n",
       "      <th>b</th>\n",
       "      <td>2</td>\n",
       "      <td>5</td>\n",
       "      <td>nitesh</td>\n",
       "    </tr>\n",
       "    <tr>\n",
       "      <th>c</th>\n",
       "      <td>3</td>\n",
       "      <td>6</td>\n",
       "      <td>neeshu</td>\n",
       "    </tr>\n",
       "    <tr>\n",
       "      <th>d</th>\n",
       "      <td>4</td>\n",
       "      <td>7</td>\n",
       "      <td>rudra</td>\n",
       "    </tr>\n",
       "  </tbody>\n",
       "</table>\n",
       "</div>"
      ],
      "text/plain": [
       "   a  b       c\n",
       "a  1  4  pankaj\n",
       "b  2  5  nitesh\n",
       "c  3  6  neeshu\n",
       "d  4  7   rudra"
      ]
     },
     "execution_count": 37,
     "metadata": {},
     "output_type": "execute_result"
    }
   ],
   "source": [
    "df1"
   ]
  },
  {
   "cell_type": "code",
   "execution_count": 42,
   "metadata": {},
   "outputs": [
    {
     "data": {
      "text/plain": [
       "0    1\n",
       "1    2\n",
       "2    3\n",
       "3    4\n",
       "Name: a, dtype: int64"
      ]
     },
     "execution_count": 42,
     "metadata": {},
     "output_type": "execute_result"
    }
   ],
   "source": [
    "df['a']"
   ]
  },
  {
   "cell_type": "code",
   "execution_count": 41,
   "metadata": {},
   "outputs": [
    {
     "data": {
      "text/plain": [
       "[1, 2, 3, 4]"
      ]
     },
     "execution_count": 41,
     "metadata": {},
     "output_type": "execute_result"
    }
   ],
   "source": [
    "list(df['a'])"
   ]
  },
  {
   "cell_type": "code",
   "execution_count": 40,
   "metadata": {},
   "outputs": [
    {
     "data": {
      "text/plain": [
       "[1, 2, 3, 4]"
      ]
     },
     "execution_count": 40,
     "metadata": {},
     "output_type": "execute_result"
    }
   ],
   "source": [
    "[i for i in df['a']]"
   ]
  },
  {
   "cell_type": "code",
   "execution_count": 43,
   "metadata": {},
   "outputs": [
    {
     "data": {
      "text/html": [
       "<div>\n",
       "<style scoped>\n",
       "    .dataframe tbody tr th:only-of-type {\n",
       "        vertical-align: middle;\n",
       "    }\n",
       "\n",
       "    .dataframe tbody tr th {\n",
       "        vertical-align: top;\n",
       "    }\n",
       "\n",
       "    .dataframe thead th {\n",
       "        text-align: right;\n",
       "    }\n",
       "</style>\n",
       "<table border=\"1\" class=\"dataframe\">\n",
       "  <thead>\n",
       "    <tr style=\"text-align: right;\">\n",
       "      <th></th>\n",
       "      <th>a</th>\n",
       "      <th>b</th>\n",
       "      <th>c</th>\n",
       "    </tr>\n",
       "  </thead>\n",
       "  <tbody>\n",
       "    <tr>\n",
       "      <th>a</th>\n",
       "      <td>1</td>\n",
       "      <td>4</td>\n",
       "      <td>pankaj</td>\n",
       "    </tr>\n",
       "    <tr>\n",
       "      <th>b</th>\n",
       "      <td>2</td>\n",
       "      <td>5</td>\n",
       "      <td>nitesh</td>\n",
       "    </tr>\n",
       "    <tr>\n",
       "      <th>c</th>\n",
       "      <td>3</td>\n",
       "      <td>6</td>\n",
       "      <td>neeshu</td>\n",
       "    </tr>\n",
       "    <tr>\n",
       "      <th>d</th>\n",
       "      <td>4</td>\n",
       "      <td>7</td>\n",
       "      <td>rudra</td>\n",
       "    </tr>\n",
       "  </tbody>\n",
       "</table>\n",
       "</div>"
      ],
      "text/plain": [
       "   a  b       c\n",
       "a  1  4  pankaj\n",
       "b  2  5  nitesh\n",
       "c  3  6  neeshu\n",
       "d  4  7   rudra"
      ]
     },
     "execution_count": 43,
     "metadata": {},
     "output_type": "execute_result"
    }
   ],
   "source": [
    "df1"
   ]
  },
  {
   "cell_type": "code",
   "execution_count": 47,
   "metadata": {},
   "outputs": [
    {
     "data": {
      "text/plain": [
       "a                         10\n",
       "b                         22\n",
       "c    pankajniteshneeshurudra\n",
       "dtype: object"
      ]
     },
     "execution_count": 47,
     "metadata": {},
     "output_type": "execute_result"
    }
   ],
   "source": [
    "def test(x): \n",
    "    return x.sum()\n",
    "\n",
    "df1.apply(test)  # by default  axis=0"
   ]
  },
  {
   "cell_type": "code",
   "execution_count": 51,
   "metadata": {},
   "outputs": [],
   "source": [
    "df2=df1[['a', 'b']]"
   ]
  },
  {
   "cell_type": "code",
   "execution_count": 52,
   "metadata": {},
   "outputs": [
    {
     "data": {
      "text/html": [
       "<div>\n",
       "<style scoped>\n",
       "    .dataframe tbody tr th:only-of-type {\n",
       "        vertical-align: middle;\n",
       "    }\n",
       "\n",
       "    .dataframe tbody tr th {\n",
       "        vertical-align: top;\n",
       "    }\n",
       "\n",
       "    .dataframe thead th {\n",
       "        text-align: right;\n",
       "    }\n",
       "</style>\n",
       "<table border=\"1\" class=\"dataframe\">\n",
       "  <thead>\n",
       "    <tr style=\"text-align: right;\">\n",
       "      <th></th>\n",
       "      <th>a</th>\n",
       "      <th>b</th>\n",
       "    </tr>\n",
       "  </thead>\n",
       "  <tbody>\n",
       "    <tr>\n",
       "      <th>a</th>\n",
       "      <td>1</td>\n",
       "      <td>4</td>\n",
       "    </tr>\n",
       "    <tr>\n",
       "      <th>b</th>\n",
       "      <td>2</td>\n",
       "      <td>5</td>\n",
       "    </tr>\n",
       "    <tr>\n",
       "      <th>c</th>\n",
       "      <td>3</td>\n",
       "      <td>6</td>\n",
       "    </tr>\n",
       "    <tr>\n",
       "      <th>d</th>\n",
       "      <td>4</td>\n",
       "      <td>7</td>\n",
       "    </tr>\n",
       "  </tbody>\n",
       "</table>\n",
       "</div>"
      ],
      "text/plain": [
       "   a  b\n",
       "a  1  4\n",
       "b  2  5\n",
       "c  3  6\n",
       "d  4  7"
      ]
     },
     "execution_count": 52,
     "metadata": {},
     "output_type": "execute_result"
    }
   ],
   "source": [
    "df2"
   ]
  },
  {
   "cell_type": "code",
   "execution_count": 56,
   "metadata": {},
   "outputs": [
    {
     "data": {
      "text/html": [
       "<div>\n",
       "<style scoped>\n",
       "    .dataframe tbody tr th:only-of-type {\n",
       "        vertical-align: middle;\n",
       "    }\n",
       "\n",
       "    .dataframe tbody tr th {\n",
       "        vertical-align: top;\n",
       "    }\n",
       "\n",
       "    .dataframe thead th {\n",
       "        text-align: right;\n",
       "    }\n",
       "</style>\n",
       "<table border=\"1\" class=\"dataframe\">\n",
       "  <thead>\n",
       "    <tr style=\"text-align: right;\">\n",
       "      <th></th>\n",
       "      <th>a</th>\n",
       "      <th>b</th>\n",
       "    </tr>\n",
       "  </thead>\n",
       "  <tbody>\n",
       "    <tr>\n",
       "      <th>a</th>\n",
       "      <td>1</td>\n",
       "      <td>16</td>\n",
       "    </tr>\n",
       "    <tr>\n",
       "      <th>b</th>\n",
       "      <td>4</td>\n",
       "      <td>25</td>\n",
       "    </tr>\n",
       "    <tr>\n",
       "      <th>c</th>\n",
       "      <td>9</td>\n",
       "      <td>36</td>\n",
       "    </tr>\n",
       "    <tr>\n",
       "      <th>d</th>\n",
       "      <td>16</td>\n",
       "      <td>49</td>\n",
       "    </tr>\n",
       "  </tbody>\n",
       "</table>\n",
       "</div>"
      ],
      "text/plain": [
       "    a   b\n",
       "a   1  16\n",
       "b   4  25\n",
       "c   9  36\n",
       "d  16  49"
      ]
     },
     "execution_count": 56,
     "metadata": {},
     "output_type": "execute_result"
    }
   ],
   "source": [
    "df2.apply(lambda x: x**2)"
   ]
  },
  {
   "cell_type": "code",
   "execution_count": 59,
   "metadata": {},
   "outputs": [
    {
     "name": "stderr",
     "output_type": "stream",
     "text": [
      "C:\\Users\\91830\\AppData\\Local\\Temp\\ipykernel_27292\\1663923371.py:1: FutureWarning: DataFrame.applymap has been deprecated. Use DataFrame.map instead.\n",
      "  df2.applymap(lambda x: x**2)\n"
     ]
    },
    {
     "data": {
      "text/html": [
       "<div>\n",
       "<style scoped>\n",
       "    .dataframe tbody tr th:only-of-type {\n",
       "        vertical-align: middle;\n",
       "    }\n",
       "\n",
       "    .dataframe tbody tr th {\n",
       "        vertical-align: top;\n",
       "    }\n",
       "\n",
       "    .dataframe thead th {\n",
       "        text-align: right;\n",
       "    }\n",
       "</style>\n",
       "<table border=\"1\" class=\"dataframe\">\n",
       "  <thead>\n",
       "    <tr style=\"text-align: right;\">\n",
       "      <th></th>\n",
       "      <th>a</th>\n",
       "      <th>b</th>\n",
       "    </tr>\n",
       "  </thead>\n",
       "  <tbody>\n",
       "    <tr>\n",
       "      <th>a</th>\n",
       "      <td>1</td>\n",
       "      <td>16</td>\n",
       "    </tr>\n",
       "    <tr>\n",
       "      <th>b</th>\n",
       "      <td>4</td>\n",
       "      <td>25</td>\n",
       "    </tr>\n",
       "    <tr>\n",
       "      <th>c</th>\n",
       "      <td>9</td>\n",
       "      <td>36</td>\n",
       "    </tr>\n",
       "    <tr>\n",
       "      <th>d</th>\n",
       "      <td>16</td>\n",
       "      <td>49</td>\n",
       "    </tr>\n",
       "  </tbody>\n",
       "</table>\n",
       "</div>"
      ],
      "text/plain": [
       "    a   b\n",
       "a   1  16\n",
       "b   4  25\n",
       "c   9  36\n",
       "d  16  49"
      ]
     },
     "execution_count": 59,
     "metadata": {},
     "output_type": "execute_result"
    }
   ],
   "source": [
    "df2.applymap(lambda x: x**2)"
   ]
  },
  {
   "cell_type": "code",
   "execution_count": 58,
   "metadata": {},
   "outputs": [
    {
     "data": {
      "text/html": [
       "<div>\n",
       "<style scoped>\n",
       "    .dataframe tbody tr th:only-of-type {\n",
       "        vertical-align: middle;\n",
       "    }\n",
       "\n",
       "    .dataframe tbody tr th {\n",
       "        vertical-align: top;\n",
       "    }\n",
       "\n",
       "    .dataframe thead th {\n",
       "        text-align: right;\n",
       "    }\n",
       "</style>\n",
       "<table border=\"1\" class=\"dataframe\">\n",
       "  <thead>\n",
       "    <tr style=\"text-align: right;\">\n",
       "      <th></th>\n",
       "      <th>a</th>\n",
       "      <th>b</th>\n",
       "    </tr>\n",
       "  </thead>\n",
       "  <tbody>\n",
       "    <tr>\n",
       "      <th>a</th>\n",
       "      <td>1</td>\n",
       "      <td>16</td>\n",
       "    </tr>\n",
       "    <tr>\n",
       "      <th>b</th>\n",
       "      <td>4</td>\n",
       "      <td>25</td>\n",
       "    </tr>\n",
       "    <tr>\n",
       "      <th>c</th>\n",
       "      <td>9</td>\n",
       "      <td>36</td>\n",
       "    </tr>\n",
       "    <tr>\n",
       "      <th>d</th>\n",
       "      <td>16</td>\n",
       "      <td>49</td>\n",
       "    </tr>\n",
       "  </tbody>\n",
       "</table>\n",
       "</div>"
      ],
      "text/plain": [
       "    a   b\n",
       "a   1  16\n",
       "b   4  25\n",
       "c   9  36\n",
       "d  16  49"
      ]
     },
     "execution_count": 58,
     "metadata": {},
     "output_type": "execute_result"
    }
   ],
   "source": [
    "df2.map(lambda x: x**2)"
   ]
  },
  {
   "cell_type": "code",
   "execution_count": 60,
   "metadata": {},
   "outputs": [
    {
     "data": {
      "text/html": [
       "<div>\n",
       "<style scoped>\n",
       "    .dataframe tbody tr th:only-of-type {\n",
       "        vertical-align: middle;\n",
       "    }\n",
       "\n",
       "    .dataframe tbody tr th {\n",
       "        vertical-align: top;\n",
       "    }\n",
       "\n",
       "    .dataframe thead th {\n",
       "        text-align: right;\n",
       "    }\n",
       "</style>\n",
       "<table border=\"1\" class=\"dataframe\">\n",
       "  <thead>\n",
       "    <tr style=\"text-align: right;\">\n",
       "      <th></th>\n",
       "      <th>a</th>\n",
       "      <th>b</th>\n",
       "    </tr>\n",
       "  </thead>\n",
       "  <tbody>\n",
       "    <tr>\n",
       "      <th>a</th>\n",
       "      <td>1</td>\n",
       "      <td>4</td>\n",
       "    </tr>\n",
       "    <tr>\n",
       "      <th>b</th>\n",
       "      <td>2</td>\n",
       "      <td>5</td>\n",
       "    </tr>\n",
       "    <tr>\n",
       "      <th>c</th>\n",
       "      <td>3</td>\n",
       "      <td>6</td>\n",
       "    </tr>\n",
       "    <tr>\n",
       "      <th>d</th>\n",
       "      <td>4</td>\n",
       "      <td>7</td>\n",
       "    </tr>\n",
       "  </tbody>\n",
       "</table>\n",
       "</div>"
      ],
      "text/plain": [
       "   a  b\n",
       "a  1  4\n",
       "b  2  5\n",
       "c  3  6\n",
       "d  4  7"
      ]
     },
     "execution_count": 60,
     "metadata": {},
     "output_type": "execute_result"
    }
   ],
   "source": [
    "df2"
   ]
  },
  {
   "cell_type": "code",
   "execution_count": 62,
   "metadata": {},
   "outputs": [
    {
     "data": {
      "text/plain": [
       "a     1\n",
       "b     4\n",
       "c     9\n",
       "d    16\n",
       "Name: a, dtype: int64"
      ]
     },
     "execution_count": 62,
     "metadata": {},
     "output_type": "execute_result"
    }
   ],
   "source": [
    "df2['a'].apply(lambda x: x**2)"
   ]
  },
  {
   "cell_type": "code",
   "execution_count": 63,
   "metadata": {},
   "outputs": [
    {
     "data": {
      "text/html": [
       "<div>\n",
       "<style scoped>\n",
       "    .dataframe tbody tr th:only-of-type {\n",
       "        vertical-align: middle;\n",
       "    }\n",
       "\n",
       "    .dataframe tbody tr th {\n",
       "        vertical-align: top;\n",
       "    }\n",
       "\n",
       "    .dataframe thead th {\n",
       "        text-align: right;\n",
       "    }\n",
       "</style>\n",
       "<table border=\"1\" class=\"dataframe\">\n",
       "  <thead>\n",
       "    <tr style=\"text-align: right;\">\n",
       "      <th></th>\n",
       "      <th>a</th>\n",
       "      <th>b</th>\n",
       "      <th>c</th>\n",
       "    </tr>\n",
       "  </thead>\n",
       "  <tbody>\n",
       "    <tr>\n",
       "      <th>a</th>\n",
       "      <td>1</td>\n",
       "      <td>4</td>\n",
       "      <td>pankaj</td>\n",
       "    </tr>\n",
       "    <tr>\n",
       "      <th>b</th>\n",
       "      <td>2</td>\n",
       "      <td>5</td>\n",
       "      <td>nitesh</td>\n",
       "    </tr>\n",
       "    <tr>\n",
       "      <th>c</th>\n",
       "      <td>3</td>\n",
       "      <td>6</td>\n",
       "      <td>neeshu</td>\n",
       "    </tr>\n",
       "    <tr>\n",
       "      <th>d</th>\n",
       "      <td>4</td>\n",
       "      <td>7</td>\n",
       "      <td>rudra</td>\n",
       "    </tr>\n",
       "  </tbody>\n",
       "</table>\n",
       "</div>"
      ],
      "text/plain": [
       "   a  b       c\n",
       "a  1  4  pankaj\n",
       "b  2  5  nitesh\n",
       "c  3  6  neeshu\n",
       "d  4  7   rudra"
      ]
     },
     "execution_count": 63,
     "metadata": {},
     "output_type": "execute_result"
    }
   ],
   "source": [
    "df1"
   ]
  },
  {
   "cell_type": "code",
   "execution_count": 64,
   "metadata": {},
   "outputs": [
    {
     "data": {
      "text/html": [
       "<div>\n",
       "<style scoped>\n",
       "    .dataframe tbody tr th:only-of-type {\n",
       "        vertical-align: middle;\n",
       "    }\n",
       "\n",
       "    .dataframe tbody tr th {\n",
       "        vertical-align: top;\n",
       "    }\n",
       "\n",
       "    .dataframe thead th {\n",
       "        text-align: right;\n",
       "    }\n",
       "</style>\n",
       "<table border=\"1\" class=\"dataframe\">\n",
       "  <thead>\n",
       "    <tr style=\"text-align: right;\">\n",
       "      <th></th>\n",
       "      <th>a</th>\n",
       "      <th>b</th>\n",
       "      <th>c</th>\n",
       "    </tr>\n",
       "  </thead>\n",
       "  <tbody>\n",
       "    <tr>\n",
       "      <th>0</th>\n",
       "      <td>1</td>\n",
       "      <td>4</td>\n",
       "      <td>pankaj</td>\n",
       "    </tr>\n",
       "    <tr>\n",
       "      <th>1</th>\n",
       "      <td>2</td>\n",
       "      <td>5</td>\n",
       "      <td>nitesh</td>\n",
       "    </tr>\n",
       "    <tr>\n",
       "      <th>2</th>\n",
       "      <td>3</td>\n",
       "      <td>6</td>\n",
       "      <td>neeshu</td>\n",
       "    </tr>\n",
       "    <tr>\n",
       "      <th>3</th>\n",
       "      <td>4</td>\n",
       "      <td>7</td>\n",
       "      <td>rudra</td>\n",
       "    </tr>\n",
       "  </tbody>\n",
       "</table>\n",
       "</div>"
      ],
      "text/plain": [
       "   a  b       c\n",
       "0  1  4  pankaj\n",
       "1  2  5  nitesh\n",
       "2  3  6  neeshu\n",
       "3  4  7   rudra"
      ]
     },
     "execution_count": 64,
     "metadata": {},
     "output_type": "execute_result"
    }
   ],
   "source": [
    "df"
   ]
  },
  {
   "cell_type": "code",
   "execution_count": 71,
   "metadata": {},
   "outputs": [
    {
     "data": {
      "text/html": [
       "<div>\n",
       "<style scoped>\n",
       "    .dataframe tbody tr th:only-of-type {\n",
       "        vertical-align: middle;\n",
       "    }\n",
       "\n",
       "    .dataframe tbody tr th {\n",
       "        vertical-align: top;\n",
       "    }\n",
       "\n",
       "    .dataframe thead th {\n",
       "        text-align: right;\n",
       "    }\n",
       "</style>\n",
       "<table border=\"1\" class=\"dataframe\">\n",
       "  <thead>\n",
       "    <tr style=\"text-align: right;\">\n",
       "      <th></th>\n",
       "      <th>a</th>\n",
       "      <th>b</th>\n",
       "      <th>c</th>\n",
       "    </tr>\n",
       "  </thead>\n",
       "  <tbody>\n",
       "    <tr>\n",
       "      <th>2</th>\n",
       "      <td>3</td>\n",
       "      <td>6</td>\n",
       "      <td>neeshu</td>\n",
       "    </tr>\n",
       "    <tr>\n",
       "      <th>1</th>\n",
       "      <td>2</td>\n",
       "      <td>5</td>\n",
       "      <td>nitesh</td>\n",
       "    </tr>\n",
       "    <tr>\n",
       "      <th>0</th>\n",
       "      <td>1</td>\n",
       "      <td>4</td>\n",
       "      <td>pankaj</td>\n",
       "    </tr>\n",
       "    <tr>\n",
       "      <th>3</th>\n",
       "      <td>4</td>\n",
       "      <td>7</td>\n",
       "      <td>rudra</td>\n",
       "    </tr>\n",
       "  </tbody>\n",
       "</table>\n",
       "</div>"
      ],
      "text/plain": [
       "   a  b       c\n",
       "2  3  6  neeshu\n",
       "1  2  5  nitesh\n",
       "0  1  4  pankaj\n",
       "3  4  7   rudra"
      ]
     },
     "execution_count": 71,
     "metadata": {},
     "output_type": "execute_result"
    }
   ],
   "source": [
    "df.sort_values('c')"
   ]
  },
  {
   "cell_type": "code",
   "execution_count": 72,
   "metadata": {},
   "outputs": [
    {
     "data": {
      "text/html": [
       "<div>\n",
       "<style scoped>\n",
       "    .dataframe tbody tr th:only-of-type {\n",
       "        vertical-align: middle;\n",
       "    }\n",
       "\n",
       "    .dataframe tbody tr th {\n",
       "        vertical-align: top;\n",
       "    }\n",
       "\n",
       "    .dataframe thead th {\n",
       "        text-align: right;\n",
       "    }\n",
       "</style>\n",
       "<table border=\"1\" class=\"dataframe\">\n",
       "  <thead>\n",
       "    <tr style=\"text-align: right;\">\n",
       "      <th></th>\n",
       "      <th>a</th>\n",
       "      <th>b</th>\n",
       "      <th>c</th>\n",
       "    </tr>\n",
       "  </thead>\n",
       "  <tbody>\n",
       "    <tr>\n",
       "      <th>3</th>\n",
       "      <td>4</td>\n",
       "      <td>7</td>\n",
       "      <td>rudra</td>\n",
       "    </tr>\n",
       "    <tr>\n",
       "      <th>2</th>\n",
       "      <td>3</td>\n",
       "      <td>6</td>\n",
       "      <td>neeshu</td>\n",
       "    </tr>\n",
       "    <tr>\n",
       "      <th>1</th>\n",
       "      <td>2</td>\n",
       "      <td>5</td>\n",
       "      <td>nitesh</td>\n",
       "    </tr>\n",
       "    <tr>\n",
       "      <th>0</th>\n",
       "      <td>1</td>\n",
       "      <td>4</td>\n",
       "      <td>pankaj</td>\n",
       "    </tr>\n",
       "  </tbody>\n",
       "</table>\n",
       "</div>"
      ],
      "text/plain": [
       "   a  b       c\n",
       "3  4  7   rudra\n",
       "2  3  6  neeshu\n",
       "1  2  5  nitesh\n",
       "0  1  4  pankaj"
      ]
     },
     "execution_count": 72,
     "metadata": {},
     "output_type": "execute_result"
    }
   ],
   "source": [
    "df.sort_index(ascending=False)"
   ]
  },
  {
   "cell_type": "code",
   "execution_count": 74,
   "metadata": {},
   "outputs": [],
   "source": [
    "df3=pd.DataFrame({'Desc': ['In common usage, data (/ˈdeɪtə/, also US: /ˈdætə/; ) is a collection of discrete or continuous values that convey information, describing the quantity, quality, fact, statistics, other basic units of meaning, or simply sequences of symbols that may be further interpreted formally. A datum is an individual value in a collection of data. Data is usually organized into structures such as tables that provide additional context and meaning, and which may themselves be used as data in larger structures. Data may be used as variables in a computational process.[1][2] Data may represent abstract ideas or concrete measurements.[3] Data is commonly used in scientific research, economics, and in virtually every other form of human organizational activity. Examples of data sets include price indices (such as consumer price index), unemployment rates, literacy rates, and census data. In this context, data represents the raw facts and figures from which useful information can be extracted.']})"
   ]
  },
  {
   "cell_type": "code",
   "execution_count": 75,
   "metadata": {},
   "outputs": [
    {
     "data": {
      "text/html": [
       "<div>\n",
       "<style scoped>\n",
       "    .dataframe tbody tr th:only-of-type {\n",
       "        vertical-align: middle;\n",
       "    }\n",
       "\n",
       "    .dataframe tbody tr th {\n",
       "        vertical-align: top;\n",
       "    }\n",
       "\n",
       "    .dataframe thead th {\n",
       "        text-align: right;\n",
       "    }\n",
       "</style>\n",
       "<table border=\"1\" class=\"dataframe\">\n",
       "  <thead>\n",
       "    <tr style=\"text-align: right;\">\n",
       "      <th></th>\n",
       "      <th>Desc</th>\n",
       "    </tr>\n",
       "  </thead>\n",
       "  <tbody>\n",
       "    <tr>\n",
       "      <th>0</th>\n",
       "      <td>In common usage, data (/ˈdeɪtə/, also US: /ˈdæ...</td>\n",
       "    </tr>\n",
       "  </tbody>\n",
       "</table>\n",
       "</div>"
      ],
      "text/plain": [
       "                                                Desc\n",
       "0  In common usage, data (/ˈdeɪtə/, also US: /ˈdæ..."
      ]
     },
     "execution_count": 75,
     "metadata": {},
     "output_type": "execute_result"
    }
   ],
   "source": [
    "df3"
   ]
  },
  {
   "cell_type": "code",
   "execution_count": 85,
   "metadata": {},
   "outputs": [],
   "source": [
    "pd.set_option('display.max_colwidth',500)\n",
    "df3=pd.DataFrame({'Desc': ['In common usage, data (/ˈdeɪtə/, also US: /ˈdætə/; ) is a collection of discrete or continuous values that convey information, describing the quantity, quality, fact, statistics, other basic units of meaning, or simply sequences of symbols that may be further interpreted formally. A datum is an individual value in a collection of data. Data is usually organized into structures such as tables that provide additional context and meaning, and which may themselves be used as data in larger structures. Data may be used as variables in a computational process.[1][2] Data may represent abstract ideas or concrete measurements.[3] Data is commonly used in scientific research, economics, and in virtually every other form of human organizational activity. Examples of data sets include price indices (such as consumer price index), unemployment rates, literacy rates, and census data. In this context, data represents the raw facts and figures from which useful information can be extracted.']})"
   ]
  },
  {
   "cell_type": "code",
   "execution_count": 86,
   "metadata": {},
   "outputs": [
    {
     "data": {
      "text/html": [
       "<div>\n",
       "<style scoped>\n",
       "    .dataframe tbody tr th:only-of-type {\n",
       "        vertical-align: middle;\n",
       "    }\n",
       "\n",
       "    .dataframe tbody tr th {\n",
       "        vertical-align: top;\n",
       "    }\n",
       "\n",
       "    .dataframe thead th {\n",
       "        text-align: right;\n",
       "    }\n",
       "</style>\n",
       "<table border=\"1\" class=\"dataframe\">\n",
       "  <thead>\n",
       "    <tr style=\"text-align: right;\">\n",
       "      <th></th>\n",
       "      <th>Desc</th>\n",
       "    </tr>\n",
       "  </thead>\n",
       "  <tbody>\n",
       "    <tr>\n",
       "      <th>0</th>\n",
       "      <td>In common usage, data (/ˈdeɪtə/, also US: /ˈdætə/; ) is a collection of discrete or continuous values that convey information, describing the quantity, quality, fact, statistics, other basic units of meaning, or simply sequences of symbols that may be further interpreted formally. A datum is an individual value in a collection of data. Data is usually organized into structures such as tables that provide additional context and meaning, and which may themselves be used as data in larger struc...</td>\n",
       "    </tr>\n",
       "  </tbody>\n",
       "</table>\n",
       "</div>"
      ],
      "text/plain": [
       "                                                                                                                                                                                                                                                                                                                                                                                                                                                                                                                  Desc\n",
       "0  In common usage, data (/ˈdeɪtə/, also US: /ˈdætə/; ) is a collection of discrete or continuous values that convey information, describing the quantity, quality, fact, statistics, other basic units of meaning, or simply sequences of symbols that may be further interpreted formally. A datum is an individual value in a collection of data. Data is usually organized into structures such as tables that provide additional context and meaning, and which may themselves be used as data in larger struc..."
      ]
     },
     "execution_count": 86,
     "metadata": {},
     "output_type": "execute_result"
    }
   ],
   "source": [
    "df3"
   ]
  },
  {
   "cell_type": "code",
   "execution_count": 87,
   "metadata": {},
   "outputs": [],
   "source": [
    "pd.set_option('display.max_colwidth',500)\n",
    "df3=pd.DataFrame({'Desc': ['In common usage, data (/ˈdeɪtə/, also US: /ˈdætə/; ) is a collection of discrete or continuous values that convey information, describing the quantity, quality, fact, statistics, other basic units of meaning, or simply sequences of symbols that may be further interpreted formally. A datum is an individual value in a collection of data. Data is usually organized into structures such as tables that provide additional context and meaning, and which may themselves be used as data in larger structures. Data may be used as variables in a computational process.[1][2] Data may represent abstract ideas or concrete measurements.[3] Data is commonly used in scientific research, economics, and in virtually every other form of human organizational activity. Examples of data sets include price indices (such as consumer price index), unemployment rates, literacy rates, and census data. In this context, data represents the raw facts and figures from which useful information can be extracted.', 'my name is pankaj', 'i am learnign data sciencaae']})"
   ]
  },
  {
   "cell_type": "code",
   "execution_count": 88,
   "metadata": {},
   "outputs": [
    {
     "data": {
      "text/html": [
       "<div>\n",
       "<style scoped>\n",
       "    .dataframe tbody tr th:only-of-type {\n",
       "        vertical-align: middle;\n",
       "    }\n",
       "\n",
       "    .dataframe tbody tr th {\n",
       "        vertical-align: top;\n",
       "    }\n",
       "\n",
       "    .dataframe thead th {\n",
       "        text-align: right;\n",
       "    }\n",
       "</style>\n",
       "<table border=\"1\" class=\"dataframe\">\n",
       "  <thead>\n",
       "    <tr style=\"text-align: right;\">\n",
       "      <th></th>\n",
       "      <th>Desc</th>\n",
       "    </tr>\n",
       "  </thead>\n",
       "  <tbody>\n",
       "    <tr>\n",
       "      <th>0</th>\n",
       "      <td>In common usage, data (/ˈdeɪtə/, also US: /ˈdætə/; ) is a collection of discrete or continuous values that convey information, describing the quantity, quality, fact, statistics, other basic units of meaning, or simply sequences of symbols that may be further interpreted formally. A datum is an individual value in a collection of data. Data is usually organized into structures such as tables that provide additional context and meaning, and which may themselves be used as data in larger struc...</td>\n",
       "    </tr>\n",
       "    <tr>\n",
       "      <th>1</th>\n",
       "      <td>my name is pankaj</td>\n",
       "    </tr>\n",
       "    <tr>\n",
       "      <th>2</th>\n",
       "      <td>i am learnign data sciencaae</td>\n",
       "    </tr>\n",
       "  </tbody>\n",
       "</table>\n",
       "</div>"
      ],
      "text/plain": [
       "                                                                                                                                                                                                                                                                                                                                                                                                                                                                                                                  Desc\n",
       "0  In common usage, data (/ˈdeɪtə/, also US: /ˈdætə/; ) is a collection of discrete or continuous values that convey information, describing the quantity, quality, fact, statistics, other basic units of meaning, or simply sequences of symbols that may be further interpreted formally. A datum is an individual value in a collection of data. Data is usually organized into structures such as tables that provide additional context and meaning, and which may themselves be used as data in larger struc...\n",
       "1                                                                                                                                                                                                                                                                                                                                                                                                                                                                                                    my name is pankaj\n",
       "2                                                                                                                                                                                                                                                                                                                                                                                                                                                                                         i am learnign data sciencaae"
      ]
     },
     "execution_count": 88,
     "metadata": {},
     "output_type": "execute_result"
    }
   ],
   "source": [
    "df3"
   ]
  },
  {
   "cell_type": "code",
   "execution_count": 91,
   "metadata": {},
   "outputs": [],
   "source": [
    "df3['length']=df3['Desc'].apply(len)"
   ]
  },
  {
   "cell_type": "code",
   "execution_count": 92,
   "metadata": {},
   "outputs": [
    {
     "data": {
      "text/html": [
       "<div>\n",
       "<style scoped>\n",
       "    .dataframe tbody tr th:only-of-type {\n",
       "        vertical-align: middle;\n",
       "    }\n",
       "\n",
       "    .dataframe tbody tr th {\n",
       "        vertical-align: top;\n",
       "    }\n",
       "\n",
       "    .dataframe thead th {\n",
       "        text-align: right;\n",
       "    }\n",
       "</style>\n",
       "<table border=\"1\" class=\"dataframe\">\n",
       "  <thead>\n",
       "    <tr style=\"text-align: right;\">\n",
       "      <th></th>\n",
       "      <th>Desc</th>\n",
       "      <th>length</th>\n",
       "    </tr>\n",
       "  </thead>\n",
       "  <tbody>\n",
       "    <tr>\n",
       "      <th>0</th>\n",
       "      <td>In common usage, data (/ˈdeɪtə/, also US: /ˈdætə/; ) is a collection of discrete or continuous values that convey information, describing the quantity, quality, fact, statistics, other basic units of meaning, or simply sequences of symbols that may be further interpreted formally. A datum is an individual value in a collection of data. Data is usually organized into structures such as tables that provide additional context and meaning, and which may themselves be used as data in larger struc...</td>\n",
       "      <td>990</td>\n",
       "    </tr>\n",
       "    <tr>\n",
       "      <th>1</th>\n",
       "      <td>my name is pankaj</td>\n",
       "      <td>17</td>\n",
       "    </tr>\n",
       "    <tr>\n",
       "      <th>2</th>\n",
       "      <td>i am learnign data sciencaae</td>\n",
       "      <td>28</td>\n",
       "    </tr>\n",
       "  </tbody>\n",
       "</table>\n",
       "</div>"
      ],
      "text/plain": [
       "                                                                                                                                                                                                                                                                                                                                                                                                                                                                                                                  Desc  \\\n",
       "0  In common usage, data (/ˈdeɪtə/, also US: /ˈdætə/; ) is a collection of discrete or continuous values that convey information, describing the quantity, quality, fact, statistics, other basic units of meaning, or simply sequences of symbols that may be further interpreted formally. A datum is an individual value in a collection of data. Data is usually organized into structures such as tables that provide additional context and meaning, and which may themselves be used as data in larger struc...   \n",
       "1                                                                                                                                                                                                                                                                                                                                                                                                                                                                                                    my name is pankaj   \n",
       "2                                                                                                                                                                                                                                                                                                                                                                                                                                                                                         i am learnign data sciencaae   \n",
       "\n",
       "   length  \n",
       "0     990  \n",
       "1      17  \n",
       "2      28  "
      ]
     },
     "execution_count": 92,
     "metadata": {},
     "output_type": "execute_result"
    }
   ],
   "source": [
    "df3"
   ]
  },
  {
   "cell_type": "code",
   "execution_count": 98,
   "metadata": {},
   "outputs": [
    {
     "name": "stdout",
     "output_type": "stream",
     "text": [
      "['i', 'use', 'to', 'tesch', 'data', 'science']\n"
     ]
    },
    {
     "data": {
      "text/plain": [
       "6"
      ]
     },
     "execution_count": 98,
     "metadata": {},
     "output_type": "execute_result"
    }
   ],
   "source": [
    "t='i use to tesch data science'\n",
    "print(t.split())     # by default seprator is  space\n",
    "len(t.split())"
   ]
  },
  {
   "cell_type": "code",
   "execution_count": 96,
   "metadata": {},
   "outputs": [
    {
     "name": "stdout",
     "output_type": "stream",
     "text": [
      "['i', 'use', 'to', 'tesch', 'data', 'science']\n"
     ]
    }
   ],
   "source": [
    "l"
   ]
  },
  {
   "cell_type": "code",
   "execution_count": 99,
   "metadata": {},
   "outputs": [],
   "source": [
    "df3['word_count']=df3['Desc'].apply(lambda x: len(x.split()))"
   ]
  },
  {
   "cell_type": "code",
   "execution_count": 100,
   "metadata": {},
   "outputs": [
    {
     "data": {
      "text/html": [
       "<div>\n",
       "<style scoped>\n",
       "    .dataframe tbody tr th:only-of-type {\n",
       "        vertical-align: middle;\n",
       "    }\n",
       "\n",
       "    .dataframe tbody tr th {\n",
       "        vertical-align: top;\n",
       "    }\n",
       "\n",
       "    .dataframe thead th {\n",
       "        text-align: right;\n",
       "    }\n",
       "</style>\n",
       "<table border=\"1\" class=\"dataframe\">\n",
       "  <thead>\n",
       "    <tr style=\"text-align: right;\">\n",
       "      <th></th>\n",
       "      <th>Desc</th>\n",
       "      <th>length</th>\n",
       "      <th>word_count</th>\n",
       "    </tr>\n",
       "  </thead>\n",
       "  <tbody>\n",
       "    <tr>\n",
       "      <th>0</th>\n",
       "      <td>In common usage, data (/ˈdeɪtə/, also US: /ˈdætə/; ) is a collection of discrete or continuous values that convey information, describing the quantity, quality, fact, statistics, other basic units of meaning, or simply sequences of symbols that may be further interpreted formally. A datum is an individual value in a collection of data. Data is usually organized into structures such as tables that provide additional context and meaning, and which may themselves be used as data in larger struc...</td>\n",
       "      <td>990</td>\n",
       "      <td>151</td>\n",
       "    </tr>\n",
       "    <tr>\n",
       "      <th>1</th>\n",
       "      <td>my name is pankaj</td>\n",
       "      <td>17</td>\n",
       "      <td>4</td>\n",
       "    </tr>\n",
       "    <tr>\n",
       "      <th>2</th>\n",
       "      <td>i am learnign data sciencaae</td>\n",
       "      <td>28</td>\n",
       "      <td>5</td>\n",
       "    </tr>\n",
       "  </tbody>\n",
       "</table>\n",
       "</div>"
      ],
      "text/plain": [
       "                                                                                                                                                                                                                                                                                                                                                                                                                                                                                                                  Desc  \\\n",
       "0  In common usage, data (/ˈdeɪtə/, also US: /ˈdætə/; ) is a collection of discrete or continuous values that convey information, describing the quantity, quality, fact, statistics, other basic units of meaning, or simply sequences of symbols that may be further interpreted formally. A datum is an individual value in a collection of data. Data is usually organized into structures such as tables that provide additional context and meaning, and which may themselves be used as data in larger struc...   \n",
       "1                                                                                                                                                                                                                                                                                                                                                                                                                                                                                                    my name is pankaj   \n",
       "2                                                                                                                                                                                                                                                                                                                                                                                                                                                                                         i am learnign data sciencaae   \n",
       "\n",
       "   length  word_count  \n",
       "0     990         151  \n",
       "1      17           4  \n",
       "2      28           5  "
      ]
     },
     "execution_count": 100,
     "metadata": {},
     "output_type": "execute_result"
    }
   ],
   "source": [
    "df3"
   ]
  },
  {
   "cell_type": "code",
   "execution_count": 101,
   "metadata": {},
   "outputs": [
    {
     "data": {
      "text/html": [
       "<div>\n",
       "<style scoped>\n",
       "    .dataframe tbody tr th:only-of-type {\n",
       "        vertical-align: middle;\n",
       "    }\n",
       "\n",
       "    .dataframe tbody tr th {\n",
       "        vertical-align: top;\n",
       "    }\n",
       "\n",
       "    .dataframe thead th {\n",
       "        text-align: right;\n",
       "    }\n",
       "</style>\n",
       "<table border=\"1\" class=\"dataframe\">\n",
       "  <thead>\n",
       "    <tr style=\"text-align: right;\">\n",
       "      <th></th>\n",
       "      <th>a</th>\n",
       "      <th>b</th>\n",
       "      <th>c</th>\n",
       "    </tr>\n",
       "  </thead>\n",
       "  <tbody>\n",
       "    <tr>\n",
       "      <th>0</th>\n",
       "      <td>1</td>\n",
       "      <td>4</td>\n",
       "      <td>pankaj</td>\n",
       "    </tr>\n",
       "    <tr>\n",
       "      <th>1</th>\n",
       "      <td>2</td>\n",
       "      <td>5</td>\n",
       "      <td>nitesh</td>\n",
       "    </tr>\n",
       "    <tr>\n",
       "      <th>2</th>\n",
       "      <td>3</td>\n",
       "      <td>6</td>\n",
       "      <td>neeshu</td>\n",
       "    </tr>\n",
       "    <tr>\n",
       "      <th>3</th>\n",
       "      <td>4</td>\n",
       "      <td>7</td>\n",
       "      <td>rudra</td>\n",
       "    </tr>\n",
       "  </tbody>\n",
       "</table>\n",
       "</div>"
      ],
      "text/plain": [
       "   a  b       c\n",
       "0  1  4  pankaj\n",
       "1  2  5  nitesh\n",
       "2  3  6  neeshu\n",
       "3  4  7   rudra"
      ]
     },
     "execution_count": 101,
     "metadata": {},
     "output_type": "execute_result"
    }
   ],
   "source": [
    "df"
   ]
  },
  {
   "cell_type": "code",
   "execution_count": 102,
   "metadata": {},
   "outputs": [
    {
     "data": {
      "text/plain": [
       "0    1\n",
       "1    2\n",
       "2    3\n",
       "3    4\n",
       "Name: a, dtype: int64"
      ]
     },
     "execution_count": 102,
     "metadata": {},
     "output_type": "execute_result"
    }
   ],
   "source": [
    "df['a']"
   ]
  },
  {
   "cell_type": "code",
   "execution_count": 104,
   "metadata": {},
   "outputs": [
    {
     "data": {
      "text/html": [
       "<div>\n",
       "<style scoped>\n",
       "    .dataframe tbody tr th:only-of-type {\n",
       "        vertical-align: middle;\n",
       "    }\n",
       "\n",
       "    .dataframe tbody tr th {\n",
       "        vertical-align: top;\n",
       "    }\n",
       "\n",
       "    .dataframe thead th {\n",
       "        text-align: right;\n",
       "    }\n",
       "</style>\n",
       "<table border=\"1\" class=\"dataframe\">\n",
       "  <thead>\n",
       "    <tr style=\"text-align: right;\">\n",
       "      <th></th>\n",
       "      <th>a</th>\n",
       "    </tr>\n",
       "  </thead>\n",
       "  <tbody>\n",
       "    <tr>\n",
       "      <th>0</th>\n",
       "      <td>1</td>\n",
       "    </tr>\n",
       "    <tr>\n",
       "      <th>1</th>\n",
       "      <td>2</td>\n",
       "    </tr>\n",
       "    <tr>\n",
       "      <th>2</th>\n",
       "      <td>3</td>\n",
       "    </tr>\n",
       "    <tr>\n",
       "      <th>3</th>\n",
       "      <td>4</td>\n",
       "    </tr>\n",
       "  </tbody>\n",
       "</table>\n",
       "</div>"
      ],
      "text/plain": [
       "   a\n",
       "0  1\n",
       "1  2\n",
       "2  3\n",
       "3  4"
      ]
     },
     "execution_count": 104,
     "metadata": {},
     "output_type": "execute_result"
    }
   ],
   "source": [
    "df[['a']]"
   ]
  },
  {
   "cell_type": "code",
   "execution_count": 105,
   "metadata": {},
   "outputs": [
    {
     "data": {
      "text/plain": [
       "1"
      ]
     },
     "execution_count": 105,
     "metadata": {},
     "output_type": "execute_result"
    }
   ],
   "source": [
    "df['a'][0]"
   ]
  },
  {
   "cell_type": "code",
   "execution_count": 106,
   "metadata": {},
   "outputs": [
    {
     "data": {
      "text/html": [
       "<div>\n",
       "<style scoped>\n",
       "    .dataframe tbody tr th:only-of-type {\n",
       "        vertical-align: middle;\n",
       "    }\n",
       "\n",
       "    .dataframe tbody tr th {\n",
       "        vertical-align: top;\n",
       "    }\n",
       "\n",
       "    .dataframe thead th {\n",
       "        text-align: right;\n",
       "    }\n",
       "</style>\n",
       "<table border=\"1\" class=\"dataframe\">\n",
       "  <thead>\n",
       "    <tr style=\"text-align: right;\">\n",
       "      <th></th>\n",
       "      <th>a</th>\n",
       "      <th>b</th>\n",
       "      <th>c</th>\n",
       "    </tr>\n",
       "  </thead>\n",
       "  <tbody>\n",
       "    <tr>\n",
       "      <th>0</th>\n",
       "      <td>1</td>\n",
       "      <td>4</td>\n",
       "      <td>pankaj</td>\n",
       "    </tr>\n",
       "    <tr>\n",
       "      <th>1</th>\n",
       "      <td>2</td>\n",
       "      <td>5</td>\n",
       "      <td>nitesh</td>\n",
       "    </tr>\n",
       "    <tr>\n",
       "      <th>2</th>\n",
       "      <td>3</td>\n",
       "      <td>6</td>\n",
       "      <td>neeshu</td>\n",
       "    </tr>\n",
       "    <tr>\n",
       "      <th>3</th>\n",
       "      <td>4</td>\n",
       "      <td>7</td>\n",
       "      <td>rudra</td>\n",
       "    </tr>\n",
       "  </tbody>\n",
       "</table>\n",
       "</div>"
      ],
      "text/plain": [
       "   a  b       c\n",
       "0  1  4  pankaj\n",
       "1  2  5  nitesh\n",
       "2  3  6  neeshu\n",
       "3  4  7   rudra"
      ]
     },
     "execution_count": 106,
     "metadata": {},
     "output_type": "execute_result"
    }
   ],
   "source": [
    "df"
   ]
  },
  {
   "cell_type": "code",
   "execution_count": 107,
   "metadata": {},
   "outputs": [
    {
     "data": {
      "text/plain": [
       "2.5"
      ]
     },
     "execution_count": 107,
     "metadata": {},
     "output_type": "execute_result"
    }
   ],
   "source": [
    "df['a'].mean()"
   ]
  },
  {
   "cell_type": "code",
   "execution_count": 108,
   "metadata": {},
   "outputs": [
    {
     "data": {
      "text/plain": [
       "2.5"
      ]
     },
     "execution_count": 108,
     "metadata": {},
     "output_type": "execute_result"
    }
   ],
   "source": [
    "df['a'].median()"
   ]
  },
  {
   "cell_type": "code",
   "execution_count": 109,
   "metadata": {},
   "outputs": [
    {
     "data": {
      "text/plain": [
       "0    1\n",
       "1    2\n",
       "2    3\n",
       "3    4\n",
       "Name: a, dtype: int64"
      ]
     },
     "execution_count": 109,
     "metadata": {},
     "output_type": "execute_result"
    }
   ],
   "source": [
    "df['a'].mode()"
   ]
  },
  {
   "cell_type": "code",
   "execution_count": 110,
   "metadata": {},
   "outputs": [
    {
     "data": {
      "text/plain": [
       "1.2909944487358056"
      ]
     },
     "execution_count": 110,
     "metadata": {},
     "output_type": "execute_result"
    }
   ],
   "source": [
    "df['a'].std()"
   ]
  },
  {
   "cell_type": "code",
   "execution_count": 111,
   "metadata": {},
   "outputs": [
    {
     "data": {
      "text/plain": [
       "10"
      ]
     },
     "execution_count": 111,
     "metadata": {},
     "output_type": "execute_result"
    }
   ],
   "source": [
    "df['a'].sum()"
   ]
  },
  {
   "cell_type": "code",
   "execution_count": 112,
   "metadata": {},
   "outputs": [
    {
     "data": {
      "text/plain": [
       "4"
      ]
     },
     "execution_count": 112,
     "metadata": {},
     "output_type": "execute_result"
    }
   ],
   "source": [
    "df['a'].max()"
   ]
  },
  {
   "cell_type": "code",
   "execution_count": 113,
   "metadata": {},
   "outputs": [
    {
     "data": {
      "text/plain": [
       "1"
      ]
     },
     "execution_count": 113,
     "metadata": {},
     "output_type": "execute_result"
    }
   ],
   "source": [
    "df['a'].min()"
   ]
  },
  {
   "cell_type": "code",
   "execution_count": 114,
   "metadata": {},
   "outputs": [
    {
     "data": {
      "text/plain": [
       "1.6666666666666667"
      ]
     },
     "execution_count": 114,
     "metadata": {},
     "output_type": "execute_result"
    }
   ],
   "source": [
    "df['a'].var()"
   ]
  },
  {
   "cell_type": "code",
   "execution_count": 120,
   "metadata": {},
   "outputs": [],
   "source": [
    "# window function\n",
    "\n",
    "df4=pd.DataFrame({'a':[3,4,5,6,7,8,4,6]})"
   ]
  },
  {
   "cell_type": "code",
   "execution_count": null,
   "metadata": {},
   "outputs": [],
   "source": []
  },
  {
   "cell_type": "code",
   "execution_count": 119,
   "metadata": {},
   "outputs": [
    {
     "data": {
      "text/html": [
       "<div>\n",
       "<style scoped>\n",
       "    .dataframe tbody tr th:only-of-type {\n",
       "        vertical-align: middle;\n",
       "    }\n",
       "\n",
       "    .dataframe tbody tr th {\n",
       "        vertical-align: top;\n",
       "    }\n",
       "\n",
       "    .dataframe thead th {\n",
       "        text-align: right;\n",
       "    }\n",
       "</style>\n",
       "<table border=\"1\" class=\"dataframe\">\n",
       "  <thead>\n",
       "    <tr style=\"text-align: right;\">\n",
       "      <th></th>\n",
       "      <th>a</th>\n",
       "    </tr>\n",
       "  </thead>\n",
       "  <tbody>\n",
       "    <tr>\n",
       "      <th>0</th>\n",
       "      <td>3</td>\n",
       "    </tr>\n",
       "    <tr>\n",
       "      <th>1</th>\n",
       "      <td>4</td>\n",
       "    </tr>\n",
       "    <tr>\n",
       "      <th>2</th>\n",
       "      <td>5</td>\n",
       "    </tr>\n",
       "    <tr>\n",
       "      <th>3</th>\n",
       "      <td>6</td>\n",
       "    </tr>\n",
       "    <tr>\n",
       "      <th>4</th>\n",
       "      <td>7</td>\n",
       "    </tr>\n",
       "    <tr>\n",
       "      <th>5</th>\n",
       "      <td>8</td>\n",
       "    </tr>\n",
       "    <tr>\n",
       "      <th>6</th>\n",
       "      <td>4</td>\n",
       "    </tr>\n",
       "    <tr>\n",
       "      <th>7</th>\n",
       "      <td>6</td>\n",
       "    </tr>\n",
       "  </tbody>\n",
       "</table>\n",
       "</div>"
      ],
      "text/plain": [
       "   a\n",
       "0  3\n",
       "1  4\n",
       "2  5\n",
       "3  6\n",
       "4  7\n",
       "5  8\n",
       "6  4\n",
       "7  6"
      ]
     },
     "execution_count": 119,
     "metadata": {},
     "output_type": "execute_result"
    }
   ],
   "source": [
    "df4"
   ]
  },
  {
   "cell_type": "code",
   "execution_count": 122,
   "metadata": {},
   "outputs": [
    {
     "data": {
      "text/plain": [
       "0    3.0\n",
       "1    4.0\n",
       "2    5.0\n",
       "3    6.0\n",
       "4    7.0\n",
       "5    8.0\n",
       "6    4.0\n",
       "7    6.0\n",
       "Name: a, dtype: float64"
      ]
     },
     "execution_count": 122,
     "metadata": {},
     "output_type": "execute_result"
    }
   ],
   "source": [
    "df4['a'].rolling(window=1).mean()"
   ]
  },
  {
   "cell_type": "code",
   "execution_count": 123,
   "metadata": {},
   "outputs": [
    {
     "data": {
      "text/plain": [
       "0    NaN\n",
       "1    3.5\n",
       "2    4.5\n",
       "3    5.5\n",
       "4    6.5\n",
       "5    7.5\n",
       "6    6.0\n",
       "7    5.0\n",
       "Name: a, dtype: float64"
      ]
     },
     "execution_count": 123,
     "metadata": {},
     "output_type": "execute_result"
    }
   ],
   "source": [
    "df4['a'].rolling(window=2).mean()"
   ]
  },
  {
   "cell_type": "code",
   "execution_count": 124,
   "metadata": {},
   "outputs": [
    {
     "data": {
      "text/plain": [
       "0         NaN\n",
       "1         NaN\n",
       "2    4.000000\n",
       "3    5.000000\n",
       "4    6.000000\n",
       "5    7.000000\n",
       "6    6.333333\n",
       "7    6.000000\n",
       "Name: a, dtype: float64"
      ]
     },
     "execution_count": 124,
     "metadata": {},
     "output_type": "execute_result"
    }
   ],
   "source": [
    "df4['a'].rolling(window=3).mean()"
   ]
  },
  {
   "cell_type": "code",
   "execution_count": 126,
   "metadata": {},
   "outputs": [
    {
     "data": {
      "text/plain": [
       "0     NaN\n",
       "1     NaN\n",
       "2    12.0\n",
       "3    15.0\n",
       "4    18.0\n",
       "5    21.0\n",
       "6    19.0\n",
       "7    18.0\n",
       "Name: a, dtype: float64"
      ]
     },
     "execution_count": 126,
     "metadata": {},
     "output_type": "execute_result"
    }
   ],
   "source": [
    "df4['a'].rolling(window=3).sum()"
   ]
  },
  {
   "cell_type": "code",
   "execution_count": 128,
   "metadata": {},
   "outputs": [
    {
     "data": {
      "text/plain": [
       "0    NaN\n",
       "1    NaN\n",
       "2    3.0\n",
       "3    4.0\n",
       "4    5.0\n",
       "5    6.0\n",
       "6    4.0\n",
       "7    4.0\n",
       "Name: a, dtype: float64"
      ]
     },
     "execution_count": 128,
     "metadata": {},
     "output_type": "execute_result"
    }
   ],
   "source": [
    "df4['a'].rolling(window=3).min()"
   ]
  },
  {
   "cell_type": "code",
   "execution_count": 129,
   "metadata": {},
   "outputs": [
    {
     "data": {
      "text/plain": [
       "0    NaN\n",
       "1    NaN\n",
       "2    5.0\n",
       "3    6.0\n",
       "4    7.0\n",
       "5    8.0\n",
       "6    8.0\n",
       "7    8.0\n",
       "Name: a, dtype: float64"
      ]
     },
     "execution_count": 129,
     "metadata": {},
     "output_type": "execute_result"
    }
   ],
   "source": [
    "df4['a'].rolling(window=3).max()"
   ]
  },
  {
   "cell_type": "code",
   "execution_count": 130,
   "metadata": {},
   "outputs": [
    {
     "data": {
      "text/plain": [
       "0     3\n",
       "1     7\n",
       "2    12\n",
       "3    18\n",
       "4    25\n",
       "5    33\n",
       "6    37\n",
       "7    43\n",
       "Name: a, dtype: int64"
      ]
     },
     "execution_count": 130,
     "metadata": {},
     "output_type": "execute_result"
    }
   ],
   "source": [
    "df4['a'].cumsum()"
   ]
  },
  {
   "cell_type": "code",
   "execution_count": 131,
   "metadata": {},
   "outputs": [
    {
     "data": {
      "text/html": [
       "<div>\n",
       "<style scoped>\n",
       "    .dataframe tbody tr th:only-of-type {\n",
       "        vertical-align: middle;\n",
       "    }\n",
       "\n",
       "    .dataframe tbody tr th {\n",
       "        vertical-align: top;\n",
       "    }\n",
       "\n",
       "    .dataframe thead th {\n",
       "        text-align: right;\n",
       "    }\n",
       "</style>\n",
       "<table border=\"1\" class=\"dataframe\">\n",
       "  <thead>\n",
       "    <tr style=\"text-align: right;\">\n",
       "      <th></th>\n",
       "      <th>a</th>\n",
       "    </tr>\n",
       "  </thead>\n",
       "  <tbody>\n",
       "    <tr>\n",
       "      <th>0</th>\n",
       "      <td>3</td>\n",
       "    </tr>\n",
       "    <tr>\n",
       "      <th>1</th>\n",
       "      <td>4</td>\n",
       "    </tr>\n",
       "    <tr>\n",
       "      <th>2</th>\n",
       "      <td>5</td>\n",
       "    </tr>\n",
       "    <tr>\n",
       "      <th>3</th>\n",
       "      <td>6</td>\n",
       "    </tr>\n",
       "    <tr>\n",
       "      <th>4</th>\n",
       "      <td>7</td>\n",
       "    </tr>\n",
       "    <tr>\n",
       "      <th>5</th>\n",
       "      <td>8</td>\n",
       "    </tr>\n",
       "    <tr>\n",
       "      <th>6</th>\n",
       "      <td>4</td>\n",
       "    </tr>\n",
       "    <tr>\n",
       "      <th>7</th>\n",
       "      <td>6</td>\n",
       "    </tr>\n",
       "  </tbody>\n",
       "</table>\n",
       "</div>"
      ],
      "text/plain": [
       "   a\n",
       "0  3\n",
       "1  4\n",
       "2  5\n",
       "3  6\n",
       "4  7\n",
       "5  8\n",
       "6  4\n",
       "7  6"
      ]
     },
     "execution_count": 131,
     "metadata": {},
     "output_type": "execute_result"
    }
   ],
   "source": [
    "df4"
   ]
  },
  {
   "cell_type": "code",
   "execution_count": 134,
   "metadata": {},
   "outputs": [],
   "source": [
    "# date functionality\n",
    "\n",
    "date=pd.date_range(start='2023-04-23', end='2023-06-13')"
   ]
  },
  {
   "cell_type": "code",
   "execution_count": 135,
   "metadata": {},
   "outputs": [
    {
     "data": {
      "text/plain": [
       "DatetimeIndex(['2023-04-23', '2023-04-24', '2023-04-25', '2023-04-26',\n",
       "               '2023-04-27', '2023-04-28', '2023-04-29', '2023-04-30',\n",
       "               '2023-05-01', '2023-05-02', '2023-05-03', '2023-05-04',\n",
       "               '2023-05-05', '2023-05-06', '2023-05-07', '2023-05-08',\n",
       "               '2023-05-09', '2023-05-10', '2023-05-11', '2023-05-12',\n",
       "               '2023-05-13', '2023-05-14', '2023-05-15', '2023-05-16',\n",
       "               '2023-05-17', '2023-05-18', '2023-05-19', '2023-05-20',\n",
       "               '2023-05-21', '2023-05-22', '2023-05-23', '2023-05-24',\n",
       "               '2023-05-25', '2023-05-26', '2023-05-27', '2023-05-28',\n",
       "               '2023-05-29', '2023-05-30', '2023-05-31', '2023-06-01',\n",
       "               '2023-06-02', '2023-06-03', '2023-06-04', '2023-06-05',\n",
       "               '2023-06-06', '2023-06-07', '2023-06-08', '2023-06-09',\n",
       "               '2023-06-10', '2023-06-11', '2023-06-12', '2023-06-13'],\n",
       "              dtype='datetime64[ns]', freq='D')"
      ]
     },
     "execution_count": 135,
     "metadata": {},
     "output_type": "execute_result"
    }
   ],
   "source": [
    "date"
   ]
  },
  {
   "cell_type": "code",
   "execution_count": 138,
   "metadata": {},
   "outputs": [],
   "source": [
    "df_date=pd.DataFrame({'date': date})"
   ]
  },
  {
   "cell_type": "code",
   "execution_count": 139,
   "metadata": {},
   "outputs": [
    {
     "data": {
      "text/html": [
       "<div>\n",
       "<style scoped>\n",
       "    .dataframe tbody tr th:only-of-type {\n",
       "        vertical-align: middle;\n",
       "    }\n",
       "\n",
       "    .dataframe tbody tr th {\n",
       "        vertical-align: top;\n",
       "    }\n",
       "\n",
       "    .dataframe thead th {\n",
       "        text-align: right;\n",
       "    }\n",
       "</style>\n",
       "<table border=\"1\" class=\"dataframe\">\n",
       "  <thead>\n",
       "    <tr style=\"text-align: right;\">\n",
       "      <th></th>\n",
       "      <th>date</th>\n",
       "    </tr>\n",
       "  </thead>\n",
       "  <tbody>\n",
       "    <tr>\n",
       "      <th>0</th>\n",
       "      <td>2023-04-23</td>\n",
       "    </tr>\n",
       "    <tr>\n",
       "      <th>1</th>\n",
       "      <td>2023-04-24</td>\n",
       "    </tr>\n",
       "    <tr>\n",
       "      <th>2</th>\n",
       "      <td>2023-04-25</td>\n",
       "    </tr>\n",
       "    <tr>\n",
       "      <th>3</th>\n",
       "      <td>2023-04-26</td>\n",
       "    </tr>\n",
       "    <tr>\n",
       "      <th>4</th>\n",
       "      <td>2023-04-27</td>\n",
       "    </tr>\n",
       "    <tr>\n",
       "      <th>5</th>\n",
       "      <td>2023-04-28</td>\n",
       "    </tr>\n",
       "    <tr>\n",
       "      <th>6</th>\n",
       "      <td>2023-04-29</td>\n",
       "    </tr>\n",
       "    <tr>\n",
       "      <th>7</th>\n",
       "      <td>2023-04-30</td>\n",
       "    </tr>\n",
       "    <tr>\n",
       "      <th>8</th>\n",
       "      <td>2023-05-01</td>\n",
       "    </tr>\n",
       "    <tr>\n",
       "      <th>9</th>\n",
       "      <td>2023-05-02</td>\n",
       "    </tr>\n",
       "    <tr>\n",
       "      <th>10</th>\n",
       "      <td>2023-05-03</td>\n",
       "    </tr>\n",
       "    <tr>\n",
       "      <th>11</th>\n",
       "      <td>2023-05-04</td>\n",
       "    </tr>\n",
       "    <tr>\n",
       "      <th>12</th>\n",
       "      <td>2023-05-05</td>\n",
       "    </tr>\n",
       "    <tr>\n",
       "      <th>13</th>\n",
       "      <td>2023-05-06</td>\n",
       "    </tr>\n",
       "    <tr>\n",
       "      <th>14</th>\n",
       "      <td>2023-05-07</td>\n",
       "    </tr>\n",
       "    <tr>\n",
       "      <th>15</th>\n",
       "      <td>2023-05-08</td>\n",
       "    </tr>\n",
       "    <tr>\n",
       "      <th>16</th>\n",
       "      <td>2023-05-09</td>\n",
       "    </tr>\n",
       "    <tr>\n",
       "      <th>17</th>\n",
       "      <td>2023-05-10</td>\n",
       "    </tr>\n",
       "    <tr>\n",
       "      <th>18</th>\n",
       "      <td>2023-05-11</td>\n",
       "    </tr>\n",
       "    <tr>\n",
       "      <th>19</th>\n",
       "      <td>2023-05-12</td>\n",
       "    </tr>\n",
       "    <tr>\n",
       "      <th>20</th>\n",
       "      <td>2023-05-13</td>\n",
       "    </tr>\n",
       "    <tr>\n",
       "      <th>21</th>\n",
       "      <td>2023-05-14</td>\n",
       "    </tr>\n",
       "    <tr>\n",
       "      <th>22</th>\n",
       "      <td>2023-05-15</td>\n",
       "    </tr>\n",
       "    <tr>\n",
       "      <th>23</th>\n",
       "      <td>2023-05-16</td>\n",
       "    </tr>\n",
       "    <tr>\n",
       "      <th>24</th>\n",
       "      <td>2023-05-17</td>\n",
       "    </tr>\n",
       "    <tr>\n",
       "      <th>25</th>\n",
       "      <td>2023-05-18</td>\n",
       "    </tr>\n",
       "    <tr>\n",
       "      <th>26</th>\n",
       "      <td>2023-05-19</td>\n",
       "    </tr>\n",
       "    <tr>\n",
       "      <th>27</th>\n",
       "      <td>2023-05-20</td>\n",
       "    </tr>\n",
       "    <tr>\n",
       "      <th>28</th>\n",
       "      <td>2023-05-21</td>\n",
       "    </tr>\n",
       "    <tr>\n",
       "      <th>29</th>\n",
       "      <td>2023-05-22</td>\n",
       "    </tr>\n",
       "    <tr>\n",
       "      <th>30</th>\n",
       "      <td>2023-05-23</td>\n",
       "    </tr>\n",
       "    <tr>\n",
       "      <th>31</th>\n",
       "      <td>2023-05-24</td>\n",
       "    </tr>\n",
       "    <tr>\n",
       "      <th>32</th>\n",
       "      <td>2023-05-25</td>\n",
       "    </tr>\n",
       "    <tr>\n",
       "      <th>33</th>\n",
       "      <td>2023-05-26</td>\n",
       "    </tr>\n",
       "    <tr>\n",
       "      <th>34</th>\n",
       "      <td>2023-05-27</td>\n",
       "    </tr>\n",
       "    <tr>\n",
       "      <th>35</th>\n",
       "      <td>2023-05-28</td>\n",
       "    </tr>\n",
       "    <tr>\n",
       "      <th>36</th>\n",
       "      <td>2023-05-29</td>\n",
       "    </tr>\n",
       "    <tr>\n",
       "      <th>37</th>\n",
       "      <td>2023-05-30</td>\n",
       "    </tr>\n",
       "    <tr>\n",
       "      <th>38</th>\n",
       "      <td>2023-05-31</td>\n",
       "    </tr>\n",
       "    <tr>\n",
       "      <th>39</th>\n",
       "      <td>2023-06-01</td>\n",
       "    </tr>\n",
       "    <tr>\n",
       "      <th>40</th>\n",
       "      <td>2023-06-02</td>\n",
       "    </tr>\n",
       "    <tr>\n",
       "      <th>41</th>\n",
       "      <td>2023-06-03</td>\n",
       "    </tr>\n",
       "    <tr>\n",
       "      <th>42</th>\n",
       "      <td>2023-06-04</td>\n",
       "    </tr>\n",
       "    <tr>\n",
       "      <th>43</th>\n",
       "      <td>2023-06-05</td>\n",
       "    </tr>\n",
       "    <tr>\n",
       "      <th>44</th>\n",
       "      <td>2023-06-06</td>\n",
       "    </tr>\n",
       "    <tr>\n",
       "      <th>45</th>\n",
       "      <td>2023-06-07</td>\n",
       "    </tr>\n",
       "    <tr>\n",
       "      <th>46</th>\n",
       "      <td>2023-06-08</td>\n",
       "    </tr>\n",
       "    <tr>\n",
       "      <th>47</th>\n",
       "      <td>2023-06-09</td>\n",
       "    </tr>\n",
       "    <tr>\n",
       "      <th>48</th>\n",
       "      <td>2023-06-10</td>\n",
       "    </tr>\n",
       "    <tr>\n",
       "      <th>49</th>\n",
       "      <td>2023-06-11</td>\n",
       "    </tr>\n",
       "    <tr>\n",
       "      <th>50</th>\n",
       "      <td>2023-06-12</td>\n",
       "    </tr>\n",
       "    <tr>\n",
       "      <th>51</th>\n",
       "      <td>2023-06-13</td>\n",
       "    </tr>\n",
       "  </tbody>\n",
       "</table>\n",
       "</div>"
      ],
      "text/plain": [
       "         date\n",
       "0  2023-04-23\n",
       "1  2023-04-24\n",
       "2  2023-04-25\n",
       "3  2023-04-26\n",
       "4  2023-04-27\n",
       "5  2023-04-28\n",
       "6  2023-04-29\n",
       "7  2023-04-30\n",
       "8  2023-05-01\n",
       "9  2023-05-02\n",
       "10 2023-05-03\n",
       "11 2023-05-04\n",
       "12 2023-05-05\n",
       "13 2023-05-06\n",
       "14 2023-05-07\n",
       "15 2023-05-08\n",
       "16 2023-05-09\n",
       "17 2023-05-10\n",
       "18 2023-05-11\n",
       "19 2023-05-12\n",
       "20 2023-05-13\n",
       "21 2023-05-14\n",
       "22 2023-05-15\n",
       "23 2023-05-16\n",
       "24 2023-05-17\n",
       "25 2023-05-18\n",
       "26 2023-05-19\n",
       "27 2023-05-20\n",
       "28 2023-05-21\n",
       "29 2023-05-22\n",
       "30 2023-05-23\n",
       "31 2023-05-24\n",
       "32 2023-05-25\n",
       "33 2023-05-26\n",
       "34 2023-05-27\n",
       "35 2023-05-28\n",
       "36 2023-05-29\n",
       "37 2023-05-30\n",
       "38 2023-05-31\n",
       "39 2023-06-01\n",
       "40 2023-06-02\n",
       "41 2023-06-03\n",
       "42 2023-06-04\n",
       "43 2023-06-05\n",
       "44 2023-06-06\n",
       "45 2023-06-07\n",
       "46 2023-06-08\n",
       "47 2023-06-09\n",
       "48 2023-06-10\n",
       "49 2023-06-11\n",
       "50 2023-06-12\n",
       "51 2023-06-13"
      ]
     },
     "execution_count": 139,
     "metadata": {},
     "output_type": "execute_result"
    }
   ],
   "source": [
    "df_date"
   ]
  },
  {
   "cell_type": "code",
   "execution_count": 145,
   "metadata": {},
   "outputs": [
    {
     "data": {
      "text/plain": [
       "date    datetime64[ns]\n",
       "dtype: object"
      ]
     },
     "execution_count": 145,
     "metadata": {},
     "output_type": "execute_result"
    }
   ],
   "source": [
    "df_date.dtypes"
   ]
  },
  {
   "cell_type": "code",
   "execution_count": 4,
   "metadata": {},
   "outputs": [],
   "source": [
    "df7=pd.DataFrame({'date': ['2023-06-12', '2023-06-07','2023-06-03']})"
   ]
  },
  {
   "cell_type": "code",
   "execution_count": 5,
   "metadata": {},
   "outputs": [
    {
     "data": {
      "text/html": [
       "<div>\n",
       "<style scoped>\n",
       "    .dataframe tbody tr th:only-of-type {\n",
       "        vertical-align: middle;\n",
       "    }\n",
       "\n",
       "    .dataframe tbody tr th {\n",
       "        vertical-align: top;\n",
       "    }\n",
       "\n",
       "    .dataframe thead th {\n",
       "        text-align: right;\n",
       "    }\n",
       "</style>\n",
       "<table border=\"1\" class=\"dataframe\">\n",
       "  <thead>\n",
       "    <tr style=\"text-align: right;\">\n",
       "      <th></th>\n",
       "      <th>date</th>\n",
       "    </tr>\n",
       "  </thead>\n",
       "  <tbody>\n",
       "    <tr>\n",
       "      <th>0</th>\n",
       "      <td>2023-06-12</td>\n",
       "    </tr>\n",
       "    <tr>\n",
       "      <th>1</th>\n",
       "      <td>2023-06-07</td>\n",
       "    </tr>\n",
       "    <tr>\n",
       "      <th>2</th>\n",
       "      <td>2023-06-03</td>\n",
       "    </tr>\n",
       "  </tbody>\n",
       "</table>\n",
       "</div>"
      ],
      "text/plain": [
       "         date\n",
       "0  2023-06-12\n",
       "1  2023-06-07\n",
       "2  2023-06-03"
      ]
     },
     "execution_count": 5,
     "metadata": {},
     "output_type": "execute_result"
    }
   ],
   "source": [
    "df7"
   ]
  },
  {
   "cell_type": "code",
   "execution_count": 6,
   "metadata": {},
   "outputs": [
    {
     "data": {
      "text/plain": [
       "date    object\n",
       "dtype: object"
      ]
     },
     "execution_count": 6,
     "metadata": {},
     "output_type": "execute_result"
    }
   ],
   "source": [
    "df7.dtypes"
   ]
  },
  {
   "cell_type": "code",
   "execution_count": 8,
   "metadata": {},
   "outputs": [],
   "source": [
    "df7['updated_date']=pd.to_datetime(df7['date'])"
   ]
  },
  {
   "cell_type": "code",
   "execution_count": 9,
   "metadata": {},
   "outputs": [
    {
     "data": {
      "text/html": [
       "<div>\n",
       "<style scoped>\n",
       "    .dataframe tbody tr th:only-of-type {\n",
       "        vertical-align: middle;\n",
       "    }\n",
       "\n",
       "    .dataframe tbody tr th {\n",
       "        vertical-align: top;\n",
       "    }\n",
       "\n",
       "    .dataframe thead th {\n",
       "        text-align: right;\n",
       "    }\n",
       "</style>\n",
       "<table border=\"1\" class=\"dataframe\">\n",
       "  <thead>\n",
       "    <tr style=\"text-align: right;\">\n",
       "      <th></th>\n",
       "      <th>date</th>\n",
       "      <th>updated_date</th>\n",
       "    </tr>\n",
       "  </thead>\n",
       "  <tbody>\n",
       "    <tr>\n",
       "      <th>0</th>\n",
       "      <td>2023-06-12</td>\n",
       "      <td>2023-06-12</td>\n",
       "    </tr>\n",
       "    <tr>\n",
       "      <th>1</th>\n",
       "      <td>2023-06-07</td>\n",
       "      <td>2023-06-07</td>\n",
       "    </tr>\n",
       "    <tr>\n",
       "      <th>2</th>\n",
       "      <td>2023-06-03</td>\n",
       "      <td>2023-06-03</td>\n",
       "    </tr>\n",
       "  </tbody>\n",
       "</table>\n",
       "</div>"
      ],
      "text/plain": [
       "         date updated_date\n",
       "0  2023-06-12   2023-06-12\n",
       "1  2023-06-07   2023-06-07\n",
       "2  2023-06-03   2023-06-03"
      ]
     },
     "execution_count": 9,
     "metadata": {},
     "output_type": "execute_result"
    }
   ],
   "source": [
    "df7"
   ]
  },
  {
   "cell_type": "code",
   "execution_count": 10,
   "metadata": {},
   "outputs": [
    {
     "data": {
      "text/plain": [
       "date                    object\n",
       "updated_date    datetime64[ns]\n",
       "dtype: object"
      ]
     },
     "execution_count": 10,
     "metadata": {},
     "output_type": "execute_result"
    }
   ],
   "source": [
    "df7.dtypes"
   ]
  },
  {
   "cell_type": "code",
   "execution_count": 12,
   "metadata": {},
   "outputs": [],
   "source": [
    "df7['year']=df7['updated_date'].dt.year"
   ]
  },
  {
   "cell_type": "code",
   "execution_count": 13,
   "metadata": {},
   "outputs": [
    {
     "data": {
      "text/html": [
       "<div>\n",
       "<style scoped>\n",
       "    .dataframe tbody tr th:only-of-type {\n",
       "        vertical-align: middle;\n",
       "    }\n",
       "\n",
       "    .dataframe tbody tr th {\n",
       "        vertical-align: top;\n",
       "    }\n",
       "\n",
       "    .dataframe thead th {\n",
       "        text-align: right;\n",
       "    }\n",
       "</style>\n",
       "<table border=\"1\" class=\"dataframe\">\n",
       "  <thead>\n",
       "    <tr style=\"text-align: right;\">\n",
       "      <th></th>\n",
       "      <th>date</th>\n",
       "      <th>updated_date</th>\n",
       "      <th>year</th>\n",
       "    </tr>\n",
       "  </thead>\n",
       "  <tbody>\n",
       "    <tr>\n",
       "      <th>0</th>\n",
       "      <td>2023-06-12</td>\n",
       "      <td>2023-06-12</td>\n",
       "      <td>2023</td>\n",
       "    </tr>\n",
       "    <tr>\n",
       "      <th>1</th>\n",
       "      <td>2023-06-07</td>\n",
       "      <td>2023-06-07</td>\n",
       "      <td>2023</td>\n",
       "    </tr>\n",
       "    <tr>\n",
       "      <th>2</th>\n",
       "      <td>2023-06-03</td>\n",
       "      <td>2023-06-03</td>\n",
       "      <td>2023</td>\n",
       "    </tr>\n",
       "  </tbody>\n",
       "</table>\n",
       "</div>"
      ],
      "text/plain": [
       "         date updated_date  year\n",
       "0  2023-06-12   2023-06-12  2023\n",
       "1  2023-06-07   2023-06-07  2023\n",
       "2  2023-06-03   2023-06-03  2023"
      ]
     },
     "execution_count": 13,
     "metadata": {},
     "output_type": "execute_result"
    }
   ],
   "source": [
    "df7"
   ]
  },
  {
   "cell_type": "code",
   "execution_count": 14,
   "metadata": {},
   "outputs": [],
   "source": [
    "df7['day']=df7['updated_date'].dt.day"
   ]
  },
  {
   "cell_type": "code",
   "execution_count": 15,
   "metadata": {},
   "outputs": [],
   "source": [
    "df7['months']=df7['updated_date'].dt.month"
   ]
  },
  {
   "cell_type": "code",
   "execution_count": 16,
   "metadata": {},
   "outputs": [
    {
     "data": {
      "text/html": [
       "<div>\n",
       "<style scoped>\n",
       "    .dataframe tbody tr th:only-of-type {\n",
       "        vertical-align: middle;\n",
       "    }\n",
       "\n",
       "    .dataframe tbody tr th {\n",
       "        vertical-align: top;\n",
       "    }\n",
       "\n",
       "    .dataframe thead th {\n",
       "        text-align: right;\n",
       "    }\n",
       "</style>\n",
       "<table border=\"1\" class=\"dataframe\">\n",
       "  <thead>\n",
       "    <tr style=\"text-align: right;\">\n",
       "      <th></th>\n",
       "      <th>date</th>\n",
       "      <th>updated_date</th>\n",
       "      <th>year</th>\n",
       "      <th>day</th>\n",
       "      <th>months</th>\n",
       "    </tr>\n",
       "  </thead>\n",
       "  <tbody>\n",
       "    <tr>\n",
       "      <th>0</th>\n",
       "      <td>2023-06-12</td>\n",
       "      <td>2023-06-12</td>\n",
       "      <td>2023</td>\n",
       "      <td>12</td>\n",
       "      <td>6</td>\n",
       "    </tr>\n",
       "    <tr>\n",
       "      <th>1</th>\n",
       "      <td>2023-06-07</td>\n",
       "      <td>2023-06-07</td>\n",
       "      <td>2023</td>\n",
       "      <td>7</td>\n",
       "      <td>6</td>\n",
       "    </tr>\n",
       "    <tr>\n",
       "      <th>2</th>\n",
       "      <td>2023-06-03</td>\n",
       "      <td>2023-06-03</td>\n",
       "      <td>2023</td>\n",
       "      <td>3</td>\n",
       "      <td>6</td>\n",
       "    </tr>\n",
       "  </tbody>\n",
       "</table>\n",
       "</div>"
      ],
      "text/plain": [
       "         date updated_date  year  day  months\n",
       "0  2023-06-12   2023-06-12  2023   12       6\n",
       "1  2023-06-07   2023-06-07  2023    7       6\n",
       "2  2023-06-03   2023-06-03  2023    3       6"
      ]
     },
     "execution_count": 16,
     "metadata": {},
     "output_type": "execute_result"
    }
   ],
   "source": [
    "df7"
   ]
  },
  {
   "cell_type": "code",
   "execution_count": 17,
   "metadata": {},
   "outputs": [],
   "source": [
    "# time delta"
   ]
  },
  {
   "cell_type": "code",
   "execution_count": 20,
   "metadata": {},
   "outputs": [
    {
     "data": {
      "text/plain": [
       "Timedelta('1 days 05:45:00')"
      ]
     },
     "execution_count": 20,
     "metadata": {},
     "output_type": "execute_result"
    }
   ],
   "source": [
    "pd.Timedelta(days=1, hours=5, minutes=45)"
   ]
  },
  {
   "cell_type": "code",
   "execution_count": 21,
   "metadata": {},
   "outputs": [],
   "source": [
    "dt=pd.to_datetime('2023-06-03')"
   ]
  },
  {
   "cell_type": "code",
   "execution_count": 22,
   "metadata": {},
   "outputs": [],
   "source": [
    "td=pd.Timedelta(days=1)"
   ]
  },
  {
   "cell_type": "code",
   "execution_count": 23,
   "metadata": {},
   "outputs": [
    {
     "data": {
      "text/plain": [
       "Timestamp('2023-06-04 00:00:00')"
      ]
     },
     "execution_count": 23,
     "metadata": {},
     "output_type": "execute_result"
    }
   ],
   "source": [
    "dt+td"
   ]
  },
  {
   "cell_type": "code",
   "execution_count": 26,
   "metadata": {},
   "outputs": [],
   "source": [
    "# categorical data\n",
    "\n",
    "data=['pankaj', 'neeshu', 'nitesh', 'rudra', 'pankaj', 'pankaj']"
   ]
  },
  {
   "cell_type": "code",
   "execution_count": 29,
   "metadata": {},
   "outputs": [],
   "source": [
    "cat=pd.Categorical(data)  # unique"
   ]
  },
  {
   "cell_type": "code",
   "execution_count": 30,
   "metadata": {},
   "outputs": [
    {
     "data": {
      "text/plain": [
       "['pankaj', 'neeshu', 'nitesh', 'rudra', 'pankaj', 'pankaj']\n",
       "Categories (4, object): ['neeshu', 'nitesh', 'pankaj', 'rudra']"
      ]
     },
     "execution_count": 30,
     "metadata": {},
     "output_type": "execute_result"
    }
   ],
   "source": [
    "cat"
   ]
  },
  {
   "cell_type": "code",
   "execution_count": 31,
   "metadata": {},
   "outputs": [
    {
     "data": {
      "text/plain": [
       "neeshu    1\n",
       "nitesh    1\n",
       "pankaj    3\n",
       "rudra     1\n",
       "Name: count, dtype: int64"
      ]
     },
     "execution_count": 31,
     "metadata": {},
     "output_type": "execute_result"
    }
   ],
   "source": [
    "cat.value_counts()"
   ]
  },
  {
   "cell_type": "code",
   "execution_count": 37,
   "metadata": {},
   "outputs": [],
   "source": [
    "# Visualization: \n",
    "\n",
    "data=pd.Series([1,2,3,4,5,6])"
   ]
  },
  {
   "cell_type": "code",
   "execution_count": 39,
   "metadata": {},
   "outputs": [
    {
     "data": {
      "text/plain": [
       "0    1\n",
       "1    2\n",
       "2    3\n",
       "3    4\n",
       "4    5\n",
       "5    6\n",
       "dtype: int64"
      ]
     },
     "execution_count": 39,
     "metadata": {},
     "output_type": "execute_result"
    }
   ],
   "source": [
    "data"
   ]
  },
  {
   "cell_type": "code",
   "execution_count": 50,
   "metadata": {},
   "outputs": [
    {
     "data": {
      "text/plain": [
       "<Axes: >"
      ]
     },
     "execution_count": 50,
     "metadata": {},
     "output_type": "execute_result"
    },
    {
     "data": {
      "image/png": "[encoded data removed]",
      "text/plain": [
       "<Figure size 640x480 with 1 Axes>"
      ]
     },
     "metadata": {},
     "output_type": "display_data"
    }
   ],
   "source": [
    "data.plot()"
   ]
  },
  {
   "cell_type": "code",
   "execution_count": 41,
   "metadata": {},
   "outputs": [],
   "source": [
    "df=pd.DataFrame({'a': [2,3,45,6,76],\n",
    "                 'b': [3,5,6,7,8]})"
   ]
  },
  {
   "cell_type": "code",
   "execution_count": 42,
   "metadata": {},
   "outputs": [
    {
     "data": {
      "text/html": [
       "<div>\n",
       "<style scoped>\n",
       "    .dataframe tbody tr th:only-of-type {\n",
       "        vertical-align: middle;\n",
       "    }\n",
       "\n",
       "    .dataframe tbody tr th {\n",
       "        vertical-align: top;\n",
       "    }\n",
       "\n",
       "    .dataframe thead th {\n",
       "        text-align: right;\n",
       "    }\n",
       "</style>\n",
       "<table border=\"1\" class=\"dataframe\">\n",
       "  <thead>\n",
       "    <tr style=\"text-align: right;\">\n",
       "      <th></th>\n",
       "      <th>a</th>\n",
       "      <th>b</th>\n",
       "    </tr>\n",
       "  </thead>\n",
       "  <tbody>\n",
       "    <tr>\n",
       "      <th>0</th>\n",
       "      <td>2</td>\n",
       "      <td>3</td>\n",
       "    </tr>\n",
       "    <tr>\n",
       "      <th>1</th>\n",
       "      <td>3</td>\n",
       "      <td>5</td>\n",
       "    </tr>\n",
       "    <tr>\n",
       "      <th>2</th>\n",
       "      <td>45</td>\n",
       "      <td>6</td>\n",
       "    </tr>\n",
       "    <tr>\n",
       "      <th>3</th>\n",
       "      <td>6</td>\n",
       "      <td>7</td>\n",
       "    </tr>\n",
       "    <tr>\n",
       "      <th>4</th>\n",
       "      <td>76</td>\n",
       "      <td>8</td>\n",
       "    </tr>\n",
       "  </tbody>\n",
       "</table>\n",
       "</div>"
      ],
      "text/plain": [
       "    a  b\n",
       "0   2  3\n",
       "1   3  5\n",
       "2  45  6\n",
       "3   6  7\n",
       "4  76  8"
      ]
     },
     "execution_count": 42,
     "metadata": {},
     "output_type": "execute_result"
    }
   ],
   "source": [
    "df"
   ]
  },
  {
   "cell_type": "code",
   "execution_count": 44,
   "metadata": {},
   "outputs": [
    {
     "name": "stdout",
     "output_type": "stream",
     "text": [
      "Collecting matplotlibNote: you may need to restart the kernel to use updated packages.\n",
      "\n",
      "  Downloading matplotlib-3.8.4-cp311-cp311-win_amd64.whl.metadata (5.9 kB)\n",
      "Collecting contourpy>=1.0.1 (from matplotlib)\n",
      "  Downloading contourpy-1.2.1-cp311-cp311-win_amd64.whl.metadata (5.8 kB)\n",
      "Collecting cycler>=0.10 (from matplotlib)\n",
      "  Downloading cycler-0.12.1-py3-none-any.whl.metadata (3.8 kB)\n",
      "Collecting fonttools>=4.22.0 (from matplotlib)\n",
      "  Downloading fonttools-4.51.0-cp311-cp311-win_amd64.whl.metadata (162 kB)\n",
      "     ---------------------------------------- 0.0/162.8 kB ? eta -:--:--\n",
      "     ------------------- ------------------- 81.9/162.8 kB 2.2 MB/s eta 0:00:01\n",
      "     -------------------------------------- 162.8/162.8 kB 3.2 MB/s eta 0:00:00\n",
      "Collecting kiwisolver>=1.3.1 (from matplotlib)\n",
      "  Downloading kiwisolver-1.4.5-cp311-cp311-win_amd64.whl.metadata (6.5 kB)\n",
      "Requirement already satisfied: numpy>=1.21 in c:\\users\\91830\\appdata\\local\\packages\\pythonsoftwarefoundation.python.3.11_qbz5n2kfra8p0\\localcache\\local-packages\\python311\\site-packages (from matplotlib) (1.26.4)\n",
      "Requirement already satisfied: packaging>=20.0 in c:\\users\\91830\\appdata\\local\\packages\\pythonsoftwarefoundation.python.3.11_qbz5n2kfra8p0\\localcache\\local-packages\\python311\\site-packages (from matplotlib) (24.0)\n",
      "Collecting pillow>=8 (from matplotlib)\n",
      "  Downloading pillow-10.3.0-cp311-cp311-win_amd64.whl.metadata (9.4 kB)\n",
      "Collecting pyparsing>=2.3.1 (from matplotlib)\n",
      "  Downloading pyparsing-3.1.2-py3-none-any.whl.metadata (5.1 kB)\n",
      "Requirement already satisfied: python-dateutil>=2.7 in c:\\users\\91830\\appdata\\local\\packages\\pythonsoftwarefoundation.python.3.11_qbz5n2kfra8p0\\localcache\\local-packages\\python311\\site-packages (from matplotlib) (2.9.0.post0)\n",
      "Requirement already satisfied: six>=1.5 in c:\\users\\91830\\appdata\\local\\packages\\pythonsoftwarefoundation.python.3.11_qbz5n2kfra8p0\\localcache\\local-packages\\python311\\site-packages (from python-dateutil>=2.7->matplotlib) (1.16.0)\n",
      "Downloading matplotlib-3.8.4-cp311-cp311-win_amd64.whl (7.7 MB)\n",
      "   ---------------------------------------- 0.0/7.7 MB ? eta -:--:--\n",
      "   - -------------------------------------- 0.2/7.7 MB 4.2 MB/s eta 0:00:02\n",
      "   -- ------------------------------------- 0.5/7.7 MB 4.7 MB/s eta 0:00:02\n",
      "   --- ------------------------------------ 0.6/7.7 MB 4.2 MB/s eta 0:00:02\n",
      "   --- ------------------------------------ 0.6/7.7 MB 3.9 MB/s eta 0:00:02\n",
      "   --- ------------------------------------ 0.7/7.7 MB 2.8 MB/s eta 0:00:03\n",
      "   --- ------------------------------------ 0.7/7.7 MB 2.7 MB/s eta 0:00:03\n",
      "   --- ------------------------------------ 0.7/7.7 MB 2.4 MB/s eta 0:00:03\n",
      "   --- ------------------------------------ 0.7/7.7 MB 2.4 MB/s eta 0:00:03\n",
      "   --- ------------------------------------ 0.7/7.7 MB 2.4 MB/s eta 0:00:03\n",
      "   --- ------------------------------------ 0.7/7.7 MB 2.4 MB/s eta 0:00:03\n",
      "   --- ------------------------------------ 0.7/7.7 MB 2.4 MB/s eta 0:00:03\n",
      "   --- ------------------------------------ 0.7/7.7 MB 1.4 MB/s eta 0:00:06\n",
      "   ---- ----------------------------------- 0.9/7.7 MB 1.6 MB/s eta 0:00:05\n",
      "   ----- ---------------------------------- 1.0/7.7 MB 1.5 MB/s eta 0:00:05\n",
      "   ----- ---------------------------------- 1.0/7.7 MB 1.4 MB/s eta 0:00:05\n",
      "   ----- ---------------------------------- 1.0/7.7 MB 1.4 MB/s eta 0:00:05\n",
      "   ----- ---------------------------------- 1.1/7.7 MB 1.4 MB/s eta 0:00:05\n",
      "   ----- ---------------------------------- 1.1/7.7 MB 1.3 MB/s eta 0:00:05\n",
      "   ----- ---------------------------------- 1.1/7.7 MB 1.3 MB/s eta 0:00:06\n",
      "   ------ --------------------------------- 1.2/7.7 MB 1.3 MB/s eta 0:00:06\n",
      "   ------ --------------------------------- 1.2/7.7 MB 1.2 MB/s eta 0:00:06\n",
      "   ------ --------------------------------- 1.2/7.7 MB 1.2 MB/s eta 0:00:06\n",
      "   ------ --------------------------------- 1.3/7.7 MB 1.2 MB/s eta 0:00:06\n",
      "   ------ --------------------------------- 1.3/7.7 MB 1.2 MB/s eta 0:00:06\n",
      "   ------ --------------------------------- 1.3/7.7 MB 1.1 MB/s eta 0:00:06\n",
      "   ------- -------------------------------- 1.4/7.7 MB 1.1 MB/s eta 0:00:06\n",
      "   ------- -------------------------------- 1.4/7.7 MB 1.1 MB/s eta 0:00:06\n",
      "   ------- -------------------------------- 1.4/7.7 MB 1.1 MB/s eta 0:00:06\n",
      "   ------- -------------------------------- 1.5/7.7 MB 1.1 MB/s eta 0:00:06\n",
      "   ------- -------------------------------- 1.5/7.7 MB 1.1 MB/s eta 0:00:06\n",
      "   -------- ------------------------------- 1.5/7.7 MB 1.1 MB/s eta 0:00:06\n",
      "   -------- ------------------------------- 1.5/7.7 MB 1.1 MB/s eta 0:00:06\n",
      "   -------- ------------------------------- 1.5/7.7 MB 1.1 MB/s eta 0:00:06\n",
      "   -------- ------------------------------- 1.5/7.7 MB 1.1 MB/s eta 0:00:06\n",
      "   -------- ------------------------------- 1.7/7.7 MB 1.0 MB/s eta 0:00:06\n",
      "   -------- ------------------------------- 1.7/7.7 MB 1.0 MB/s eta 0:00:06\n",
      "   --------- ------------------------------ 1.7/7.7 MB 1.0 MB/s eta 0:00:06\n",
      "   --------- ------------------------------ 1.8/7.7 MB 1.0 MB/s eta 0:00:06\n",
      "   --------- ------------------------------ 1.8/7.7 MB 997.8 kB/s eta 0:00:06\n",
      "   --------- ------------------------------ 1.8/7.7 MB 989.0 kB/s eta 0:00:06\n",
      "   --------- ------------------------------ 1.9/7.7 MB 980.7 kB/s eta 0:00:06\n",
      "   --------- ------------------------------ 1.9/7.7 MB 980.7 kB/s eta 0:00:06\n",
      "   --------- ------------------------------ 1.9/7.7 MB 980.7 kB/s eta 0:00:06\n",
      "   --------- ------------------------------ 1.9/7.7 MB 980.7 kB/s eta 0:00:06\n",
      "   ---------- ----------------------------- 1.9/7.7 MB 942.8 kB/s eta 0:00:07\n",
      "   ---------- ----------------------------- 2.0/7.7 MB 956.5 kB/s eta 0:00:06\n",
      "   ---------- ----------------------------- 2.1/7.7 MB 949.9 kB/s eta 0:00:06\n",
      "   ---------- ----------------------------- 2.1/7.7 MB 943.6 kB/s eta 0:00:06\n",
      "   ----------- ---------------------------- 2.1/7.7 MB 942.1 kB/s eta 0:00:06\n",
      "   ----------- ---------------------------- 2.2/7.7 MB 936.6 kB/s eta 0:00:06\n",
      "   ----------- ---------------------------- 2.2/7.7 MB 930.9 kB/s eta 0:00:06\n",
      "   ----------- ---------------------------- 2.2/7.7 MB 933.3 kB/s eta 0:00:06\n",
      "   ----------- ---------------------------- 2.2/7.7 MB 933.3 kB/s eta 0:00:06\n",
      "   ----------- ---------------------------- 2.3/7.7 MB 925.3 kB/s eta 0:00:06\n",
      "   ------------ --------------------------- 2.3/7.7 MB 913.0 kB/s eta 0:00:06\n",
      "   ------------ --------------------------- 2.4/7.7 MB 912.2 kB/s eta 0:00:06\n",
      "   ------------ --------------------------- 2.4/7.7 MB 907.6 kB/s eta 0:00:06\n",
      "   ------------ --------------------------- 2.4/7.7 MB 903.2 kB/s eta 0:00:06\n",
      "   ------------ --------------------------- 2.5/7.7 MB 904.2 kB/s eta 0:00:06\n",
      "   ------------- -------------------------- 2.5/7.7 MB 899.9 kB/s eta 0:00:06\n",
      "   ------------- -------------------------- 2.5/7.7 MB 899.5 kB/s eta 0:00:06\n",
      "   ------------- -------------------------- 2.6/7.7 MB 895.4 kB/s eta 0:00:06\n",
      "   ------------- -------------------------- 2.6/7.7 MB 891.5 kB/s eta 0:00:06\n",
      "   ------------- -------------------------- 2.6/7.7 MB 887.7 kB/s eta 0:00:06\n",
      "   ------------- -------------------------- 2.7/7.7 MB 884.1 kB/s eta 0:00:06\n",
      "   -------------- ------------------------- 2.7/7.7 MB 884.1 kB/s eta 0:00:06\n",
      "   -------------- ------------------------- 2.7/7.7 MB 880.6 kB/s eta 0:00:06\n",
      "   -------------- ------------------------- 2.8/7.7 MB 877.2 kB/s eta 0:00:06\n",
      "   -------------- ------------------------- 2.8/7.7 MB 878.4 kB/s eta 0:00:06\n",
      "   -------------- ------------------------- 2.8/7.7 MB 872.8 kB/s eta 0:00:06\n",
      "   --------------- ------------------------ 2.9/7.7 MB 869.9 kB/s eta 0:00:06\n",
      "   --------------- ------------------------ 2.9/7.7 MB 870.8 kB/s eta 0:00:06\n",
      "   --------------- ------------------------ 2.9/7.7 MB 868.8 kB/s eta 0:00:06\n",
      "   --------------- ------------------------ 3.0/7.7 MB 865.9 kB/s eta 0:00:06\n",
      "   --------------- ------------------------ 3.0/7.7 MB 861.2 kB/s eta 0:00:06\n",
      "   --------------- ------------------------ 3.0/7.7 MB 861.2 kB/s eta 0:00:06\n",
      "   --------------- ------------------------ 3.0/7.7 MB 861.2 kB/s eta 0:00:06\n",
      "   ---------------- ----------------------- 3.1/7.7 MB 855.9 kB/s eta 0:00:06\n",
      "   ---------------- ----------------------- 3.1/7.7 MB 855.2 kB/s eta 0:00:06\n",
      "   ---------------- ----------------------- 3.2/7.7 MB 854.5 kB/s eta 0:00:06\n",
      "   ---------------- ----------------------- 3.2/7.7 MB 852.9 kB/s eta 0:00:06\n",
      "   ---------------- ----------------------- 3.2/7.7 MB 849.7 kB/s eta 0:00:06\n",
      "   ----------------- ---------------------- 3.3/7.7 MB 850.0 kB/s eta 0:00:06\n",
      "   ----------------- ---------------------- 3.3/7.7 MB 847.6 kB/s eta 0:00:06\n",
      "   ----------------- ---------------------- 3.3/7.7 MB 845.3 kB/s eta 0:00:06\n",
      "   ----------------- ---------------------- 3.4/7.7 MB 843.1 kB/s eta 0:00:06\n",
      "   ----------------- ---------------------- 3.4/7.7 MB 840.8 kB/s eta 0:00:06\n",
      "   ----------------- ---------------------- 3.4/7.7 MB 841.2 kB/s eta 0:00:06\n",
      "   ------------------ --------------------- 3.5/7.7 MB 839.1 kB/s eta 0:00:05\n",
      "   ------------------ --------------------- 3.5/7.7 MB 837.2 kB/s eta 0:00:05\n",
      "   ------------------ --------------------- 3.5/7.7 MB 835.7 kB/s eta 0:00:05\n",
      "   ------------------ --------------------- 3.5/7.7 MB 828.8 kB/s eta 0:00:05\n",
      "   ------------------ --------------------- 3.5/7.7 MB 828.8 kB/s eta 0:00:05\n",
      "   ------------------ --------------------- 3.6/7.7 MB 818.6 kB/s eta 0:00:06\n",
      "   ------------------ --------------------- 3.6/7.7 MB 814.1 kB/s eta 0:00:06\n",
      "   ------------------ --------------------- 3.6/7.7 MB 813.0 kB/s eta 0:00:05\n",
      "   ------------------ --------------------- 3.6/7.7 MB 813.0 kB/s eta 0:00:05\n",
      "   ------------------- -------------------- 3.6/7.7 MB 799.6 kB/s eta 0:00:06\n",
      "   ------------------- -------------------- 3.7/7.7 MB 800.4 kB/s eta 0:00:05\n",
      "   ------------------- -------------------- 3.7/7.7 MB 794.5 kB/s eta 0:00:05\n",
      "   ------------------- -------------------- 3.7/7.7 MB 795.8 kB/s eta 0:00:05\n",
      "   ------------------- -------------------- 3.8/7.7 MB 796.0 kB/s eta 0:00:05\n",
      "   ------------------- -------------------- 3.8/7.7 MB 797.3 kB/s eta 0:00:05\n",
      "   -------------------- ------------------- 3.9/7.7 MB 800.1 kB/s eta 0:00:05\n",
      "   -------------------- ------------------- 3.9/7.7 MB 800.3 kB/s eta 0:00:05\n",
      "   -------------------- ------------------- 4.0/7.7 MB 805.3 kB/s eta 0:00:05\n",
      "   --------------------- ------------------ 4.0/7.7 MB 808.0 kB/s eta 0:00:05\n",
      "   --------------------- ------------------ 4.1/7.7 MB 809.0 kB/s eta 0:00:05\n",
      "   --------------------- ------------------ 4.1/7.7 MB 811.7 kB/s eta 0:00:05\n",
      "   --------------------- ------------------ 4.2/7.7 MB 814.3 kB/s eta 0:00:05\n",
      "   --------------------- ------------------ 4.2/7.7 MB 814.3 kB/s eta 0:00:05\n",
      "   ---------------------- ----------------- 4.2/7.7 MB 815.3 kB/s eta 0:00:05\n",
      "   ---------------------- ----------------- 4.3/7.7 MB 813.9 kB/s eta 0:00:05\n",
      "   ---------------------- ----------------- 4.3/7.7 MB 810.2 kB/s eta 0:00:05\n",
      "   ---------------------- ----------------- 4.3/7.7 MB 810.7 kB/s eta 0:00:05\n",
      "   ---------------------- ----------------- 4.4/7.7 MB 810.2 kB/s eta 0:00:05\n",
      "   ---------------------- ----------------- 4.4/7.7 MB 810.4 kB/s eta 0:00:05\n",
      "   ----------------------- ---------------- 4.4/7.7 MB 809.0 kB/s eta 0:00:04\n",
      "   ----------------------- ---------------- 4.5/7.7 MB 810.4 kB/s eta 0:00:04\n",
      "   ----------------------- ---------------- 4.5/7.7 MB 808.2 kB/s eta 0:00:04\n",
      "   ----------------------- ---------------- 4.5/7.7 MB 806.9 kB/s eta 0:00:04\n",
      "   ----------------------- ---------------- 4.6/7.7 MB 805.7 kB/s eta 0:00:04\n",
      "   ------------------------ --------------- 4.6/7.7 MB 804.4 kB/s eta 0:00:04\n",
      "   ------------------------ --------------- 4.6/7.7 MB 803.2 kB/s eta 0:00:04\n",
      "   ------------------------ --------------- 4.7/7.7 MB 806.0 kB/s eta 0:00:04\n",
      "   ------------------------ --------------- 4.7/7.7 MB 804.7 kB/s eta 0:00:04\n",
      "   ------------------------ --------------- 4.7/7.7 MB 803.5 kB/s eta 0:00:04\n",
      "   ------------------------ --------------- 4.8/7.7 MB 802.5 kB/s eta 0:00:04\n",
      "   ------------------------- -------------- 4.8/7.7 MB 801.3 kB/s eta 0:00:04\n",
      "   ------------------------- -------------- 4.8/7.7 MB 801.3 kB/s eta 0:00:04\n",
      "   ------------------------- -------------- 4.8/7.7 MB 801.3 kB/s eta 0:00:04\n",
      "   ------------------------- -------------- 4.8/7.7 MB 801.3 kB/s eta 0:00:04\n",
      "   ------------------------- -------------- 4.8/7.7 MB 801.3 kB/s eta 0:00:04\n",
      "   ------------------------- -------------- 4.8/7.7 MB 801.3 kB/s eta 0:00:04\n",
      "   ------------------------- -------------- 4.8/7.7 MB 801.3 kB/s eta 0:00:04\n",
      "   ------------------------- -------------- 4.8/7.7 MB 764.6 kB/s eta 0:00:04\n",
      "   ------------------------- -------------- 4.8/7.7 MB 760.4 kB/s eta 0:00:04\n",
      "   ------------------------- -------------- 4.8/7.7 MB 760.4 kB/s eta 0:00:04\n",
      "   ------------------------- -------------- 4.8/7.7 MB 752.7 kB/s eta 0:00:04\n",
      "   ------------------------- -------------- 4.9/7.7 MB 748.6 kB/s eta 0:00:04\n",
      "   ------------------------- -------------- 4.9/7.7 MB 746.2 kB/s eta 0:00:04\n",
      "   ------------------------- -------------- 4.9/7.7 MB 745.5 kB/s eta 0:00:04\n",
      "   ------------------------- -------------- 5.0/7.7 MB 748.0 kB/s eta 0:00:04\n",
      "   -------------------------- ------------- 5.0/7.7 MB 747.3 kB/s eta 0:00:04\n",
      "   -------------------------- ------------- 5.1/7.7 MB 754.2 kB/s eta 0:00:04\n",
      "   -------------------------- ------------- 5.1/7.7 MB 758.4 kB/s eta 0:00:04\n",
      "   --------------------------- ------------ 5.2/7.7 MB 760.4 kB/s eta 0:00:04\n",
      "   --------------------------- ------------ 5.3/7.7 MB 762.6 kB/s eta 0:00:04\n",
      "   --------------------------- ------------ 5.3/7.7 MB 764.9 kB/s eta 0:00:04\n",
      "   --------------------------- ------------ 5.4/7.7 MB 768.8 kB/s eta 0:00:03\n",
      "   ---------------------------- ----------- 5.4/7.7 MB 768.0 kB/s eta 0:00:03\n",
      "   ---------------------------- ----------- 5.4/7.7 MB 771.9 kB/s eta 0:00:03\n",
      "   ---------------------------- ----------- 5.5/7.7 MB 772.1 kB/s eta 0:00:03\n",
      "   ----------------------------- ---------- 5.6/7.7 MB 777.0 kB/s eta 0:00:03\n",
      "   ----------------------------- ---------- 5.7/7.7 MB 783.3 kB/s eta 0:00:03\n",
      "   ----------------------------- ---------- 5.7/7.7 MB 786.7 kB/s eta 0:00:03\n",
      "   ------------------------------ --------- 5.7/7.7 MB 786.0 kB/s eta 0:00:03\n",
      "   ------------------------------ --------- 5.7/7.7 MB 786.0 kB/s eta 0:00:03\n",
      "   ------------------------------ --------- 5.8/7.7 MB 787.3 kB/s eta 0:00:03\n",
      "   ------------------------------ --------- 5.8/7.7 MB 785.4 kB/s eta 0:00:03\n",
      "   ------------------------------ --------- 5.9/7.7 MB 785.7 kB/s eta 0:00:03\n",
      "   ------------------------------ --------- 5.9/7.7 MB 784.9 kB/s eta 0:00:03\n",
      "   ------------------------------ --------- 5.9/7.7 MB 784.4 kB/s eta 0:00:03\n",
      "   ------------------------------- -------- 6.0/7.7 MB 782.9 kB/s eta 0:00:03\n",
      "   ------------------------------- -------- 6.0/7.7 MB 783.8 kB/s eta 0:00:03\n",
      "   ------------------------------- -------- 6.0/7.7 MB 783.0 kB/s eta 0:00:03\n",
      "   ------------------------------- -------- 6.1/7.7 MB 783.3 kB/s eta 0:00:02\n",
      "   ------------------------------- -------- 6.1/7.7 MB 781.5 kB/s eta 0:00:02\n",
      "   ------------------------------- -------- 6.1/7.7 MB 782.5 kB/s eta 0:00:02\n",
      "   -------------------------------- ------- 6.2/7.7 MB 781.0 kB/s eta 0:00:02\n",
      "   -------------------------------- ------- 6.2/7.7 MB 781.6 kB/s eta 0:00:02\n",
      "   -------------------------------- ------- 6.3/7.7 MB 780.8 kB/s eta 0:00:02\n",
      "   -------------------------------- ------- 6.3/7.7 MB 780.2 kB/s eta 0:00:02\n",
      "   --------------------------------- ------ 6.3/7.7 MB 780.9 kB/s eta 0:00:02\n",
      "   --------------------------------- ------ 6.3/7.7 MB 778.7 kB/s eta 0:00:02\n",
      "   --------------------------------- ------ 6.4/7.7 MB 780.8 kB/s eta 0:00:02\n",
      "   --------------------------------- ------ 6.4/7.7 MB 780.0 kB/s eta 0:00:02\n",
      "   --------------------------------- ------ 6.5/7.7 MB 779.3 kB/s eta 0:00:02\n",
      "   --------------------------------- ------ 6.5/7.7 MB 778.6 kB/s eta 0:00:02\n",
      "   ---------------------------------- ----- 6.5/7.7 MB 777.9 kB/s eta 0:00:02\n",
      "   ---------------------------------- ----- 6.5/7.7 MB 777.9 kB/s eta 0:00:02\n",
      "   ---------------------------------- ----- 6.6/7.7 MB 774.1 kB/s eta 0:00:02\n",
      "   ---------------------------------- ----- 6.6/7.7 MB 773.4 kB/s eta 0:00:02\n",
      "   ---------------------------------- ----- 6.6/7.7 MB 772.9 kB/s eta 0:00:02\n",
      "   ---------------------------------- ----- 6.6/7.7 MB 772.4 kB/s eta 0:00:02\n",
      "   ---------------------------------- ----- 6.7/7.7 MB 770.1 kB/s eta 0:00:02\n",
      "   ---------------------------------- ----- 6.7/7.7 MB 771.2 kB/s eta 0:00:02\n",
      "   ----------------------------------- ---- 6.7/7.7 MB 771.5 kB/s eta 0:00:02\n",
      "   ----------------------------------- ---- 6.8/7.7 MB 769.5 kB/s eta 0:00:02\n",
      "   ----------------------------------- ---- 6.8/7.7 MB 770.2 kB/s eta 0:00:02\n",
      "   ----------------------------------- ---- 6.8/7.7 MB 769.6 kB/s eta 0:00:02\n",
      "   ----------------------------------- ---- 6.9/7.7 MB 770.0 kB/s eta 0:00:01\n",
      "   ------------------------------------ --- 6.9/7.7 MB 771.6 kB/s eta 0:00:01\n",
      "   ------------------------------------ --- 7.0/7.7 MB 774.7 kB/s eta 0:00:01\n",
      "   ------------------------------------ --- 7.0/7.7 MB 774.0 kB/s eta 0:00:01\n",
      "   ------------------------------------ --- 7.1/7.7 MB 773.4 kB/s eta 0:00:01\n",
      "   ------------------------------------- -- 7.1/7.7 MB 772.8 kB/s eta 0:00:01\n",
      "   ------------------------------------- -- 7.1/7.7 MB 773.3 kB/s eta 0:00:01\n",
      "   ------------------------------------- -- 7.2/7.7 MB 772.6 kB/s eta 0:00:01\n",
      "   ------------------------------------- -- 7.2/7.7 MB 773.4 kB/s eta 0:00:01\n",
      "   ------------------------------------- -- 7.2/7.7 MB 772.5 kB/s eta 0:00:01\n",
      "   ------------------------------------- -- 7.3/7.7 MB 771.9 kB/s eta 0:00:01\n",
      "   -------------------------------------- - 7.3/7.7 MB 772.6 kB/s eta 0:00:01\n",
      "   -------------------------------------- - 7.3/7.7 MB 772.0 kB/s eta 0:00:01\n",
      "   -------------------------------------- - 7.4/7.7 MB 772.5 kB/s eta 0:00:01\n",
      "   -------------------------------------- - 7.4/7.7 MB 771.9 kB/s eta 0:00:01\n",
      "   -------------------------------------- - 7.4/7.7 MB 771.3 kB/s eta 0:00:01\n",
      "   -------------------------------------- - 7.5/7.7 MB 770.8 kB/s eta 0:00:01\n",
      "   ---------------------------------------  7.5/7.7 MB 770.3 kB/s eta 0:00:01\n",
      "   ---------------------------------------  7.5/7.7 MB 770.8 kB/s eta 0:00:01\n",
      "   ---------------------------------------  7.6/7.7 MB 770.2 kB/s eta 0:00:01\n",
      "   ---------------------------------------  7.6/7.7 MB 769.6 kB/s eta 0:00:01\n",
      "   ---------------------------------------  7.6/7.7 MB 770.5 kB/s eta 0:00:01\n",
      "   ---------------------------------------  7.6/7.7 MB 770.0 kB/s eta 0:00:01\n",
      "   ---------------------------------------- 7.7/7.7 MB 767.2 kB/s eta 0:00:00\n",
      "Downloading contourpy-1.2.1-cp311-cp311-win_amd64.whl (188 kB)\n",
      "   ---------------------------------------- 0.0/188.2 kB ? eta -:--:--\n",
      "   -- ------------------------------------- 10.2/188.2 kB ? eta -:--:--\n",
      "   -------- ------------------------------ 41.0/188.2 kB 653.6 kB/s eta 0:00:01\n",
      "   ---------------- ---------------------- 81.9/188.2 kB 573.4 kB/s eta 0:00:01\n",
      "   ------------------------ ------------- 122.9/188.2 kB 654.9 kB/s eta 0:00:01\n",
      "   -------------------------------------- 188.2/188.2 kB 812.5 kB/s eta 0:00:00\n",
      "Downloading cycler-0.12.1-py3-none-any.whl (8.3 kB)\n",
      "Downloading fonttools-4.51.0-cp311-cp311-win_amd64.whl (2.2 MB)\n",
      "   ---------------------------------------- 0.0/2.2 MB ? eta -:--:--\n",
      "   - -------------------------------------- 0.1/2.2 MB 2.2 MB/s eta 0:00:01\n",
      "   -- ------------------------------------- 0.1/2.2 MB 1.4 MB/s eta 0:00:02\n",
      "   --- ------------------------------------ 0.2/2.2 MB 1.3 MB/s eta 0:00:02\n",
      "   --- ------------------------------------ 0.2/2.2 MB 1.1 MB/s eta 0:00:02\n",
      "   ---- ----------------------------------- 0.2/2.2 MB 1.1 MB/s eta 0:00:02\n",
      "   ---- ----------------------------------- 0.3/2.2 MB 983.0 kB/s eta 0:00:02\n",
      "   ----- ---------------------------------- 0.3/2.2 MB 999.9 kB/s eta 0:00:02\n",
      "   ------ --------------------------------- 0.3/2.2 MB 952.6 kB/s eta 0:00:02\n",
      "   ------- -------------------------------- 0.4/2.2 MB 930.9 kB/s eta 0:00:02\n",
      "   ------- -------------------------------- 0.4/2.2 MB 904.2 kB/s eta 0:00:02\n",
      "   -------- ------------------------------- 0.5/2.2 MB 880.6 kB/s eta 0:00:02\n",
      "   -------- ------------------------------- 0.5/2.2 MB 879.9 kB/s eta 0:00:02\n",
      "   --------- ------------------------------ 0.5/2.2 MB 873.0 kB/s eta 0:00:02\n",
      "   ---------- ----------------------------- 0.6/2.2 MB 846.7 kB/s eta 0:00:02\n",
      "   ---------- ----------------------------- 0.6/2.2 MB 833.5 kB/s eta 0:00:02\n",
      "   ----------- ---------------------------- 0.6/2.2 MB 835.9 kB/s eta 0:00:02\n",
      "   ----------- ---------------------------- 0.7/2.2 MB 825.0 kB/s eta 0:00:02\n",
      "   ------------ --------------------------- 0.7/2.2 MB 816.2 kB/s eta 0:00:02\n",
      "   ------------- -------------------------- 0.7/2.2 MB 807.5 kB/s eta 0:00:02\n",
      "   ------------- -------------------------- 0.7/2.2 MB 799.7 kB/s eta 0:00:02\n",
      "   -------------- ------------------------- 0.8/2.2 MB 816.6 kB/s eta 0:00:02\n",
      "   -------------- ------------------------- 0.8/2.2 MB 796.2 kB/s eta 0:00:02\n",
      "   --------------- ------------------------ 0.8/2.2 MB 802.0 kB/s eta 0:00:02\n",
      "   ---------------- ----------------------- 0.9/2.2 MB 795.6 kB/s eta 0:00:02\n",
      "   ---------------- ----------------------- 0.9/2.2 MB 789.8 kB/s eta 0:00:02\n",
      "   ----------------- ---------------------- 0.9/2.2 MB 775.8 kB/s eta 0:00:02\n",
      "   ----------------- ---------------------- 1.0/2.2 MB 787.7 kB/s eta 0:00:02\n",
      "   ------------------ --------------------- 1.0/2.2 MB 782.8 kB/s eta 0:00:02\n",
      "   ------------------- -------------------- 1.1/2.2 MB 786.5 kB/s eta 0:00:02\n",
      "   ------------------- -------------------- 1.1/2.2 MB 782.0 kB/s eta 0:00:02\n",
      "   -------------------- ------------------- 1.1/2.2 MB 777.7 kB/s eta 0:00:02\n",
      "   -------------------- ------------------- 1.1/2.2 MB 773.8 kB/s eta 0:00:02\n",
      "   --------------------- ------------------ 1.2/2.2 MB 770.0 kB/s eta 0:00:02\n",
      "   --------------------- ------------------ 1.2/2.2 MB 775.4 kB/s eta 0:00:02\n",
      "   ---------------------- ----------------- 1.2/2.2 MB 769.6 kB/s eta 0:00:02\n",
      "   ----------------------- ---------------- 1.3/2.2 MB 773.8 kB/s eta 0:00:02\n",
      "   ----------------------- ---------------- 1.3/2.2 MB 771.7 kB/s eta 0:00:02\n",
      "   ------------------------ --------------- 1.3/2.2 MB 761.4 kB/s eta 0:00:02\n",
      "   ------------------------- -------------- 1.4/2.2 MB 769.3 kB/s eta 0:00:02\n",
      "   ------------------------- -------------- 1.4/2.2 MB 767.4 kB/s eta 0:00:02\n",
      "   -------------------------- ------------- 1.4/2.2 MB 766.3 kB/s eta 0:00:01\n",
      "   -------------------------- ------------- 1.4/2.2 MB 745.9 kB/s eta 0:00:01\n",
      "   -------------------------- ------------- 1.4/2.2 MB 745.9 kB/s eta 0:00:01\n",
      "   -------------------------- ------------- 1.5/2.2 MB 720.6 kB/s eta 0:00:01\n",
      "   --------------------------- ------------ 1.5/2.2 MB 719.7 kB/s eta 0:00:01\n",
      "   --------------------------- ------------ 1.5/2.2 MB 713.4 kB/s eta 0:00:01\n",
      "   ---------------------------- ----------- 1.6/2.2 MB 716.6 kB/s eta 0:00:01\n",
      "   ----------------------------- ---------- 1.6/2.2 MB 719.9 kB/s eta 0:00:01\n",
      "   ----------------------------- ---------- 1.6/2.2 MB 719.3 kB/s eta 0:00:01\n",
      "   ------------------------------ --------- 1.7/2.2 MB 717.2 kB/s eta 0:00:01\n",
      "   ------------------------------- -------- 1.7/2.2 MB 720.8 kB/s eta 0:00:01\n",
      "   ------------------------------- -------- 1.7/2.2 MB 719.5 kB/s eta 0:00:01\n",
      "   -------------------------------- ------- 1.8/2.2 MB 722.4 kB/s eta 0:00:01\n",
      "   -------------------------------- ------- 1.8/2.2 MB 721.1 kB/s eta 0:00:01\n",
      "   --------------------------------- ------ 1.8/2.2 MB 719.9 kB/s eta 0:00:01\n",
      "   ---------------------------------- ----- 1.9/2.2 MB 718.9 kB/s eta 0:00:01\n",
      "   ---------------------------------- ----- 1.9/2.2 MB 717.8 kB/s eta 0:00:01\n",
      "   ----------------------------------- ---- 1.9/2.2 MB 720.5 kB/s eta 0:00:01\n",
      "   ----------------------------------- ---- 2.0/2.2 MB 719.3 kB/s eta 0:00:01\n",
      "   ------------------------------------ --- 2.0/2.2 MB 718.2 kB/s eta 0:00:01\n",
      "   ------------------------------------- -- 2.0/2.2 MB 720.6 kB/s eta 0:00:01\n",
      "   ------------------------------------- -- 2.1/2.2 MB 719.7 kB/s eta 0:00:01\n",
      "   -------------------------------------- - 2.1/2.2 MB 718.6 kB/s eta 0:00:01\n",
      "   -------------------------------------- - 2.1/2.2 MB 721.5 kB/s eta 0:00:01\n",
      "   ---------------------------------------  2.2/2.2 MB 720.4 kB/s eta 0:00:01\n",
      "   ---------------------------------------- 2.2/2.2 MB 718.3 kB/s eta 0:00:00\n",
      "Downloading kiwisolver-1.4.5-cp311-cp311-win_amd64.whl (56 kB)\n",
      "   ---------------------------------------- 0.0/56.1 kB ? eta -:--:--\n",
      "   --------------------- ------------------ 30.7/56.1 kB 1.4 MB/s eta 0:00:01\n",
      "   ---------------------------------------- 56.1/56.1 kB 976.1 kB/s eta 0:00:00\n",
      "Downloading pillow-10.3.0-cp311-cp311-win_amd64.whl (2.5 MB)\n",
      "   ---------------------------------------- 0.0/2.5 MB ? eta -:--:--\n",
      "    --------------------------------------- 0.0/2.5 MB 653.6 kB/s eta 0:00:04\n",
      "   - -------------------------------------- 0.1/2.5 MB 919.0 kB/s eta 0:00:03\n",
      "   - -------------------------------------- 0.1/2.5 MB 819.2 kB/s eta 0:00:03\n",
      "   -- ------------------------------------- 0.1/2.5 MB 774.0 kB/s eta 0:00:04\n",
      "   -- ------------------------------------- 0.2/2.5 MB 756.6 kB/s eta 0:00:04\n",
      "   -- ------------------------------------- 0.2/2.5 MB 697.2 kB/s eta 0:00:04\n",
      "   --- ------------------------------------ 0.2/2.5 MB 588.9 kB/s eta 0:00:04\n",
      "   --- ------------------------------------ 0.2/2.5 MB 597.3 kB/s eta 0:00:04\n",
      "   ---- ----------------------------------- 0.3/2.5 MB 603.8 kB/s eta 0:00:04\n",
      "   ---- ----------------------------------- 0.3/2.5 MB 610.3 kB/s eta 0:00:04\n",
      "   ----- ---------------------------------- 0.3/2.5 MB 634.9 kB/s eta 0:00:04\n",
      "   ----- ---------------------------------- 0.4/2.5 MB 636.5 kB/s eta 0:00:04\n",
      "   ------ --------------------------------- 0.4/2.5 MB 637.8 kB/s eta 0:00:04\n",
      "   ------ --------------------------------- 0.4/2.5 MB 639.0 kB/s eta 0:00:04\n",
      "   ------- -------------------------------- 0.5/2.5 MB 655.2 kB/s eta 0:00:04\n",
      "   ------- -------------------------------- 0.5/2.5 MB 669.4 kB/s eta 0:00:04\n",
      "   -------- ------------------------------- 0.5/2.5 MB 668.4 kB/s eta 0:00:04\n",
      "   -------- ------------------------------- 0.6/2.5 MB 667.6 kB/s eta 0:00:03\n",
      "   --------- ------------------------------ 0.6/2.5 MB 666.8 kB/s eta 0:00:03\n",
      "   --------- ------------------------------ 0.6/2.5 MB 666.1 kB/s eta 0:00:03\n",
      "   ---------- ----------------------------- 0.7/2.5 MB 676.9 kB/s eta 0:00:03\n",
      "   ----------- ---------------------------- 0.7/2.5 MB 675.3 kB/s eta 0:00:03\n",
      "   ----------- ---------------------------- 0.7/2.5 MB 684.0 kB/s eta 0:00:03\n",
      "   ----------- ---------------------------- 0.7/2.5 MB 673.9 kB/s eta 0:00:03\n",
      "   ------------ --------------------------- 0.8/2.5 MB 681.5 kB/s eta 0:00:03\n",
      "   ------------- -------------------------- 0.8/2.5 MB 681.0 kB/s eta 0:00:03\n",
      "   ------------- -------------------------- 0.8/2.5 MB 688.8 kB/s eta 0:00:03\n",
      "   -------------- ------------------------- 0.9/2.5 MB 686.9 kB/s eta 0:00:03\n",
      "   -------------- ------------------------- 0.9/2.5 MB 678.1 kB/s eta 0:00:03\n",
      "   --------------- ------------------------ 1.0/2.5 MB 692.6 kB/s eta 0:00:03\n",
      "   --------------- ------------------------ 1.0/2.5 MB 691.3 kB/s eta 0:00:03\n",
      "   --------------- ------------------------ 1.0/2.5 MB 691.3 kB/s eta 0:00:03\n",
      "   ---------------- ----------------------- 1.1/2.5 MB 689.0 kB/s eta 0:00:03\n",
      "   ----------------- ---------------------- 1.1/2.5 MB 687.9 kB/s eta 0:00:03\n",
      "   ----------------- ---------------------- 1.1/2.5 MB 693.3 kB/s eta 0:00:03\n",
      "   ------------------ --------------------- 1.2/2.5 MB 692.1 kB/s eta 0:00:02\n",
      "   ------------------ --------------------- 1.2/2.5 MB 697.6 kB/s eta 0:00:02\n",
      "   ------------------- -------------------- 1.2/2.5 MB 696.4 kB/s eta 0:00:02\n",
      "   ------------------- -------------------- 1.2/2.5 MB 695.3 kB/s eta 0:00:02\n",
      "   -------------------- ------------------- 1.3/2.5 MB 700.2 kB/s eta 0:00:02\n",
      "   -------------------- ------------------- 1.3/2.5 MB 699.0 kB/s eta 0:00:02\n",
      "   --------------------- ------------------ 1.4/2.5 MB 702.7 kB/s eta 0:00:02\n",
      "   ---------------------- ----------------- 1.4/2.5 MB 701.6 kB/s eta 0:00:02\n",
      "   ---------------------- ----------------- 1.4/2.5 MB 700.5 kB/s eta 0:00:02\n",
      "   ---------------------- ----------------- 1.5/2.5 MB 699.9 kB/s eta 0:00:02\n",
      "   ----------------------- ---------------- 1.5/2.5 MB 693.9 kB/s eta 0:00:02\n",
      "   ------------------------ --------------- 1.5/2.5 MB 702.5 kB/s eta 0:00:02\n",
      "   ------------------------ --------------- 1.6/2.5 MB 701.4 kB/s eta 0:00:02\n",
      "   ------------------------- -------------- 1.6/2.5 MB 700.4 kB/s eta 0:00:02\n",
      "   ------------------------- -------------- 1.6/2.5 MB 704.4 kB/s eta 0:00:02\n",
      "   -------------------------- ------------- 1.7/2.5 MB 698.6 kB/s eta 0:00:02\n",
      "   -------------------------- ------------- 1.7/2.5 MB 702.4 kB/s eta 0:00:02\n",
      "   --------------------------- ------------ 1.7/2.5 MB 705.6 kB/s eta 0:00:02\n",
      "   --------------------------- ------------ 1.8/2.5 MB 704.6 kB/s eta 0:00:02\n",
      "   ---------------------------- ----------- 1.8/2.5 MB 703.7 kB/s eta 0:00:02\n",
      "   ---------------------------- ----------- 1.8/2.5 MB 703.1 kB/s eta 0:00:02\n",
      "   ----------------------------- ---------- 1.9/2.5 MB 702.2 kB/s eta 0:00:01\n",
      "   ----------------------------- ---------- 1.9/2.5 MB 705.1 kB/s eta 0:00:01\n",
      "   ------------------------------ --------- 1.9/2.5 MB 703.9 kB/s eta 0:00:01\n",
      "   ------------------------------- -------- 2.0/2.5 MB 703.0 kB/s eta 0:00:01\n",
      "   ------------------------------- -------- 2.0/2.5 MB 706.1 kB/s eta 0:00:01\n",
      "   ------------------------------- -------- 2.0/2.5 MB 705.7 kB/s eta 0:00:01\n",
      "   -------------------------------- ------- 2.1/2.5 MB 704.4 kB/s eta 0:00:01\n",
      "   --------------------------------- ------ 2.1/2.5 MB 703.6 kB/s eta 0:00:01\n",
      "   --------------------------------- ------ 2.1/2.5 MB 706.2 kB/s eta 0:00:01\n",
      "   ---------------------------------- ----- 2.2/2.5 MB 709.1 kB/s eta 0:00:01\n",
      "   ---------------------------------- ----- 2.2/2.5 MB 708.3 kB/s eta 0:00:01\n",
      "   ----------------------------------- ---- 2.2/2.5 MB 707.4 kB/s eta 0:00:01\n",
      "   ----------------------------------- ---- 2.3/2.5 MB 706.6 kB/s eta 0:00:01\n",
      "   ------------------------------------ --- 2.3/2.5 MB 709.0 kB/s eta 0:00:01\n",
      "   ------------------------------------ --- 2.3/2.5 MB 708.3 kB/s eta 0:00:01\n",
      "   ------------------------------------- -- 2.4/2.5 MB 707.7 kB/s eta 0:00:01\n",
      "   ------------------------------------- -- 2.4/2.5 MB 706.9 kB/s eta 0:00:01\n",
      "   -------------------------------------- - 2.4/2.5 MB 706.2 kB/s eta 0:00:01\n",
      "   -------------------------------------- - 2.5/2.5 MB 708.4 kB/s eta 0:00:01\n",
      "   ---------------------------------------  2.5/2.5 MB 710.9 kB/s eta 0:00:01\n",
      "   ---------------------------------------  2.5/2.5 MB 710.2 kB/s eta 0:00:01\n",
      "   ---------------------------------------- 2.5/2.5 MB 707.6 kB/s eta 0:00:00\n",
      "Downloading pyparsing-3.1.2-py3-none-any.whl (103 kB)\n",
      "   ---------------------------------------- 0.0/103.2 kB ? eta -:--:--\n",
      "   ----------- ---------------------------- 30.7/103.2 kB 1.4 MB/s eta 0:00:01\n",
      "   ------------------------------- -------- 81.9/103.2 kB 1.5 MB/s eta 0:00:01\n",
      "   ---------------------------------------- 103.2/103.2 kB 1.0 MB/s eta 0:00:00\n",
      "Installing collected packages: pyparsing, pillow, kiwisolver, fonttools, cycler, contourpy, matplotlib\n",
      "Successfully installed contourpy-1.2.1 cycler-0.12.1 fonttools-4.51.0 kiwisolver-1.4.5 matplotlib-3.8.4 pillow-10.3.0 pyparsing-3.1.2\n"
     ]
    }
   ],
   "source": [
    "pip install matplotlib"
   ]
  },
  {
   "cell_type": "code",
   "execution_count": 45,
   "metadata": {},
   "outputs": [
    {
     "data": {
      "text/plain": [
       "<Axes: xlabel='a'>"
      ]
     },
     "execution_count": 45,
     "metadata": {},
     "output_type": "execute_result"
    },
    {
     "data": {
      "image/png": "[encoded data removed]",
      "text/plain": [
       "<Figure size 640x480 with 1 Axes>"
      ]
     },
     "metadata": {},
     "output_type": "display_data"
    }
   ],
   "source": [
    "df.plot(x='a', y='b')"
   ]
  },
  {
   "cell_type": "code",
   "execution_count": 52,
   "metadata": {},
   "outputs": [
    {
     "data": {
      "text/plain": [
       "<Axes: xlabel='a', ylabel='b'>"
      ]
     },
     "execution_count": 52,
     "metadata": {},
     "output_type": "execute_result"
    },
    {
     "data": {
      "image/png": "[encoded data removed]",
      "text/plain": [
       "<Figure size 640x480 with 1 Axes>"
      ]
     },
     "metadata": {},
     "output_type": "display_data"
    }
   ],
   "source": [
    "df.plot.scatter(x='a', y='b')"
   ]
  },
  {
   "cell_type": "code",
   "execution_count": 53,
   "metadata": {},
   "outputs": [
    {
     "data": {
      "text/plain": [
       "0    1\n",
       "1    2\n",
       "2    3\n",
       "3    4\n",
       "4    5\n",
       "5    6\n",
       "dtype: int64"
      ]
     },
     "execution_count": 53,
     "metadata": {},
     "output_type": "execute_result"
    }
   ],
   "source": [
    "data"
   ]
  },
  {
   "cell_type": "code",
   "execution_count": 54,
   "metadata": {},
   "outputs": [
    {
     "data": {
      "text/plain": [
       "<Axes: >"
      ]
     },
     "execution_count": 54,
     "metadata": {},
     "output_type": "execute_result"
    },
    {
     "data": {
      "image/png": "[encoded data removed]",
      "text/plain": [
       "<Figure size 640x480 with 1 Axes>"
      ]
     },
     "metadata": {},
     "output_type": "display_data"
    }
   ],
   "source": [
    "data.plot.pie()"
   ]
  },
  {
   "cell_type": "code",
   "execution_count": null,
   "metadata": {},
   "outputs": [],
   "source": []
  }
 ],
 "metadata": {
  "kernelspec": {
   "display_name": "Python 3",
   "language": "python",
   "name": "python3"
  },
  "language_info": {
   "codemirror_mode": {
    "name": "ipython",
    "version": 3
   },
   "file_extension": ".py",
   "mimetype": "text/x-python",
   "name": "python",
   "nbconvert_exporter": "python",
   "pygments_lexer": "ipython3",
   "version": "3.11.9"
  }
 },
 "nbformat": 4,
 "nbformat_minor": 2
}
