{
 "cells": [
  {
   "cell_type": "code",
   "execution_count": 1,
   "metadata": {},
   "outputs": [],
   "source": [
    "# a process is an instance of the computer program\n",
    "# executable program, data, execution context\n",
    "# processor parallely >> multiprocessing\n",
    "# multiple threads in processor/core >> multi threading\n",
    "# smallest unit of process is called thread\n",
    "# multithreading>> concurrently run not parallaly\n",
    "                   # GIL(globle interpreter lock)>> only 1 thread will run at a time"
   ]
  },
  {
   "cell_type": "code",
   "execution_count": 10,
   "metadata": {},
   "outputs": [
    {
     "name": "stdout",
     "output_type": "stream",
     "text": [
      "do something\n",
      "sleep for 1 sec\n",
      "done with sleeping\n",
      "do something\n",
      "sleep for 1 sec\n",
      "done with sleeping\n",
      "do something\n",
      "sleep for 1 sec\n",
      "done with sleeping\n",
      "do something\n",
      "sleep for 1 sec\n",
      "done with sleeping\n",
      "the program finished in 4.01 seconds\n"
     ]
    }
   ],
   "source": [
    "import time\n",
    "start=time.perf_counter()\n",
    "\n",
    "def test_func(): \n",
    "    print(\"do something\")\n",
    "    print(\"sleep for 1 sec\")           # this is sequentilly run\n",
    "    time.sleep(1)\n",
    "    print(\"done with sleeping\")\n",
    "\n",
    "test_func()\n",
    "test_func()\n",
    "test_func()\n",
    "test_func()\n",
    "\n",
    "end=time.perf_counter()\n",
    "\n",
    "print(f\"the program finished in {round(end-start, 2)} seconds\")"
   ]
  },
  {
   "cell_type": "code",
   "execution_count": 12,
   "metadata": {},
   "outputs": [
    {
     "name": "stdout",
     "output_type": "stream",
     "text": [
      "do something\n",
      "sleep for 1 sec\n",
      "do something\n",
      "sleep for 1 sec\n",
      "the program finished in 0.01 seconds\n"
     ]
    },
    {
     "name": "stdout",
     "output_type": "stream",
     "text": [
      "done with sleeping\n",
      "done with sleeping\n"
     ]
    }
   ],
   "source": [
    "import time\n",
    "import threading\n",
    "start=time.perf_counter()\n",
    "\n",
    "def test_func(): \n",
    "    print(\"do something\")\n",
    "    print(\"sleep for 1 sec\")\n",
    "    time.sleep(1)\n",
    "    print(\"done with sleeping\")\n",
    "\n",
    "t1=threading.Thread(target=test_func)\n",
    "t2=threading.Thread(target=test_func)\n",
    "\n",
    "\n",
    "t1.start()   # to start the thread\n",
    "t2.start()\n",
    "\n",
    "end=time.perf_counter()\n",
    "\n",
    "print(f\"the program finished in {round(end-start, 2)} seconds\")"
   ]
  },
  {
   "cell_type": "code",
   "execution_count": 3,
   "metadata": {},
   "outputs": [
    {
     "name": "stdout",
     "output_type": "stream",
     "text": [
      "do something\n",
      "sleep for 5 sec\n",
      "do something\n",
      "sleep for 5 sec\n",
      "done with sleeping\n",
      "done with sleeping\n",
      "the program finished in 5.01 seconds\n"
     ]
    }
   ],
   "source": [
    "import time\n",
    "import threading\n",
    "start=time.perf_counter()\n",
    "\n",
    "def test_func(): \n",
    "    print(\"do something\")\n",
    "    print(\"sleep for 5 sec\")\n",
    "    time.sleep(5)\n",
    "    print(\"done with sleeping\")\n",
    "\n",
    "t1=threading.Thread(target=test_func)\n",
    "t2=threading.Thread(target=test_func)\n",
    "'''\n",
    "Creating Threads:\n",
    "t1 and t2 are instances of the Thread class from the threading module.\n",
    "They are created with target=test_func, which means that when these threads are started, they will execute the test_func function.\n",
    "'''\n",
    "t1.start()   # to start the thread\n",
    "t2.start()\n",
    "'''\n",
    "Starting Threads:\n",
    "t1.start() and t2.start() are used to start the threads t1 and t2, respectively.\n",
    "This initiates the execution of the test_func function in separate threads, allowing them to run concurrently.\n",
    "\n",
    "'''\n",
    "t1.join()   # in order to first execute the threads and than the execution of the main program\n",
    "t2.join()\n",
    "\n",
    "'''\n",
    "Joining Threads:\n",
    "t1.join(): Waits for the first thread t1 to complete its execution before proceeding further.\n",
    "t2.join(): Waits for the second thread t2 to complete its execution before proceeding further.\n",
    "'''\n",
    "\n",
    "end=time.perf_counter()\n",
    "\n",
    "print(f\"the program finished in {round(end-start, 2)} seconds\")"
   ]
  },
  {
   "cell_type": "code",
   "execution_count": 2,
   "metadata": {},
   "outputs": [
    {
     "name": "stdout",
     "output_type": "stream",
     "text": [
      "do something\n",
      "sleep for 1 sec\n",
      "done with sleeping\n",
      "do something\n",
      "sleep for 1 sec\n",
      "done with sleeping\n",
      "do something\n",
      "sleep for 1 sec\n",
      "done with sleeping\n",
      "do something\n",
      "sleep for 1 sec\n",
      "done with sleeping\n",
      "do something\n",
      "sleep for 1 sec\n",
      "done with sleeping\n",
      "the program finished in 5.06 seconds\n"
     ]
    }
   ],
   "source": [
    "import time\n",
    "import threading\n",
    "start=time.perf_counter()\n",
    "\n",
    "def test_func(): \n",
    "    print(\"do something\")\n",
    "    print(\"sleep for 1 sec\")\n",
    "    time.sleep(1)\n",
    "    print(\"done with sleeping\")\n",
    "for i in range(5): \n",
    "    t=threading.Thread(target=test_func)     # this is not concurrently but this is sequently\n",
    "    t.start()\n",
    "    t.join()\n",
    "\n",
    "end=time.perf_counter()\n",
    "\n",
    "print(f\"the program finished in {round(end-start, 2)} seconds\")"
   ]
  },
  {
   "cell_type": "code",
   "execution_count": 7,
   "metadata": {},
   "outputs": [
    {
     "name": "stdout",
     "output_type": "stream",
     "text": [
      "do somethingdo something\n",
      "sleep for 1 sec\n",
      "\n",
      "sleep for 1 sec\n",
      "do something\n",
      "sleep for 1 sec\n",
      "do something\n",
      "sleep for 1 sec\n",
      "do something\n",
      "sleep for 1 sec\n",
      "do something\n",
      "sleep for 1 sec\n",
      "do something\n",
      "sleep for 1 sec\n",
      "do something\n",
      "sleep for 1 sec\n",
      "do something\n",
      "sleep for 1 sec\n",
      "do something\n",
      "sleep for 1 sec\n",
      "done with sleeping\n",
      "done with sleeping\n",
      "done with sleeping\n",
      "done with sleeping\n",
      "done with sleeping\n",
      "done with sleeping\n",
      "done with sleeping\n",
      "done with sleeping\n",
      "done with sleeping\n",
      "done with sleeping\n",
      "the program finished in 1.01 seconds\n"
     ]
    }
   ],
   "source": [
    "import time\n",
    "import threading\n",
    "start=time.perf_counter()\n",
    "\n",
    "def test_func(): \n",
    "    print(\"do something\")\n",
    "    print(\"sleep for 1 sec\")\n",
    "    time.sleep(1)\n",
    "    print(\"done with sleeping\")\n",
    "\n",
    "threads=[]\n",
    "for i in range(10): \n",
    "    t=threading.Thread(target=test_func)      # this is concurrently\n",
    "    t.start()\n",
    "    threads.append(t)\n",
    "\n",
    "for thread in threads: \n",
    "    thread.join()\n",
    "\n",
    "end=time.perf_counter()\n",
    "\n",
    "print(f\"the program finished in {round(end-start, 2)} seconds\")"
   ]
  },
  {
   "cell_type": "code",
   "execution_count": 5,
   "metadata": {},
   "outputs": [
    {
     "name": "stdout",
     "output_type": "stream",
     "text": [
      "do something\n",
      "sleep for 2 sec\n",
      "do something\n",
      "sleep for 2 sec\n",
      "do something\n",
      "sleep for 2 sec\n",
      "do something\n",
      "sleep for 2 sec\n",
      "do something\n",
      "sleep for 2 sec\n",
      "do something\n",
      "sleep for 2 sec\n",
      "do something\n",
      "sleep for 2 sec\n",
      "do something\n",
      "sleep for 2 sec\n",
      "do something\n",
      "sleep for 2 sec\n",
      "do something\n",
      "sleep for 2 sec\n",
      "done with sleepingdone with sleeping\n",
      "done with sleeping\n",
      "done with sleeping\n",
      "done with sleeping\n",
      "done with sleeping\n",
      "done with sleeping\n",
      "\n",
      "done with sleeping\n",
      "done with sleeping\n",
      "done with sleeping\n",
      "the program finished in 2.01 seconds\n"
     ]
    }
   ],
   "source": [
    "import time\n",
    "import threading\n",
    "start=time.perf_counter()\n",
    "\n",
    "def test_func(args): \n",
    "    print(\"do something\")\n",
    "    print(f\"sleep for {args} sec\")\n",
    "    time.sleep(args)\n",
    "    print(\"done with sleeping\")\n",
    "\n",
    "threads=[]\n",
    "for i in range(10): \n",
    "    t=threading.Thread(target=test_func, args=[2])      # this is concurrently\n",
    "    t.start()\n",
    "    threads.append(t)\n",
    "\n",
    "for thread in threads: \n",
    "    thread.join()\n",
    "\n",
    "end=time.perf_counter()\n",
    "\n",
    "print(f\"the program finished in {round(end-start, 2)} seconds\")"
   ]
  },
  {
   "cell_type": "code",
   "execution_count": 2,
   "metadata": {},
   "outputs": [
    {
     "name": "stdout",
     "output_type": "stream",
     "text": [
      "The program finished in 7.0 seconds.\n"
     ]
    }
   ],
   "source": [
    "#I/O bound task>> performance can be improved using multithreading >>reading writing files,network communication, database query \n",
    "# downoload file using multithreading\n",
    "import time\n",
    "import threading\n",
    "start = time.perf_counter()\n",
    "\n",
    "url_list = [\n",
    "    'https://raw.githubusercontent.com/dscape/spell/master/test/resources/big.txt',\n",
    "    'https://raw.githubusercontent.com/first20hours/google-10000-english/master/google-10000-english-no-swears.txt',\n",
    "    'https://raw.githubusercontent.com/itsfoss/text-files/master/sherlock.txt' ,\n",
    "    'https://raw.githubusercontent.com/itsfoss/text-files/master/sample_log_file.txt',\n",
    "]\n",
    "\n",
    "\n",
    "data_list = ['data1.txt', 'data2.txt', 'data3.txt', 'data4.txt']\n",
    "    \n",
    "import urllib.request   #import urllib.request: Imports the urllib.request module for handling URL requests.\n",
    "def file_download(url, filename):\n",
    "    urllib.request.urlretrieve(url, filename)\n",
    "#file_download is a function that downloads a file from a given URL and saves it with a specified filename using urllib.request.urlretrieve()\n",
    "\n",
    "threads=[]\n",
    "for i in range(len(url_list)):\n",
    "    t = threading.Thread(target = file_download, args = (url_list[i], data_list[i]))\n",
    "    t.start()\n",
    "    threads.append(t)\n",
    "    \n",
    "for thread in threads:\n",
    "    thread.join()\n",
    "    \n",
    "\n",
    "end = time.perf_counter()\n",
    "\n",
    "\n",
    "print(f\"The program finished in {round(end-start, 2)} seconds.\")"
   ]
  },
  {
   "cell_type": "code",
   "execution_count": 7,
   "metadata": {},
   "outputs": [
    {
     "name": "stdout",
     "output_type": "stream",
     "text": [
      "The program finished in 6.34 seconds.\n"
     ]
    }
   ],
   "source": [
    "#I/O bound task>> performance can be improved using multithreading >>reading writing files,network communication, database query \n",
    "\n",
    "import time\n",
    "import concurrent.futures  #Imports the concurrent.futures module, which provides a high-level interface for asynchronously executing callable objects (functions or methods) in threads or processes.\n",
    "start = time.perf_counter()\n",
    "\n",
    "url_list = [\n",
    "    'https://raw.githubusercontent.com/dscape/spell/master/test/resources/big.txt',\n",
    "    'https://raw.githubusercontent.com/first20hours/google-10000-english/master/google-10000-english-no-swears.txt',\n",
    "    'https://raw.githubusercontent.com/itsfoss/text-files/master/sherlock.txt' ,\n",
    "    'https://raw.githubusercontent.com/itsfoss/text-files/master/sample_log_file.txt',\n",
    "]\n",
    "\n",
    "\n",
    "data_list = ['data1.txt', 'data2.txt', 'data3.txt', 'data4.txt']\n",
    "    \n",
    "import urllib.request   #import urllib.request: Imports the urllib.request module for handling URL requests.\n",
    "def file_download(url, filename):\n",
    "    urllib.request.urlretrieve(url, filename)\n",
    "#file_download is a function that downloads a file from a given URL and saves it with a specified filename using urllib.request.urlretrieve()\n",
    "\n",
    "with concurrent.futures.ThreadPoolExecutor() as executor:\n",
    "    executor.map(file_download, url_list, data_list) \n",
    "    \n",
    "\n",
    "end = time.perf_counter()\n",
    "\n",
    "\n",
    "print(f\"The program finished in {round(end-start, 2)} seconds.\")"
   ]
  },
  {
   "cell_type": "code",
   "execution_count": 10,
   "metadata": {},
   "outputs": [
    {
     "name": "stdout",
     "output_type": "stream",
     "text": [
      "Thread 1: incremented shared counter to 1\n",
      "Thread 2: incremented shared counter to 2\n",
      "Thread 3: incremented shared counter to 3\n",
      "Thread 4: incremented shared counter to 4\n",
      "Thread 5: incremented shared counter to 5\n",
      "Thread 6: incremented shared counter to 6\n",
      "The program finished in 6.03 seconds.\n"
     ]
    }
   ],
   "source": [
    "# shared variable across all the threads\n",
    "\n",
    "start = time.perf_counter()\n",
    "\n",
    "shared_counter=0\n",
    "counter_lock=threading.Lock()\n",
    "\n",
    "def increment_shared_counter(x): \n",
    "    global shared_counter\n",
    "    with counter_lock: \n",
    "        shared_counter+=1\n",
    "        print(f\"Thread {x}: incremented shared counter to {shared_counter}\")\n",
    "        time.sleep(1)\n",
    "\n",
    "threads=[threading.Thread(target=increment_shared_counter, args=(i,)) for i in [1,2,3,4,5,6]]\n",
    "\n",
    "\n",
    "for thread in threads: \n",
    "    thread.start()\n",
    "\n",
    "for thread in threads: \n",
    "    thread.join()\n",
    "\n",
    "end = time.perf_counter()\n",
    "\n",
    "\n",
    "print(f\"The program finished in {round(end-start, 2)} seconds.\")"
   ]
  },
  {
   "cell_type": "code",
   "execution_count": 12,
   "metadata": {},
   "outputs": [
    {
     "name": "stdout",
     "output_type": "stream",
     "text": [
      "Thread 1: incremented shared counter to 1\n",
      "Thread 2: incremented shared counter to 2\n",
      "Thread 3: incremented shared counter to 3\n",
      "Thread 4: incremented shared counter to 4\n",
      "Thread 5: incremented shared counter to 5\n",
      "Thread 6: incremented shared counter to 6\n",
      "The program finished in 6.05 seconds.\n"
     ]
    }
   ],
   "source": [
    "start = time.perf_counter()\n",
    "\n",
    "shared_counter=0\n",
    "counter_lock=threading.Lock()  \n",
    "#counter_lock: This is an instance of threading.Lock(), which is used to create a lock object for synchronizing access to the shared counter.\n",
    "#This ensures that only one thread can modify the shared counter at a time.\n",
    "def increment_shared_counter(x): \n",
    "    global shared_counter\n",
    "    with counter_lock: \n",
    "        shared_counter+=1\n",
    "        print(f\"Thread {x}: incremented shared counter to {shared_counter}\")\n",
    "        time.sleep(1)\n",
    "\n",
    "with concurrent.futures.ThreadPoolExecutor() as executor:\n",
    "    thread_args=[1,2,3,4,5,6]\n",
    "    executor.map(increment_shared_counter, thread_args) \n",
    "\n",
    "end = time.perf_counter()\n",
    "\n",
    "\n",
    "print(f\"The program finished in {round(end-start, 2)} seconds.\")"
   ]
  },
  {
   "cell_type": "code",
   "execution_count": null,
   "metadata": {},
   "outputs": [],
   "source": []
  }
 ],
 "metadata": {
  "kernelspec": {
   "display_name": "Python 3",
   "language": "python",
   "name": "python3"
  },
  "language_info": {
   "codemirror_mode": {
    "name": "ipython",
    "version": 3
   },
   "file_extension": ".py",
   "mimetype": "text/x-python",
   "name": "python",
   "nbconvert_exporter": "python",
   "pygments_lexer": "ipython3",
   "version": "3.12.0"
  }
 },
 "nbformat": 4,
 "nbformat_minor": 2
}
