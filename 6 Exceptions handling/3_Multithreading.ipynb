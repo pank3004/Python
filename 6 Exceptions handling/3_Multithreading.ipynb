{
 "cells": [
  {
   "cell_type": "code",
   "execution_count": null,
   "metadata": {},
   "outputs": [],
   "source": [
    "# a process is an instance of the computer program\n",
    "# executable program, data, execution context\n",
    "# 4 processor"
   ]
  }
 ],
 "metadata": {
  "language_info": {
   "name": "python"
  }
 },
 "nbformat": 4,
 "nbformat_minor": 2
}
