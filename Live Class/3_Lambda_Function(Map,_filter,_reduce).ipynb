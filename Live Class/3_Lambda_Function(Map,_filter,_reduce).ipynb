{
  "nbformat": 4,
  "nbformat_minor": 0,
  "metadata": {
    "colab": {
      "provenance": []
    },
    "kernelspec": {
      "name": "python3",
      "display_name": "Python 3"
    },
    "language_info": {
      "name": "python"
    }
  },
  "cells": [
    {
      "cell_type": "markdown",
      "source": [
        "### Lambda Function\n",
        "\n",
        "A lambda function in Python is a small anonymous function defined using the lambda keyword. It's typically used for simple operations and is a way to create functions without a formal def declaration. Lambda functions are often used in scenarios where a short function is needed for a specific operation, especially in functional programming contexts or when a function is required as an argument to another function (map(), filter(), sorted(), etc.). However, they are typically not used for complex or lengthy operations, as their readability might decrease for such cases.\n",
        "\n",
        "#### Lambda Function syntax:\n",
        "\n",
        "    lambda arguments: expression\n",
        "    \n",
        "    \n",
        "    lambda: Keyword used to indicate the start of a lambda function.\n",
        "    arguments: Input parameters (arguments) that the lambda function can take. It can have zero or more arguments separated by commas, but it's typically used for simple functions with one or a few arguments.\n",
        "    expression: The operation or computation to be performed using the arguments. This expression is evaluated and returned as the result of the lambda function.\n"
      ],
      "metadata": {
        "id": "x3aRqquk4ubp"
      }
    },
    {
      "cell_type": "code",
      "execution_count": null,
      "metadata": {
        "colab": {
          "base_uri": "https://localhost:8080/"
        },
        "id": "Iw3svCqUviQ8",
        "outputId": "ebeabcc7-eb20-440d-dc5d-9f226f14460c"
      },
      "outputs": [
        {
          "output_type": "execute_result",
          "data": {
            "text/plain": [
              "8"
            ]
          },
          "metadata": {},
          "execution_count": 1
        }
      ],
      "source": [
        "def sum1(a,b):\n",
        "    return a+b\n",
        "\n",
        "sum1(3,5)"
      ]
    },
    {
      "cell_type": "code",
      "source": [
        "add = lambda a,b : a + b\n",
        "add(2,3)"
      ],
      "metadata": {
        "colab": {
          "base_uri": "https://localhost:8080/"
        },
        "id": "kncqZwKP5lva",
        "outputId": "a3eeacf2-b975-456e-b0c1-6e74cc14cbde"
      },
      "execution_count": null,
      "outputs": [
        {
          "output_type": "execute_result",
          "data": {
            "text/plain": [
              "5"
            ]
          },
          "metadata": {},
          "execution_count": 2
        }
      ]
    },
    {
      "cell_type": "code",
      "source": [
        "add(5,8)"
      ],
      "metadata": {
        "colab": {
          "base_uri": "https://localhost:8080/"
        },
        "id": "yWj0OYZA5twM",
        "outputId": "bb52d143-8146-49dd-90e7-39d5e8769040"
      },
      "execution_count": null,
      "outputs": [
        {
          "output_type": "execute_result",
          "data": {
            "text/plain": [
              "13"
            ]
          },
          "metadata": {},
          "execution_count": 4
        }
      ]
    },
    {
      "cell_type": "code",
      "source": [
        "l = lambda x: x *2\n",
        "\n",
        "def func(n):\n",
        "  result = l(n)\n",
        "  return result\n",
        "\n",
        "func(5)"
      ],
      "metadata": {
        "colab": {
          "base_uri": "https://localhost:8080/"
        },
        "id": "Bhnu-h2U5u1n",
        "outputId": "0ff5f2ea-1e9a-49b8-ce2b-3d86ad6c4474"
      },
      "execution_count": null,
      "outputs": [
        {
          "output_type": "execute_result",
          "data": {
            "text/plain": [
              "10"
            ]
          },
          "metadata": {},
          "execution_count": 8
        }
      ]
    },
    {
      "cell_type": "code",
      "source": [
        "def fun(x,y):\n",
        "    if(x>y):\n",
        "        return x\n",
        "    else:\n",
        "        return y\n",
        "print(fun(3,4))"
      ],
      "metadata": {
        "colab": {
          "base_uri": "https://localhost:8080/"
        },
        "id": "8diBGw7N6Sw3",
        "outputId": "b294118d-e8b9-44e7-e625-dd92948c4790"
      },
      "execution_count": null,
      "outputs": [
        {
          "output_type": "stream",
          "name": "stdout",
          "text": [
            "4\n"
          ]
        }
      ]
    },
    {
      "cell_type": "code",
      "source": [
        "f = lambda x,y : x if x > y else y\n",
        "f(3,4)"
      ],
      "metadata": {
        "colab": {
          "base_uri": "https://localhost:8080/"
        },
        "id": "8c2rTnPF6zrd",
        "outputId": "00469a76-19fa-47b4-f688-258fe5862fa1"
      },
      "execution_count": null,
      "outputs": [
        {
          "output_type": "execute_result",
          "data": {
            "text/plain": [
              "4"
            ]
          },
          "metadata": {},
          "execution_count": 10
        }
      ]
    },
    {
      "cell_type": "code",
      "source": [
        "# consider a function\n",
        "def travel_or_not(BIKE=True, CAR=False):\n",
        "    TRAVEL_100_KM = BIKE or CAR\n",
        "\n",
        "    print(f\"You have BIKE: {BIKE}\")\n",
        "    print(f\"You have CAR: {CAR}\")\n",
        "    return f\"You can travel 100 KMs: {TRAVEL_100_KM}\\n\"\n",
        "\n",
        "\n",
        "result = travel_or_not(False, True)\n",
        "print(f\"\\nresults:-\\n{result}\")"
      ],
      "metadata": {
        "colab": {
          "base_uri": "https://localhost:8080/"
        },
        "id": "hSLEqth97ADU",
        "outputId": "ed67e36a-9c32-4e9a-f4dd-f55722ab66a5"
      },
      "execution_count": null,
      "outputs": [
        {
          "output_type": "stream",
          "name": "stdout",
          "text": [
            "You have BIKE: False\n",
            "You have CAR: True\n",
            "\n",
            "results:-\n",
            "You can travel 100 KMs: True\n",
            "\n"
          ]
        }
      ]
    },
    {
      "cell_type": "code",
      "source": [
        "r = lambda bike, car : f\"You can travel 100 KMs: {bike or car}\\n\"\n",
        "r(True,False)"
      ],
      "metadata": {
        "colab": {
          "base_uri": "https://localhost:8080/",
          "height": 35
        },
        "id": "Ds9DAaLR7I2_",
        "outputId": "a74b44fb-7606-45a4-826b-a3af53398985"
      },
      "execution_count": null,
      "outputs": [
        {
          "output_type": "execute_result",
          "data": {
            "text/plain": [
              "'You can travel 100 KMs: True\\n'"
            ],
            "application/vnd.google.colaboratory.intrinsic+json": {
              "type": "string"
            }
          },
          "metadata": {},
          "execution_count": 12
        }
      ]
    },
    {
      "cell_type": "code",
      "source": [
        "def power(base, power):\n",
        "  return base ** power"
      ],
      "metadata": {
        "id": "E1aWArfB7ni3"
      },
      "execution_count": null,
      "outputs": []
    },
    {
      "cell_type": "code",
      "source": [
        "power(2,8)"
      ],
      "metadata": {
        "colab": {
          "base_uri": "https://localhost:8080/"
        },
        "id": "pLHP2gYb7xsU",
        "outputId": "3cf379f8-0bc5-4461-e9a8-dab009aef60b"
      },
      "execution_count": null,
      "outputs": [
        {
          "output_type": "execute_result",
          "data": {
            "text/plain": [
              "256"
            ]
          },
          "metadata": {},
          "execution_count": 14
        }
      ]
    },
    {
      "cell_type": "code",
      "source": [
        "pow = lambda x, y: x ** y\n",
        "pow(2,6)"
      ],
      "metadata": {
        "colab": {
          "base_uri": "https://localhost:8080/"
        },
        "id": "qqDIOwWo7y-J",
        "outputId": "f7c8dd46-42ac-433d-b49d-503b90986225"
      },
      "execution_count": null,
      "outputs": [
        {
          "output_type": "execute_result",
          "data": {
            "text/plain": [
              "64"
            ]
          },
          "metadata": {},
          "execution_count": 15
        }
      ]
    },
    {
      "cell_type": "markdown",
      "source": [
        "1. Take the input the user input find it is even or odd number?¶"
      ],
      "metadata": {
        "id": "9m5ZfiU_8Itu"
      }
    },
    {
      "cell_type": "code",
      "source": [
        "n = lambda x: \"even\" if x%2==0 else \"odd\"\n",
        "n(2)"
      ],
      "metadata": {
        "colab": {
          "base_uri": "https://localhost:8080/",
          "height": 35
        },
        "id": "h8PuVSXK7_gO",
        "outputId": "e91d4450-6012-414a-bb68-dee7827c8458"
      },
      "execution_count": null,
      "outputs": [
        {
          "output_type": "execute_result",
          "data": {
            "text/plain": [
              "'even'"
            ],
            "application/vnd.google.colaboratory.intrinsic+json": {
              "type": "string"
            }
          },
          "metadata": {},
          "execution_count": 17
        }
      ]
    },
    {
      "cell_type": "markdown",
      "source": [
        "2. Take a integer input from the user write a lambda function to add 5 and print it back?"
      ],
      "metadata": {
        "id": "llErDKsb8NzA"
      }
    },
    {
      "cell_type": "code",
      "source": [
        "add5 = lambda x: x + 5\n",
        "print(add5(int(input())))"
      ],
      "metadata": {
        "colab": {
          "base_uri": "https://localhost:8080/"
        },
        "id": "Pr1pzPRN8OdZ",
        "outputId": "03a338de-96fb-482a-d8c3-775518ea05a7"
      },
      "execution_count": null,
      "outputs": [
        {
          "output_type": "stream",
          "name": "stdout",
          "text": [
            "10\n",
            "15\n"
          ]
        }
      ]
    },
    {
      "cell_type": "markdown",
      "source": [
        "3. Write a lambda function to extract the last character of a string."
      ],
      "metadata": {
        "id": "_K2Uo67i8dN8"
      }
    },
    {
      "cell_type": "code",
      "source": [
        "last_character = lambda s: s[-1]\n",
        "print(last_character(\"hello\"))"
      ],
      "metadata": {
        "colab": {
          "base_uri": "https://localhost:8080/"
        },
        "id": "fPUzrH1X8d3m",
        "outputId": "160947f6-74ed-4197-d38a-a3645e5d7a82"
      },
      "execution_count": null,
      "outputs": [
        {
          "output_type": "stream",
          "name": "stdout",
          "text": [
            "o\n"
          ]
        }
      ]
    },
    {
      "cell_type": "markdown",
      "source": [
        "4. Write a lambda function to calculate the average of three numbers."
      ],
      "metadata": {
        "id": "eOT3OQfL8i0E"
      }
    },
    {
      "cell_type": "code",
      "source": [
        "average = lambda a, b, c: (a + b + c) / 3\n",
        "print(average(4, 5, 6))"
      ],
      "metadata": {
        "colab": {
          "base_uri": "https://localhost:8080/"
        },
        "id": "GuOAH-hj8juq",
        "outputId": "542a2b03-4ebd-4020-ff7e-da1bb9777bdf"
      },
      "execution_count": null,
      "outputs": [
        {
          "output_type": "stream",
          "name": "stdout",
          "text": [
            "5.0\n"
          ]
        }
      ]
    },
    {
      "cell_type": "markdown",
      "source": [
        "5. Write a lambda function to reverse a string."
      ],
      "metadata": {
        "id": "gXwfmU6D8sTl"
      }
    },
    {
      "cell_type": "code",
      "source": [
        "reverse_string = lambda s: s[::-1]\n",
        "print(reverse_string(\"hello\"))\n",
        "reverse_string('Wonderful')"
      ],
      "metadata": {
        "colab": {
          "base_uri": "https://localhost:8080/",
          "height": 52
        },
        "id": "eXAXllsI8so8",
        "outputId": "51e97468-fb25-4af9-f72b-32f5fb522946"
      },
      "execution_count": null,
      "outputs": [
        {
          "output_type": "stream",
          "name": "stdout",
          "text": [
            "olleh\n"
          ]
        },
        {
          "output_type": "execute_result",
          "data": {
            "text/plain": [
              "'lufrednoW'"
            ],
            "application/vnd.google.colaboratory.intrinsic+json": {
              "type": "string"
            }
          },
          "metadata": {},
          "execution_count": 22
        }
      ]
    },
    {
      "cell_type": "markdown",
      "source": [
        "6. Write a lambda function to calculate the perimeter of a rectangle given its length and width."
      ],
      "metadata": {
        "id": "DpR0r3eR9TDR"
      }
    },
    {
      "cell_type": "code",
      "source": [],
      "metadata": {
        "id": "G26lj4Fh9Kgg"
      },
      "execution_count": null,
      "outputs": []
    },
    {
      "cell_type": "markdown",
      "source": [
        " Python function to remove all vowels from a string using various approaches."
      ],
      "metadata": {
        "id": "64t_P1HW9iar"
      }
    },
    {
      "cell_type": "code",
      "source": [
        "def remove_vowels(s):\n",
        "    \"\"\"\n",
        "    Remove all vowels from a string.\n",
        "\n",
        "    Parameters:\n",
        "    s (str): The input string from which vowels will be removed.\n",
        "\n",
        "    Returns:\n",
        "    str: The input string with all vowels removed.\n",
        "    \"\"\"\n",
        "    vowels = 'aeiouAEIOU'  # Define a string containing all vowels (both lowercase and uppercase)\n",
        "    return ''.join(char for char in s if char not in vowels)\n",
        "\n",
        "# Test the function\n",
        "input_string = \"Hello, World!\"\n",
        "result = remove_vowels(input_string)\n",
        "print(\"Original string:\", input_string)\n",
        "print(\"String with vowels removed:\", result)\n"
      ],
      "metadata": {
        "colab": {
          "base_uri": "https://localhost:8080/"
        },
        "id": "vvEaXTg49ea4",
        "outputId": "07a20ee3-edf5-49e4-ec4c-821d7a7e17bc"
      },
      "execution_count": null,
      "outputs": [
        {
          "output_type": "stream",
          "name": "stdout",
          "text": [
            "Original string: Hello, World!\n",
            "String with vowels removed: Hll, Wrld!\n"
          ]
        }
      ]
    },
    {
      "cell_type": "code",
      "source": [
        "s = 'Wonderful'\n",
        "v = 'aeiou'\n",
        "\n",
        "for i in s:\n",
        "  if i not in v:\n",
        "    print(i)"
      ],
      "metadata": {
        "colab": {
          "base_uri": "https://localhost:8080/"
        },
        "id": "tBfOgaOv92HB",
        "outputId": "168f2c32-40b0-4be7-aa2b-4aca2c90c744"
      },
      "execution_count": null,
      "outputs": [
        {
          "output_type": "stream",
          "name": "stdout",
          "text": [
            "W\n",
            "n\n",
            "d\n",
            "r\n",
            "f\n",
            "l\n"
          ]
        }
      ]
    },
    {
      "cell_type": "code",
      "source": [
        "remove_vowel = lambda s: ''.join(i for i in s if i.lower() not in 'aeiou')\n",
        "remove_vowel(\"Hello, Everyone\")"
      ],
      "metadata": {
        "colab": {
          "base_uri": "https://localhost:8080/",
          "height": 35
        },
        "id": "w9zRKSHA-lND",
        "outputId": "32228fac-901f-4c6a-f414-00a630c02f3c"
      },
      "execution_count": null,
      "outputs": [
        {
          "output_type": "execute_result",
          "data": {
            "text/plain": [
              "'Hll, vryn'"
            ],
            "application/vnd.google.colaboratory.intrinsic+json": {
              "type": "string"
            }
          },
          "metadata": {},
          "execution_count": 25
        }
      ]
    },
    {
      "cell_type": "markdown",
      "source": [
        "map, filter, and reduce are built-in functions in Python that are commonly used for processing iterables (such as lists, tuples, or strings) in a concise and functional manner."
      ],
      "metadata": {
        "id": "D-atC7gwDPUu"
      }
    },
    {
      "cell_type": "markdown",
      "source": [
        "## Map function\n",
        "\n",
        "The map() function in Python is used to apply a specified function to each item in an iterable (like a list) and returns an iterator that yields the results. It's a way to efficiently perform operations on all elements of a sequence without using explicit loops.\n",
        "\n",
        "### Map function syntax\n",
        "\n",
        "    map(function, iterable)\n",
        "\n",
        "    function: A function that will be applied to each item of the iterable.\n",
        "    iterable: An iterable (e.g., list, tuple, etc.) whose elements will be passed to the function one by one.\n",
        "    \n",
        "The map() function is useful when you want to transform each element of an iterable using a specific function. It's often used in combination with lambda functions to perform quick operations on elements without writing explicit loops."
      ],
      "metadata": {
        "id": "sESWIM0__JIt"
      }
    },
    {
      "cell_type": "code",
      "source": [
        "def square(x):\n",
        "    return x * x\n",
        "\n",
        "square(6)"
      ],
      "metadata": {
        "colab": {
          "base_uri": "https://localhost:8080/"
        },
        "id": "GjHmKV2_B2IV",
        "outputId": "63aff39a-6956-4599-b004-7101aae98888"
      },
      "execution_count": null,
      "outputs": [
        {
          "output_type": "execute_result",
          "data": {
            "text/plain": [
              "36"
            ]
          },
          "metadata": {},
          "execution_count": 26
        }
      ]
    },
    {
      "cell_type": "code",
      "source": [
        "l = [8,2,4,7,11]\n",
        "square(l)"
      ],
      "metadata": {
        "colab": {
          "base_uri": "https://localhost:8080/",
          "height": 263
        },
        "id": "gLMs6hqyB4aj",
        "outputId": "93d27753-2534-4bdf-f51c-2a09d882e2f9"
      },
      "execution_count": null,
      "outputs": [
        {
          "output_type": "error",
          "ename": "TypeError",
          "evalue": "can't multiply sequence by non-int of type 'list'",
          "traceback": [
            "\u001b[0;31m---------------------------------------------------------------------------\u001b[0m",
            "\u001b[0;31mTypeError\u001b[0m                                 Traceback (most recent call last)",
            "\u001b[0;32m<ipython-input-27-83f73c891e80>\u001b[0m in \u001b[0;36m<cell line: 2>\u001b[0;34m()\u001b[0m\n\u001b[1;32m      1\u001b[0m \u001b[0ml\u001b[0m \u001b[0;34m=\u001b[0m \u001b[0;34m[\u001b[0m\u001b[0;36m8\u001b[0m\u001b[0;34m,\u001b[0m\u001b[0;36m2\u001b[0m\u001b[0;34m,\u001b[0m\u001b[0;36m4\u001b[0m\u001b[0;34m,\u001b[0m\u001b[0;36m7\u001b[0m\u001b[0;34m,\u001b[0m\u001b[0;36m11\u001b[0m\u001b[0;34m]\u001b[0m\u001b[0;34m\u001b[0m\u001b[0;34m\u001b[0m\u001b[0m\n\u001b[0;32m----> 2\u001b[0;31m \u001b[0msquare\u001b[0m\u001b[0;34m(\u001b[0m\u001b[0ml\u001b[0m\u001b[0;34m)\u001b[0m\u001b[0;34m\u001b[0m\u001b[0;34m\u001b[0m\u001b[0m\n\u001b[0m",
            "\u001b[0;32m<ipython-input-26-aae8f32b9316>\u001b[0m in \u001b[0;36msquare\u001b[0;34m(x)\u001b[0m\n\u001b[1;32m      1\u001b[0m \u001b[0;32mdef\u001b[0m \u001b[0msquare\u001b[0m\u001b[0;34m(\u001b[0m\u001b[0mx\u001b[0m\u001b[0;34m)\u001b[0m\u001b[0;34m:\u001b[0m\u001b[0;34m\u001b[0m\u001b[0;34m\u001b[0m\u001b[0m\n\u001b[0;32m----> 2\u001b[0;31m     \u001b[0;32mreturn\u001b[0m \u001b[0mx\u001b[0m \u001b[0;34m*\u001b[0m \u001b[0mx\u001b[0m\u001b[0;34m\u001b[0m\u001b[0;34m\u001b[0m\u001b[0m\n\u001b[0m\u001b[1;32m      3\u001b[0m \u001b[0;34m\u001b[0m\u001b[0m\n\u001b[1;32m      4\u001b[0m \u001b[0msquare\u001b[0m\u001b[0;34m(\u001b[0m\u001b[0;36m6\u001b[0m\u001b[0;34m)\u001b[0m\u001b[0;34m\u001b[0m\u001b[0;34m\u001b[0m\u001b[0m\n",
            "\u001b[0;31mTypeError\u001b[0m: can't multiply sequence by non-int of type 'list'"
          ]
        }
      ]
    },
    {
      "cell_type": "code",
      "source": [
        "r = []\n",
        "for i in l:\n",
        "  r.append(square(i))\n",
        "r"
      ],
      "metadata": {
        "colab": {
          "base_uri": "https://localhost:8080/"
        },
        "id": "AkVhwITbCBhj",
        "outputId": "600f1993-08b3-417b-b33d-2440897e7dde"
      },
      "execution_count": null,
      "outputs": [
        {
          "output_type": "execute_result",
          "data": {
            "text/plain": [
              "[64, 4, 16, 49, 121]"
            ]
          },
          "metadata": {},
          "execution_count": 29
        }
      ]
    },
    {
      "cell_type": "code",
      "source": [
        "r = tuple(map(square, l))\n",
        "r"
      ],
      "metadata": {
        "colab": {
          "base_uri": "https://localhost:8080/"
        },
        "id": "_HP6weZgCGTU",
        "outputId": "2b757811-39f7-4d4a-8e6f-33f0dd0ee885"
      },
      "execution_count": null,
      "outputs": [
        {
          "output_type": "execute_result",
          "data": {
            "text/plain": [
              "(64, 4, 16, 49, 121)"
            ]
          },
          "metadata": {},
          "execution_count": 32
        }
      ]
    },
    {
      "cell_type": "code",
      "source": [
        "list(map(str, l))"
      ],
      "metadata": {
        "colab": {
          "base_uri": "https://localhost:8080/"
        },
        "id": "AMQv3IFRCaL7",
        "outputId": "5b374e85-05d0-461e-837c-a78404cbeb74"
      },
      "execution_count": null,
      "outputs": [
        {
          "output_type": "execute_result",
          "data": {
            "text/plain": [
              "['8', '2', '4', '7', '11']"
            ]
          },
          "metadata": {},
          "execution_count": 33
        }
      ]
    },
    {
      "cell_type": "code",
      "source": [
        "words = ['apple', 'banana', 'orange', 'kiwi']\n",
        "len(words)"
      ],
      "metadata": {
        "colab": {
          "base_uri": "https://localhost:8080/"
        },
        "id": "pM7tQmDUCtdG",
        "outputId": "81df18b7-9316-41e4-e427-4616c62285a9"
      },
      "execution_count": null,
      "outputs": [
        {
          "output_type": "execute_result",
          "data": {
            "text/plain": [
              "4"
            ]
          },
          "metadata": {},
          "execution_count": 34
        }
      ]
    },
    {
      "cell_type": "code",
      "source": [
        "list(map(len, words))"
      ],
      "metadata": {
        "colab": {
          "base_uri": "https://localhost:8080/"
        },
        "id": "j5CVD0paC2q1",
        "outputId": "e08030ac-0809-4443-a66b-0bcf4670a0af"
      },
      "execution_count": null,
      "outputs": [
        {
          "output_type": "execute_result",
          "data": {
            "text/plain": [
              "[5, 6, 6, 4]"
            ]
          },
          "metadata": {},
          "execution_count": 35
        }
      ]
    },
    {
      "cell_type": "code",
      "source": [
        "l"
      ],
      "metadata": {
        "colab": {
          "base_uri": "https://localhost:8080/"
        },
        "id": "Hm2RyPeRDGUx",
        "outputId": "ee9fa6b2-5567-4763-a65e-9ef55b6dcc4e"
      },
      "execution_count": null,
      "outputs": [
        {
          "output_type": "execute_result",
          "data": {
            "text/plain": [
              "[8, 2, 4, 7, 11]"
            ]
          },
          "metadata": {},
          "execution_count": 36
        }
      ]
    },
    {
      "cell_type": "code",
      "source": [
        "list(map(lambda x: x >10, l))"
      ],
      "metadata": {
        "colab": {
          "base_uri": "https://localhost:8080/"
        },
        "id": "cWhTaDwIDVFN",
        "outputId": "07c72df8-f715-4fcd-c455-d3b34ec04afd"
      },
      "execution_count": null,
      "outputs": [
        {
          "output_type": "execute_result",
          "data": {
            "text/plain": [
              "[False, False, False, False, True]"
            ]
          },
          "metadata": {},
          "execution_count": 37
        }
      ]
    },
    {
      "cell_type": "code",
      "source": [
        "numbers=[1,2,3,4,5,6,7,8,9,10,14]\n",
        "\n",
        "for i in numbers:\n",
        "  if i % 3 == 0:\n",
        "    print(True)\n",
        "  else:\n",
        "    print(False)"
      ],
      "metadata": {
        "colab": {
          "base_uri": "https://localhost:8080/"
        },
        "id": "yoJ0qlq6DfVt",
        "outputId": "391e3223-37b1-4917-b542-8d54b4279752"
      },
      "execution_count": null,
      "outputs": [
        {
          "output_type": "stream",
          "name": "stdout",
          "text": [
            "False\n",
            "False\n",
            "True\n",
            "False\n",
            "False\n",
            "True\n",
            "False\n",
            "False\n",
            "True\n",
            "False\n",
            "False\n"
          ]
        }
      ]
    },
    {
      "cell_type": "code",
      "source": [
        "list(map(lambda x: x %3 == 0, numbers))"
      ],
      "metadata": {
        "colab": {
          "base_uri": "https://localhost:8080/"
        },
        "id": "FKOZPQgMDzqe",
        "outputId": "19834ba5-d5bb-4cff-8615-0d1a9cd6c4d3"
      },
      "execution_count": null,
      "outputs": [
        {
          "output_type": "execute_result",
          "data": {
            "text/plain": [
              "[False, False, True, False, False, True, False, False, True, False, False]"
            ]
          },
          "metadata": {},
          "execution_count": 39
        }
      ]
    },
    {
      "cell_type": "markdown",
      "source": [
        "#### 1.Program to triple each number of the list using map  "
      ],
      "metadata": {
        "id": "V81bBboZEB-u"
      }
    },
    {
      "cell_type": "code",
      "source": [
        "numbers * 3"
      ],
      "metadata": {
        "colab": {
          "base_uri": "https://localhost:8080/"
        },
        "id": "tOYqX-uUD-jy",
        "outputId": "a9f93787-242d-4d47-e616-52fc70cc45b5"
      },
      "execution_count": null,
      "outputs": [
        {
          "output_type": "execute_result",
          "data": {
            "text/plain": [
              "[1,\n",
              " 2,\n",
              " 3,\n",
              " 4,\n",
              " 5,\n",
              " 6,\n",
              " 7,\n",
              " 8,\n",
              " 9,\n",
              " 10,\n",
              " 14,\n",
              " 1,\n",
              " 2,\n",
              " 3,\n",
              " 4,\n",
              " 5,\n",
              " 6,\n",
              " 7,\n",
              " 8,\n",
              " 9,\n",
              " 10,\n",
              " 14,\n",
              " 1,\n",
              " 2,\n",
              " 3,\n",
              " 4,\n",
              " 5,\n",
              " 6,\n",
              " 7,\n",
              " 8,\n",
              " 9,\n",
              " 10,\n",
              " 14]"
            ]
          },
          "metadata": {},
          "execution_count": 40
        }
      ]
    },
    {
      "cell_type": "code",
      "source": [
        "list(map(lambda x : x *3, numbers))"
      ],
      "metadata": {
        "colab": {
          "base_uri": "https://localhost:8080/"
        },
        "id": "9hEgD4A6EGqU",
        "outputId": "262c88f0-b94e-4006-a29d-04732b77915f"
      },
      "execution_count": null,
      "outputs": [
        {
          "output_type": "execute_result",
          "data": {
            "text/plain": [
              "[3, 6, 9, 12, 15, 18, 21, 24, 27, 30, 42]"
            ]
          },
          "metadata": {},
          "execution_count": 41
        }
      ]
    },
    {
      "cell_type": "markdown",
      "source": [
        "#### 2.Create lambda function calculate the remainder after dividing each number by 2?"
      ],
      "metadata": {
        "id": "mmKw89GBESfT"
      }
    },
    {
      "cell_type": "code",
      "source": [
        "list(map(lambda x :  x % 2, numbers))"
      ],
      "metadata": {
        "colab": {
          "base_uri": "https://localhost:8080/"
        },
        "id": "5sT6th7jEPB0",
        "outputId": "6c2ded6a-a9ba-4e9b-f0cb-5c1e4075dcc3"
      },
      "execution_count": null,
      "outputs": [
        {
          "output_type": "execute_result",
          "data": {
            "text/plain": [
              "[1, 0, 1, 0, 1, 0, 1, 0, 1, 0, 0]"
            ]
          },
          "metadata": {},
          "execution_count": 42
        }
      ]
    },
    {
      "cell_type": "markdown",
      "source": [
        "    list1 = [1, 2, 3, 4, 5]\n",
        "    list2 = [10, 20, 30, 40, 50]"
      ],
      "metadata": {
        "id": "SV-Qt1TlEgMc"
      }
    },
    {
      "cell_type": "code",
      "source": [
        "list1 = [1, 2, 3, 4, 5]\n",
        "list2 = [10, 20, 30, 40, 50]"
      ],
      "metadata": {
        "id": "JFKAddVwE02m"
      },
      "execution_count": null,
      "outputs": []
    },
    {
      "cell_type": "code",
      "source": [
        "list(map(lambda x, y:  x + y, list1, list2))"
      ],
      "metadata": {
        "colab": {
          "base_uri": "https://localhost:8080/"
        },
        "id": "GCtyMRloEgsd",
        "outputId": "e1ab7781-8ede-49e1-b0a4-a82ded610439"
      },
      "execution_count": null,
      "outputs": [
        {
          "output_type": "execute_result",
          "data": {
            "text/plain": [
              "[11, 22, 33, 44, 55]"
            ]
          },
          "metadata": {},
          "execution_count": 45
        }
      ]
    },
    {
      "cell_type": "markdown",
      "source": [
        "## Filter Function\n",
        "\n",
        "The filter() function in Python is used to construct an iterator from elements of an iterable (such as a list) for which a specified function returns True. It's an elegant way to filter elements based on a given condition.\n",
        "\n",
        "### Filter Function syntax:\n",
        "\n",
        "    filter(function, iterable)\n"
      ],
      "metadata": {
        "id": "mEsr6odOFA8B"
      }
    },
    {
      "cell_type": "code",
      "source": [
        "def is_even(num):\n",
        "    return num % 2 == 0\n",
        "\n",
        "numbers"
      ],
      "metadata": {
        "colab": {
          "base_uri": "https://localhost:8080/"
        },
        "id": "_C-dBHsUEygq",
        "outputId": "52cf73e6-a167-46d5-df3a-1ebc49fa994b"
      },
      "execution_count": null,
      "outputs": [
        {
          "output_type": "execute_result",
          "data": {
            "text/plain": [
              "[1, 2, 3, 4, 5, 6, 7, 8, 9, 10, 14]"
            ]
          },
          "metadata": {},
          "execution_count": 46
        }
      ]
    },
    {
      "cell_type": "code",
      "source": [
        "r = [ ]\n",
        "for i in numbers:\n",
        "  if is_even(i) == True:\n",
        "    r.append(i)\n",
        "r\n",
        "\n"
      ],
      "metadata": {
        "colab": {
          "base_uri": "https://localhost:8080/"
        },
        "id": "IT1nFHayFKYQ",
        "outputId": "669e95cf-c86f-40b2-9c38-4643b962a8d5"
      },
      "execution_count": null,
      "outputs": [
        {
          "output_type": "execute_result",
          "data": {
            "text/plain": [
              "[2, 4, 6, 8, 10, 14]"
            ]
          },
          "metadata": {},
          "execution_count": 49
        }
      ]
    },
    {
      "cell_type": "code",
      "source": [
        "filter(is_even, numbers)"
      ],
      "metadata": {
        "colab": {
          "base_uri": "https://localhost:8080/"
        },
        "id": "GXHqmAbyFPIL",
        "outputId": "fe24c7cd-bbfb-4d0d-dcee-264ad1f54108"
      },
      "execution_count": null,
      "outputs": [
        {
          "output_type": "execute_result",
          "data": {
            "text/plain": [
              "<filter at 0x7c1a7ce94940>"
            ]
          },
          "metadata": {},
          "execution_count": 50
        }
      ]
    },
    {
      "cell_type": "code",
      "source": [
        "list(filter(is_even, numbers))"
      ],
      "metadata": {
        "colab": {
          "base_uri": "https://localhost:8080/"
        },
        "id": "a0kfNug4Fj2q",
        "outputId": "4315d180-add8-4e11-a81a-d563b7dbb430"
      },
      "execution_count": null,
      "outputs": [
        {
          "output_type": "execute_result",
          "data": {
            "text/plain": [
              "[2, 4, 6, 8, 10, 14]"
            ]
          },
          "metadata": {},
          "execution_count": 52
        }
      ]
    },
    {
      "cell_type": "code",
      "source": [
        "list(map(is_even, numbers))"
      ],
      "metadata": {
        "colab": {
          "base_uri": "https://localhost:8080/"
        },
        "id": "gg2DgLAQFmYa",
        "outputId": "58e8bf5b-f5b9-47c7-cf3f-3bf08cf394c2"
      },
      "execution_count": null,
      "outputs": [
        {
          "output_type": "execute_result",
          "data": {
            "text/plain": [
              "[False, True, False, True, False, True, False, True, False, True, True]"
            ]
          },
          "metadata": {},
          "execution_count": 53
        }
      ]
    },
    {
      "cell_type": "code",
      "source": [
        "def filter_by_length(word):\n",
        "    return len(word) > 5\n",
        "\n",
        "words = ['apple', 'banana', 'orange', 'kiwi', 'pineapple']\n"
      ],
      "metadata": {
        "colab": {
          "base_uri": "https://localhost:8080/"
        },
        "id": "fttQPeJ7FqAz",
        "outputId": "f17aa6c8-a724-4516-c107-3f38e26913d9"
      },
      "execution_count": null,
      "outputs": [
        {
          "output_type": "execute_result",
          "data": {
            "text/plain": [
              "list"
            ]
          },
          "metadata": {},
          "execution_count": 54
        }
      ]
    },
    {
      "cell_type": "code",
      "source": [
        "list(filter(filter_by_length, words))"
      ],
      "metadata": {
        "colab": {
          "base_uri": "https://localhost:8080/"
        },
        "id": "dW0GU7DUF4vs",
        "outputId": "20dd392a-acbc-4cf7-ec57-b01d83e44ce5"
      },
      "execution_count": null,
      "outputs": [
        {
          "output_type": "execute_result",
          "data": {
            "text/plain": [
              "['banana', 'orange', 'pineapple']"
            ]
          },
          "metadata": {},
          "execution_count": 56
        }
      ]
    },
    {
      "cell_type": "code",
      "source": [
        "def is_positive(num):\n",
        "    return num > 0\n",
        "\n",
        "numbers = (5, -3, 8, -1, 0, 10, -6)"
      ],
      "metadata": {
        "id": "4YJ-no_EF9m5"
      },
      "execution_count": null,
      "outputs": []
    },
    {
      "cell_type": "code",
      "source": [
        "positive_numbers = filter(is_positive, numbers)\n",
        "print(tuple(positive_numbers))"
      ],
      "metadata": {
        "colab": {
          "base_uri": "https://localhost:8080/"
        },
        "id": "K27vzKsuGJ4i",
        "outputId": "2f5d962d-9247-4e4b-9938-4a0df384652c"
      },
      "execution_count": null,
      "outputs": [
        {
          "output_type": "stream",
          "name": "stdout",
          "text": [
            "(5, 8, 10)\n"
          ]
        }
      ]
    },
    {
      "cell_type": "code",
      "source": [
        "positive_numbers = map(is_positive, numbers)\n",
        "print(tuple(positive_numbers))"
      ],
      "metadata": {
        "colab": {
          "base_uri": "https://localhost:8080/"
        },
        "id": "HoinSYW4GQKY",
        "outputId": "00d2c62f-82fd-4efb-9855-2d77d61e1efe"
      },
      "execution_count": null,
      "outputs": [
        {
          "output_type": "stream",
          "name": "stdout",
          "text": [
            "(True, False, True, False, False, True, False)\n"
          ]
        }
      ]
    },
    {
      "cell_type": "markdown",
      "source": [
        "#### 1.Program to filter out the list which contains odd numbers?"
      ],
      "metadata": {
        "id": "G6MyL0_6GgTI"
      }
    },
    {
      "cell_type": "code",
      "source": [
        "List = [1,2,3,4,10,123,22]\n",
        "list(map(lambda x : x %2 != 0, List))"
      ],
      "metadata": {
        "colab": {
          "base_uri": "https://localhost:8080/"
        },
        "id": "Rr9ryE_IGSFv",
        "outputId": "75e90caf-c0a5-4c13-f165-efb3b937a096"
      },
      "execution_count": null,
      "outputs": [
        {
          "output_type": "execute_result",
          "data": {
            "text/plain": [
              "[True, False, True, False, False, True, False]"
            ]
          },
          "metadata": {},
          "execution_count": 60
        }
      ]
    },
    {
      "cell_type": "code",
      "source": [
        "list(filter(lambda x : x %2 != 0, List))"
      ],
      "metadata": {
        "colab": {
          "base_uri": "https://localhost:8080/"
        },
        "id": "M_cv0LJwG13s",
        "outputId": "edf6ab29-6213-40c8-ca2c-a770fa90a85a"
      },
      "execution_count": null,
      "outputs": [
        {
          "output_type": "execute_result",
          "data": {
            "text/plain": [
              "[1, 3, 123]"
            ]
          },
          "metadata": {},
          "execution_count": 61
        }
      ]
    },
    {
      "cell_type": "code",
      "source": [
        "list(filter(lambda x : x %2 == 0, List))"
      ],
      "metadata": {
        "colab": {
          "base_uri": "https://localhost:8080/"
        },
        "id": "AX-VC14wG4S3",
        "outputId": "2f828e6b-397d-4bbf-a910-050017e1eec9"
      },
      "execution_count": null,
      "outputs": [
        {
          "output_type": "execute_result",
          "data": {
            "text/plain": [
              "[2, 4, 10, 22]"
            ]
          },
          "metadata": {},
          "execution_count": 62
        }
      ]
    },
    {
      "cell_type": "markdown",
      "source": [
        "1. Given a list of strings, filter out the strings that start with the letter 'a'."
      ],
      "metadata": {
        "id": "tDBmNn5IHRkh"
      }
    },
    {
      "cell_type": "code",
      "source": [
        "strings = [\"apple\", \"banana\", \"kiwi\", \"orange\", \"strawberry\", \"pineapple\", \"grape\"]\n"
      ],
      "metadata": {
        "id": "yQo2VR5hHAGB"
      },
      "execution_count": null,
      "outputs": []
    },
    {
      "cell_type": "code",
      "source": [
        "n = 'Apple'\n",
        "n.startswith('A')"
      ],
      "metadata": {
        "colab": {
          "base_uri": "https://localhost:8080/"
        },
        "id": "Ct0ZkLjoHayT",
        "outputId": "17970eaa-6ee9-4c59-ddaa-2729332c3aae"
      },
      "execution_count": null,
      "outputs": [
        {
          "output_type": "execute_result",
          "data": {
            "text/plain": [
              "True"
            ]
          },
          "metadata": {},
          "execution_count": 66
        }
      ]
    },
    {
      "cell_type": "code",
      "source": [
        "starts_with_a = filter(lambda x: x.startswith('a'), strings)\n",
        "tuple(starts_with_a)"
      ],
      "metadata": {
        "colab": {
          "base_uri": "https://localhost:8080/"
        },
        "id": "Ezj48Yb7HfSc",
        "outputId": "b5db3d8d-7501-4bb1-aa7b-e334a047c2cb"
      },
      "execution_count": null,
      "outputs": [
        {
          "output_type": "execute_result",
          "data": {
            "text/plain": [
              "('apple',)"
            ]
          },
          "metadata": {},
          "execution_count": 68
        }
      ]
    },
    {
      "cell_type": "markdown",
      "source": [
        "Given a list of integers, filter out the negative numbers."
      ],
      "metadata": {
        "id": "aLcvXBFCH2Yf"
      }
    },
    {
      "cell_type": "code",
      "source": [
        "numbers = [-3, 4, -7, 8, -2, 10, -5]\n",
        "\n",
        "# Use filter() to keep only positive numbers\n",
        "positive_numbers = filter(lambda x: x >= 0, numbers)\n",
        "\n",
        "# Convert the result iterator to a list to see the output\n",
        "print(list(positive_numbers))"
      ],
      "metadata": {
        "colab": {
          "base_uri": "https://localhost:8080/"
        },
        "id": "N6a4_ubzHxSi",
        "outputId": "375b38c6-e029-46d4-d01b-11667867b8b0"
      },
      "execution_count": null,
      "outputs": [
        {
          "output_type": "stream",
          "name": "stdout",
          "text": [
            "[4, 8, 10]\n"
          ]
        }
      ]
    },
    {
      "cell_type": "code",
      "source": [
        "numbers = [-3, 4, -7, 8, -2, 10, -5]\n",
        "\n",
        "# Use filter() to keep only negative numbers\n",
        "positive_numbers = filter(lambda x: x < 0, numbers)\n",
        "\n",
        "# Convert the result iterator to a list to see the output\n",
        "print(list(positive_numbers))"
      ],
      "metadata": {
        "colab": {
          "base_uri": "https://localhost:8080/"
        },
        "id": "gxxOHWkHH_Y-",
        "outputId": "6b68c5b7-e86d-45c2-d6f0-486f5f2e9a1e"
      },
      "execution_count": null,
      "outputs": [
        {
          "output_type": "stream",
          "name": "stdout",
          "text": [
            "[-3, -7, -2, -5]\n"
          ]
        }
      ]
    },
    {
      "cell_type": "markdown",
      "source": [
        "## Reduce Function\n",
        "\n",
        "The reduce() function, previously part of the core Python functools module (now in the functools submodule for Python 3 onwards), is used to perform a repetitive operation on a sequence of elements until only one value remains. The function accumulates the results of a binary function (that takes two arguments) as it traverses the sequence from left to right.\n",
        "\n",
        "### Reduce Function Syntax:\n",
        "\n",
        "    functools.reduce(function, iterable[, initializer])\n",
        "    \n",
        "    function: A function that takes two arguments and performs the specified operation.\n",
        "    iterable: An iterable (e.g., list, tuple, etc.) over which the reduce() function will perform the operation.\n",
        "    initializer (optional): An optional initial value. If provided, it will be placed before the items of the sequence in the calculation.\n"
      ],
      "metadata": {
        "id": "txv3Jw7UITE2"
      }
    },
    {
      "cell_type": "code",
      "source": [
        "def find_max(x, y):\n",
        "    return x if x > y else y\n",
        "numbers = [3, 7, 2, 9, 1, 4, 6]\n",
        "\n",
        "find_max(2,6)"
      ],
      "metadata": {
        "colab": {
          "base_uri": "https://localhost:8080/"
        },
        "id": "JcLPpNU0IDMo",
        "outputId": "78016e45-b198-4cce-aedf-d89d0086ebf1"
      },
      "execution_count": null,
      "outputs": [
        {
          "output_type": "execute_result",
          "data": {
            "text/plain": [
              "6"
            ]
          },
          "metadata": {},
          "execution_count": 74
        }
      ]
    },
    {
      "cell_type": "code",
      "source": [
        "from functools import reduce\n",
        "\n",
        "max_value = reduce(find_max, numbers)\n",
        "print(max_value)"
      ],
      "metadata": {
        "colab": {
          "base_uri": "https://localhost:8080/"
        },
        "id": "eEIzx_4sIc1V",
        "outputId": "0a6652e4-90e8-4ee0-f99b-202367d17aa7"
      },
      "execution_count": null,
      "outputs": [
        {
          "output_type": "stream",
          "name": "stdout",
          "text": [
            "9\n"
          ]
        }
      ]
    },
    {
      "cell_type": "code",
      "source": [
        "reduce(lambda x, y : x+ y, numbers)"
      ],
      "metadata": {
        "colab": {
          "base_uri": "https://localhost:8080/"
        },
        "id": "2IFZX5HhIykG",
        "outputId": "10e352b2-98a6-48e1-d4e5-404d8b65a000"
      },
      "execution_count": null,
      "outputs": [
        {
          "output_type": "execute_result",
          "data": {
            "text/plain": [
              "32"
            ]
          },
          "metadata": {},
          "execution_count": 76
        }
      ]
    },
    {
      "cell_type": "code",
      "source": [
        "list1 = [10,6,7,5,2,1,8,5]\n",
        "\n",
        "reduce(lambda x , y :  x* y, list1)"
      ],
      "metadata": {
        "colab": {
          "base_uri": "https://localhost:8080/"
        },
        "id": "I7lI6N0kJA9V",
        "outputId": "bde5ac54-46dd-4033-dc9d-394429990df7"
      },
      "execution_count": null,
      "outputs": [
        {
          "output_type": "execute_result",
          "data": {
            "text/plain": [
              "168000"
            ]
          },
          "metadata": {},
          "execution_count": 77
        }
      ]
    },
    {
      "cell_type": "code",
      "source": [
        "from itertools import accumulate"
      ],
      "metadata": {
        "id": "fbGjbuOjJYdN"
      },
      "execution_count": null,
      "outputs": []
    },
    {
      "cell_type": "code",
      "source": [
        "list(accumulate(list1, lambda x, y: x*y))"
      ],
      "metadata": {
        "colab": {
          "base_uri": "https://localhost:8080/"
        },
        "id": "TLCpAGcHJpsw",
        "outputId": "91cb33a9-6f1a-4bd7-8e36-25b1bdfa8b91"
      },
      "execution_count": null,
      "outputs": [
        {
          "output_type": "execute_result",
          "data": {
            "text/plain": [
              "[10, 60, 420, 2100, 4200, 4200, 33600, 168000]"
            ]
          },
          "metadata": {},
          "execution_count": 81
        }
      ]
    },
    {
      "cell_type": "code",
      "source": [
        "def student_details(**detail):\n",
        "  for i,j in detail.items():\n",
        "    print(f'Key : {i} -- Value : {j}')\n"
      ],
      "metadata": {
        "id": "7fM-Qb21J4Si"
      },
      "execution_count": null,
      "outputs": []
    },
    {
      "cell_type": "code",
      "source": [
        "student_details(name = 'Rahul', age = 10, grade = 3)"
      ],
      "metadata": {
        "colab": {
          "base_uri": "https://localhost:8080/"
        },
        "id": "_zFWVL8SLQgY",
        "outputId": "c4b83b18-3323-473d-b488-dba619676916"
      },
      "execution_count": null,
      "outputs": [
        {
          "output_type": "stream",
          "name": "stdout",
          "text": [
            "Key : name -- Value : Rahul\n",
            "Key : age -- Value : 10\n",
            "Key : grade -- Value : 3\n"
          ]
        }
      ]
    },
    {
      "cell_type": "markdown",
      "source": [
        "    def outer_function():\n",
        "        print(\"Outer function is executing.\")\n",
        "\n",
        "        def inner_function():\n",
        "            print(\"Inner function is executing.\")\n",
        "\n",
        "        # Call the inner function\n",
        "        inner_function()\n",
        "\n",
        "    # Call the outer function\n",
        "    outer_function()"
      ],
      "metadata": {
        "id": "Lu64W3HdMCu7"
      }
    },
    {
      "cell_type": "code",
      "source": [
        "def outer_function():\n",
        "    x = 10  # Variable in outer function's scope\n",
        "\n",
        "    def inner_function():\n",
        "        print(\"Value of x inside inner function:\", x)  # Accessing x from outer function's scope\n",
        "\n",
        "    inner_function()\n",
        "\n",
        "# Call the outer function\n",
        "outer_function()\n"
      ],
      "metadata": {
        "colab": {
          "base_uri": "https://localhost:8080/"
        },
        "id": "TlS5u1aGLXwr",
        "outputId": "bcc87986-9ebe-4352-acbe-6a8bf0ed7afe"
      },
      "execution_count": null,
      "outputs": [
        {
          "output_type": "stream",
          "name": "stdout",
          "text": [
            "Value of x inside inner function: 10\n"
          ]
        }
      ]
    },
    {
      "cell_type": "code",
      "source": [
        "inner_function()"
      ],
      "metadata": {
        "colab": {
          "base_uri": "https://localhost:8080/",
          "height": 141
        },
        "id": "GgiPmydKMTli",
        "outputId": "e6e653e7-bd40-45b2-8083-2efa38bb4e90"
      },
      "execution_count": null,
      "outputs": [
        {
          "output_type": "error",
          "ename": "NameError",
          "evalue": "name 'inner_function' is not defined",
          "traceback": [
            "\u001b[0;31m---------------------------------------------------------------------------\u001b[0m",
            "\u001b[0;31mNameError\u001b[0m                                 Traceback (most recent call last)",
            "\u001b[0;32m<ipython-input-88-2d4b0e5c4556>\u001b[0m in \u001b[0;36m<cell line: 1>\u001b[0;34m()\u001b[0m\n\u001b[0;32m----> 1\u001b[0;31m \u001b[0minner_function\u001b[0m\u001b[0;34m(\u001b[0m\u001b[0;34m)\u001b[0m\u001b[0;34m\u001b[0m\u001b[0;34m\u001b[0m\u001b[0m\n\u001b[0m",
            "\u001b[0;31mNameError\u001b[0m: name 'inner_function' is not defined"
          ]
        }
      ]
    },
    {
      "cell_type": "markdown",
      "source": [
        "Create a function power_sum() that calculates the sum of powers of a given number up to a specified exponent. The function should accept two arguments: the base number base, and the exponent exp. The function should return the sum of powers from 1 up to exp."
      ],
      "metadata": {
        "id": "zrPOJVtHM6DY"
      }
    },
    {
      "cell_type": "markdown",
      "source": [
        "    Define an outer function power_sum() that takes two arguments: base and exp.\n",
        "    Inside power_sum(), define an inner function calculate_power() that takes two arguments: num (the current number to be powered) and exp (the exponent).\n",
        "    Use a loop to iterate from 1 up to exp.\n",
        "    Inside the loop, call the inner function calculate_power() to calculate the power of base raised to the current number.\n",
        "    Sum up the calculated powers.\n",
        "    Return the total sum from the outer function."
      ],
      "metadata": {
        "id": "baeBK1owNBkE"
      }
    },
    {
      "cell_type": "code",
      "source": [
        "def power_sum(base, exp):\n",
        "  def calculate_power(num, exp):\n",
        "    return num ** exp\n",
        "  total = 0\n",
        "  for i in range(1, exp + 1):\n",
        "    total += calculate_power(base, i)\n",
        "  return total"
      ],
      "metadata": {
        "id": "AP_Dk_E-MYEZ"
      },
      "execution_count": null,
      "outputs": []
    },
    {
      "cell_type": "code",
      "source": [
        "power_sum(2,3)"
      ],
      "metadata": {
        "colab": {
          "base_uri": "https://localhost:8080/"
        },
        "id": "6lClLp0TNent",
        "outputId": "9bfa8980-ca21-403e-be74-302c71302645"
      },
      "execution_count": null,
      "outputs": [
        {
          "output_type": "execute_result",
          "data": {
            "text/plain": [
              "14"
            ]
          },
          "metadata": {},
          "execution_count": 90
        }
      ]
    },
    {
      "cell_type": "code",
      "source": [
        "calculate_power(2)"
      ],
      "metadata": {
        "colab": {
          "base_uri": "https://localhost:8080/",
          "height": 141
        },
        "id": "p9_PMPGnNg8D",
        "outputId": "f7c92312-d069-4ffd-b7bd-c6a1243f2660"
      },
      "execution_count": null,
      "outputs": [
        {
          "output_type": "error",
          "ename": "NameError",
          "evalue": "name 'calculate_power' is not defined",
          "traceback": [
            "\u001b[0;31m---------------------------------------------------------------------------\u001b[0m",
            "\u001b[0;31mNameError\u001b[0m                                 Traceback (most recent call last)",
            "\u001b[0;32m<ipython-input-91-737b07cb6fb8>\u001b[0m in \u001b[0;36m<cell line: 1>\u001b[0;34m()\u001b[0m\n\u001b[0;32m----> 1\u001b[0;31m \u001b[0mcalculate_power\u001b[0m\u001b[0;34m(\u001b[0m\u001b[0;36m2\u001b[0m\u001b[0;34m)\u001b[0m\u001b[0;34m\u001b[0m\u001b[0;34m\u001b[0m\u001b[0m\n\u001b[0m",
            "\u001b[0;31mNameError\u001b[0m: name 'calculate_power' is not defined"
          ]
        }
      ]
    },
    {
      "cell_type": "code",
      "source": [],
      "metadata": {
        "id": "l-1Jbp3VNtqS"
      },
      "execution_count": null,
      "outputs": []
    }
  ]
}